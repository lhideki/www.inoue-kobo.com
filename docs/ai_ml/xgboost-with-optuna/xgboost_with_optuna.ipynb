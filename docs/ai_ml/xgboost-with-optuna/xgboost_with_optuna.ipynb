{
 "cells": [
  {
   "cell_type": "markdown",
   "metadata": {},
   "source": [
    "## データ準備"
   ]
  },
  {
   "cell_type": "code",
   "execution_count": 1,
   "metadata": {
    "ExecuteTime": {
     "end_time": "2019-12-14T12:55:05.389616Z",
     "start_time": "2019-12-14T12:55:04.983539Z"
    }
   },
   "outputs": [],
   "source": [
    "from sklearn import datasets\n",
    "\n",
    "features, labels = datasets.load_boston(return_X_y =True)"
   ]
  },
  {
   "cell_type": "code",
   "execution_count": 2,
   "metadata": {
    "ExecuteTime": {
     "end_time": "2019-12-14T12:55:05.405650Z",
     "start_time": "2019-12-14T12:55:05.391836Z"
    }
   },
   "outputs": [],
   "source": [
    "from sklearn import model_selection\n",
    "\n",
    "train_features, test_features, train_labels, test_labels = model_selection.train_test_split(features, labels, test_size=0.2)"
   ]
  },
  {
   "cell_type": "code",
   "execution_count": 3,
   "metadata": {
    "ExecuteTime": {
     "end_time": "2019-12-14T12:55:05.410921Z",
     "start_time": "2019-12-14T12:55:05.407317Z"
    }
   },
   "outputs": [
    {
     "name": "stdout",
     "output_type": "stream",
     "text": [
      "(404, 13)\n",
      "(404,)\n",
      "(102, 13)\n",
      "(102,)\n"
     ]
    }
   ],
   "source": [
    "print(train_features.shape)\n",
    "print(train_labels.shape)\n",
    "print(test_features.shape)\n",
    "print(test_labels.shape)"
   ]
  },
  {
   "cell_type": "code",
   "execution_count": 4,
   "metadata": {
    "ExecuteTime": {
     "end_time": "2019-12-14T12:55:05.672255Z",
     "start_time": "2019-12-14T12:55:05.413539Z"
    }
   },
   "outputs": [],
   "source": [
    "import xgboost as xgb\n",
    "\n",
    "trains = xgb.DMatrix(train_features, label=train_labels)\n",
    "tests = xgb.DMatrix(test_features, label=test_labels)"
   ]
  },
  {
   "cell_type": "markdown",
   "metadata": {},
   "source": [
    "## ハイパーパラメータ最適化"
   ]
  },
  {
   "cell_type": "code",
   "execution_count": 5,
   "metadata": {
    "ExecuteTime": {
     "end_time": "2019-12-14T12:55:05.677300Z",
     "start_time": "2019-12-14T12:55:05.674363Z"
    }
   },
   "outputs": [],
   "source": [
    "params = {\n",
    "    'booster': 'gbtree',\n",
    "    'objective': 'reg:squarederror',\n",
    "    'eval_metric': 'rmse',\n",
    "    'max_depth': 5,\n",
    "    'eta': 0.01,\n",
    "}\n",
    "\n",
    "watchlist = [(trains, 'train'), (tests, 'eval')]"
   ]
  },
  {
   "cell_type": "code",
   "execution_count": 6,
   "metadata": {
    "ExecuteTime": {
     "end_time": "2019-12-14T12:55:06.179568Z",
     "start_time": "2019-12-14T12:55:05.678855Z"
    },
    "scrolled": true
   },
   "outputs": [],
   "source": [
    "import optuna\n",
    "from sklearn.metrics import r2_score\n",
    "\n",
    "def optimizer(trial):\n",
    "    #booster = trial.suggest_categorical('booster', ['gbtree', 'dart', 'gblinear'])\n",
    "    eta = trial.suggest_uniform('eta', 0.01, 0.3)\n",
    "    max_depth = trial.suggest_int('max_depth', 4, 15)\n",
    "    __lambda = trial.suggest_uniform('lambda', 0.7, 2)\n",
    "    \n",
    "    #params['booster'] = booster\n",
    "    params['eta'] = eta\n",
    "    params['max_depth'] = max_depth\n",
    "    params['lambda'] = __lambda\n",
    "\n",
    "    model = xgb.train(params, trains, num_boost_round=50)\n",
    "    predicts = model.predict(tests)\n",
    "    \n",
    "    r2 = r2_score(test_labels, predicts)\n",
    "    print(f'#{trial.number}, Result: {r2}, {trial.params}')\n",
    "    \n",
    "    return r2"
   ]
  },
  {
   "cell_type": "code",
   "execution_count": 7,
   "metadata": {
    "ExecuteTime": {
     "end_time": "2019-12-14T12:56:24.900708Z",
     "start_time": "2019-12-14T12:55:06.181610Z"
    },
    "scrolled": true
   },
   "outputs": [
    {
     "name": "stdout",
     "output_type": "stream",
     "text": [
      "#0, Result: 0.4407700758314629, {'eta': 0.02815947490006805, 'max_depth': 15, 'lambda': 1.7745357854073418}\n"
     ]
    },
    {
     "name": "stderr",
     "output_type": "stream",
     "text": [
      "[I 2019-12-14 21:55:06,271] Finished trial#0 resulted in value: 0.4407700758314629. Current best value is 0.4407700758314629 with parameters: {'eta': 0.02815947490006805, 'max_depth': 15, 'lambda': 1.7745357854073418}.\n"
     ]
    },
    {
     "name": "stdout",
     "output_type": "stream",
     "text": [
      "#1, Result: 0.9411376545146801, {'eta': 0.22645720401324948, 'max_depth': 14, 'lambda': 0.8344469058001295}\n"
     ]
    },
    {
     "name": "stderr",
     "output_type": "stream",
     "text": [
      "[I 2019-12-14 21:55:06,399] Finished trial#1 resulted in value: 0.9411376545146801. Current best value is 0.9411376545146801 with parameters: {'eta': 0.22645720401324948, 'max_depth': 14, 'lambda': 0.8344469058001295}.\n"
     ]
    },
    {
     "name": "stdout",
     "output_type": "stream",
     "text": [
      "#2, Result: 0.9334222868385071, {'eta': 0.13902339239669845, 'max_depth': 5, 'lambda': 1.7072931624988712}\n"
     ]
    },
    {
     "name": "stderr",
     "output_type": "stream",
     "text": [
      "[I 2019-12-14 21:55:06,482] Finished trial#2 resulted in value: 0.9334222868385071. Current best value is 0.9411376545146801 with parameters: {'eta': 0.22645720401324948, 'max_depth': 14, 'lambda': 0.8344469058001295}.\n"
     ]
    },
    {
     "name": "stdout",
     "output_type": "stream",
     "text": [
      "#3, Result: 0.73803703148582, {'eta': 0.03931804573356067, 'max_depth': 14, 'lambda': 1.3872293369119229}\n"
     ]
    },
    {
     "name": "stderr",
     "output_type": "stream",
     "text": [
      "[I 2019-12-14 21:55:06,581] Finished trial#3 resulted in value: 0.73803703148582. Current best value is 0.9411376545146801 with parameters: {'eta': 0.22645720401324948, 'max_depth': 14, 'lambda': 0.8344469058001295}.\n"
     ]
    },
    {
     "name": "stdout",
     "output_type": "stream",
     "text": [
      "#4, Result: 0.8817030591670807, {'eta': 0.05184655904908238, 'max_depth': 4, 'lambda': 0.9901508691420842}\n"
     ]
    },
    {
     "name": "stderr",
     "output_type": "stream",
     "text": [
      "[I 2019-12-14 21:55:06,661] Finished trial#4 resulted in value: 0.8817030591670807. Current best value is 0.9411376545146801 with parameters: {'eta': 0.22645720401324948, 'max_depth': 14, 'lambda': 0.8344469058001295}.\n"
     ]
    },
    {
     "name": "stdout",
     "output_type": "stream",
     "text": [
      "#5, Result: 0.9264228909134707, {'eta': 0.20085644845579897, 'max_depth': 7, 'lambda': 0.901999153440829}\n"
     ]
    },
    {
     "name": "stderr",
     "output_type": "stream",
     "text": [
      "[I 2019-12-14 21:55:06,757] Finished trial#5 resulted in value: 0.9264228909134707. Current best value is 0.9411376545146801 with parameters: {'eta': 0.22645720401324948, 'max_depth': 14, 'lambda': 0.8344469058001295}.\n"
     ]
    },
    {
     "name": "stdout",
     "output_type": "stream",
     "text": [
      "#6, Result: 0.9277648728108848, {'eta': 0.08187189521755013, 'max_depth': 5, 'lambda': 1.5284053395166186}\n"
     ]
    },
    {
     "name": "stderr",
     "output_type": "stream",
     "text": [
      "[I 2019-12-14 21:55:06,839] Finished trial#6 resulted in value: 0.9277648728108848. Current best value is 0.9411376545146801 with parameters: {'eta': 0.22645720401324948, 'max_depth': 14, 'lambda': 0.8344469058001295}.\n"
     ]
    },
    {
     "name": "stdout",
     "output_type": "stream",
     "text": [
      "#7, Result: 0.9260073296821784, {'eta': 0.14640208365134658, 'max_depth': 9, 'lambda': 1.878985604660105}\n"
     ]
    },
    {
     "name": "stderr",
     "output_type": "stream",
     "text": [
      "[I 2019-12-14 21:55:06,942] Finished trial#7 resulted in value: 0.9260073296821784. Current best value is 0.9411376545146801 with parameters: {'eta': 0.22645720401324948, 'max_depth': 14, 'lambda': 0.8344469058001295}.\n"
     ]
    },
    {
     "name": "stdout",
     "output_type": "stream",
     "text": [
      "#8, Result: 0.9398145036233595, {'eta': 0.24384736603292495, 'max_depth': 9, 'lambda': 1.7402706322917847}\n"
     ]
    },
    {
     "name": "stderr",
     "output_type": "stream",
     "text": [
      "[I 2019-12-14 21:55:07,049] Finished trial#8 resulted in value: 0.9398145036233595. Current best value is 0.9411376545146801 with parameters: {'eta': 0.22645720401324948, 'max_depth': 14, 'lambda': 0.8344469058001295}.\n"
     ]
    },
    {
     "name": "stdout",
     "output_type": "stream",
     "text": [
      "#9, Result: 0.9309258929222448, {'eta': 0.2170706752864081, 'max_depth': 11, 'lambda': 0.9239713959486252}\n"
     ]
    },
    {
     "name": "stderr",
     "output_type": "stream",
     "text": [
      "[I 2019-12-14 21:55:07,165] Finished trial#9 resulted in value: 0.9309258929222448. Current best value is 0.9411376545146801 with parameters: {'eta': 0.22645720401324948, 'max_depth': 14, 'lambda': 0.8344469058001295}.\n"
     ]
    },
    {
     "name": "stdout",
     "output_type": "stream",
     "text": [
      "#10, Result: 0.9348271998789309, {'eta': 0.29507707465837724, 'max_depth': 13, 'lambda': 0.7117932702109762}\n"
     ]
    },
    {
     "name": "stderr",
     "output_type": "stream",
     "text": [
      "[I 2019-12-14 21:55:07,300] Finished trial#10 resulted in value: 0.9348271998789309. Current best value is 0.9411376545146801 with parameters: {'eta': 0.22645720401324948, 'max_depth': 14, 'lambda': 0.8344469058001295}.\n"
     ]
    },
    {
     "name": "stdout",
     "output_type": "stream",
     "text": [
      "#11, Result: 0.9237105871745062, {'eta': 0.2862147516626825, 'max_depth': 10, 'lambda': 1.1933244978343893}\n"
     ]
    },
    {
     "name": "stderr",
     "output_type": "stream",
     "text": [
      "[I 2019-12-14 21:55:07,418] Finished trial#11 resulted in value: 0.9237105871745062. Current best value is 0.9411376545146801 with parameters: {'eta': 0.22645720401324948, 'max_depth': 14, 'lambda': 0.8344469058001295}.\n"
     ]
    },
    {
     "name": "stdout",
     "output_type": "stream",
     "text": [
      "#12, Result: 0.9095875774062795, {'eta': 0.24811452113576346, 'max_depth': 12, 'lambda': 1.978905928001406}\n"
     ]
    },
    {
     "name": "stderr",
     "output_type": "stream",
     "text": [
      "[I 2019-12-14 21:55:07,544] Finished trial#12 resulted in value: 0.9095875774062795. Current best value is 0.9411376545146801 with parameters: {'eta': 0.22645720401324948, 'max_depth': 14, 'lambda': 0.8344469058001295}.\n"
     ]
    },
    {
     "name": "stdout",
     "output_type": "stream",
     "text": [
      "#13, Result: 0.9215088860363834, {'eta': 0.2527885911755971, 'max_depth': 8, 'lambda': 1.6100036320730764}\n"
     ]
    },
    {
     "name": "stderr",
     "output_type": "stream",
     "text": [
      "[I 2019-12-14 21:55:07,653] Finished trial#13 resulted in value: 0.9215088860363834. Current best value is 0.9411376545146801 with parameters: {'eta': 0.22645720401324948, 'max_depth': 14, 'lambda': 0.8344469058001295}.\n"
     ]
    },
    {
     "name": "stdout",
     "output_type": "stream",
     "text": [
      "#14, Result: 0.9323272430998039, {'eta': 0.18804439348590238, 'max_depth': 7, 'lambda': 1.2259386313257672}\n"
     ]
    },
    {
     "name": "stderr",
     "output_type": "stream",
     "text": [
      "[I 2019-12-14 21:55:07,754] Finished trial#14 resulted in value: 0.9323272430998039. Current best value is 0.9411376545146801 with parameters: {'eta': 0.22645720401324948, 'max_depth': 14, 'lambda': 0.8344469058001295}.\n"
     ]
    },
    {
     "name": "stdout",
     "output_type": "stream",
     "text": [
      "#15, Result: 0.9218067835200702, {'eta': 0.2520380960778739, 'max_depth': 11, 'lambda': 1.4708596935908562}\n"
     ]
    },
    {
     "name": "stderr",
     "output_type": "stream",
     "text": [
      "[I 2019-12-14 21:55:07,878] Finished trial#15 resulted in value: 0.9218067835200702. Current best value is 0.9411376545146801 with parameters: {'eta': 0.22645720401324948, 'max_depth': 14, 'lambda': 0.8344469058001295}.\n"
     ]
    },
    {
     "name": "stdout",
     "output_type": "stream",
     "text": [
      "#16, Result: 0.9303306867259489, {'eta': 0.17730336051191073, 'max_depth': 15, 'lambda': 0.7373307581539502}\n"
     ]
    },
    {
     "name": "stderr",
     "output_type": "stream",
     "text": [
      "[I 2019-12-14 21:55:08,008] Finished trial#16 resulted in value: 0.9303306867259489. Current best value is 0.9411376545146801 with parameters: {'eta': 0.22645720401324948, 'max_depth': 14, 'lambda': 0.8344469058001295}.\n"
     ]
    },
    {
     "name": "stdout",
     "output_type": "stream",
     "text": [
      "#17, Result: 0.9336317609374667, {'eta': 0.22841390863946512, 'max_depth': 9, 'lambda': 1.0879004361922906}\n"
     ]
    },
    {
     "name": "stderr",
     "output_type": "stream",
     "text": [
      "[I 2019-12-14 21:55:08,122] Finished trial#17 resulted in value: 0.9336317609374667. Current best value is 0.9411376545146801 with parameters: {'eta': 0.22645720401324948, 'max_depth': 14, 'lambda': 0.8344469058001295}.\n"
     ]
    },
    {
     "name": "stdout",
     "output_type": "stream",
     "text": [
      "#18, Result: 0.9223993363861053, {'eta': 0.1143298268286653, 'max_depth': 13, 'lambda': 1.953598782957685}\n"
     ]
    },
    {
     "name": "stderr",
     "output_type": "stream",
     "text": [
      "[I 2019-12-14 21:55:08,246] Finished trial#18 resulted in value: 0.9223993363861053. Current best value is 0.9411376545146801 with parameters: {'eta': 0.22645720401324948, 'max_depth': 14, 'lambda': 0.8344469058001295}.\n"
     ]
    },
    {
     "name": "stdout",
     "output_type": "stream",
     "text": [
      "#19, Result: 0.9317816295180961, {'eta': 0.2701646048023093, 'max_depth': 7, 'lambda': 1.2945790186577362}\n"
     ]
    },
    {
     "name": "stderr",
     "output_type": "stream",
     "text": [
      "[I 2019-12-14 21:55:08,350] Finished trial#19 resulted in value: 0.9317816295180961. Current best value is 0.9411376545146801 with parameters: {'eta': 0.22645720401324948, 'max_depth': 14, 'lambda': 0.8344469058001295}.\n"
     ]
    },
    {
     "name": "stdout",
     "output_type": "stream",
     "text": [
      "#20, Result: 0.9170880242957575, {'eta': 0.298549104823295, 'max_depth': 10, 'lambda': 1.7877587852361223}\n"
     ]
    },
    {
     "name": "stderr",
     "output_type": "stream",
     "text": [
      "[I 2019-12-14 21:55:08,471] Finished trial#20 resulted in value: 0.9170880242957575. Current best value is 0.9411376545146801 with parameters: {'eta': 0.22645720401324948, 'max_depth': 14, 'lambda': 0.8344469058001295}.\n"
     ]
    },
    {
     "name": "stdout",
     "output_type": "stream",
     "text": [
      "#21, Result: 0.9316759260741958, {'eta': 0.295444943588686, 'max_depth': 13, 'lambda': 0.7738536407378339}\n"
     ]
    },
    {
     "name": "stderr",
     "output_type": "stream",
     "text": [
      "[I 2019-12-14 21:55:08,606] Finished trial#21 resulted in value: 0.9316759260741958. Current best value is 0.9411376545146801 with parameters: {'eta': 0.22645720401324948, 'max_depth': 14, 'lambda': 0.8344469058001295}.\n"
     ]
    },
    {
     "name": "stdout",
     "output_type": "stream",
     "text": [
      "#22, Result: 0.936127784248171, {'eta': 0.22876702920481118, 'max_depth': 14, 'lambda': 0.8025032755217505}\n"
     ]
    },
    {
     "name": "stderr",
     "output_type": "stream",
     "text": [
      "[I 2019-12-14 21:55:08,741] Finished trial#22 resulted in value: 0.936127784248171. Current best value is 0.9411376545146801 with parameters: {'eta': 0.22645720401324948, 'max_depth': 14, 'lambda': 0.8344469058001295}.\n"
     ]
    },
    {
     "name": "stdout",
     "output_type": "stream",
     "text": [
      "#23, Result: 0.9318840021196849, {'eta': 0.21903007322729517, 'max_depth': 14, 'lambda': 0.8576693162623756}\n"
     ]
    },
    {
     "name": "stderr",
     "output_type": "stream",
     "text": [
      "[I 2019-12-14 21:55:08,876] Finished trial#23 resulted in value: 0.9318840021196849. Current best value is 0.9411376545146801 with parameters: {'eta': 0.22645720401324948, 'max_depth': 14, 'lambda': 0.8344469058001295}.\n"
     ]
    },
    {
     "name": "stdout",
     "output_type": "stream",
     "text": [
      "#24, Result: 0.9424561564018716, {'eta': 0.1680044570443373, 'max_depth': 11, 'lambda': 1.0445206285836095}\n"
     ]
    },
    {
     "name": "stderr",
     "output_type": "stream",
     "text": [
      "[I 2019-12-14 21:55:08,996] Finished trial#24 resulted in value: 0.9424561564018716. Current best value is 0.9424561564018716 with parameters: {'eta': 0.1680044570443373, 'max_depth': 11, 'lambda': 1.0445206285836095}.\n"
     ]
    },
    {
     "name": "stdout",
     "output_type": "stream",
     "text": [
      "#25, Result: 0.9264625951191066, {'eta': 0.17041011308312232, 'max_depth': 12, 'lambda': 1.05752636101557}\n"
     ]
    },
    {
     "name": "stderr",
     "output_type": "stream",
     "text": [
      "[I 2019-12-14 21:55:09,121] Finished trial#25 resulted in value: 0.9264625951191066. Current best value is 0.9424561564018716 with parameters: {'eta': 0.1680044570443373, 'max_depth': 11, 'lambda': 1.0445206285836095}.\n"
     ]
    },
    {
     "name": "stdout",
     "output_type": "stream",
     "text": [
      "#26, Result: 0.9340522699169558, {'eta': 0.11866467674869097, 'max_depth': 11, 'lambda': 1.1195900078371777}\n"
     ]
    },
    {
     "name": "stderr",
     "output_type": "stream",
     "text": [
      "[I 2019-12-14 21:55:09,241] Finished trial#26 resulted in value: 0.9340522699169558. Current best value is 0.9424561564018716 with parameters: {'eta': 0.1680044570443373, 'max_depth': 11, 'lambda': 1.0445206285836095}.\n"
     ]
    },
    {
     "name": "stdout",
     "output_type": "stream",
     "text": [
      "#27, Result: 0.9224428505765319, {'eta': 0.19808226385583388, 'max_depth': 8, 'lambda': 0.988497261298717}\n"
     ]
    },
    {
     "name": "stderr",
     "output_type": "stream",
     "text": [
      "[I 2019-12-14 21:55:09,352] Finished trial#27 resulted in value: 0.9224428505765319. Current best value is 0.9424561564018716 with parameters: {'eta': 0.1680044570443373, 'max_depth': 11, 'lambda': 1.0445206285836095}.\n"
     ]
    },
    {
     "name": "stdout",
     "output_type": "stream",
     "text": [
      "#28, Result: 0.9267364772696162, {'eta': 0.16134348504594123, 'max_depth': 12, 'lambda': 1.2235174000390132}\n"
     ]
    },
    {
     "name": "stderr",
     "output_type": "stream",
     "text": [
      "[I 2019-12-14 21:55:09,478] Finished trial#28 resulted in value: 0.9267364772696162. Current best value is 0.9424561564018716 with parameters: {'eta': 0.1680044570443373, 'max_depth': 11, 'lambda': 1.0445206285836095}.\n"
     ]
    },
    {
     "name": "stdout",
     "output_type": "stream",
     "text": [
      "#29, Result: 0.9140271733276347, {'eta': 0.2675953200761429, 'max_depth': 15, 'lambda': 1.3640730134172976}\n"
     ]
    },
    {
     "name": "stderr",
     "output_type": "stream",
     "text": [
      "[I 2019-12-14 21:55:09,617] Finished trial#29 resulted in value: 0.9140271733276347. Current best value is 0.9424561564018716 with parameters: {'eta': 0.1680044570443373, 'max_depth': 11, 'lambda': 1.0445206285836095}.\n"
     ]
    },
    {
     "name": "stdout",
     "output_type": "stream",
     "text": [
      "#30, Result: 0.92783257237926, {'eta': 0.20219873434911215, 'max_depth': 8, 'lambda': 0.9757323391036223}\n"
     ]
    },
    {
     "name": "stderr",
     "output_type": "stream",
     "text": [
      "[I 2019-12-14 21:55:09,730] Finished trial#30 resulted in value: 0.92783257237926. Current best value is 0.9424561564018716 with parameters: {'eta': 0.1680044570443373, 'max_depth': 11, 'lambda': 1.0445206285836095}.\n"
     ]
    },
    {
     "name": "stdout",
     "output_type": "stream",
     "text": [
      "#31, Result: 0.9273836610966352, {'eta': 0.2358992547647583, 'max_depth': 14, 'lambda': 0.7809524930387189}\n"
     ]
    },
    {
     "name": "stderr",
     "output_type": "stream",
     "text": [
      "[I 2019-12-14 21:55:09,866] Finished trial#31 resulted in value: 0.9273836610966352. Current best value is 0.9424561564018716 with parameters: {'eta': 0.1680044570443373, 'max_depth': 11, 'lambda': 1.0445206285836095}.\n"
     ]
    },
    {
     "name": "stdout",
     "output_type": "stream",
     "text": [
      "#32, Result: 0.930787707744361, {'eta': 0.2739144013732949, 'max_depth': 15, 'lambda': 0.8534902349406356}\n"
     ]
    },
    {
     "name": "stderr",
     "output_type": "stream",
     "text": [
      "[I 2019-12-14 21:55:10,004] Finished trial#32 resulted in value: 0.930787707744361. Current best value is 0.9424561564018716 with parameters: {'eta': 0.1680044570443373, 'max_depth': 11, 'lambda': 1.0445206285836095}.\n"
     ]
    },
    {
     "name": "stdout",
     "output_type": "stream",
     "text": [
      "#33, Result: 0.9309104931244276, {'eta': 0.23603478018430657, 'max_depth': 14, 'lambda': 0.8261119657119552}\n"
     ]
    },
    {
     "name": "stderr",
     "output_type": "stream",
     "text": [
      "[I 2019-12-14 21:55:10,136] Finished trial#33 resulted in value: 0.9309104931244276. Current best value is 0.9424561564018716 with parameters: {'eta': 0.1680044570443373, 'max_depth': 11, 'lambda': 1.0445206285836095}.\n"
     ]
    },
    {
     "name": "stdout",
     "output_type": "stream",
     "text": [
      "#34, Result: 0.9077069532785901, {'eta': 0.215752231555611, 'max_depth': 10, 'lambda': 1.652782572876329}\n"
     ]
    },
    {
     "name": "stderr",
     "output_type": "stream",
     "text": [
      "[I 2019-12-14 21:55:10,255] Finished trial#34 resulted in value: 0.9077069532785901. Current best value is 0.9424561564018716 with parameters: {'eta': 0.1680044570443373, 'max_depth': 11, 'lambda': 1.0445206285836095}.\n"
     ]
    },
    {
     "name": "stdout",
     "output_type": "stream",
     "text": [
      "#35, Result: 0.934914533892193, {'eta': 0.13055003749144062, 'max_depth': 13, 'lambda': 0.9290594012781119}\n"
     ]
    },
    {
     "name": "stderr",
     "output_type": "stream",
     "text": [
      "[I 2019-12-14 21:55:10,383] Finished trial#35 resulted in value: 0.934914533892193. Current best value is 0.9424561564018716 with parameters: {'eta': 0.1680044570443373, 'max_depth': 11, 'lambda': 1.0445206285836095}.\n"
     ]
    },
    {
     "name": "stdout",
     "output_type": "stream",
     "text": [
      "#36, Result: 0.9369326489124754, {'eta': 0.1835503696313181, 'max_depth': 6, 'lambda': 0.7024757835782225}\n"
     ]
    },
    {
     "name": "stderr",
     "output_type": "stream",
     "text": [
      "[I 2019-12-14 21:55:10,487] Finished trial#36 resulted in value: 0.9369326489124754. Current best value is 0.9424561564018716 with parameters: {'eta': 0.1680044570443373, 'max_depth': 11, 'lambda': 1.0445206285836095}.\n"
     ]
    },
    {
     "name": "stdout",
     "output_type": "stream",
     "text": [
      "#37, Result: 0.9353070483255655, {'eta': 0.15281406624447877, 'max_depth': 4, 'lambda': 1.4495378744829504}\n"
     ]
    },
    {
     "name": "stderr",
     "output_type": "stream",
     "text": [
      "[I 2019-12-14 21:55:10,580] Finished trial#37 resulted in value: 0.9353070483255655. Current best value is 0.9424561564018716 with parameters: {'eta': 0.1680044570443373, 'max_depth': 11, 'lambda': 1.0445206285836095}.\n"
     ]
    },
    {
     "name": "stdout",
     "output_type": "stream",
     "text": [
      "#38, Result: 0.9307810600325643, {'eta': 0.1847853883764038, 'max_depth': 6, 'lambda': 1.7834590111109498}\n"
     ]
    },
    {
     "name": "stderr",
     "output_type": "stream",
     "text": [
      "[I 2019-12-14 21:55:10,685] Finished trial#38 resulted in value: 0.9307810600325643. Current best value is 0.9424561564018716 with parameters: {'eta': 0.1680044570443373, 'max_depth': 11, 'lambda': 1.0445206285836095}.\n"
     ]
    },
    {
     "name": "stdout",
     "output_type": "stream",
     "text": [
      "#39, Result: 0.9391974230311476, {'eta': 0.09806757191415674, 'max_depth': 5, 'lambda': 0.7170529731106012}\n"
     ]
    },
    {
     "name": "stderr",
     "output_type": "stream",
     "text": [
      "[I 2019-12-14 21:55:10,783] Finished trial#39 resulted in value: 0.9391974230311476. Current best value is 0.9424561564018716 with parameters: {'eta': 0.1680044570443373, 'max_depth': 11, 'lambda': 1.0445206285836095}.\n"
     ]
    },
    {
     "name": "stdout",
     "output_type": "stream",
     "text": [
      "#40, Result: 0.9330622821576267, {'eta': 0.07483105020174864, 'max_depth': 4, 'lambda': 1.043017469540985}\n"
     ]
    },
    {
     "name": "stderr",
     "output_type": "stream",
     "text": [
      "[I 2019-12-14 21:55:10,875] Finished trial#40 resulted in value: 0.9330622821576267. Current best value is 0.9424561564018716 with parameters: {'eta': 0.1680044570443373, 'max_depth': 11, 'lambda': 1.0445206285836095}.\n"
     ]
    },
    {
     "name": "stdout",
     "output_type": "stream",
     "text": [
      "#41, Result: -0.1942077084690479, {'eta': 0.018203386877658795, 'max_depth': 5, 'lambda': 0.701937222183701}\n"
     ]
    },
    {
     "name": "stderr",
     "output_type": "stream",
     "text": [
      "[I 2019-12-14 21:55:10,975] Finished trial#41 resulted in value: -0.1942077084690479. Current best value is 0.9424561564018716 with parameters: {'eta': 0.1680044570443373, 'max_depth': 11, 'lambda': 1.0445206285836095}.\n"
     ]
    },
    {
     "name": "stdout",
     "output_type": "stream",
     "text": [
      "#42, Result: 0.9425576572058609, {'eta': 0.09635214359495109, 'max_depth': 6, 'lambda': 0.8871838124942971}\n"
     ]
    },
    {
     "name": "stderr",
     "output_type": "stream",
     "text": [
      "[I 2019-12-14 21:55:11,078] Finished trial#42 resulted in value: 0.9425576572058609. Current best value is 0.9425576572058609 with parameters: {'eta': 0.09635214359495109, 'max_depth': 6, 'lambda': 0.8871838124942971}.\n"
     ]
    },
    {
     "name": "stdout",
     "output_type": "stream",
     "text": [
      "#43, Result: 0.9403561562630385, {'eta': 0.08583156576309446, 'max_depth': 5, 'lambda': 0.9117539994168162}\n"
     ]
    },
    {
     "name": "stderr",
     "output_type": "stream",
     "text": [
      "[I 2019-12-14 21:55:11,178] Finished trial#43 resulted in value: 0.9403561562630385. Current best value is 0.9425576572058609 with parameters: {'eta': 0.09635214359495109, 'max_depth': 6, 'lambda': 0.8871838124942971}.\n"
     ]
    },
    {
     "name": "stdout",
     "output_type": "stream",
     "text": [
      "#44, Result: 0.8780449388994092, {'eta': 0.05220933548100285, 'max_depth': 6, 'lambda': 0.8975684807682781}\n"
     ]
    },
    {
     "name": "stderr",
     "output_type": "stream",
     "text": [
      "[I 2019-12-14 21:55:11,281] Finished trial#44 resulted in value: 0.8780449388994092. Current best value is 0.9425576572058609 with parameters: {'eta': 0.09635214359495109, 'max_depth': 6, 'lambda': 0.8871838124942971}.\n"
     ]
    },
    {
     "name": "stdout",
     "output_type": "stream",
     "text": [
      "#45, Result: 0.9278699013601135, {'eta': 0.07447253309537409, 'max_depth': 6, 'lambda': 1.15351864539543}\n"
     ]
    },
    {
     "name": "stderr",
     "output_type": "stream",
     "text": [
      "[I 2019-12-14 21:55:11,385] Finished trial#45 resulted in value: 0.9278699013601135. Current best value is 0.9425576572058609 with parameters: {'eta': 0.09635214359495109, 'max_depth': 6, 'lambda': 0.8871838124942971}.\n"
     ]
    },
    {
     "name": "stdout",
     "output_type": "stream",
     "text": [
      "#46, Result: 0.8621735460027393, {'eta': 0.04926488372758808, 'max_depth': 9, 'lambda': 0.9486468495610663}\n"
     ]
    },
    {
     "name": "stderr",
     "output_type": "stream",
     "text": [
      "[I 2019-12-14 21:55:11,502] Finished trial#46 resulted in value: 0.8621735460027393. Current best value is 0.9425576572058609 with parameters: {'eta': 0.09635214359495109, 'max_depth': 6, 'lambda': 0.8871838124942971}.\n"
     ]
    },
    {
     "name": "stdout",
     "output_type": "stream",
     "text": [
      "#47, Result: 0.9396747874255919, {'eta': 0.10276387078739785, 'max_depth': 7, 'lambda': 1.0162600956529009}\n"
     ]
    },
    {
     "name": "stderr",
     "output_type": "stream",
     "text": [
      "[I 2019-12-14 21:55:11,612] Finished trial#47 resulted in value: 0.9396747874255919. Current best value is 0.9425576572058609 with parameters: {'eta': 0.09635214359495109, 'max_depth': 6, 'lambda': 0.8871838124942971}.\n"
     ]
    },
    {
     "name": "stdout",
     "output_type": "stream",
     "text": [
      "#48, Result: 0.9389922692638666, {'eta': 0.09036880501963425, 'max_depth': 4, 'lambda': 0.8932466863973164}\n"
     ]
    },
    {
     "name": "stderr",
     "output_type": "stream",
     "text": [
      "[I 2019-12-14 21:55:11,710] Finished trial#48 resulted in value: 0.9389922692638666. Current best value is 0.9425576572058609 with parameters: {'eta': 0.09635214359495109, 'max_depth': 6, 'lambda': 0.8871838124942971}.\n"
     ]
    },
    {
     "name": "stdout",
     "output_type": "stream",
     "text": [
      "#49, Result: 0.9474818777415723, {'eta': 0.13334002931860822, 'max_depth': 5, 'lambda': 1.2874748241754723}\n"
     ]
    },
    {
     "name": "stderr",
     "output_type": "stream",
     "text": [
      "[I 2019-12-14 21:55:11,811] Finished trial#49 resulted in value: 0.9474818777415723. Current best value is 0.9474818777415723 with parameters: {'eta': 0.13334002931860822, 'max_depth': 5, 'lambda': 1.2874748241754723}.\n"
     ]
    },
    {
     "name": "stdout",
     "output_type": "stream",
     "text": [
      "#50, Result: 0.9392224490440523, {'eta': 0.1341003957570328, 'max_depth': 4, 'lambda': 1.1605014474027886}\n"
     ]
    },
    {
     "name": "stderr",
     "output_type": "stream",
     "text": [
      "[I 2019-12-14 21:55:11,907] Finished trial#50 resulted in value: 0.9392224490440523. Current best value is 0.9474818777415723 with parameters: {'eta': 0.13334002931860822, 'max_depth': 5, 'lambda': 1.2874748241754723}.\n"
     ]
    },
    {
     "name": "stdout",
     "output_type": "stream",
     "text": [
      "#51, Result: 0.930070099045322, {'eta': 0.11144139179379485, 'max_depth': 6, 'lambda': 1.5398061881111884}\n"
     ]
    },
    {
     "name": "stderr",
     "output_type": "stream",
     "text": [
      "[I 2019-12-14 21:55:12,016] Finished trial#51 resulted in value: 0.930070099045322. Current best value is 0.9474818777415723 with parameters: {'eta': 0.13334002931860822, 'max_depth': 5, 'lambda': 1.2874748241754723}.\n"
     ]
    },
    {
     "name": "stdout",
     "output_type": "stream",
     "text": [
      "#52, Result: 0.9365568401896822, {'eta': 0.14146674072068444, 'max_depth': 5, 'lambda': 1.2942561960081476}\n"
     ]
    },
    {
     "name": "stderr",
     "output_type": "stream",
     "text": [
      "[I 2019-12-14 21:55:12,119] Finished trial#52 resulted in value: 0.9365568401896822. Current best value is 0.9474818777415723 with parameters: {'eta': 0.13334002931860822, 'max_depth': 5, 'lambda': 1.2874748241754723}.\n"
     ]
    },
    {
     "name": "stdout",
     "output_type": "stream",
     "text": [
      "#53, Result: 0.9389071856057598, {'eta': 0.12394269727489611, 'max_depth': 5, 'lambda': 1.0965961332224252}\n"
     ]
    },
    {
     "name": "stderr",
     "output_type": "stream",
     "text": [
      "[I 2019-12-14 21:55:12,221] Finished trial#53 resulted in value: 0.9389071856057598. Current best value is 0.9474818777415723 with parameters: {'eta': 0.13334002931860822, 'max_depth': 5, 'lambda': 1.2874748241754723}.\n"
     ]
    },
    {
     "name": "stdout",
     "output_type": "stream",
     "text": [
      "#54, Result: 0.9270489070160548, {'eta': 0.16336720020742038, 'max_depth': 11, 'lambda': 0.8700199393923377}\n"
     ]
    },
    {
     "name": "stderr",
     "output_type": "stream",
     "text": [
      "[I 2019-12-14 21:55:12,347] Finished trial#54 resulted in value: 0.9270489070160548. Current best value is 0.9474818777415723 with parameters: {'eta': 0.13334002931860822, 'max_depth': 5, 'lambda': 1.2874748241754723}.\n"
     ]
    },
    {
     "name": "stdout",
     "output_type": "stream",
     "text": [
      "#55, Result: 0.8807050628155924, {'eta': 0.05875130936412468, 'max_depth': 8, 'lambda': 1.9098183928367298}\n"
     ]
    },
    {
     "name": "stderr",
     "output_type": "stream",
     "text": [
      "[I 2019-12-14 21:55:12,461] Finished trial#55 resulted in value: 0.8807050628155924. Current best value is 0.9474818777415723 with parameters: {'eta': 0.13334002931860822, 'max_depth': 5, 'lambda': 1.2874748241754723}.\n"
     ]
    },
    {
     "name": "stdout",
     "output_type": "stream",
     "text": [
      "#56, Result: 0.9316007817606528, {'eta': 0.08295085037060114, 'max_depth': 7, 'lambda': 1.2806066229634405}\n"
     ]
    },
    {
     "name": "stderr",
     "output_type": "stream",
     "text": [
      "[I 2019-12-14 21:55:12,572] Finished trial#56 resulted in value: 0.9316007817606528. Current best value is 0.9474818777415723 with parameters: {'eta': 0.13334002931860822, 'max_depth': 5, 'lambda': 1.2874748241754723}.\n"
     ]
    },
    {
     "name": "stdout",
     "output_type": "stream",
     "text": [
      "#57, Result: 0.9321570708552441, {'eta': 0.06548551044647365, 'max_depth': 5, 'lambda': 0.7720402495570778}\n"
     ]
    },
    {
     "name": "stderr",
     "output_type": "stream",
     "text": [
      "[I 2019-12-14 21:55:12,678] Finished trial#57 resulted in value: 0.9321570708552441. Current best value is 0.9474818777415723 with parameters: {'eta': 0.13334002931860822, 'max_depth': 5, 'lambda': 1.2874748241754723}.\n"
     ]
    },
    {
     "name": "stdout",
     "output_type": "stream",
     "text": [
      "#58, Result: 0.9251359353302215, {'eta': 0.10141694872141652, 'max_depth': 9, 'lambda': 1.441746940913108}\n"
     ]
    },
    {
     "name": "stderr",
     "output_type": "stream",
     "text": [
      "[I 2019-12-14 21:55:12,798] Finished trial#58 resulted in value: 0.9251359353302215. Current best value is 0.9474818777415723 with parameters: {'eta': 0.13334002931860822, 'max_depth': 5, 'lambda': 1.2874748241754723}.\n"
     ]
    },
    {
     "name": "stdout",
     "output_type": "stream",
     "text": [
      "#59, Result: 0.6990175702887748, {'eta': 0.037114471697472305, 'max_depth': 12, 'lambda': 1.722037444402931}\n"
     ]
    },
    {
     "name": "stderr",
     "output_type": "stream",
     "text": [
      "[I 2019-12-14 21:55:12,913] Finished trial#59 resulted in value: 0.6990175702887748. Current best value is 0.9474818777415723 with parameters: {'eta': 0.13334002931860822, 'max_depth': 5, 'lambda': 1.2874748241754723}.\n"
     ]
    },
    {
     "name": "stdout",
     "output_type": "stream",
     "text": [
      "#60, Result: 0.9444045766572959, {'eta': 0.24824722310980984, 'max_depth': 7, 'lambda': 0.949923644733249}\n"
     ]
    },
    {
     "name": "stderr",
     "output_type": "stream",
     "text": [
      "[I 2019-12-14 21:55:13,029] Finished trial#60 resulted in value: 0.9444045766572959. Current best value is 0.9474818777415723 with parameters: {'eta': 0.13334002931860822, 'max_depth': 5, 'lambda': 1.2874748241754723}.\n"
     ]
    },
    {
     "name": "stdout",
     "output_type": "stream",
     "text": [
      "#61, Result: 0.9319800998959642, {'eta': 0.26016792752580076, 'max_depth': 7, 'lambda': 0.9597036074169742}\n"
     ]
    },
    {
     "name": "stderr",
     "output_type": "stream",
     "text": [
      "[I 2019-12-14 21:55:13,147] Finished trial#61 resulted in value: 0.9319800998959642. Current best value is 0.9474818777415723 with parameters: {'eta': 0.13334002931860822, 'max_depth': 5, 'lambda': 1.2874748241754723}.\n"
     ]
    },
    {
     "name": "stdout",
     "output_type": "stream",
     "text": [
      "#62, Result: 0.9374771261192036, {'eta': 0.28638144228689405, 'max_depth': 6, 'lambda': 1.0214271273732447}\n"
     ]
    },
    {
     "name": "stderr",
     "output_type": "stream",
     "text": [
      "[I 2019-12-14 21:55:13,257] Finished trial#62 resulted in value: 0.9374771261192036. Current best value is 0.9474818777415723 with parameters: {'eta': 0.13334002931860822, 'max_depth': 5, 'lambda': 1.2874748241754723}.\n"
     ]
    },
    {
     "name": "stdout",
     "output_type": "stream",
     "text": [
      "#63, Result: 0.9324709925906766, {'eta': 0.24359632333350148, 'max_depth': 10, 'lambda': 0.8227779781802699}\n"
     ]
    },
    {
     "name": "stderr",
     "output_type": "stream",
     "text": [
      "[I 2019-12-14 21:55:13,387] Finished trial#63 resulted in value: 0.9324709925906766. Current best value is 0.9474818777415723 with parameters: {'eta': 0.13334002931860822, 'max_depth': 5, 'lambda': 1.2874748241754723}.\n"
     ]
    },
    {
     "name": "stdout",
     "output_type": "stream",
     "text": [
      "#64, Result: 0.9307269801218868, {'eta': 0.20537326880217527, 'max_depth': 5, 'lambda': 1.0752265162804466}\n"
     ]
    },
    {
     "name": "stderr",
     "output_type": "stream",
     "text": [
      "[I 2019-12-14 21:55:13,492] Finished trial#64 resulted in value: 0.9307269801218868. Current best value is 0.9474818777415723 with parameters: {'eta': 0.13334002931860822, 'max_depth': 5, 'lambda': 1.2874748241754723}.\n"
     ]
    },
    {
     "name": "stdout",
     "output_type": "stream",
     "text": [
      "#65, Result: 0.9378016869552761, {'eta': 0.25865509253534236, 'max_depth': 8, 'lambda': 0.9223281592034429}\n"
     ]
    },
    {
     "name": "stderr",
     "output_type": "stream",
     "text": [
      "[I 2019-12-14 21:55:13,614] Finished trial#65 resulted in value: 0.9378016869552761. Current best value is 0.9474818777415723 with parameters: {'eta': 0.13334002931860822, 'max_depth': 5, 'lambda': 1.2874748241754723}.\n"
     ]
    },
    {
     "name": "stdout",
     "output_type": "stream",
     "text": [
      "#66, Result: 0.9403121409358809, {'eta': 0.15029518997869104, 'max_depth': 7, 'lambda': 0.8491389431397814}\n"
     ]
    },
    {
     "name": "stderr",
     "output_type": "stream",
     "text": [
      "[I 2019-12-14 21:55:13,731] Finished trial#66 resulted in value: 0.9403121409358809. Current best value is 0.9474818777415723 with parameters: {'eta': 0.13334002931860822, 'max_depth': 5, 'lambda': 1.2874748241754723}.\n"
     ]
    },
    {
     "name": "stdout",
     "output_type": "stream",
     "text": [
      "#67, Result: 0.940778502969484, {'eta': 0.14915755128287564, 'max_depth': 7, 'lambda': 0.997632384009109}\n"
     ]
    },
    {
     "name": "stderr",
     "output_type": "stream",
     "text": [
      "[I 2019-12-14 21:55:13,853] Finished trial#67 resulted in value: 0.940778502969484. Current best value is 0.9474818777415723 with parameters: {'eta': 0.13334002931860822, 'max_depth': 5, 'lambda': 1.2874748241754723}.\n"
     ]
    },
    {
     "name": "stdout",
     "output_type": "stream",
     "text": [
      "#68, Result: 0.9382506678514544, {'eta': 0.12659758720976777, 'max_depth': 6, 'lambda': 0.9997875244948573}\n"
     ]
    },
    {
     "name": "stderr",
     "output_type": "stream",
     "text": [
      "[I 2019-12-14 21:55:13,962] Finished trial#68 resulted in value: 0.9382506678514544. Current best value is 0.9474818777415723 with parameters: {'eta': 0.13334002931860822, 'max_depth': 5, 'lambda': 1.2874748241754723}.\n"
     ]
    },
    {
     "name": "stdout",
     "output_type": "stream",
     "text": [
      "#69, Result: 0.9492710949545171, {'eta': 0.14269757933422947, 'max_depth': 7, 'lambda': 0.968568058844309}\n"
     ]
    },
    {
     "name": "stderr",
     "output_type": "stream",
     "text": [
      "[I 2019-12-14 21:55:14,081] Finished trial#69 resulted in value: 0.9492710949545171. Current best value is 0.9492710949545171 with parameters: {'eta': 0.14269757933422947, 'max_depth': 7, 'lambda': 0.968568058844309}.\n"
     ]
    },
    {
     "name": "stdout",
     "output_type": "stream",
     "text": [
      "#70, Result: 0.9359939561873214, {'eta': 0.14334787335950008, 'max_depth': 8, 'lambda': 1.134958954876288}\n"
     ]
    },
    {
     "name": "stderr",
     "output_type": "stream",
     "text": [
      "[I 2019-12-14 21:55:14,204] Finished trial#70 resulted in value: 0.9359939561873214. Current best value is 0.9492710949545171 with parameters: {'eta': 0.14269757933422947, 'max_depth': 7, 'lambda': 0.968568058844309}.\n"
     ]
    },
    {
     "name": "stdout",
     "output_type": "stream",
     "text": [
      "#71, Result: 0.9380631340014108, {'eta': 0.1670155400754747, 'max_depth': 7, 'lambda': 0.9670985421548308}\n"
     ]
    },
    {
     "name": "stderr",
     "output_type": "stream",
     "text": [
      "[I 2019-12-14 21:55:14,319] Finished trial#71 resulted in value: 0.9380631340014108. Current best value is 0.9492710949545171 with parameters: {'eta': 0.14269757933422947, 'max_depth': 7, 'lambda': 0.968568058844309}.\n"
     ]
    },
    {
     "name": "stdout",
     "output_type": "stream",
     "text": [
      "#72, Result: 0.9349675261967816, {'eta': 0.17622156008319917, 'max_depth': 6, 'lambda': 0.7576455786002877}\n"
     ]
    },
    {
     "name": "stderr",
     "output_type": "stream",
     "text": [
      "[I 2019-12-14 21:55:14,433] Finished trial#72 resulted in value: 0.9349675261967816. Current best value is 0.9492710949545171 with parameters: {'eta': 0.14269757933422947, 'max_depth': 7, 'lambda': 0.968568058844309}.\n"
     ]
    },
    {
     "name": "stdout",
     "output_type": "stream",
     "text": [
      "#73, Result: 0.9464137866157952, {'eta': 0.15663617806594216, 'max_depth': 5, 'lambda': 0.8889457367824702}\n"
     ]
    },
    {
     "name": "stderr",
     "output_type": "stream",
     "text": [
      "[I 2019-12-14 21:55:14,540] Finished trial#73 resulted in value: 0.9464137866157952. Current best value is 0.9492710949545171 with parameters: {'eta': 0.14269757933422947, 'max_depth': 7, 'lambda': 0.968568058844309}.\n"
     ]
    },
    {
     "name": "stdout",
     "output_type": "stream",
     "text": [
      "#74, Result: 0.938617737410016, {'eta': 0.16034807156294598, 'max_depth': 7, 'lambda': 1.0496395361927489}\n"
     ]
    },
    {
     "name": "stderr",
     "output_type": "stream",
     "text": [
      "[I 2019-12-14 21:55:14,656] Finished trial#74 resulted in value: 0.938617737410016. Current best value is 0.9492710949545171 with parameters: {'eta': 0.14269757933422947, 'max_depth': 7, 'lambda': 0.968568058844309}.\n"
     ]
    },
    {
     "name": "stdout",
     "output_type": "stream",
     "text": [
      "#75, Result: 0.9358456052199609, {'eta': 0.13675587484050597, 'max_depth': 8, 'lambda': 0.8156033099593677}\n"
     ]
    },
    {
     "name": "stderr",
     "output_type": "stream",
     "text": [
      "[I 2019-12-14 21:55:14,782] Finished trial#75 resulted in value: 0.9358456052199609. Current best value is 0.9492710949545171 with parameters: {'eta': 0.14269757933422947, 'max_depth': 7, 'lambda': 0.968568058844309}.\n"
     ]
    },
    {
     "name": "stdout",
     "output_type": "stream",
     "text": [
      "#76, Result: 0.9423986772031855, {'eta': 0.1909903879694631, 'max_depth': 6, 'lambda': 1.1870243517602383}\n"
     ]
    },
    {
     "name": "stderr",
     "output_type": "stream",
     "text": [
      "[I 2019-12-14 21:55:14,896] Finished trial#76 resulted in value: 0.9423986772031855. Current best value is 0.9492710949545171 with parameters: {'eta': 0.14269757933422947, 'max_depth': 7, 'lambda': 0.968568058844309}.\n"
     ]
    },
    {
     "name": "stdout",
     "output_type": "stream",
     "text": [
      "#77, Result: 0.9417109155488184, {'eta': 0.19726351247749815, 'max_depth': 6, 'lambda': 1.2160013616424092}\n"
     ]
    },
    {
     "name": "stderr",
     "output_type": "stream",
     "text": [
      "[I 2019-12-14 21:55:15,011] Finished trial#77 resulted in value: 0.9417109155488184. Current best value is 0.9492710949545171 with parameters: {'eta': 0.14269757933422947, 'max_depth': 7, 'lambda': 0.968568058844309}.\n"
     ]
    },
    {
     "name": "stdout",
     "output_type": "stream",
     "text": [
      "#78, Result: 0.939099660992716, {'eta': 0.19225211847011367, 'max_depth': 6, 'lambda': 1.2026367989280284}\n"
     ]
    },
    {
     "name": "stderr",
     "output_type": "stream",
     "text": [
      "[I 2019-12-14 21:55:15,128] Finished trial#78 resulted in value: 0.939099660992716. Current best value is 0.9492710949545171 with parameters: {'eta': 0.14269757933422947, 'max_depth': 7, 'lambda': 0.968568058844309}.\n"
     ]
    },
    {
     "name": "stdout",
     "output_type": "stream",
     "text": [
      "#79, Result: 0.9365483547160527, {'eta': 0.20982958630611998, 'max_depth': 5, 'lambda': 1.2519689244277383}\n"
     ]
    },
    {
     "name": "stderr",
     "output_type": "stream",
     "text": [
      "[I 2019-12-14 21:55:15,236] Finished trial#79 resulted in value: 0.9365483547160527. Current best value is 0.9492710949545171 with parameters: {'eta': 0.14269757933422947, 'max_depth': 7, 'lambda': 0.968568058844309}.\n"
     ]
    },
    {
     "name": "stdout",
     "output_type": "stream",
     "text": [
      "#80, Result: 0.9400575331770065, {'eta': 0.17280665579052665, 'max_depth': 4, 'lambda': 1.3720539784598862}\n"
     ]
    },
    {
     "name": "stderr",
     "output_type": "stream",
     "text": [
      "[I 2019-12-14 21:55:15,338] Finished trial#80 resulted in value: 0.9400575331770065. Current best value is 0.9492710949545171 with parameters: {'eta': 0.14269757933422947, 'max_depth': 7, 'lambda': 0.968568058844309}.\n"
     ]
    },
    {
     "name": "stdout",
     "output_type": "stream",
     "text": [
      "#81, Result: 0.9377461701501836, {'eta': 0.17994944804860813, 'max_depth': 6, 'lambda': 1.1907602246544633}\n"
     ]
    },
    {
     "name": "stderr",
     "output_type": "stream",
     "text": [
      "[I 2019-12-14 21:55:15,452] Finished trial#81 resulted in value: 0.9377461701501836. Current best value is 0.9492710949545171 with parameters: {'eta': 0.14269757933422947, 'max_depth': 7, 'lambda': 0.968568058844309}.\n"
     ]
    },
    {
     "name": "stdout",
     "output_type": "stream",
     "text": [
      "#82, Result: 0.9452952774210127, {'eta': 0.223103913131931, 'max_depth': 5, 'lambda': 1.3134190545062248}\n"
     ]
    },
    {
     "name": "stderr",
     "output_type": "stream",
     "text": [
      "[I 2019-12-14 21:55:15,566] Finished trial#82 resulted in value: 0.9452952774210127. Current best value is 0.9492710949545171 with parameters: {'eta': 0.14269757933422947, 'max_depth': 7, 'lambda': 0.968568058844309}.\n"
     ]
    },
    {
     "name": "stdout",
     "output_type": "stream",
     "text": [
      "#83, Result: 0.9461376834604429, {'eta': 0.19575252156951167, 'max_depth': 5, 'lambda': 1.3461746250451685}\n"
     ]
    },
    {
     "name": "stderr",
     "output_type": "stream",
     "text": [
      "[I 2019-12-14 21:55:15,678] Finished trial#83 resulted in value: 0.9461376834604429. Current best value is 0.9492710949545171 with parameters: {'eta': 0.14269757933422947, 'max_depth': 7, 'lambda': 0.968568058844309}.\n"
     ]
    },
    {
     "name": "stdout",
     "output_type": "stream",
     "text": [
      "#84, Result: 0.9406292737423998, {'eta': 0.22382028547095417, 'max_depth': 5, 'lambda': 1.3192800450114113}\n"
     ]
    },
    {
     "name": "stderr",
     "output_type": "stream",
     "text": [
      "[I 2019-12-14 21:55:15,789] Finished trial#84 resulted in value: 0.9406292737423998. Current best value is 0.9492710949545171 with parameters: {'eta': 0.14269757933422947, 'max_depth': 7, 'lambda': 0.968568058844309}.\n"
     ]
    },
    {
     "name": "stdout",
     "output_type": "stream",
     "text": [
      "#85, Result: 0.9374896666118044, {'eta': 0.18929442454851378, 'max_depth': 4, 'lambda': 1.4077659087674628}\n"
     ]
    },
    {
     "name": "stderr",
     "output_type": "stream",
     "text": [
      "[I 2019-12-14 21:55:15,896] Finished trial#85 resulted in value: 0.9374896666118044. Current best value is 0.9492710949545171 with parameters: {'eta': 0.14269757933422947, 'max_depth': 7, 'lambda': 0.968568058844309}.\n"
     ]
    },
    {
     "name": "stdout",
     "output_type": "stream",
     "text": [
      "#86, Result: 0.9456663316798661, {'eta': 0.15914217084000273, 'max_depth': 5, 'lambda': 1.2639833929592326}\n"
     ]
    },
    {
     "name": "stderr",
     "output_type": "stream",
     "text": [
      "[I 2019-12-14 21:55:16,008] Finished trial#86 resulted in value: 0.9456663316798661. Current best value is 0.9492710949545171 with parameters: {'eta': 0.14269757933422947, 'max_depth': 7, 'lambda': 0.968568058844309}.\n"
     ]
    },
    {
     "name": "stdout",
     "output_type": "stream",
     "text": [
      "#87, Result: 0.9453177416117311, {'eta': 0.23514541315771725, 'max_depth': 5, 'lambda': 1.3387270842822885}\n"
     ]
    },
    {
     "name": "stderr",
     "output_type": "stream",
     "text": [
      "[I 2019-12-14 21:55:16,118] Finished trial#87 resulted in value: 0.9453177416117311. Current best value is 0.9492710949545171 with parameters: {'eta': 0.14269757933422947, 'max_depth': 7, 'lambda': 0.968568058844309}.\n"
     ]
    },
    {
     "name": "stdout",
     "output_type": "stream",
     "text": [
      "#88, Result: 0.9439061370796644, {'eta': 0.23485011610754436, 'max_depth': 5, 'lambda': 1.4912773151404608}\n"
     ]
    },
    {
     "name": "stderr",
     "output_type": "stream",
     "text": [
      "[I 2019-12-14 21:55:16,236] Finished trial#88 resulted in value: 0.9439061370796644. Current best value is 0.9492710949545171 with parameters: {'eta': 0.14269757933422947, 'max_depth': 7, 'lambda': 0.968568058844309}.\n"
     ]
    },
    {
     "name": "stdout",
     "output_type": "stream",
     "text": [
      "#89, Result: 0.9493062251031679, {'eta': 0.23792697259313034, 'max_depth': 4, 'lambda': 1.3334734813481317}\n"
     ]
    },
    {
     "name": "stderr",
     "output_type": "stream",
     "text": [
      "[I 2019-12-14 21:55:16,342] Finished trial#89 resulted in value: 0.9493062251031679. Current best value is 0.9493062251031679 with parameters: {'eta': 0.23792697259313034, 'max_depth': 4, 'lambda': 1.3334734813481317}.\n"
     ]
    },
    {
     "name": "stdout",
     "output_type": "stream",
     "text": [
      "#90, Result: 0.9436905527346203, {'eta': 0.21927210668297295, 'max_depth': 4, 'lambda': 1.4106573281656898}\n"
     ]
    },
    {
     "name": "stderr",
     "output_type": "stream",
     "text": [
      "[I 2019-12-14 21:55:16,449] Finished trial#90 resulted in value: 0.9436905527346203. Current best value is 0.9493062251031679 with parameters: {'eta': 0.23792697259313034, 'max_depth': 4, 'lambda': 1.3334734813481317}.\n"
     ]
    },
    {
     "name": "stdout",
     "output_type": "stream",
     "text": [
      "#91, Result: 0.9427312818550608, {'eta': 0.23731651239474102, 'max_depth': 5, 'lambda': 1.3326491932363707}\n"
     ]
    },
    {
     "name": "stderr",
     "output_type": "stream",
     "text": [
      "[I 2019-12-14 21:55:16,566] Finished trial#91 resulted in value: 0.9427312818550608. Current best value is 0.9493062251031679 with parameters: {'eta': 0.23792697259313034, 'max_depth': 4, 'lambda': 1.3334734813481317}.\n"
     ]
    },
    {
     "name": "stdout",
     "output_type": "stream",
     "text": [
      "#92, Result: 0.936825352173231, {'eta': 0.24726695804692286, 'max_depth': 4, 'lambda': 1.481112030092546}\n"
     ]
    },
    {
     "name": "stderr",
     "output_type": "stream",
     "text": [
      "[I 2019-12-14 21:55:16,674] Finished trial#92 resulted in value: 0.936825352173231. Current best value is 0.9493062251031679 with parameters: {'eta': 0.23792697259313034, 'max_depth': 4, 'lambda': 1.3334734813481317}.\n"
     ]
    },
    {
     "name": "stdout",
     "output_type": "stream",
     "text": [
      "#93, Result: 0.9356244472409445, {'eta': 0.22972629765640323, 'max_depth': 5, 'lambda': 1.5449688996892903}\n"
     ]
    },
    {
     "name": "stderr",
     "output_type": "stream",
     "text": [
      "[I 2019-12-14 21:55:16,786] Finished trial#93 resulted in value: 0.9356244472409445. Current best value is 0.9493062251031679 with parameters: {'eta': 0.23792697259313034, 'max_depth': 4, 'lambda': 1.3334734813481317}.\n"
     ]
    },
    {
     "name": "stdout",
     "output_type": "stream",
     "text": [
      "#94, Result: 0.9460631534875757, {'eta': 0.24029552910031285, 'max_depth': 4, 'lambda': 1.3425813026850573}\n"
     ]
    },
    {
     "name": "stderr",
     "output_type": "stream",
     "text": [
      "[I 2019-12-14 21:55:16,895] Finished trial#94 resulted in value: 0.9460631534875757. Current best value is 0.9493062251031679 with parameters: {'eta': 0.23792697259313034, 'max_depth': 4, 'lambda': 1.3334734813481317}.\n"
     ]
    },
    {
     "name": "stdout",
     "output_type": "stream",
     "text": [
      "#95, Result: 0.9393111289234474, {'eta': 0.21253064771171587, 'max_depth': 4, 'lambda': 1.2661457945441812}\n"
     ]
    },
    {
     "name": "stderr",
     "output_type": "stream",
     "text": [
      "[I 2019-12-14 21:55:17,003] Finished trial#95 resulted in value: 0.9393111289234474. Current best value is 0.9493062251031679 with parameters: {'eta': 0.23792697259313034, 'max_depth': 4, 'lambda': 1.3334734813481317}.\n"
     ]
    },
    {
     "name": "stdout",
     "output_type": "stream",
     "text": [
      "#96, Result: 0.9388163974950492, {'eta': 0.2619275414675804, 'max_depth': 4, 'lambda': 1.342417740917089}\n"
     ]
    },
    {
     "name": "stderr",
     "output_type": "stream",
     "text": [
      "[I 2019-12-14 21:55:17,111] Finished trial#96 resulted in value: 0.9388163974950492. Current best value is 0.9493062251031679 with parameters: {'eta': 0.23792697259313034, 'max_depth': 4, 'lambda': 1.3334734813481317}.\n"
     ]
    },
    {
     "name": "stdout",
     "output_type": "stream",
     "text": [
      "#97, Result: 0.94512010349564, {'eta': 0.25214674330128667, 'max_depth': 4, 'lambda': 1.377587940658303}\n"
     ]
    },
    {
     "name": "stderr",
     "output_type": "stream",
     "text": [
      "[I 2019-12-14 21:55:17,235] Finished trial#97 resulted in value: 0.94512010349564. Current best value is 0.9493062251031679 with parameters: {'eta': 0.23792697259313034, 'max_depth': 4, 'lambda': 1.3334734813481317}.\n"
     ]
    },
    {
     "name": "stdout",
     "output_type": "stream",
     "text": [
      "#98, Result: 0.9438825187776684, {'eta': 0.2399008061687463, 'max_depth': 4, 'lambda': 1.3113286444306873}\n"
     ]
    },
    {
     "name": "stderr",
     "output_type": "stream",
     "text": [
      "[I 2019-12-14 21:55:17,345] Finished trial#98 resulted in value: 0.9438825187776684. Current best value is 0.9493062251031679 with parameters: {'eta': 0.23792697259313034, 'max_depth': 4, 'lambda': 1.3334734813481317}.\n"
     ]
    },
    {
     "name": "stdout",
     "output_type": "stream",
     "text": [
      "#99, Result: 0.9355687100812002, {'eta': 0.22908532595073355, 'max_depth': 5, 'lambda': 1.24603941015239}\n"
     ]
    },
    {
     "name": "stderr",
     "output_type": "stream",
     "text": [
      "[I 2019-12-14 21:55:17,460] Finished trial#99 resulted in value: 0.9355687100812002. Current best value is 0.9493062251031679 with parameters: {'eta': 0.23792697259313034, 'max_depth': 4, 'lambda': 1.3334734813481317}.\n"
     ]
    },
    {
     "name": "stdout",
     "output_type": "stream",
     "text": [
      "#100, Result: 0.9324531607880908, {'eta': 0.2734863386430521, 'max_depth': 4, 'lambda': 1.393476967829702}\n"
     ]
    },
    {
     "name": "stderr",
     "output_type": "stream",
     "text": [
      "[I 2019-12-14 21:55:17,574] Finished trial#100 resulted in value: 0.9324531607880908. Current best value is 0.9493062251031679 with parameters: {'eta': 0.23792697259313034, 'max_depth': 4, 'lambda': 1.3334734813481317}.\n"
     ]
    },
    {
     "name": "stdout",
     "output_type": "stream",
     "text": [
      "#101, Result: 0.9391514815359081, {'eta': 0.25504839008568747, 'max_depth': 5, 'lambda': 1.3619074820666561}\n"
     ]
    },
    {
     "name": "stderr",
     "output_type": "stream",
     "text": [
      "[I 2019-12-14 21:55:17,689] Finished trial#101 resulted in value: 0.9391514815359081. Current best value is 0.9493062251031679 with parameters: {'eta': 0.23792697259313034, 'max_depth': 4, 'lambda': 1.3334734813481317}.\n"
     ]
    },
    {
     "name": "stdout",
     "output_type": "stream",
     "text": [
      "#102, Result: 0.930540936082756, {'eta': 0.2821970507441922, 'max_depth': 5, 'lambda': 1.3006628479957694}\n"
     ]
    },
    {
     "name": "stderr",
     "output_type": "stream",
     "text": [
      "[I 2019-12-14 21:55:17,805] Finished trial#102 resulted in value: 0.930540936082756. Current best value is 0.9493062251031679 with parameters: {'eta': 0.23792697259313034, 'max_depth': 4, 'lambda': 1.3334734813481317}.\n"
     ]
    },
    {
     "name": "stdout",
     "output_type": "stream",
     "text": [
      "#103, Result: 0.9406759771932365, {'eta': 0.24212523558855614, 'max_depth': 4, 'lambda': 1.3461311310619368}\n"
     ]
    },
    {
     "name": "stderr",
     "output_type": "stream",
     "text": [
      "[I 2019-12-14 21:55:17,917] Finished trial#103 resulted in value: 0.9406759771932365. Current best value is 0.9493062251031679 with parameters: {'eta': 0.23792697259313034, 'max_depth': 4, 'lambda': 1.3334734813481317}.\n"
     ]
    },
    {
     "name": "stdout",
     "output_type": "stream",
     "text": [
      "#104, Result: 0.9242851777642211, {'eta': 0.2236622364700901, 'max_depth': 5, 'lambda': 1.435820015487523}\n"
     ]
    },
    {
     "name": "stderr",
     "output_type": "stream",
     "text": [
      "[I 2019-12-14 21:55:18,034] Finished trial#104 resulted in value: 0.9242851777642211. Current best value is 0.9493062251031679 with parameters: {'eta': 0.23792697259313034, 'max_depth': 4, 'lambda': 1.3334734813481317}.\n"
     ]
    },
    {
     "name": "stdout",
     "output_type": "stream",
     "text": [
      "#105, Result: 0.9436540923691655, {'eta': 0.2533462157715596, 'max_depth': 4, 'lambda': 1.2714080585050287}\n"
     ]
    },
    {
     "name": "stderr",
     "output_type": "stream",
     "text": [
      "[I 2019-12-14 21:55:18,149] Finished trial#105 resulted in value: 0.9436540923691655. Current best value is 0.9493062251031679 with parameters: {'eta': 0.23792697259313034, 'max_depth': 4, 'lambda': 1.3334734813481317}.\n"
     ]
    },
    {
     "name": "stdout",
     "output_type": "stream",
     "text": [
      "#106, Result: 0.9403827463991182, {'eta': 0.15900446760305964, 'max_depth': 5, 'lambda': 1.3777299481445506}\n"
     ]
    },
    {
     "name": "stderr",
     "output_type": "stream",
     "text": [
      "[I 2019-12-14 21:55:18,267] Finished trial#106 resulted in value: 0.9403827463991182. Current best value is 0.9493062251031679 with parameters: {'eta': 0.23792697259313034, 'max_depth': 4, 'lambda': 1.3334734813481317}.\n"
     ]
    },
    {
     "name": "stdout",
     "output_type": "stream",
     "text": [
      "#107, Result: 0.9388236699380534, {'eta': 0.24957790050382272, 'max_depth': 4, 'lambda': 1.5082044315547702}\n"
     ]
    },
    {
     "name": "stderr",
     "output_type": "stream",
     "text": [
      "[I 2019-12-14 21:55:18,381] Finished trial#107 resulted in value: 0.9388236699380534. Current best value is 0.9493062251031679 with parameters: {'eta': 0.23792697259313034, 'max_depth': 4, 'lambda': 1.3334734813481317}.\n"
     ]
    },
    {
     "name": "stdout",
     "output_type": "stream",
     "text": [
      "#108, Result: 0.9370162654679894, {'eta': 0.12094773244637118, 'max_depth': 5, 'lambda': 1.4209354941092074}\n"
     ]
    },
    {
     "name": "stderr",
     "output_type": "stream",
     "text": [
      "[I 2019-12-14 21:55:18,502] Finished trial#108 resulted in value: 0.9370162654679894. Current best value is 0.9493062251031679 with parameters: {'eta': 0.23792697259313034, 'max_depth': 4, 'lambda': 1.3334734813481317}.\n"
     ]
    },
    {
     "name": "stdout",
     "output_type": "stream",
     "text": [
      "#109, Result: 0.9391252691120294, {'eta': 0.26572813538438983, 'max_depth': 4, 'lambda': 1.320179207657379}\n"
     ]
    },
    {
     "name": "stderr",
     "output_type": "stream",
     "text": [
      "[I 2019-12-14 21:55:18,616] Finished trial#109 resulted in value: 0.9391252691120294. Current best value is 0.9493062251031679 with parameters: {'eta': 0.23792697259313034, 'max_depth': 4, 'lambda': 1.3334734813481317}.\n"
     ]
    },
    {
     "name": "stdout",
     "output_type": "stream",
     "text": [
      "#110, Result: 0.9485994367559675, {'eta': 0.2331931073669287, 'max_depth': 5, 'lambda': 1.458413590104976}\n"
     ]
    },
    {
     "name": "stderr",
     "output_type": "stream",
     "text": [
      "[I 2019-12-14 21:55:18,735] Finished trial#110 resulted in value: 0.9485994367559675. Current best value is 0.9493062251031679 with parameters: {'eta': 0.23792697259313034, 'max_depth': 4, 'lambda': 1.3334734813481317}.\n"
     ]
    },
    {
     "name": "stdout",
     "output_type": "stream",
     "text": [
      "#111, Result: 0.9346599172702061, {'eta': 0.23405973850730427, 'max_depth': 5, 'lambda': 1.3862161562229658}\n"
     ]
    },
    {
     "name": "stderr",
     "output_type": "stream",
     "text": [
      "[I 2019-12-14 21:55:18,855] Finished trial#111 resulted in value: 0.9346599172702061. Current best value is 0.9493062251031679 with parameters: {'eta': 0.23792697259313034, 'max_depth': 4, 'lambda': 1.3334734813481317}.\n"
     ]
    },
    {
     "name": "stdout",
     "output_type": "stream",
     "text": [
      "#112, Result: 0.949561866714757, {'eta': 0.13256457919570055, 'max_depth': 5, 'lambda': 1.2413427747155155}\n"
     ]
    },
    {
     "name": "stderr",
     "output_type": "stream",
     "text": [
      "[I 2019-12-14 21:55:18,976] Finished trial#112 resulted in value: 0.949561866714757. Current best value is 0.949561866714757 with parameters: {'eta': 0.13256457919570055, 'max_depth': 5, 'lambda': 1.2413427747155155}.\n"
     ]
    },
    {
     "name": "stdout",
     "output_type": "stream",
     "text": [
      "#113, Result: 0.9431901115391754, {'eta': 0.11452329955377676, 'max_depth': 5, 'lambda': 1.2489989066535443}\n"
     ]
    },
    {
     "name": "stderr",
     "output_type": "stream",
     "text": [
      "[I 2019-12-14 21:55:19,096] Finished trial#113 resulted in value: 0.9431901115391754. Current best value is 0.949561866714757 with parameters: {'eta': 0.13256457919570055, 'max_depth': 5, 'lambda': 1.2413427747155155}.\n"
     ]
    },
    {
     "name": "stdout",
     "output_type": "stream",
     "text": [
      "#114, Result: 0.9489824719232172, {'eta': 0.13367227685240604, 'max_depth': 5, 'lambda': 1.2912743148162058}\n"
     ]
    },
    {
     "name": "stderr",
     "output_type": "stream",
     "text": [
      "[I 2019-12-14 21:55:19,215] Finished trial#114 resulted in value: 0.9489824719232172. Current best value is 0.949561866714757 with parameters: {'eta': 0.13256457919570055, 'max_depth': 5, 'lambda': 1.2413427747155155}.\n"
     ]
    },
    {
     "name": "stdout",
     "output_type": "stream",
     "text": [
      "#115, Result: 0.9435095837771937, {'eta': 0.12933564795001484, 'max_depth': 5, 'lambda': 1.2892614118366448}\n"
     ]
    },
    {
     "name": "stderr",
     "output_type": "stream",
     "text": [
      "[I 2019-12-14 21:55:19,339] Finished trial#115 resulted in value: 0.9435095837771937. Current best value is 0.949561866714757 with parameters: {'eta': 0.13256457919570055, 'max_depth': 5, 'lambda': 1.2413427747155155}.\n"
     ]
    },
    {
     "name": "stdout",
     "output_type": "stream",
     "text": [
      "#116, Result: 0.9414531191091237, {'eta': 0.15463886384053183, 'max_depth': 6, 'lambda': 1.2361170939750206}\n"
     ]
    },
    {
     "name": "stderr",
     "output_type": "stream",
     "text": [
      "[I 2019-12-14 21:55:19,482] Finished trial#116 resulted in value: 0.9414531191091237. Current best value is 0.949561866714757 with parameters: {'eta': 0.13256457919570055, 'max_depth': 5, 'lambda': 1.2413427747155155}.\n"
     ]
    },
    {
     "name": "stdout",
     "output_type": "stream",
     "text": [
      "#117, Result: 0.9323635950032065, {'eta': 0.131703678151043, 'max_depth': 5, 'lambda': 1.5709933193743695}\n"
     ]
    },
    {
     "name": "stderr",
     "output_type": "stream",
     "text": [
      "[I 2019-12-14 21:55:19,606] Finished trial#117 resulted in value: 0.9323635950032065. Current best value is 0.949561866714757 with parameters: {'eta': 0.13256457919570055, 'max_depth': 5, 'lambda': 1.2413427747155155}.\n"
     ]
    },
    {
     "name": "stdout",
     "output_type": "stream",
     "text": [
      "#118, Result: 0.9301489461252753, {'eta': 0.14528303080132585, 'max_depth': 6, 'lambda': 1.4510142103300332}\n"
     ]
    },
    {
     "name": "stderr",
     "output_type": "stream",
     "text": [
      "[I 2019-12-14 21:55:19,726] Finished trial#118 resulted in value: 0.9301489461252753. Current best value is 0.949561866714757 with parameters: {'eta': 0.13256457919570055, 'max_depth': 5, 'lambda': 1.2413427747155155}.\n"
     ]
    },
    {
     "name": "stdout",
     "output_type": "stream",
     "text": [
      "#119, Result: 0.9349504275884775, {'eta': 0.14185675449863383, 'max_depth': 5, 'lambda': 1.3322730574969506}\n"
     ]
    },
    {
     "name": "stderr",
     "output_type": "stream",
     "text": [
      "[I 2019-12-14 21:55:19,853] Finished trial#119 resulted in value: 0.9349504275884775. Current best value is 0.949561866714757 with parameters: {'eta': 0.13256457919570055, 'max_depth': 5, 'lambda': 1.2413427747155155}.\n"
     ]
    },
    {
     "name": "stdout",
     "output_type": "stream",
     "text": [
      "#120, Result: 0.9451649876980879, {'eta': 0.1395475098202939, 'max_depth': 5, 'lambda': 1.276403217399502}\n"
     ]
    },
    {
     "name": "stderr",
     "output_type": "stream",
     "text": [
      "[I 2019-12-14 21:55:19,974] Finished trial#120 resulted in value: 0.9451649876980879. Current best value is 0.949561866714757 with parameters: {'eta': 0.13256457919570055, 'max_depth': 5, 'lambda': 1.2413427747155155}.\n"
     ]
    },
    {
     "name": "stdout",
     "output_type": "stream",
     "text": [
      "#121, Result: 0.9388016215421296, {'eta': 0.136656733532779, 'max_depth': 5, 'lambda': 1.3028672480487842}\n"
     ]
    },
    {
     "name": "stderr",
     "output_type": "stream",
     "text": [
      "[I 2019-12-14 21:55:20,096] Finished trial#121 resulted in value: 0.9388016215421296. Current best value is 0.949561866714757 with parameters: {'eta': 0.13256457919570055, 'max_depth': 5, 'lambda': 1.2413427747155155}.\n"
     ]
    },
    {
     "name": "stdout",
     "output_type": "stream",
     "text": [
      "#122, Result: 0.9362630336155731, {'eta': 0.14904365410838039, 'max_depth': 5, 'lambda': 1.2704311974536187}\n"
     ]
    },
    {
     "name": "stderr",
     "output_type": "stream",
     "text": [
      "[I 2019-12-14 21:55:20,219] Finished trial#122 resulted in value: 0.9362630336155731. Current best value is 0.949561866714757 with parameters: {'eta': 0.13256457919570055, 'max_depth': 5, 'lambda': 1.2413427747155155}.\n"
     ]
    },
    {
     "name": "stdout",
     "output_type": "stream",
     "text": [
      "#123, Result: 0.9359857304135956, {'eta': 0.11811424263327716, 'max_depth': 6, 'lambda': 1.155404306185743}\n"
     ]
    },
    {
     "name": "stderr",
     "output_type": "stream",
     "text": [
      "[I 2019-12-14 21:55:20,346] Finished trial#123 resulted in value: 0.9359857304135956. Current best value is 0.949561866714757 with parameters: {'eta': 0.13256457919570055, 'max_depth': 5, 'lambda': 1.2413427747155155}.\n"
     ]
    },
    {
     "name": "stdout",
     "output_type": "stream",
     "text": [
      "#124, Result: 0.9412402450714678, {'eta': 0.1374577610750655, 'max_depth': 5, 'lambda': 1.352136098990978}\n"
     ]
    },
    {
     "name": "stderr",
     "output_type": "stream",
     "text": [
      "[I 2019-12-14 21:55:20,505] Finished trial#124 resulted in value: 0.9412402450714678. Current best value is 0.949561866714757 with parameters: {'eta': 0.13256457919570055, 'max_depth': 5, 'lambda': 1.2413427747155155}.\n"
     ]
    },
    {
     "name": "stdout",
     "output_type": "stream",
     "text": [
      "#125, Result: 0.9372263867338468, {'eta': 0.10857444189261908, 'max_depth': 6, 'lambda': 1.21709875479181}\n"
     ]
    },
    {
     "name": "stderr",
     "output_type": "stream",
     "text": [
      "[I 2019-12-14 21:55:20,635] Finished trial#125 resulted in value: 0.9372263867338468. Current best value is 0.949561866714757 with parameters: {'eta': 0.13256457919570055, 'max_depth': 5, 'lambda': 1.2413427747155155}.\n"
     ]
    },
    {
     "name": "stdout",
     "output_type": "stream",
     "text": [
      "#126, Result: 0.9511008697593568, {'eta': 0.15402519439461818, 'max_depth': 5, 'lambda': 1.2692005981382188}\n"
     ]
    },
    {
     "name": "stderr",
     "output_type": "stream",
     "text": [
      "[I 2019-12-14 21:55:20,756] Finished trial#126 resulted in value: 0.9511008697593568. Current best value is 0.9511008697593568 with parameters: {'eta': 0.15402519439461818, 'max_depth': 5, 'lambda': 1.2692005981382188}.\n"
     ]
    },
    {
     "name": "stdout",
     "output_type": "stream",
     "text": [
      "#127, Result: 0.9432995813385364, {'eta': 0.1569210074320683, 'max_depth': 4, 'lambda': 1.1685815050463597}\n"
     ]
    },
    {
     "name": "stderr",
     "output_type": "stream",
     "text": [
      "[I 2019-12-14 21:55:20,872] Finished trial#127 resulted in value: 0.9432995813385364. Current best value is 0.9511008697593568 with parameters: {'eta': 0.15402519439461818, 'max_depth': 5, 'lambda': 1.2692005981382188}.\n"
     ]
    },
    {
     "name": "stdout",
     "output_type": "stream",
     "text": [
      "#128, Result: 0.9433298470906002, {'eta': 0.16741143291248858, 'max_depth': 5, 'lambda': 1.1082169245736144}\n"
     ]
    },
    {
     "name": "stderr",
     "output_type": "stream",
     "text": [
      "[I 2019-12-14 21:55:20,996] Finished trial#128 resulted in value: 0.9433298470906002. Current best value is 0.9511008697593568 with parameters: {'eta': 0.15402519439461818, 'max_depth': 5, 'lambda': 1.2692005981382188}.\n"
     ]
    },
    {
     "name": "stdout",
     "output_type": "stream",
     "text": [
      "#129, Result: 0.9432348616077665, {'eta': 0.20493127715535492, 'max_depth': 4, 'lambda': 1.3201089979255896}\n"
     ]
    },
    {
     "name": "stderr",
     "output_type": "stream",
     "text": [
      "[I 2019-12-14 21:55:21,113] Finished trial#129 resulted in value: 0.9432348616077665. Current best value is 0.9511008697593568 with parameters: {'eta': 0.15402519439461818, 'max_depth': 5, 'lambda': 1.2692005981382188}.\n"
     ]
    },
    {
     "name": "stdout",
     "output_type": "stream",
     "text": [
      "#130, Result: 0.9367070714311145, {'eta': 0.21887518970063416, 'max_depth': 5, 'lambda': 1.3571233121334147}\n"
     ]
    },
    {
     "name": "stderr",
     "output_type": "stream",
     "text": [
      "[I 2019-12-14 21:55:21,238] Finished trial#130 resulted in value: 0.9367070714311145. Current best value is 0.9511008697593568 with parameters: {'eta': 0.15402519439461818, 'max_depth': 5, 'lambda': 1.2692005981382188}.\n"
     ]
    },
    {
     "name": "stdout",
     "output_type": "stream",
     "text": [
      "#131, Result: 0.9409253085084673, {'eta': 0.12731344776201461, 'max_depth': 5, 'lambda': 1.2832406509402805}\n"
     ]
    },
    {
     "name": "stderr",
     "output_type": "stream",
     "text": [
      "[I 2019-12-14 21:55:21,360] Finished trial#131 resulted in value: 0.9409253085084673. Current best value is 0.9511008697593568 with parameters: {'eta': 0.15402519439461818, 'max_depth': 5, 'lambda': 1.2692005981382188}.\n"
     ]
    },
    {
     "name": "stdout",
     "output_type": "stream",
     "text": [
      "#132, Result: 0.9460062096870158, {'eta': 0.15201306754922966, 'max_depth': 6, 'lambda': 1.258023770536442}\n"
     ]
    },
    {
     "name": "stderr",
     "output_type": "stream",
     "text": [
      "[I 2019-12-14 21:55:21,487] Finished trial#132 resulted in value: 0.9460062096870158. Current best value is 0.9511008697593568 with parameters: {'eta': 0.15402519439461818, 'max_depth': 5, 'lambda': 1.2692005981382188}.\n"
     ]
    },
    {
     "name": "stdout",
     "output_type": "stream",
     "text": [
      "#133, Result: 0.9375556636400914, {'eta': 0.1466801138743908, 'max_depth': 6, 'lambda': 1.2291014169901973}\n"
     ]
    },
    {
     "name": "stderr",
     "output_type": "stream",
     "text": [
      "[I 2019-12-14 21:55:21,618] Finished trial#133 resulted in value: 0.9375556636400914. Current best value is 0.9511008697593568 with parameters: {'eta': 0.15402519439461818, 'max_depth': 5, 'lambda': 1.2692005981382188}.\n"
     ]
    },
    {
     "name": "stdout",
     "output_type": "stream",
     "text": [
      "#134, Result: 0.9481642958443777, {'eta': 0.15256381447049205, 'max_depth': 6, 'lambda': 1.2573411795355895}\n"
     ]
    },
    {
     "name": "stderr",
     "output_type": "stream",
     "text": [
      "[I 2019-12-14 21:55:21,750] Finished trial#134 resulted in value: 0.9481642958443777. Current best value is 0.9511008697593568 with parameters: {'eta': 0.15402519439461818, 'max_depth': 5, 'lambda': 1.2692005981382188}.\n"
     ]
    },
    {
     "name": "stdout",
     "output_type": "stream",
     "text": [
      "#135, Result: 0.9422108819404542, {'eta': 0.15480227640549457, 'max_depth': 6, 'lambda': 1.2011627523811659}\n"
     ]
    },
    {
     "name": "stderr",
     "output_type": "stream",
     "text": [
      "[I 2019-12-14 21:55:21,878] Finished trial#135 resulted in value: 0.9422108819404542. Current best value is 0.9511008697593568 with parameters: {'eta': 0.15402519439461818, 'max_depth': 5, 'lambda': 1.2692005981382188}.\n"
     ]
    },
    {
     "name": "stdout",
     "output_type": "stream",
     "text": [
      "#136, Result: 0.9414020539106495, {'eta': 0.16249591909808744, 'max_depth': 6, 'lambda': 1.1780275793625201}\n"
     ]
    },
    {
     "name": "stderr",
     "output_type": "stream",
     "text": [
      "[I 2019-12-14 21:55:22,011] Finished trial#136 resulted in value: 0.9414020539106495. Current best value is 0.9511008697593568 with parameters: {'eta': 0.15402519439461818, 'max_depth': 5, 'lambda': 1.2692005981382188}.\n"
     ]
    },
    {
     "name": "stdout",
     "output_type": "stream",
     "text": [
      "#137, Result: 0.9390114687831883, {'eta': 0.17286609460008723, 'max_depth': 6, 'lambda': 1.6532709454225483}\n"
     ]
    },
    {
     "name": "stderr",
     "output_type": "stream",
     "text": [
      "[I 2019-12-14 21:55:22,138] Finished trial#137 resulted in value: 0.9390114687831883. Current best value is 0.9511008697593568 with parameters: {'eta': 0.15402519439461818, 'max_depth': 5, 'lambda': 1.2692005981382188}.\n"
     ]
    },
    {
     "name": "stdout",
     "output_type": "stream",
     "text": [
      "#138, Result: 0.9403762571210798, {'eta': 0.14505109252443357, 'max_depth': 4, 'lambda': 1.2387362548725582}\n"
     ]
    },
    {
     "name": "stderr",
     "output_type": "stream",
     "text": [
      "[I 2019-12-14 21:55:22,264] Finished trial#138 resulted in value: 0.9403762571210798. Current best value is 0.9511008697593568 with parameters: {'eta': 0.15402519439461818, 'max_depth': 5, 'lambda': 1.2692005981382188}.\n"
     ]
    },
    {
     "name": "stdout",
     "output_type": "stream",
     "text": [
      "#139, Result: 0.9440630245313895, {'eta': 0.15214691907049285, 'max_depth': 5, 'lambda': 1.1301985576999887}\n"
     ]
    },
    {
     "name": "stderr",
     "output_type": "stream",
     "text": [
      "[I 2019-12-14 21:55:22,389] Finished trial#139 resulted in value: 0.9440630245313895. Current best value is 0.9511008697593568 with parameters: {'eta': 0.15402519439461818, 'max_depth': 5, 'lambda': 1.2692005981382188}.\n"
     ]
    },
    {
     "name": "stdout",
     "output_type": "stream",
     "text": [
      "#140, Result: 0.9374213943132353, {'eta': 0.12411685280354133, 'max_depth': 6, 'lambda': 1.259914874449336}\n"
     ]
    },
    {
     "name": "stderr",
     "output_type": "stream",
     "text": [
      "[I 2019-12-14 21:55:22,518] Finished trial#140 resulted in value: 0.9374213943132353. Current best value is 0.9511008697593568 with parameters: {'eta': 0.15402519439461818, 'max_depth': 5, 'lambda': 1.2692005981382188}.\n"
     ]
    },
    {
     "name": "stdout",
     "output_type": "stream",
     "text": [
      "#141, Result: 0.9383893152900407, {'eta': 0.1337052416573903, 'max_depth': 5, 'lambda': 1.3218084654318683}\n"
     ]
    },
    {
     "name": "stderr",
     "output_type": "stream",
     "text": [
      "[I 2019-12-14 21:55:22,645] Finished trial#141 resulted in value: 0.9383893152900407. Current best value is 0.9511008697593568 with parameters: {'eta': 0.15402519439461818, 'max_depth': 5, 'lambda': 1.2692005981382188}.\n"
     ]
    },
    {
     "name": "stdout",
     "output_type": "stream",
     "text": [
      "#142, Result: 0.9372937765557757, {'eta': 0.22961936891075313, 'max_depth': 5, 'lambda': 1.287251370501821}\n"
     ]
    },
    {
     "name": "stderr",
     "output_type": "stream",
     "text": [
      "[I 2019-12-14 21:55:22,774] Finished trial#142 resulted in value: 0.9372937765557757. Current best value is 0.9511008697593568 with parameters: {'eta': 0.15402519439461818, 'max_depth': 5, 'lambda': 1.2692005981382188}.\n"
     ]
    },
    {
     "name": "stdout",
     "output_type": "stream",
     "text": [
      "#143, Result: 0.9400424244529169, {'eta': 0.16502763341245275, 'max_depth': 5, 'lambda': 1.4011899087433062}\n"
     ]
    },
    {
     "name": "stderr",
     "output_type": "stream",
     "text": [
      "[I 2019-12-14 21:55:22,898] Finished trial#143 resulted in value: 0.9400424244529169. Current best value is 0.9511008697593568 with parameters: {'eta': 0.15402519439461818, 'max_depth': 5, 'lambda': 1.2692005981382188}.\n"
     ]
    },
    {
     "name": "stdout",
     "output_type": "stream",
     "text": [
      "#144, Result: 0.9391721459156563, {'eta': 0.22303536341198, 'max_depth': 4, 'lambda': 1.3015706180287485}\n"
     ]
    },
    {
     "name": "stderr",
     "output_type": "stream",
     "text": [
      "[I 2019-12-14 21:55:23,019] Finished trial#144 resulted in value: 0.9391721459156563. Current best value is 0.9511008697593568 with parameters: {'eta': 0.15402519439461818, 'max_depth': 5, 'lambda': 1.2692005981382188}.\n"
     ]
    },
    {
     "name": "stdout",
     "output_type": "stream",
     "text": [
      "#145, Result: 0.941544354978595, {'eta': 0.24202690310689276, 'max_depth': 5, 'lambda': 1.3345260337692595}\n"
     ]
    },
    {
     "name": "stderr",
     "output_type": "stream",
     "text": [
      "[I 2019-12-14 21:55:23,146] Finished trial#145 resulted in value: 0.941544354978595. Current best value is 0.9511008697593568 with parameters: {'eta': 0.15402519439461818, 'max_depth': 5, 'lambda': 1.2692005981382188}.\n"
     ]
    },
    {
     "name": "stdout",
     "output_type": "stream",
     "text": [
      "#146, Result: 0.9354459039049254, {'eta': 0.17784439633711557, 'max_depth': 5, 'lambda': 1.3669798530373145}\n"
     ]
    },
    {
     "name": "stderr",
     "output_type": "stream",
     "text": [
      "[I 2019-12-14 21:55:23,281] Finished trial#146 resulted in value: 0.9354459039049254. Current best value is 0.9511008697593568 with parameters: {'eta': 0.15402519439461818, 'max_depth': 5, 'lambda': 1.2692005981382188}.\n"
     ]
    },
    {
     "name": "stdout",
     "output_type": "stream",
     "text": [
      "#147, Result: 0.9410410145285514, {'eta': 0.15700509913973068, 'max_depth': 4, 'lambda': 1.2136815706764679}\n"
     ]
    },
    {
     "name": "stderr",
     "output_type": "stream",
     "text": [
      "[I 2019-12-14 21:55:23,408] Finished trial#147 resulted in value: 0.9410410145285514. Current best value is 0.9511008697593568 with parameters: {'eta': 0.15402519439461818, 'max_depth': 5, 'lambda': 1.2692005981382188}.\n"
     ]
    },
    {
     "name": "stdout",
     "output_type": "stream",
     "text": [
      "#148, Result: 0.9335693520939017, {'eta': 0.2132707927899609, 'max_depth': 5, 'lambda': 1.252723757688895}\n"
     ]
    },
    {
     "name": "stderr",
     "output_type": "stream",
     "text": [
      "[I 2019-12-14 21:55:23,536] Finished trial#148 resulted in value: 0.9335693520939017. Current best value is 0.9511008697593568 with parameters: {'eta': 0.15402519439461818, 'max_depth': 5, 'lambda': 1.2692005981382188}.\n"
     ]
    },
    {
     "name": "stdout",
     "output_type": "stream",
     "text": [
      "#149, Result: 0.9384298734914029, {'eta': 0.1414995855557657, 'max_depth': 6, 'lambda': 1.3017501900518307}\n"
     ]
    },
    {
     "name": "stderr",
     "output_type": "stream",
     "text": [
      "[I 2019-12-14 21:55:23,668] Finished trial#149 resulted in value: 0.9384298734914029. Current best value is 0.9511008697593568 with parameters: {'eta': 0.15402519439461818, 'max_depth': 5, 'lambda': 1.2692005981382188}.\n"
     ]
    },
    {
     "name": "stdout",
     "output_type": "stream",
     "text": [
      "#150, Result: 0.9433898647189158, {'eta': 0.23309091981153107, 'max_depth': 4, 'lambda': 1.3481517205434768}\n"
     ]
    },
    {
     "name": "stderr",
     "output_type": "stream",
     "text": [
      "[I 2019-12-14 21:55:23,790] Finished trial#150 resulted in value: 0.9433898647189158. Current best value is 0.9511008697593568 with parameters: {'eta': 0.15402519439461818, 'max_depth': 5, 'lambda': 1.2692005981382188}.\n"
     ]
    },
    {
     "name": "stdout",
     "output_type": "stream",
     "text": [
      "#151, Result: 0.9445937776751858, {'eta': 0.1391455872539168, 'max_depth': 5, 'lambda': 1.2827015951417897}\n"
     ]
    },
    {
     "name": "stderr",
     "output_type": "stream",
     "text": [
      "[I 2019-12-14 21:55:23,917] Finished trial#151 resulted in value: 0.9445937776751858. Current best value is 0.9511008697593568 with parameters: {'eta': 0.15402519439461818, 'max_depth': 5, 'lambda': 1.2692005981382188}.\n"
     ]
    },
    {
     "name": "stdout",
     "output_type": "stream",
     "text": [
      "#152, Result: 0.9396056338304392, {'eta': 0.13538021879082665, 'max_depth': 5, 'lambda': 1.2649758456369238}\n"
     ]
    },
    {
     "name": "stderr",
     "output_type": "stream",
     "text": [
      "[I 2019-12-14 21:55:24,043] Finished trial#152 resulted in value: 0.9396056338304392. Current best value is 0.9511008697593568 with parameters: {'eta': 0.15402519439461818, 'max_depth': 5, 'lambda': 1.2692005981382188}.\n"
     ]
    },
    {
     "name": "stdout",
     "output_type": "stream",
     "text": [
      "#153, Result: 0.9374321295340492, {'eta': 0.15007478976992267, 'max_depth': 5, 'lambda': 1.4652646670854659}\n"
     ]
    },
    {
     "name": "stderr",
     "output_type": "stream",
     "text": [
      "[I 2019-12-14 21:55:24,173] Finished trial#153 resulted in value: 0.9374321295340492. Current best value is 0.9511008697593568 with parameters: {'eta': 0.15402519439461818, 'max_depth': 5, 'lambda': 1.2692005981382188}.\n"
     ]
    },
    {
     "name": "stdout",
     "output_type": "stream",
     "text": [
      "#154, Result: 0.9403027258548359, {'eta': 0.1296967215688037, 'max_depth': 5, 'lambda': 1.4241017549420079}\n"
     ]
    },
    {
     "name": "stderr",
     "output_type": "stream",
     "text": [
      "[I 2019-12-14 21:55:24,300] Finished trial#154 resulted in value: 0.9403027258548359. Current best value is 0.9511008697593568 with parameters: {'eta': 0.15402519439461818, 'max_depth': 5, 'lambda': 1.2692005981382188}.\n"
     ]
    },
    {
     "name": "stdout",
     "output_type": "stream",
     "text": [
      "#155, Result: 0.938448186375239, {'eta': 0.1450421886379074, 'max_depth': 5, 'lambda': 1.2292301736744864}\n"
     ]
    },
    {
     "name": "stderr",
     "output_type": "stream",
     "text": [
      "[I 2019-12-14 21:55:24,431] Finished trial#155 resulted in value: 0.938448186375239. Current best value is 0.9511008697593568 with parameters: {'eta': 0.15402519439461818, 'max_depth': 5, 'lambda': 1.2692005981382188}.\n"
     ]
    },
    {
     "name": "stdout",
     "output_type": "stream",
     "text": [
      "#156, Result: 0.9387286334524639, {'eta': 0.12232279659827933, 'max_depth': 6, 'lambda': 1.3202419644607624}\n"
     ]
    },
    {
     "name": "stderr",
     "output_type": "stream",
     "text": [
      "[I 2019-12-14 21:55:24,564] Finished trial#156 resulted in value: 0.9387286334524639. Current best value is 0.9511008697593568 with parameters: {'eta': 0.15402519439461818, 'max_depth': 5, 'lambda': 1.2692005981382188}.\n"
     ]
    },
    {
     "name": "stdout",
     "output_type": "stream",
     "text": [
      "#157, Result: 0.9346510580662067, {'eta': 0.1842171165209661, 'max_depth': 4, 'lambda': 1.2735631122867008}\n"
     ]
    },
    {
     "name": "stderr",
     "output_type": "stream",
     "text": [
      "[I 2019-12-14 21:55:24,692] Finished trial#157 resulted in value: 0.9346510580662067. Current best value is 0.9511008697593568 with parameters: {'eta': 0.15402519439461818, 'max_depth': 5, 'lambda': 1.2692005981382188}.\n"
     ]
    },
    {
     "name": "stdout",
     "output_type": "stream",
     "text": [
      "#158, Result: 0.9360357113557972, {'eta': 0.15250337619023885, 'max_depth': 5, 'lambda': 1.388982386802922}\n"
     ]
    },
    {
     "name": "stderr",
     "output_type": "stream",
     "text": [
      "[I 2019-12-14 21:55:24,823] Finished trial#158 resulted in value: 0.9360357113557972. Current best value is 0.9511008697593568 with parameters: {'eta': 0.15402519439461818, 'max_depth': 5, 'lambda': 1.2692005981382188}.\n"
     ]
    },
    {
     "name": "stdout",
     "output_type": "stream",
     "text": [
      "#159, Result: 0.9383693180876811, {'eta': 0.159430771899317, 'max_depth': 6, 'lambda': 1.3445714481516933}\n"
     ]
    },
    {
     "name": "stderr",
     "output_type": "stream",
     "text": [
      "[I 2019-12-14 21:55:24,956] Finished trial#159 resulted in value: 0.9383693180876811. Current best value is 0.9511008697593568 with parameters: {'eta': 0.15402519439461818, 'max_depth': 5, 'lambda': 1.2692005981382188}.\n"
     ]
    },
    {
     "name": "stdout",
     "output_type": "stream",
     "text": [
      "#160, Result: 0.9389477952496181, {'eta': 0.13941308108231376, 'max_depth': 5, 'lambda': 1.314920456813899}\n"
     ]
    },
    {
     "name": "stderr",
     "output_type": "stream",
     "text": [
      "[I 2019-12-14 21:55:25,088] Finished trial#160 resulted in value: 0.9389477952496181. Current best value is 0.9511008697593568 with parameters: {'eta': 0.15402519439461818, 'max_depth': 5, 'lambda': 1.2692005981382188}.\n"
     ]
    },
    {
     "name": "stdout",
     "output_type": "stream",
     "text": [
      "#161, Result: 0.9417147889800906, {'eta': 0.24434320714194074, 'max_depth': 4, 'lambda': 1.3878024292337294}\n"
     ]
    },
    {
     "name": "stderr",
     "output_type": "stream",
     "text": [
      "[I 2019-12-14 21:55:25,216] Finished trial#161 resulted in value: 0.9417147889800906. Current best value is 0.9511008697593568 with parameters: {'eta': 0.15402519439461818, 'max_depth': 5, 'lambda': 1.2692005981382188}.\n"
     ]
    },
    {
     "name": "stdout",
     "output_type": "stream",
     "text": [
      "#162, Result: 0.9426980933226821, {'eta': 0.24701506980747465, 'max_depth': 4, 'lambda': 1.2926606597136538}\n"
     ]
    },
    {
     "name": "stderr",
     "output_type": "stream",
     "text": [
      "[I 2019-12-14 21:55:25,345] Finished trial#162 resulted in value: 0.9426980933226821. Current best value is 0.9511008697593568 with parameters: {'eta': 0.15402519439461818, 'max_depth': 5, 'lambda': 1.2692005981382188}.\n"
     ]
    },
    {
     "name": "stdout",
     "output_type": "stream",
     "text": [
      "#163, Result: 0.9441222633028167, {'eta': 0.2548843637546206, 'max_depth': 4, 'lambda': 1.3612094148883431}\n"
     ]
    },
    {
     "name": "stderr",
     "output_type": "stream",
     "text": [
      "[I 2019-12-14 21:55:25,476] Finished trial#163 resulted in value: 0.9441222633028167. Current best value is 0.9511008697593568 with parameters: {'eta': 0.15402519439461818, 'max_depth': 5, 'lambda': 1.2692005981382188}.\n"
     ]
    },
    {
     "name": "stdout",
     "output_type": "stream",
     "text": [
      "#164, Result: 0.9380735658597555, {'eta': 0.16925914948774545, 'max_depth': 5, 'lambda': 1.2410513146162157}\n"
     ]
    },
    {
     "name": "stderr",
     "output_type": "stream",
     "text": [
      "[I 2019-12-14 21:55:25,607] Finished trial#164 resulted in value: 0.9380735658597555. Current best value is 0.9511008697593568 with parameters: {'eta': 0.15402519439461818, 'max_depth': 5, 'lambda': 1.2692005981382188}.\n"
     ]
    },
    {
     "name": "stdout",
     "output_type": "stream",
     "text": [
      "#165, Result: 0.9391782845091491, {'eta': 0.2367981469969652, 'max_depth': 5, 'lambda': 1.3726470069076568}\n"
     ]
    },
    {
     "name": "stderr",
     "output_type": "stream",
     "text": [
      "[I 2019-12-14 21:55:25,739] Finished trial#165 resulted in value: 0.9391782845091491. Current best value is 0.9511008697593568 with parameters: {'eta': 0.15402519439461818, 'max_depth': 5, 'lambda': 1.2692005981382188}.\n"
     ]
    },
    {
     "name": "stdout",
     "output_type": "stream",
     "text": [
      "#166, Result: 0.9373272156472637, {'eta': 0.13190324742591727, 'max_depth': 4, 'lambda': 1.2625684141254354}\n"
     ]
    },
    {
     "name": "stderr",
     "output_type": "stream",
     "text": [
      "[I 2019-12-14 21:55:25,864] Finished trial#166 resulted in value: 0.9373272156472637. Current best value is 0.9511008697593568 with parameters: {'eta': 0.15402519439461818, 'max_depth': 5, 'lambda': 1.2692005981382188}.\n"
     ]
    },
    {
     "name": "stdout",
     "output_type": "stream",
     "text": [
      "#167, Result: 0.9349612297392187, {'eta': 0.14742362363457873, 'max_depth': 5, 'lambda': 1.4200791469201235}\n"
     ]
    },
    {
     "name": "stderr",
     "output_type": "stream",
     "text": [
      "[I 2019-12-14 21:55:25,998] Finished trial#167 resulted in value: 0.9349612297392187. Current best value is 0.9511008697593568 with parameters: {'eta': 0.15402519439461818, 'max_depth': 5, 'lambda': 1.2692005981382188}.\n"
     ]
    },
    {
     "name": "stdout",
     "output_type": "stream",
     "text": [
      "#168, Result: 0.9337493012679974, {'eta': 0.23839729023725809, 'max_depth': 6, 'lambda': 1.3390449486845106}\n"
     ]
    },
    {
     "name": "stderr",
     "output_type": "stream",
     "text": [
      "[I 2019-12-14 21:55:26,134] Finished trial#168 resulted in value: 0.9337493012679974. Current best value is 0.9511008697593568 with parameters: {'eta': 0.15402519439461818, 'max_depth': 5, 'lambda': 1.2692005981382188}.\n"
     ]
    },
    {
     "name": "stdout",
     "output_type": "stream",
     "text": [
      "#169, Result: 0.929510015016644, {'eta': 0.22759533607213026, 'max_depth': 5, 'lambda': 1.1974215172119493}\n"
     ]
    },
    {
     "name": "stderr",
     "output_type": "stream",
     "text": [
      "[I 2019-12-14 21:55:26,263] Finished trial#169 resulted in value: 0.929510015016644. Current best value is 0.9511008697593568 with parameters: {'eta': 0.15402519439461818, 'max_depth': 5, 'lambda': 1.2692005981382188}.\n"
     ]
    },
    {
     "name": "stdout",
     "output_type": "stream",
     "text": [
      "#170, Result: 0.934852932279791, {'eta': 0.1629623713861555, 'max_depth': 7, 'lambda': 1.303278918815882}\n"
     ]
    },
    {
     "name": "stderr",
     "output_type": "stream",
     "text": [
      "[I 2019-12-14 21:55:26,407] Finished trial#170 resulted in value: 0.934852932279791. Current best value is 0.9511008697593568 with parameters: {'eta': 0.15402519439461818, 'max_depth': 5, 'lambda': 1.2692005981382188}.\n"
     ]
    },
    {
     "name": "stdout",
     "output_type": "stream",
     "text": [
      "#171, Result: 0.9419295624614485, {'eta': 0.14434229921925576, 'max_depth': 5, 'lambda': 1.2897828537127585}\n"
     ]
    },
    {
     "name": "stderr",
     "output_type": "stream",
     "text": [
      "[I 2019-12-14 21:55:26,540] Finished trial#171 resulted in value: 0.9419295624614485. Current best value is 0.9511008697593568 with parameters: {'eta': 0.15402519439461818, 'max_depth': 5, 'lambda': 1.2692005981382188}.\n"
     ]
    },
    {
     "name": "stdout",
     "output_type": "stream",
     "text": [
      "#172, Result: 0.9367719791001979, {'eta': 0.13732974017948588, 'max_depth': 5, 'lambda': 1.277985716599396}\n"
     ]
    },
    {
     "name": "stderr",
     "output_type": "stream",
     "text": [
      "[I 2019-12-14 21:55:26,698] Finished trial#172 resulted in value: 0.9367719791001979. Current best value is 0.9511008697593568 with parameters: {'eta': 0.15402519439461818, 'max_depth': 5, 'lambda': 1.2692005981382188}.\n"
     ]
    },
    {
     "name": "stdout",
     "output_type": "stream",
     "text": [
      "#173, Result: 0.9418899931936107, {'eta': 0.1396085610762685, 'max_depth': 5, 'lambda': 1.2456031554561442}\n"
     ]
    },
    {
     "name": "stderr",
     "output_type": "stream",
     "text": [
      "[I 2019-12-14 21:55:26,840] Finished trial#173 resulted in value: 0.9418899931936107. Current best value is 0.9511008697593568 with parameters: {'eta': 0.15402519439461818, 'max_depth': 5, 'lambda': 1.2692005981382188}.\n"
     ]
    },
    {
     "name": "stdout",
     "output_type": "stream",
     "text": [
      "#174, Result: 0.9390925258928818, {'eta': 0.11905330202899965, 'max_depth': 4, 'lambda': 1.3267537006607206}\n"
     ]
    },
    {
     "name": "stderr",
     "output_type": "stream",
     "text": [
      "[I 2019-12-14 21:55:26,968] Finished trial#174 resulted in value: 0.9390925258928818. Current best value is 0.9511008697593568 with parameters: {'eta': 0.15402519439461818, 'max_depth': 5, 'lambda': 1.2692005981382188}.\n"
     ]
    },
    {
     "name": "stdout",
     "output_type": "stream",
     "text": [
      "#175, Result: 0.9440119511489272, {'eta': 0.15206834379294876, 'max_depth': 5, 'lambda': 1.2189829412168904}\n"
     ]
    },
    {
     "name": "stderr",
     "output_type": "stream",
     "text": [
      "[I 2019-12-14 21:55:27,101] Finished trial#175 resulted in value: 0.9440119511489272. Current best value is 0.9511008697593568 with parameters: {'eta': 0.15402519439461818, 'max_depth': 5, 'lambda': 1.2692005981382188}.\n"
     ]
    },
    {
     "name": "stdout",
     "output_type": "stream",
     "text": [
      "#176, Result: 0.9353565286351897, {'eta': 0.12697022886505377, 'max_depth': 5, 'lambda': 1.5095235705925456}\n"
     ]
    },
    {
     "name": "stderr",
     "output_type": "stream",
     "text": [
      "[I 2019-12-14 21:55:27,236] Finished trial#176 resulted in value: 0.9353565286351897. Current best value is 0.9511008697593568 with parameters: {'eta': 0.15402519439461818, 'max_depth': 5, 'lambda': 1.2692005981382188}.\n"
     ]
    },
    {
     "name": "stdout",
     "output_type": "stream",
     "text": [
      "#177, Result: 0.9373954489950234, {'eta': 0.10866442991363714, 'max_depth': 4, 'lambda': 1.2751459525810915}\n"
     ]
    },
    {
     "name": "stderr",
     "output_type": "stream",
     "text": [
      "[I 2019-12-14 21:55:27,369] Finished trial#177 resulted in value: 0.9373954489950234. Current best value is 0.9511008697593568 with parameters: {'eta': 0.15402519439461818, 'max_depth': 5, 'lambda': 1.2692005981382188}.\n"
     ]
    },
    {
     "name": "stdout",
     "output_type": "stream",
     "text": [
      "#178, Result: 0.9308149883205439, {'eta': 0.2609662260346567, 'max_depth': 6, 'lambda': 1.3752464381080838}\n"
     ]
    },
    {
     "name": "stderr",
     "output_type": "stream",
     "text": [
      "[I 2019-12-14 21:55:27,510] Finished trial#178 resulted in value: 0.9308149883205439. Current best value is 0.9511008697593568 with parameters: {'eta': 0.15402519439461818, 'max_depth': 5, 'lambda': 1.2692005981382188}.\n"
     ]
    },
    {
     "name": "stdout",
     "output_type": "stream",
     "text": [
      "#179, Result: 0.9328729506420194, {'eta': 0.2517238849051317, 'max_depth': 5, 'lambda': 1.3381406532451152}\n"
     ]
    },
    {
     "name": "stderr",
     "output_type": "stream",
     "text": [
      "[I 2019-12-14 21:55:27,645] Finished trial#179 resulted in value: 0.9328729506420194. Current best value is 0.9511008697593568 with parameters: {'eta': 0.15402519439461818, 'max_depth': 5, 'lambda': 1.2692005981382188}.\n"
     ]
    },
    {
     "name": "stdout",
     "output_type": "stream",
     "text": [
      "#180, Result: 0.9383480391055634, {'eta': 0.1324042338636131, 'max_depth': 4, 'lambda': 1.2875520553914936}\n"
     ]
    },
    {
     "name": "stderr",
     "output_type": "stream",
     "text": [
      "[I 2019-12-14 21:55:27,780] Finished trial#180 resulted in value: 0.9383480391055634. Current best value is 0.9511008697593568 with parameters: {'eta': 0.15402519439461818, 'max_depth': 5, 'lambda': 1.2692005981382188}.\n"
     ]
    },
    {
     "name": "stdout",
     "output_type": "stream",
     "text": [
      "#181, Result: 0.9407935155181022, {'eta': 0.1408726511114921, 'max_depth': 7, 'lambda': 0.9411441355745825}\n"
     ]
    },
    {
     "name": "stderr",
     "output_type": "stream",
     "text": [
      "[I 2019-12-14 21:55:27,929] Finished trial#181 resulted in value: 0.9407935155181022. Current best value is 0.9511008697593568 with parameters: {'eta': 0.15402519439461818, 'max_depth': 5, 'lambda': 1.2692005981382188}.\n"
     ]
    },
    {
     "name": "stdout",
     "output_type": "stream",
     "text": [
      "#182, Result: 0.9341871835084312, {'eta': 0.24795297635627392, 'max_depth': 7, 'lambda': 0.8519283738831934}\n"
     ]
    },
    {
     "name": "stderr",
     "output_type": "stream",
     "text": [
      "[I 2019-12-14 21:55:28,098] Finished trial#182 resulted in value: 0.9341871835084312. Current best value is 0.9511008697593568 with parameters: {'eta': 0.15402519439461818, 'max_depth': 5, 'lambda': 1.2692005981382188}.\n"
     ]
    },
    {
     "name": "stdout",
     "output_type": "stream",
     "text": [
      "#183, Result: 0.9395366415519516, {'eta': 0.23322574910060656, 'max_depth': 6, 'lambda': 0.919641298475846}\n"
     ]
    },
    {
     "name": "stderr",
     "output_type": "stream",
     "text": [
      "[I 2019-12-14 21:55:28,242] Finished trial#183 resulted in value: 0.9395366415519516. Current best value is 0.9511008697593568 with parameters: {'eta': 0.15402519439461818, 'max_depth': 5, 'lambda': 1.2692005981382188}.\n"
     ]
    },
    {
     "name": "stdout",
     "output_type": "stream",
     "text": [
      "#184, Result: 0.9394179958181208, {'eta': 0.22196215137233727, 'max_depth': 8, 'lambda': 0.8847275290371762}\n"
     ]
    },
    {
     "name": "stderr",
     "output_type": "stream",
     "text": [
      "[I 2019-12-14 21:55:28,396] Finished trial#184 resulted in value: 0.9394179958181208. Current best value is 0.9511008697593568 with parameters: {'eta': 0.15402519439461818, 'max_depth': 5, 'lambda': 1.2692005981382188}.\n"
     ]
    },
    {
     "name": "stdout",
     "output_type": "stream",
     "text": [
      "#185, Result: 0.9417306228689841, {'eta': 0.23947131448915435, 'max_depth': 5, 'lambda': 1.3077575679052438}\n"
     ]
    },
    {
     "name": "stderr",
     "output_type": "stream",
     "text": [
      "[I 2019-12-14 21:55:28,553] Finished trial#185 resulted in value: 0.9417306228689841. Current best value is 0.9511008697593568 with parameters: {'eta': 0.15402519439461818, 'max_depth': 5, 'lambda': 1.2692005981382188}.\n"
     ]
    },
    {
     "name": "stdout",
     "output_type": "stream",
     "text": [
      "#186, Result: 0.9428930923152061, {'eta': 0.15617510915413702, 'max_depth': 5, 'lambda': 1.253335126626948}\n"
     ]
    },
    {
     "name": "stderr",
     "output_type": "stream",
     "text": [
      "[I 2019-12-14 21:55:28,707] Finished trial#186 resulted in value: 0.9428930923152061. Current best value is 0.9511008697593568 with parameters: {'eta': 0.15402519439461818, 'max_depth': 5, 'lambda': 1.2692005981382188}.\n"
     ]
    },
    {
     "name": "stdout",
     "output_type": "stream",
     "text": [
      "#187, Result: 0.9421948882683019, {'eta': 0.2564586909116216, 'max_depth': 5, 'lambda': 1.0235523962696982}\n"
     ]
    },
    {
     "name": "stderr",
     "output_type": "stream",
     "text": [
      "[I 2019-12-14 21:55:28,859] Finished trial#187 resulted in value: 0.9421948882683019. Current best value is 0.9511008697593568 with parameters: {'eta': 0.15402519439461818, 'max_depth': 5, 'lambda': 1.2692005981382188}.\n"
     ]
    },
    {
     "name": "stdout",
     "output_type": "stream",
     "text": [
      "#188, Result: 0.9463793237421245, {'eta': 0.24379243078354348, 'max_depth': 6, 'lambda': 0.950050378947393}\n"
     ]
    },
    {
     "name": "stderr",
     "output_type": "stream",
     "text": [
      "[I 2019-12-14 21:55:29,019] Finished trial#188 resulted in value: 0.9463793237421245. Current best value is 0.9511008697593568 with parameters: {'eta': 0.15402519439461818, 'max_depth': 5, 'lambda': 1.2692005981382188}.\n"
     ]
    },
    {
     "name": "stdout",
     "output_type": "stream",
     "text": [
      "#189, Result: 0.9389492643926581, {'eta': 0.14857836928624585, 'max_depth': 6, 'lambda': 1.4049408765725198}\n"
     ]
    },
    {
     "name": "stderr",
     "output_type": "stream",
     "text": [
      "[I 2019-12-14 21:55:29,161] Finished trial#189 resulted in value: 0.9389492643926581. Current best value is 0.9511008697593568 with parameters: {'eta': 0.15402519439461818, 'max_depth': 5, 'lambda': 1.2692005981382188}.\n"
     ]
    },
    {
     "name": "stdout",
     "output_type": "stream",
     "text": [
      "#190, Result: 0.9441433874612379, {'eta': 0.22829537940857408, 'max_depth': 6, 'lambda': 1.3109068971761275}\n"
     ]
    },
    {
     "name": "stderr",
     "output_type": "stream",
     "text": [
      "[I 2019-12-14 21:55:29,308] Finished trial#190 resulted in value: 0.9441433874612379. Current best value is 0.9511008697593568 with parameters: {'eta': 0.15402519439461818, 'max_depth': 5, 'lambda': 1.2692005981382188}.\n"
     ]
    },
    {
     "name": "stdout",
     "output_type": "stream",
     "text": [
      "#191, Result: 0.933363897638759, {'eta': 0.24458249563514753, 'max_depth': 7, 'lambda': 0.9825244340106815}\n"
     ]
    },
    {
     "name": "stderr",
     "output_type": "stream",
     "text": [
      "[I 2019-12-14 21:55:29,478] Finished trial#191 resulted in value: 0.933363897638759. Current best value is 0.9511008697593568 with parameters: {'eta': 0.15402519439461818, 'max_depth': 5, 'lambda': 1.2692005981382188}.\n"
     ]
    },
    {
     "name": "stdout",
     "output_type": "stream",
     "text": [
      "#192, Result: 0.926016701662594, {'eta': 0.26766602053104205, 'max_depth': 5, 'lambda': 0.8822965881720138}\n"
     ]
    },
    {
     "name": "stderr",
     "output_type": "stream",
     "text": [
      "[I 2019-12-14 21:55:29,620] Finished trial#192 resulted in value: 0.926016701662594. Current best value is 0.9511008697593568 with parameters: {'eta': 0.15402519439461818, 'max_depth': 5, 'lambda': 1.2692005981382188}.\n"
     ]
    },
    {
     "name": "stdout",
     "output_type": "stream",
     "text": [
      "#193, Result: 0.9160893523935018, {'eta': 0.24073036460762914, 'max_depth': 7, 'lambda': 1.3488342592007618}\n"
     ]
    },
    {
     "name": "stderr",
     "output_type": "stream",
     "text": [
      "[I 2019-12-14 21:55:29,828] Finished trial#193 resulted in value: 0.9160893523935018. Current best value is 0.9511008697593568 with parameters: {'eta': 0.15402519439461818, 'max_depth': 5, 'lambda': 1.2692005981382188}.\n"
     ]
    },
    {
     "name": "stdout",
     "output_type": "stream",
     "text": [
      "#194, Result: 0.9374419871266049, {'eta': 0.2463964202312669, 'max_depth': 6, 'lambda': 0.9509194550558285}\n"
     ]
    },
    {
     "name": "stderr",
     "output_type": "stream",
     "text": [
      "[I 2019-12-14 21:55:29,987] Finished trial#194 resulted in value: 0.9374419871266049. Current best value is 0.9511008697593568 with parameters: {'eta': 0.15402519439461818, 'max_depth': 5, 'lambda': 1.2692005981382188}.\n"
     ]
    },
    {
     "name": "stdout",
     "output_type": "stream",
     "text": [
      "#195, Result: 0.9448193414818942, {'eta': 0.19585714898892861, 'max_depth': 5, 'lambda': 0.9070467085651899}\n"
     ]
    },
    {
     "name": "stderr",
     "output_type": "stream",
     "text": [
      "[I 2019-12-14 21:55:30,145] Finished trial#195 resulted in value: 0.9448193414818942. Current best value is 0.9511008697593568 with parameters: {'eta': 0.15402519439461818, 'max_depth': 5, 'lambda': 1.2692005981382188}.\n"
     ]
    },
    {
     "name": "stdout",
     "output_type": "stream",
     "text": [
      "#196, Result: 0.9403482270262954, {'eta': 0.19723252642032593, 'max_depth': 5, 'lambda': 0.7969074146026895}\n"
     ]
    },
    {
     "name": "stderr",
     "output_type": "stream",
     "text": [
      "[I 2019-12-14 21:55:30,323] Finished trial#196 resulted in value: 0.9403482270262954. Current best value is 0.9511008697593568 with parameters: {'eta': 0.15402519439461818, 'max_depth': 5, 'lambda': 1.2692005981382188}.\n"
     ]
    },
    {
     "name": "stdout",
     "output_type": "stream",
     "text": [
      "#197, Result: 0.9497914895102291, {'eta': 0.1354833071844154, 'max_depth': 5, 'lambda': 0.9066964608484317}\n"
     ]
    },
    {
     "name": "stderr",
     "output_type": "stream",
     "text": [
      "[I 2019-12-14 21:55:30,634] Finished trial#197 resulted in value: 0.9497914895102291. Current best value is 0.9511008697593568 with parameters: {'eta': 0.15402519439461818, 'max_depth': 5, 'lambda': 1.2692005981382188}.\n"
     ]
    },
    {
     "name": "stdout",
     "output_type": "stream",
     "text": [
      "#198, Result: 0.9416818123985677, {'eta': 0.21459313798050988, 'max_depth': 5, 'lambda': 0.8506262904257805}\n"
     ]
    },
    {
     "name": "stderr",
     "output_type": "stream",
     "text": [
      "[I 2019-12-14 21:55:30,850] Finished trial#198 resulted in value: 0.9416818123985677. Current best value is 0.9511008697593568 with parameters: {'eta': 0.15402519439461818, 'max_depth': 5, 'lambda': 1.2692005981382188}.\n"
     ]
    },
    {
     "name": "stdout",
     "output_type": "stream",
     "text": [
      "#199, Result: 0.9478998687713969, {'eta': 0.13442174284606664, 'max_depth': 4, 'lambda': 0.9024632633119835}\n"
     ]
    },
    {
     "name": "stderr",
     "output_type": "stream",
     "text": [
      "[I 2019-12-14 21:55:31,011] Finished trial#199 resulted in value: 0.9478998687713969. Current best value is 0.9511008697593568 with parameters: {'eta': 0.15402519439461818, 'max_depth': 5, 'lambda': 1.2692005981382188}.\n"
     ]
    },
    {
     "name": "stdout",
     "output_type": "stream",
     "text": [
      "#200, Result: 0.9407000806605663, {'eta': 0.1265093702069386, 'max_depth': 4, 'lambda': 0.9135471680193219}\n"
     ]
    },
    {
     "name": "stderr",
     "output_type": "stream",
     "text": [
      "[I 2019-12-14 21:55:31,160] Finished trial#200 resulted in value: 0.9407000806605663. Current best value is 0.9511008697593568 with parameters: {'eta': 0.15402519439461818, 'max_depth': 5, 'lambda': 1.2692005981382188}.\n"
     ]
    },
    {
     "name": "stdout",
     "output_type": "stream",
     "text": [
      "#201, Result: 0.9503110923126243, {'eta': 0.13616584392298692, 'max_depth': 4, 'lambda': 0.902559359782287}\n"
     ]
    },
    {
     "name": "stderr",
     "output_type": "stream",
     "text": [
      "[I 2019-12-14 21:55:31,300] Finished trial#201 resulted in value: 0.9503110923126243. Current best value is 0.9511008697593568 with parameters: {'eta': 0.15402519439461818, 'max_depth': 5, 'lambda': 1.2692005981382188}.\n"
     ]
    },
    {
     "name": "stdout",
     "output_type": "stream",
     "text": [
      "#202, Result: 0.9439160804936637, {'eta': 0.1321069158419417, 'max_depth': 4, 'lambda': 0.8746597006855938}\n"
     ]
    },
    {
     "name": "stderr",
     "output_type": "stream",
     "text": [
      "[I 2019-12-14 21:55:31,438] Finished trial#202 resulted in value: 0.9439160804936637. Current best value is 0.9511008697593568 with parameters: {'eta': 0.15402519439461818, 'max_depth': 5, 'lambda': 1.2692005981382188}.\n"
     ]
    },
    {
     "name": "stdout",
     "output_type": "stream",
     "text": [
      "#203, Result: 0.946717045236013, {'eta': 0.14530837624508666, 'max_depth': 4, 'lambda': 0.9311279015542815}\n"
     ]
    },
    {
     "name": "stderr",
     "output_type": "stream",
     "text": [
      "[I 2019-12-14 21:55:31,596] Finished trial#203 resulted in value: 0.946717045236013. Current best value is 0.9511008697593568 with parameters: {'eta': 0.15402519439461818, 'max_depth': 5, 'lambda': 1.2692005981382188}.\n"
     ]
    },
    {
     "name": "stdout",
     "output_type": "stream",
     "text": [
      "#204, Result: 0.9453729458851969, {'eta': 0.14470503918280755, 'max_depth': 4, 'lambda': 0.9495289518641299}\n"
     ]
    },
    {
     "name": "stderr",
     "output_type": "stream",
     "text": [
      "[I 2019-12-14 21:55:31,913] Finished trial#204 resulted in value: 0.9453729458851969. Current best value is 0.9511008697593568 with parameters: {'eta': 0.15402519439461818, 'max_depth': 5, 'lambda': 1.2692005981382188}.\n"
     ]
    },
    {
     "name": "stdout",
     "output_type": "stream",
     "text": [
      "#205, Result: 0.9444572087883729, {'eta': 0.1453198386947025, 'max_depth': 4, 'lambda': 0.9755253586831081}\n"
     ]
    },
    {
     "name": "stderr",
     "output_type": "stream",
     "text": [
      "[I 2019-12-14 21:55:32,130] Finished trial#205 resulted in value: 0.9444572087883729. Current best value is 0.9511008697593568 with parameters: {'eta': 0.15402519439461818, 'max_depth': 5, 'lambda': 1.2692005981382188}.\n"
     ]
    },
    {
     "name": "stdout",
     "output_type": "stream",
     "text": [
      "#206, Result: 0.9463195578257033, {'eta': 0.15289918573781788, 'max_depth': 4, 'lambda': 0.9550151484467982}\n"
     ]
    },
    {
     "name": "stderr",
     "output_type": "stream",
     "text": [
      "[I 2019-12-14 21:55:32,296] Finished trial#206 resulted in value: 0.9463195578257033. Current best value is 0.9511008697593568 with parameters: {'eta': 0.15402519439461818, 'max_depth': 5, 'lambda': 1.2692005981382188}.\n"
     ]
    },
    {
     "name": "stdout",
     "output_type": "stream",
     "text": [
      "#207, Result: 0.9467811228999132, {'eta': 0.15548597927518168, 'max_depth': 4, 'lambda': 0.9304540481743486}\n"
     ]
    },
    {
     "name": "stderr",
     "output_type": "stream",
     "text": [
      "[I 2019-12-14 21:55:32,457] Finished trial#207 resulted in value: 0.9467811228999132. Current best value is 0.9511008697593568 with parameters: {'eta': 0.15402519439461818, 'max_depth': 5, 'lambda': 1.2692005981382188}.\n"
     ]
    },
    {
     "name": "stdout",
     "output_type": "stream",
     "text": [
      "#208, Result: 0.9484796402050398, {'eta': 0.15732450851431165, 'max_depth': 4, 'lambda': 0.9320799717284157}\n"
     ]
    },
    {
     "name": "stderr",
     "output_type": "stream",
     "text": [
      "[I 2019-12-14 21:55:32,610] Finished trial#208 resulted in value: 0.9484796402050398. Current best value is 0.9511008697593568 with parameters: {'eta': 0.15402519439461818, 'max_depth': 5, 'lambda': 1.2692005981382188}.\n"
     ]
    },
    {
     "name": "stdout",
     "output_type": "stream",
     "text": [
      "#209, Result: 0.9466656675536055, {'eta': 0.15970502430442288, 'max_depth': 4, 'lambda': 0.9713906730335266}\n"
     ]
    },
    {
     "name": "stderr",
     "output_type": "stream",
     "text": [
      "[I 2019-12-14 21:55:32,768] Finished trial#209 resulted in value: 0.9466656675536055. Current best value is 0.9511008697593568 with parameters: {'eta': 0.15402519439461818, 'max_depth': 5, 'lambda': 1.2692005981382188}.\n"
     ]
    },
    {
     "name": "stdout",
     "output_type": "stream",
     "text": [
      "#210, Result: 0.9470529225935556, {'eta': 0.15407533442874952, 'max_depth': 4, 'lambda': 0.9313245509926933}\n"
     ]
    },
    {
     "name": "stderr",
     "output_type": "stream",
     "text": [
      "[I 2019-12-14 21:55:32,901] Finished trial#210 resulted in value: 0.9470529225935556. Current best value is 0.9511008697593568 with parameters: {'eta': 0.15402519439461818, 'max_depth': 5, 'lambda': 1.2692005981382188}.\n"
     ]
    },
    {
     "name": "stdout",
     "output_type": "stream",
     "text": [
      "#211, Result: 0.9493559858927351, {'eta': 0.15377964450035894, 'max_depth': 4, 'lambda': 0.933740859650231}\n"
     ]
    },
    {
     "name": "stderr",
     "output_type": "stream",
     "text": [
      "[I 2019-12-14 21:55:33,036] Finished trial#211 resulted in value: 0.9493559858927351. Current best value is 0.9511008697593568 with parameters: {'eta': 0.15402519439461818, 'max_depth': 5, 'lambda': 1.2692005981382188}.\n"
     ]
    },
    {
     "name": "stdout",
     "output_type": "stream",
     "text": [
      "#212, Result: 0.9448645760484037, {'eta': 0.16340734205256174, 'max_depth': 4, 'lambda': 0.9127531712941132}\n"
     ]
    },
    {
     "name": "stderr",
     "output_type": "stream",
     "text": [
      "[I 2019-12-14 21:55:33,186] Finished trial#212 resulted in value: 0.9448645760484037. Current best value is 0.9511008697593568 with parameters: {'eta': 0.15402519439461818, 'max_depth': 5, 'lambda': 1.2692005981382188}.\n"
     ]
    },
    {
     "name": "stdout",
     "output_type": "stream",
     "text": [
      "#213, Result: 0.9504461453895522, {'eta': 0.1568505098269228, 'max_depth': 4, 'lambda': 0.9305139020404098}\n"
     ]
    },
    {
     "name": "stderr",
     "output_type": "stream",
     "text": [
      "[I 2019-12-14 21:55:33,321] Finished trial#213 resulted in value: 0.9504461453895522. Current best value is 0.9511008697593568 with parameters: {'eta': 0.15402519439461818, 'max_depth': 5, 'lambda': 1.2692005981382188}.\n"
     ]
    },
    {
     "name": "stdout",
     "output_type": "stream",
     "text": [
      "#214, Result: 0.9461099666072662, {'eta': 0.15738940426894232, 'max_depth': 4, 'lambda': 1.0007520286282117}\n"
     ]
    },
    {
     "name": "stderr",
     "output_type": "stream",
     "text": [
      "[I 2019-12-14 21:55:33,462] Finished trial#214 resulted in value: 0.9461099666072662. Current best value is 0.9511008697593568 with parameters: {'eta': 0.15402519439461818, 'max_depth': 5, 'lambda': 1.2692005981382188}.\n"
     ]
    },
    {
     "name": "stdout",
     "output_type": "stream",
     "text": [
      "#215, Result: 0.9426761410067395, {'eta': 0.17034624137687138, 'max_depth': 4, 'lambda': 0.9417906896716403}\n"
     ]
    },
    {
     "name": "stderr",
     "output_type": "stream",
     "text": [
      "[I 2019-12-14 21:55:33,603] Finished trial#215 resulted in value: 0.9426761410067395. Current best value is 0.9511008697593568 with parameters: {'eta': 0.15402519439461818, 'max_depth': 5, 'lambda': 1.2692005981382188}.\n"
     ]
    },
    {
     "name": "stdout",
     "output_type": "stream",
     "text": [
      "#216, Result: 0.9476795828824164, {'eta': 0.15393170932932793, 'max_depth': 4, 'lambda': 0.9329142594187362}\n"
     ]
    },
    {
     "name": "stderr",
     "output_type": "stream",
     "text": [
      "[I 2019-12-14 21:55:33,747] Finished trial#216 resulted in value: 0.9476795828824164. Current best value is 0.9511008697593568 with parameters: {'eta': 0.15402519439461818, 'max_depth': 5, 'lambda': 1.2692005981382188}.\n"
     ]
    },
    {
     "name": "stdout",
     "output_type": "stream",
     "text": [
      "#217, Result: 0.9432789358617019, {'eta': 0.15346266401035658, 'max_depth': 4, 'lambda': 0.9292876767998591}\n"
     ]
    },
    {
     "name": "stderr",
     "output_type": "stream",
     "text": [
      "[I 2019-12-14 21:55:33,888] Finished trial#217 resulted in value: 0.9432789358617019. Current best value is 0.9511008697593568 with parameters: {'eta': 0.15402519439461818, 'max_depth': 5, 'lambda': 1.2692005981382188}.\n"
     ]
    },
    {
     "name": "stdout",
     "output_type": "stream",
     "text": [
      "#218, Result: 0.948664912793742, {'eta': 0.1610595779550682, 'max_depth': 4, 'lambda': 0.9790920870148816}\n"
     ]
    },
    {
     "name": "stderr",
     "output_type": "stream",
     "text": [
      "[I 2019-12-14 21:55:34,028] Finished trial#218 resulted in value: 0.948664912793742. Current best value is 0.9511008697593568 with parameters: {'eta': 0.15402519439461818, 'max_depth': 5, 'lambda': 1.2692005981382188}.\n"
     ]
    },
    {
     "name": "stdout",
     "output_type": "stream",
     "text": [
      "#219, Result: 0.9482026124986084, {'eta': 0.16133170407867192, 'max_depth': 4, 'lambda': 0.8924103331047817}\n"
     ]
    },
    {
     "name": "stderr",
     "output_type": "stream",
     "text": [
      "[I 2019-12-14 21:55:34,168] Finished trial#219 resulted in value: 0.9482026124986084. Current best value is 0.9511008697593568 with parameters: {'eta': 0.15402519439461818, 'max_depth': 5, 'lambda': 1.2692005981382188}.\n"
     ]
    },
    {
     "name": "stdout",
     "output_type": "stream",
     "text": [
      "#220, Result: 0.9494517758683406, {'eta': 0.16354504738299036, 'max_depth': 4, 'lambda': 0.8980576517618262}\n"
     ]
    },
    {
     "name": "stderr",
     "output_type": "stream",
     "text": [
      "[I 2019-12-14 21:55:34,310] Finished trial#220 resulted in value: 0.9494517758683406. Current best value is 0.9511008697593568 with parameters: {'eta': 0.15402519439461818, 'max_depth': 5, 'lambda': 1.2692005981382188}.\n"
     ]
    },
    {
     "name": "stdout",
     "output_type": "stream",
     "text": [
      "#221, Result: 0.9446879907888182, {'eta': 0.16175148255154848, 'max_depth': 4, 'lambda': 0.9029997093462562}\n"
     ]
    },
    {
     "name": "stderr",
     "output_type": "stream",
     "text": [
      "[I 2019-12-14 21:55:34,452] Finished trial#221 resulted in value: 0.9446879907888182. Current best value is 0.9511008697593568 with parameters: {'eta': 0.15402519439461818, 'max_depth': 5, 'lambda': 1.2692005981382188}.\n"
     ]
    },
    {
     "name": "stdout",
     "output_type": "stream",
     "text": [
      "#222, Result: 0.9415341342932629, {'eta': 0.16799161977063484, 'max_depth': 4, 'lambda': 0.8830532227398247}\n"
     ]
    },
    {
     "name": "stderr",
     "output_type": "stream",
     "text": [
      "[I 2019-12-14 21:55:34,595] Finished trial#222 resulted in value: 0.9415341342932629. Current best value is 0.9511008697593568 with parameters: {'eta': 0.15402519439461818, 'max_depth': 5, 'lambda': 1.2692005981382188}.\n"
     ]
    },
    {
     "name": "stdout",
     "output_type": "stream",
     "text": [
      "#223, Result: 0.9481610537894836, {'eta': 0.15826484559032883, 'max_depth': 4, 'lambda': 0.9806884223378212}\n"
     ]
    },
    {
     "name": "stderr",
     "output_type": "stream",
     "text": [
      "[I 2019-12-14 21:55:34,736] Finished trial#223 resulted in value: 0.9481610537894836. Current best value is 0.9511008697593568 with parameters: {'eta': 0.15402519439461818, 'max_depth': 5, 'lambda': 1.2692005981382188}.\n"
     ]
    },
    {
     "name": "stdout",
     "output_type": "stream",
     "text": [
      "#224, Result: 0.9474371623040526, {'eta': 0.16067942553171888, 'max_depth': 4, 'lambda': 0.9802356205040949}\n"
     ]
    },
    {
     "name": "stderr",
     "output_type": "stream",
     "text": [
      "[I 2019-12-14 21:55:34,881] Finished trial#224 resulted in value: 0.9474371623040526. Current best value is 0.9511008697593568 with parameters: {'eta': 0.15402519439461818, 'max_depth': 5, 'lambda': 1.2692005981382188}.\n"
     ]
    },
    {
     "name": "stdout",
     "output_type": "stream",
     "text": [
      "#225, Result: 0.937417551645416, {'eta': 0.17278725379876161, 'max_depth': 4, 'lambda': 1.0234929899646377}\n"
     ]
    },
    {
     "name": "stderr",
     "output_type": "stream",
     "text": [
      "[I 2019-12-14 21:55:35,023] Finished trial#225 resulted in value: 0.937417551645416. Current best value is 0.9511008697593568 with parameters: {'eta': 0.15402519439461818, 'max_depth': 5, 'lambda': 1.2692005981382188}.\n"
     ]
    },
    {
     "name": "stdout",
     "output_type": "stream",
     "text": [
      "#226, Result: 0.9458909469460886, {'eta': 0.1500751797433521, 'max_depth': 4, 'lambda': 0.9931887658624994}\n"
     ]
    },
    {
     "name": "stderr",
     "output_type": "stream",
     "text": [
      "[I 2019-12-14 21:55:35,163] Finished trial#226 resulted in value: 0.9458909469460886. Current best value is 0.9511008697593568 with parameters: {'eta': 0.15402519439461818, 'max_depth': 5, 'lambda': 1.2692005981382188}.\n"
     ]
    },
    {
     "name": "stdout",
     "output_type": "stream",
     "text": [
      "#227, Result: 0.9461617200551088, {'eta': 0.1655579587711209, 'max_depth': 4, 'lambda': 0.9315381872039665}\n"
     ]
    },
    {
     "name": "stderr",
     "output_type": "stream",
     "text": [
      "[I 2019-12-14 21:55:35,306] Finished trial#227 resulted in value: 0.9461617200551088. Current best value is 0.9511008697593568 with parameters: {'eta': 0.15402519439461818, 'max_depth': 5, 'lambda': 1.2692005981382188}.\n"
     ]
    },
    {
     "name": "stdout",
     "output_type": "stream",
     "text": [
      "#228, Result: 0.9392449532036935, {'eta': 0.1580884563792697, 'max_depth': 4, 'lambda': 0.8624649593801523}\n"
     ]
    },
    {
     "name": "stderr",
     "output_type": "stream",
     "text": [
      "[I 2019-12-14 21:55:35,447] Finished trial#228 resulted in value: 0.9392449532036935. Current best value is 0.9511008697593568 with parameters: {'eta': 0.15402519439461818, 'max_depth': 5, 'lambda': 1.2692005981382188}.\n"
     ]
    },
    {
     "name": "stdout",
     "output_type": "stream",
     "text": [
      "#229, Result: 0.9426886307722647, {'eta': 0.14820999318458522, 'max_depth': 4, 'lambda': 0.9072463826663257}\n"
     ]
    },
    {
     "name": "stderr",
     "output_type": "stream",
     "text": [
      "[I 2019-12-14 21:55:35,599] Finished trial#229 resulted in value: 0.9426886307722647. Current best value is 0.9511008697593568 with parameters: {'eta': 0.15402519439461818, 'max_depth': 5, 'lambda': 1.2692005981382188}.\n"
     ]
    },
    {
     "name": "stdout",
     "output_type": "stream",
     "text": [
      "#230, Result: 0.9440831373151445, {'eta': 0.13678265912278212, 'max_depth': 4, 'lambda': 0.9301449168977269}\n"
     ]
    },
    {
     "name": "stderr",
     "output_type": "stream",
     "text": [
      "[I 2019-12-14 21:55:35,750] Finished trial#230 resulted in value: 0.9440831373151445. Current best value is 0.9511008697593568 with parameters: {'eta': 0.15402519439461818, 'max_depth': 5, 'lambda': 1.2692005981382188}.\n"
     ]
    },
    {
     "name": "stdout",
     "output_type": "stream",
     "text": [
      "#231, Result: 0.9468279697077502, {'eta': 0.1589423071100473, 'max_depth': 4, 'lambda': 1.001657344676391}\n"
     ]
    },
    {
     "name": "stderr",
     "output_type": "stream",
     "text": [
      "[I 2019-12-14 21:55:35,898] Finished trial#231 resulted in value: 0.9468279697077502. Current best value is 0.9511008697593568 with parameters: {'eta': 0.15402519439461818, 'max_depth': 5, 'lambda': 1.2692005981382188}.\n"
     ]
    },
    {
     "name": "stdout",
     "output_type": "stream",
     "text": [
      "#232, Result: 0.9448469867843508, {'eta': 0.16333068334077153, 'max_depth': 4, 'lambda': 0.9716043644167166}\n"
     ]
    },
    {
     "name": "stderr",
     "output_type": "stream",
     "text": [
      "[I 2019-12-14 21:55:36,042] Finished trial#232 resulted in value: 0.9448469867843508. Current best value is 0.9511008697593568 with parameters: {'eta': 0.15402519439461818, 'max_depth': 5, 'lambda': 1.2692005981382188}.\n"
     ]
    },
    {
     "name": "stdout",
     "output_type": "stream",
     "text": [
      "#233, Result: 0.9491151366396253, {'eta': 0.1544506681530689, 'max_depth': 4, 'lambda': 1.0047640438152818}\n"
     ]
    },
    {
     "name": "stderr",
     "output_type": "stream",
     "text": [
      "[I 2019-12-14 21:55:36,190] Finished trial#233 resulted in value: 0.9491151366396253. Current best value is 0.9511008697593568 with parameters: {'eta': 0.15402519439461818, 'max_depth': 5, 'lambda': 1.2692005981382188}.\n"
     ]
    },
    {
     "name": "stdout",
     "output_type": "stream",
     "text": [
      "#234, Result: 0.9462707407284312, {'eta': 0.15533461921528396, 'max_depth': 4, 'lambda': 1.0091679876356676}\n"
     ]
    },
    {
     "name": "stderr",
     "output_type": "stream",
     "text": [
      "[I 2019-12-14 21:55:36,333] Finished trial#234 resulted in value: 0.9462707407284312. Current best value is 0.9511008697593568 with parameters: {'eta': 0.15402519439461818, 'max_depth': 5, 'lambda': 1.2692005981382188}.\n"
     ]
    },
    {
     "name": "stdout",
     "output_type": "stream",
     "text": [
      "#235, Result: 0.947386183743263, {'eta': 0.15950683646501107, 'max_depth': 4, 'lambda': 0.9816641356952268}\n"
     ]
    },
    {
     "name": "stderr",
     "output_type": "stream",
     "text": [
      "[I 2019-12-14 21:55:36,479] Finished trial#235 resulted in value: 0.947386183743263. Current best value is 0.9511008697593568 with parameters: {'eta': 0.15402519439461818, 'max_depth': 5, 'lambda': 1.2692005981382188}.\n"
     ]
    },
    {
     "name": "stdout",
     "output_type": "stream",
     "text": [
      "#236, Result: 0.934705104579831, {'eta': 0.1747555264541313, 'max_depth': 4, 'lambda': 1.0651006206630982}\n"
     ]
    },
    {
     "name": "stderr",
     "output_type": "stream",
     "text": [
      "[I 2019-12-14 21:55:36,622] Finished trial#236 resulted in value: 0.934705104579831. Current best value is 0.9511008697593568 with parameters: {'eta': 0.15402519439461818, 'max_depth': 5, 'lambda': 1.2692005981382188}.\n"
     ]
    },
    {
     "name": "stdout",
     "output_type": "stream",
     "text": [
      "#237, Result: 0.939197613183014, {'eta': 0.16537686579962588, 'max_depth': 4, 'lambda': 1.042793006724512}\n"
     ]
    },
    {
     "name": "stderr",
     "output_type": "stream",
     "text": [
      "[I 2019-12-14 21:55:36,767] Finished trial#237 resulted in value: 0.939197613183014. Current best value is 0.9511008697593568 with parameters: {'eta': 0.15402519439461818, 'max_depth': 5, 'lambda': 1.2692005981382188}.\n"
     ]
    },
    {
     "name": "stdout",
     "output_type": "stream",
     "text": [
      "#238, Result: 0.948034506649551, {'eta': 0.15106112852985715, 'max_depth': 4, 'lambda': 0.9854210350147723}\n"
     ]
    },
    {
     "name": "stderr",
     "output_type": "stream",
     "text": [
      "[I 2019-12-14 21:55:36,910] Finished trial#238 resulted in value: 0.948034506649551. Current best value is 0.9511008697593568 with parameters: {'eta': 0.15402519439461818, 'max_depth': 5, 'lambda': 1.2692005981382188}.\n"
     ]
    },
    {
     "name": "stdout",
     "output_type": "stream",
     "text": [
      "#239, Result: 0.9493716496120723, {'eta': 0.1511673684245793, 'max_depth': 4, 'lambda': 0.9739068237310864}\n"
     ]
    },
    {
     "name": "stderr",
     "output_type": "stream",
     "text": [
      "[I 2019-12-14 21:55:37,056] Finished trial#239 resulted in value: 0.9493716496120723. Current best value is 0.9511008697593568 with parameters: {'eta': 0.15402519439461818, 'max_depth': 5, 'lambda': 1.2692005981382188}.\n"
     ]
    },
    {
     "name": "stdout",
     "output_type": "stream",
     "text": [
      "#240, Result: 0.9455181020180451, {'eta': 0.14189247350852555, 'max_depth': 4, 'lambda': 0.9763224286807012}\n"
     ]
    },
    {
     "name": "stderr",
     "output_type": "stream",
     "text": [
      "[I 2019-12-14 21:55:37,206] Finished trial#240 resulted in value: 0.9455181020180451. Current best value is 0.9511008697593568 with parameters: {'eta': 0.15402519439461818, 'max_depth': 5, 'lambda': 1.2692005981382188}.\n"
     ]
    },
    {
     "name": "stdout",
     "output_type": "stream",
     "text": [
      "#241, Result: 0.9487800034845263, {'eta': 0.1500533078106867, 'max_depth': 4, 'lambda': 0.9580643420870146}\n"
     ]
    },
    {
     "name": "stderr",
     "output_type": "stream",
     "text": [
      "[I 2019-12-14 21:55:37,350] Finished trial#241 resulted in value: 0.9487800034845263. Current best value is 0.9511008697593568 with parameters: {'eta': 0.15402519439461818, 'max_depth': 5, 'lambda': 1.2692005981382188}.\n"
     ]
    },
    {
     "name": "stdout",
     "output_type": "stream",
     "text": [
      "#242, Result: 0.9480071630333152, {'eta': 0.1488386476577203, 'max_depth': 4, 'lambda': 0.9693450471757473}\n"
     ]
    },
    {
     "name": "stderr",
     "output_type": "stream",
     "text": [
      "[I 2019-12-14 21:55:37,497] Finished trial#242 resulted in value: 0.9480071630333152. Current best value is 0.9511008697593568 with parameters: {'eta': 0.15402519439461818, 'max_depth': 5, 'lambda': 1.2692005981382188}.\n"
     ]
    },
    {
     "name": "stdout",
     "output_type": "stream",
     "text": [
      "#243, Result: 0.9425653336152597, {'eta': 0.1492507780161938, 'max_depth': 4, 'lambda': 0.8943895873838581}\n"
     ]
    },
    {
     "name": "stderr",
     "output_type": "stream",
     "text": [
      "[I 2019-12-14 21:55:37,645] Finished trial#243 resulted in value: 0.9425653336152597. Current best value is 0.9511008697593568 with parameters: {'eta': 0.15402519439461818, 'max_depth': 5, 'lambda': 1.2692005981382188}.\n"
     ]
    },
    {
     "name": "stdout",
     "output_type": "stream",
     "text": [
      "#244, Result: 0.9489431831170096, {'eta': 0.14992730951149175, 'max_depth': 4, 'lambda': 0.9612747055869032}\n"
     ]
    },
    {
     "name": "stderr",
     "output_type": "stream",
     "text": [
      "[I 2019-12-14 21:55:37,793] Finished trial#244 resulted in value: 0.9489431831170096. Current best value is 0.9511008697593568 with parameters: {'eta': 0.15402519439461818, 'max_depth': 5, 'lambda': 1.2692005981382188}.\n"
     ]
    },
    {
     "name": "stdout",
     "output_type": "stream",
     "text": [
      "#245, Result: 0.9374017430891943, {'eta': 0.14139784209951686, 'max_depth': 4, 'lambda': 1.0291024093101555}\n"
     ]
    },
    {
     "name": "stderr",
     "output_type": "stream",
     "text": [
      "[I 2019-12-14 21:55:37,940] Finished trial#245 resulted in value: 0.9374017430891943. Current best value is 0.9511008697593568 with parameters: {'eta': 0.15402519439461818, 'max_depth': 5, 'lambda': 1.2692005981382188}.\n"
     ]
    },
    {
     "name": "stdout",
     "output_type": "stream",
     "text": [
      "#246, Result: 0.9525294066476482, {'eta': 0.1490113021408754, 'max_depth': 4, 'lambda': 0.9568507094872276}\n"
     ]
    },
    {
     "name": "stderr",
     "output_type": "stream",
     "text": [
      "[I 2019-12-14 21:55:38,085] Finished trial#246 resulted in value: 0.9525294066476482. Current best value is 0.9525294066476482 with parameters: {'eta': 0.1490113021408754, 'max_depth': 4, 'lambda': 0.9568507094872276}.\n"
     ]
    },
    {
     "name": "stdout",
     "output_type": "stream",
     "text": [
      "#247, Result: 0.9488088501306967, {'eta': 0.1494414184461899, 'max_depth': 4, 'lambda': 0.9565332611177109}\n"
     ]
    },
    {
     "name": "stderr",
     "output_type": "stream",
     "text": [
      "[I 2019-12-14 21:55:38,232] Finished trial#247 resulted in value: 0.9488088501306967. Current best value is 0.9525294066476482 with parameters: {'eta': 0.1490113021408754, 'max_depth': 4, 'lambda': 0.9568507094872276}.\n"
     ]
    },
    {
     "name": "stdout",
     "output_type": "stream",
     "text": [
      "#248, Result: 0.9493519353318827, {'eta': 0.1477543097177265, 'max_depth': 4, 'lambda': 0.9572916009475025}\n"
     ]
    },
    {
     "name": "stderr",
     "output_type": "stream",
     "text": [
      "[I 2019-12-14 21:55:38,381] Finished trial#248 resulted in value: 0.9493519353318827. Current best value is 0.9525294066476482 with parameters: {'eta': 0.1490113021408754, 'max_depth': 4, 'lambda': 0.9568507094872276}.\n"
     ]
    },
    {
     "name": "stdout",
     "output_type": "stream",
     "text": [
      "#249, Result: 0.9470129375779424, {'eta': 0.14951316598009892, 'max_depth': 4, 'lambda': 0.9571417581565278}\n"
     ]
    },
    {
     "name": "stderr",
     "output_type": "stream",
     "text": [
      "[I 2019-12-14 21:55:38,536] Finished trial#249 resulted in value: 0.9470129375779424. Current best value is 0.9525294066476482 with parameters: {'eta': 0.1490113021408754, 'max_depth': 4, 'lambda': 0.9568507094872276}.\n"
     ]
    },
    {
     "name": "stdout",
     "output_type": "stream",
     "text": [
      "#250, Result: 0.9472941359587872, {'eta': 0.1470061163189915, 'max_depth': 4, 'lambda': 0.9607826785843232}\n"
     ]
    },
    {
     "name": "stderr",
     "output_type": "stream",
     "text": [
      "[I 2019-12-14 21:55:38,684] Finished trial#250 resulted in value: 0.9472941359587872. Current best value is 0.9525294066476482 with parameters: {'eta': 0.1490113021408754, 'max_depth': 4, 'lambda': 0.9568507094872276}.\n"
     ]
    },
    {
     "name": "stdout",
     "output_type": "stream",
     "text": [
      "#251, Result: 0.9496470473909607, {'eta': 0.14857465842926776, 'max_depth': 4, 'lambda': 0.9992872650615022}\n"
     ]
    },
    {
     "name": "stderr",
     "output_type": "stream",
     "text": [
      "[I 2019-12-14 21:55:38,830] Finished trial#251 resulted in value: 0.9496470473909607. Current best value is 0.9525294066476482 with parameters: {'eta': 0.1490113021408754, 'max_depth': 4, 'lambda': 0.9568507094872276}.\n"
     ]
    },
    {
     "name": "stdout",
     "output_type": "stream",
     "text": [
      "#252, Result: 0.9469911992000484, {'eta': 0.1417340704707855, 'max_depth': 4, 'lambda': 1.004509756547648}\n"
     ]
    },
    {
     "name": "stderr",
     "output_type": "stream",
     "text": [
      "[I 2019-12-14 21:55:38,979] Finished trial#252 resulted in value: 0.9469911992000484. Current best value is 0.9525294066476482 with parameters: {'eta': 0.1490113021408754, 'max_depth': 4, 'lambda': 0.9568507094872276}.\n"
     ]
    },
    {
     "name": "stdout",
     "output_type": "stream",
     "text": [
      "#253, Result: 0.9421510171941913, {'eta': 0.15256967453255324, 'max_depth': 4, 'lambda': 1.0001972355145172}\n"
     ]
    },
    {
     "name": "stderr",
     "output_type": "stream",
     "text": [
      "[I 2019-12-14 21:55:39,128] Finished trial#253 resulted in value: 0.9421510171941913. Current best value is 0.9525294066476482 with parameters: {'eta': 0.1490113021408754, 'max_depth': 4, 'lambda': 0.9568507094872276}.\n"
     ]
    },
    {
     "name": "stdout",
     "output_type": "stream",
     "text": [
      "#254, Result: 0.9501760712333795, {'eta': 0.14534243327398652, 'max_depth': 4, 'lambda': 0.9679531219388164}\n"
     ]
    },
    {
     "name": "stderr",
     "output_type": "stream",
     "text": [
      "[I 2019-12-14 21:55:39,278] Finished trial#254 resulted in value: 0.9501760712333795. Current best value is 0.9525294066476482 with parameters: {'eta': 0.1490113021408754, 'max_depth': 4, 'lambda': 0.9568507094872276}.\n"
     ]
    },
    {
     "name": "stdout",
     "output_type": "stream",
     "text": [
      "#255, Result: 0.9455839469620493, {'eta': 0.1443534592411198, 'max_depth': 4, 'lambda': 0.9605361552529496}\n"
     ]
    },
    {
     "name": "stderr",
     "output_type": "stream",
     "text": [
      "[I 2019-12-14 21:55:39,428] Finished trial#255 resulted in value: 0.9455839469620493. Current best value is 0.9525294066476482 with parameters: {'eta': 0.1490113021408754, 'max_depth': 4, 'lambda': 0.9568507094872276}.\n"
     ]
    },
    {
     "name": "stdout",
     "output_type": "stream",
     "text": [
      "#256, Result: 0.9438287766735627, {'eta': 0.13730131977234475, 'max_depth': 4, 'lambda': 0.8265071428913018}\n"
     ]
    },
    {
     "name": "stderr",
     "output_type": "stream",
     "text": [
      "[I 2019-12-14 21:55:39,579] Finished trial#256 resulted in value: 0.9438287766735627. Current best value is 0.9525294066476482 with parameters: {'eta': 0.1490113021408754, 'max_depth': 4, 'lambda': 0.9568507094872276}.\n"
     ]
    },
    {
     "name": "stdout",
     "output_type": "stream",
     "text": [
      "#257, Result: 0.9469418939166852, {'eta': 0.1449060689203634, 'max_depth': 4, 'lambda': 0.9522993086931315}\n"
     ]
    },
    {
     "name": "stderr",
     "output_type": "stream",
     "text": [
      "[I 2019-12-14 21:55:39,728] Finished trial#257 resulted in value: 0.9469418939166852. Current best value is 0.9525294066476482 with parameters: {'eta': 0.1490113021408754, 'max_depth': 4, 'lambda': 0.9568507094872276}.\n"
     ]
    },
    {
     "name": "stdout",
     "output_type": "stream",
     "text": [
      "#258, Result: 0.9454747959092065, {'eta': 0.1558641634854208, 'max_depth': 4, 'lambda': 0.9124580161958981}\n"
     ]
    },
    {
     "name": "stderr",
     "output_type": "stream",
     "text": [
      "[I 2019-12-14 21:55:39,878] Finished trial#258 resulted in value: 0.9454747959092065. Current best value is 0.9525294066476482 with parameters: {'eta': 0.1490113021408754, 'max_depth': 4, 'lambda': 0.9568507094872276}.\n"
     ]
    },
    {
     "name": "stdout",
     "output_type": "stream",
     "text": [
      "#259, Result: 0.9371063442084844, {'eta': 0.14018231406244233, 'max_depth': 4, 'lambda': 1.0375133087232036}\n"
     ]
    },
    {
     "name": "stderr",
     "output_type": "stream",
     "text": [
      "[I 2019-12-14 21:55:40,026] Finished trial#259 resulted in value: 0.9371063442084844. Current best value is 0.9525294066476482 with parameters: {'eta': 0.1490113021408754, 'max_depth': 4, 'lambda': 0.9568507094872276}.\n"
     ]
    },
    {
     "name": "stdout",
     "output_type": "stream",
     "text": [
      "#260, Result: 0.9435743206263364, {'eta': 0.1640132287762021, 'max_depth': 4, 'lambda': 0.948872854930761}\n"
     ]
    },
    {
     "name": "stderr",
     "output_type": "stream",
     "text": [
      "[I 2019-12-14 21:55:40,176] Finished trial#260 resulted in value: 0.9435743206263364. Current best value is 0.9525294066476482 with parameters: {'eta': 0.1490113021408754, 'max_depth': 4, 'lambda': 0.9568507094872276}.\n"
     ]
    },
    {
     "name": "stdout",
     "output_type": "stream",
     "text": [
      "#261, Result: 0.9496834450658165, {'eta': 0.14964765317038914, 'max_depth': 4, 'lambda': 1.010025471488045}\n"
     ]
    },
    {
     "name": "stderr",
     "output_type": "stream",
     "text": [
      "[I 2019-12-14 21:55:40,327] Finished trial#261 resulted in value: 0.9496834450658165. Current best value is 0.9525294066476482 with parameters: {'eta': 0.1490113021408754, 'max_depth': 4, 'lambda': 0.9568507094872276}.\n"
     ]
    },
    {
     "name": "stdout",
     "output_type": "stream",
     "text": [
      "#262, Result: 0.9462286910661961, {'eta': 0.13514983410697576, 'max_depth': 4, 'lambda': 0.8765511768788435}\n"
     ]
    },
    {
     "name": "stderr",
     "output_type": "stream",
     "text": [
      "[I 2019-12-14 21:55:40,487] Finished trial#262 resulted in value: 0.9462286910661961. Current best value is 0.9525294066476482 with parameters: {'eta': 0.1490113021408754, 'max_depth': 4, 'lambda': 0.9568507094872276}.\n"
     ]
    },
    {
     "name": "stdout",
     "output_type": "stream",
     "text": [
      "#263, Result: 0.9452307014340637, {'eta': 0.14732968739344432, 'max_depth': 4, 'lambda': 1.0148538765300654}\n"
     ]
    },
    {
     "name": "stderr",
     "output_type": "stream",
     "text": [
      "[I 2019-12-14 21:55:40,641] Finished trial#263 resulted in value: 0.9452307014340637. Current best value is 0.9525294066476482 with parameters: {'eta': 0.1490113021408754, 'max_depth': 4, 'lambda': 0.9568507094872276}.\n"
     ]
    },
    {
     "name": "stdout",
     "output_type": "stream",
     "text": [
      "#264, Result: 0.9421722170401167, {'eta': 0.15061147618945714, 'max_depth': 4, 'lambda': 0.9063611596066579}\n"
     ]
    },
    {
     "name": "stderr",
     "output_type": "stream",
     "text": [
      "[I 2019-12-14 21:55:40,794] Finished trial#264 resulted in value: 0.9421722170401167. Current best value is 0.9525294066476482 with parameters: {'eta': 0.1490113021408754, 'max_depth': 4, 'lambda': 0.9568507094872276}.\n"
     ]
    },
    {
     "name": "stdout",
     "output_type": "stream",
     "text": [
      "#265, Result: 0.9381857243109551, {'eta': 0.1441171418754947, 'max_depth': 4, 'lambda': 1.0779240360859095}\n"
     ]
    },
    {
     "name": "stderr",
     "output_type": "stream",
     "text": [
      "[I 2019-12-14 21:55:40,949] Finished trial#265 resulted in value: 0.9381857243109551. Current best value is 0.9525294066476482 with parameters: {'eta': 0.1490113021408754, 'max_depth': 4, 'lambda': 0.9568507094872276}.\n"
     ]
    },
    {
     "name": "stdout",
     "output_type": "stream",
     "text": [
      "#266, Result: 0.9433263469691595, {'eta': 0.13327275910056904, 'max_depth': 4, 'lambda': 0.9274824065995936}\n"
     ]
    },
    {
     "name": "stderr",
     "output_type": "stream",
     "text": [
      "[I 2019-12-14 21:55:41,103] Finished trial#266 resulted in value: 0.9433263469691595. Current best value is 0.9525294066476482 with parameters: {'eta': 0.1490113021408754, 'max_depth': 4, 'lambda': 0.9568507094872276}.\n"
     ]
    },
    {
     "name": "stdout",
     "output_type": "stream",
     "text": [
      "#267, Result: 0.9416207426765056, {'eta': 0.12804051391489063, 'max_depth': 4, 'lambda': 0.8641002668753341}\n"
     ]
    },
    {
     "name": "stderr",
     "output_type": "stream",
     "text": [
      "[I 2019-12-14 21:55:41,268] Finished trial#267 resulted in value: 0.9416207426765056. Current best value is 0.9525294066476482 with parameters: {'eta': 0.1490113021408754, 'max_depth': 4, 'lambda': 0.9568507094872276}.\n"
     ]
    },
    {
     "name": "stdout",
     "output_type": "stream",
     "text": [
      "#268, Result: 0.9444528528378251, {'eta': 0.13966658818272074, 'max_depth': 4, 'lambda': 0.9970679873614399}\n"
     ]
    },
    {
     "name": "stderr",
     "output_type": "stream",
     "text": [
      "[I 2019-12-14 21:55:41,441] Finished trial#268 resulted in value: 0.9444528528378251. Current best value is 0.9525294066476482 with parameters: {'eta': 0.1490113021408754, 'max_depth': 4, 'lambda': 0.9568507094872276}.\n"
     ]
    },
    {
     "name": "stdout",
     "output_type": "stream",
     "text": [
      "#269, Result: 0.9486499561847294, {'eta': 0.15066684447095463, 'max_depth': 4, 'lambda': 0.9538555628089554}\n"
     ]
    },
    {
     "name": "stderr",
     "output_type": "stream",
     "text": [
      "[I 2019-12-14 21:55:41,599] Finished trial#269 resulted in value: 0.9486499561847294. Current best value is 0.9525294066476482 with parameters: {'eta': 0.1490113021408754, 'max_depth': 4, 'lambda': 0.9568507094872276}.\n"
     ]
    },
    {
     "name": "stdout",
     "output_type": "stream",
     "text": [
      "#270, Result: 0.9473364223139663, {'eta': 0.1482265778688425, 'max_depth': 4, 'lambda': 0.9591481855771624}\n"
     ]
    },
    {
     "name": "stderr",
     "output_type": "stream",
     "text": [
      "[I 2019-12-14 21:55:41,752] Finished trial#270 resulted in value: 0.9473364223139663. Current best value is 0.9525294066476482 with parameters: {'eta': 0.1490113021408754, 'max_depth': 4, 'lambda': 0.9568507094872276}.\n"
     ]
    },
    {
     "name": "stdout",
     "output_type": "stream",
     "text": [
      "#271, Result: 0.9402128669634648, {'eta': 0.16820813485722033, 'max_depth': 4, 'lambda': 1.051590396444832}\n"
     ]
    },
    {
     "name": "stderr",
     "output_type": "stream",
     "text": [
      "[I 2019-12-14 21:55:41,903] Finished trial#271 resulted in value: 0.9402128669634648. Current best value is 0.9525294066476482 with parameters: {'eta': 0.1490113021408754, 'max_depth': 4, 'lambda': 0.9568507094872276}.\n"
     ]
    },
    {
     "name": "stdout",
     "output_type": "stream",
     "text": [
      "#272, Result: 0.9403503995184433, {'eta': 0.1560598821743556, 'max_depth': 4, 'lambda': 0.8909731928059963}\n"
     ]
    },
    {
     "name": "stderr",
     "output_type": "stream",
     "text": [
      "[I 2019-12-14 21:55:42,064] Finished trial#272 resulted in value: 0.9403503995184433. Current best value is 0.9525294066476482 with parameters: {'eta': 0.1490113021408754, 'max_depth': 4, 'lambda': 0.9568507094872276}.\n"
     ]
    },
    {
     "name": "stdout",
     "output_type": "stream",
     "text": [
      "#273, Result: 0.9476893115088081, {'eta': 0.14416988393923616, 'max_depth': 4, 'lambda': 0.9397646973888865}\n"
     ]
    },
    {
     "name": "stderr",
     "output_type": "stream",
     "text": [
      "[I 2019-12-14 21:55:42,219] Finished trial#273 resulted in value: 0.9476893115088081. Current best value is 0.9525294066476482 with parameters: {'eta': 0.1490113021408754, 'max_depth': 4, 'lambda': 0.9568507094872276}.\n"
     ]
    },
    {
     "name": "stdout",
     "output_type": "stream",
     "text": [
      "#274, Result: 0.9443060700884931, {'eta': 0.1533509203696822, 'max_depth': 4, 'lambda': 0.9776557568451245}\n"
     ]
    },
    {
     "name": "stderr",
     "output_type": "stream",
     "text": [
      "[I 2019-12-14 21:55:42,373] Finished trial#274 resulted in value: 0.9443060700884931. Current best value is 0.9525294066476482 with parameters: {'eta': 0.1490113021408754, 'max_depth': 4, 'lambda': 0.9568507094872276}.\n"
     ]
    },
    {
     "name": "stdout",
     "output_type": "stream",
     "text": [
      "#275, Result: 0.9475214902477808, {'eta': 0.16099031079504653, 'max_depth': 4, 'lambda': 1.0103871961868245}\n"
     ]
    },
    {
     "name": "stderr",
     "output_type": "stream",
     "text": [
      "[I 2019-12-14 21:55:42,528] Finished trial#275 resulted in value: 0.9475214902477808. Current best value is 0.9525294066476482 with parameters: {'eta': 0.1490113021408754, 'max_depth': 4, 'lambda': 0.9568507094872276}.\n"
     ]
    },
    {
     "name": "stdout",
     "output_type": "stream",
     "text": [
      "#276, Result: 0.9431361161440486, {'eta': 0.13690935929356443, 'max_depth': 4, 'lambda': 0.9171296727537366}\n"
     ]
    },
    {
     "name": "stderr",
     "output_type": "stream",
     "text": [
      "[I 2019-12-14 21:55:42,681] Finished trial#276 resulted in value: 0.9431361161440486. Current best value is 0.9525294066476482 with parameters: {'eta': 0.1490113021408754, 'max_depth': 4, 'lambda': 0.9568507094872276}.\n"
     ]
    },
    {
     "name": "stdout",
     "output_type": "stream",
     "text": [
      "#277, Result: 0.9395026330281209, {'eta': 0.14924451033206834, 'max_depth': 9, 'lambda': 0.9562236979871392}\n"
     ]
    },
    {
     "name": "stderr",
     "output_type": "stream",
     "text": [
      "[I 2019-12-14 21:55:42,858] Finished trial#277 resulted in value: 0.9395026330281209. Current best value is 0.9525294066476482 with parameters: {'eta': 0.1490113021408754, 'max_depth': 4, 'lambda': 0.9568507094872276}.\n"
     ]
    },
    {
     "name": "stdout",
     "output_type": "stream",
     "text": [
      "#278, Result: 0.9471075925641821, {'eta': 0.13121445020954253, 'max_depth': 4, 'lambda': 0.933408925145195}\n"
     ]
    },
    {
     "name": "stderr",
     "output_type": "stream",
     "text": [
      "[I 2019-12-14 21:55:43,012] Finished trial#278 resulted in value: 0.9471075925641821. Current best value is 0.9525294066476482 with parameters: {'eta': 0.1490113021408754, 'max_depth': 4, 'lambda': 0.9568507094872276}.\n"
     ]
    },
    {
     "name": "stdout",
     "output_type": "stream",
     "text": [
      "#279, Result: 0.941063184468098, {'eta': 0.1238140955127109, 'max_depth': 4, 'lambda': 0.986693006238024}\n"
     ]
    },
    {
     "name": "stderr",
     "output_type": "stream",
     "text": [
      "[I 2019-12-14 21:55:43,168] Finished trial#279 resulted in value: 0.941063184468098. Current best value is 0.9525294066476482 with parameters: {'eta': 0.1490113021408754, 'max_depth': 4, 'lambda': 0.9568507094872276}.\n"
     ]
    },
    {
     "name": "stdout",
     "output_type": "stream",
     "text": [
      "#280, Result: 0.9454070366079327, {'eta': 0.14136237595051487, 'max_depth': 4, 'lambda': 0.8340706584628534}\n"
     ]
    },
    {
     "name": "stderr",
     "output_type": "stream",
     "text": [
      "[I 2019-12-14 21:55:43,322] Finished trial#280 resulted in value: 0.9454070366079327. Current best value is 0.9525294066476482 with parameters: {'eta': 0.1490113021408754, 'max_depth': 4, 'lambda': 0.9568507094872276}.\n"
     ]
    },
    {
     "name": "stdout",
     "output_type": "stream",
     "text": [
      "#281, Result: 0.9403092877834608, {'eta': 0.15540101555127475, 'max_depth': 4, 'lambda': 0.8901494416263833}\n"
     ]
    },
    {
     "name": "stderr",
     "output_type": "stream",
     "text": [
      "[I 2019-12-14 21:55:43,476] Finished trial#281 resulted in value: 0.9403092877834608. Current best value is 0.9525294066476482 with parameters: {'eta': 0.1490113021408754, 'max_depth': 4, 'lambda': 0.9568507094872276}.\n"
     ]
    },
    {
     "name": "stdout",
     "output_type": "stream",
     "text": [
      "#282, Result: 0.9462212274660635, {'eta': 0.16049469539290312, 'max_depth': 4, 'lambda': 0.9624540704097818}\n"
     ]
    },
    {
     "name": "stderr",
     "output_type": "stream",
     "text": [
      "[I 2019-12-14 21:55:43,633] Finished trial#282 resulted in value: 0.9462212274660635. Current best value is 0.9525294066476482 with parameters: {'eta': 0.1490113021408754, 'max_depth': 4, 'lambda': 0.9568507094872276}.\n"
     ]
    },
    {
     "name": "stdout",
     "output_type": "stream",
     "text": [
      "#283, Result: 0.9418546081906312, {'eta': 0.14627940729073594, 'max_depth': 4, 'lambda': 1.0337289552468463}\n"
     ]
    },
    {
     "name": "stderr",
     "output_type": "stream",
     "text": [
      "[I 2019-12-14 21:55:43,825] Finished trial#283 resulted in value: 0.9418546081906312. Current best value is 0.9525294066476482 with parameters: {'eta': 0.1490113021408754, 'max_depth': 4, 'lambda': 0.9568507094872276}.\n"
     ]
    },
    {
     "name": "stdout",
     "output_type": "stream",
     "text": [
      "#284, Result: 0.9265718280399733, {'eta': 0.1516094120670975, 'max_depth': 4, 'lambda': 1.6004285002937686}\n"
     ]
    },
    {
     "name": "stderr",
     "output_type": "stream",
     "text": [
      "[I 2019-12-14 21:55:43,985] Finished trial#284 resulted in value: 0.9265718280399733. Current best value is 0.9525294066476482 with parameters: {'eta': 0.1490113021408754, 'max_depth': 4, 'lambda': 0.9568507094872276}.\n"
     ]
    },
    {
     "name": "stdout",
     "output_type": "stream",
     "text": [
      "#285, Result: 0.9486003564804528, {'eta': 0.16785976323770463, 'max_depth': 4, 'lambda': 0.9222153809892456}\n"
     ]
    },
    {
     "name": "stderr",
     "output_type": "stream",
     "text": [
      "[I 2019-12-14 21:55:44,137] Finished trial#285 resulted in value: 0.9486003564804528. Current best value is 0.9525294066476482 with parameters: {'eta': 0.1490113021408754, 'max_depth': 4, 'lambda': 0.9568507094872276}.\n"
     ]
    },
    {
     "name": "stdout",
     "output_type": "stream",
     "text": [
      "#286, Result: 0.9401237227459474, {'eta': 0.17956867452392042, 'max_depth': 4, 'lambda': 0.9222379303097044}\n"
     ]
    },
    {
     "name": "stderr",
     "output_type": "stream",
     "text": [
      "[I 2019-12-14 21:55:44,293] Finished trial#286 resulted in value: 0.9401237227459474. Current best value is 0.9525294066476482 with parameters: {'eta': 0.1490113021408754, 'max_depth': 4, 'lambda': 0.9568507094872276}.\n"
     ]
    },
    {
     "name": "stdout",
     "output_type": "stream",
     "text": [
      "#287, Result: 0.9461192965092504, {'eta': 0.16702366398170748, 'max_depth': 4, 'lambda': 0.988753958577242}\n"
     ]
    },
    {
     "name": "stderr",
     "output_type": "stream",
     "text": [
      "[I 2019-12-14 21:55:44,451] Finished trial#287 resulted in value: 0.9461192965092504. Current best value is 0.9525294066476482 with parameters: {'eta': 0.1490113021408754, 'max_depth': 4, 'lambda': 0.9568507094872276}.\n"
     ]
    },
    {
     "name": "stdout",
     "output_type": "stream",
     "text": [
      "#288, Result: 0.9480909782154514, {'eta': 0.139334923133689, 'max_depth': 4, 'lambda': 0.9480291596494832}\n"
     ]
    },
    {
     "name": "stderr",
     "output_type": "stream",
     "text": [
      "[I 2019-12-14 21:55:44,602] Finished trial#288 resulted in value: 0.9480909782154514. Current best value is 0.9525294066476482 with parameters: {'eta': 0.1490113021408754, 'max_depth': 4, 'lambda': 0.9568507094872276}.\n"
     ]
    },
    {
     "name": "stdout",
     "output_type": "stream",
     "text": [
      "#289, Result: 0.9423920375383733, {'eta': 0.1476997243915976, 'max_depth': 4, 'lambda': 1.0239325994596116}\n"
     ]
    },
    {
     "name": "stderr",
     "output_type": "stream",
     "text": [
      "[I 2019-12-14 21:55:44,758] Finished trial#289 resulted in value: 0.9423920375383733. Current best value is 0.9525294066476482 with parameters: {'eta': 0.1490113021408754, 'max_depth': 4, 'lambda': 0.9568507094872276}.\n"
     ]
    },
    {
     "name": "stdout",
     "output_type": "stream",
     "text": [
      "#290, Result: 0.9461309504915738, {'eta': 0.1559011396974085, 'max_depth': 4, 'lambda': 0.9759645151370144}\n"
     ]
    },
    {
     "name": "stderr",
     "output_type": "stream",
     "text": [
      "[I 2019-12-14 21:55:44,917] Finished trial#290 resulted in value: 0.9461309504915738. Current best value is 0.9525294066476482 with parameters: {'eta': 0.1490113021408754, 'max_depth': 4, 'lambda': 0.9568507094872276}.\n"
     ]
    },
    {
     "name": "stdout",
     "output_type": "stream",
     "text": [
      "#291, Result: 0.9482414599932899, {'eta': 0.13218619519341043, 'max_depth': 4, 'lambda': 0.9160257941366469}\n"
     ]
    },
    {
     "name": "stderr",
     "output_type": "stream",
     "text": [
      "[I 2019-12-14 21:55:45,072] Finished trial#291 resulted in value: 0.9482414599932899. Current best value is 0.9525294066476482 with parameters: {'eta': 0.1490113021408754, 'max_depth': 4, 'lambda': 0.9568507094872276}.\n"
     ]
    },
    {
     "name": "stdout",
     "output_type": "stream",
     "text": [
      "#292, Result: 0.9336403178659136, {'eta': 0.14058236848807887, 'max_depth': 4, 'lambda': 1.8337709666711663}\n"
     ]
    },
    {
     "name": "stderr",
     "output_type": "stream",
     "text": [
      "[I 2019-12-14 21:55:45,233] Finished trial#292 resulted in value: 0.9336403178659136. Current best value is 0.9525294066476482 with parameters: {'eta': 0.1490113021408754, 'max_depth': 4, 'lambda': 0.9568507094872276}.\n"
     ]
    },
    {
     "name": "stdout",
     "output_type": "stream",
     "text": [
      "#293, Result: 0.9454944234101953, {'eta': 0.15160595551366554, 'max_depth': 4, 'lambda': 0.9435979200242623}\n"
     ]
    },
    {
     "name": "stderr",
     "output_type": "stream",
     "text": [
      "[I 2019-12-14 21:55:45,389] Finished trial#293 resulted in value: 0.9454944234101953. Current best value is 0.9525294066476482 with parameters: {'eta': 0.1490113021408754, 'max_depth': 4, 'lambda': 0.9568507094872276}.\n"
     ]
    },
    {
     "name": "stdout",
     "output_type": "stream",
     "text": [
      "#294, Result: 0.9469186535278815, {'eta': 0.14443470838164696, 'max_depth': 4, 'lambda': 1.0077587901027463}\n"
     ]
    },
    {
     "name": "stderr",
     "output_type": "stream",
     "text": [
      "[I 2019-12-14 21:55:45,547] Finished trial#294 resulted in value: 0.9469186535278815. Current best value is 0.9525294066476482 with parameters: {'eta': 0.1490113021408754, 'max_depth': 4, 'lambda': 0.9568507094872276}.\n"
     ]
    },
    {
     "name": "stdout",
     "output_type": "stream",
     "text": [
      "#295, Result: 0.9414753855627281, {'eta': 0.17210569792268476, 'max_depth': 4, 'lambda': 0.9773844182745172}\n"
     ]
    },
    {
     "name": "stderr",
     "output_type": "stream",
     "text": [
      "[I 2019-12-14 21:55:45,711] Finished trial#295 resulted in value: 0.9414753855627281. Current best value is 0.9525294066476482 with parameters: {'eta': 0.1490113021408754, 'max_depth': 4, 'lambda': 0.9568507094872276}.\n"
     ]
    },
    {
     "name": "stdout",
     "output_type": "stream",
     "text": [
      "#296, Result: 0.9418902259199439, {'eta': 0.16441243204084785, 'max_depth': 4, 'lambda': 0.9477599508887492}\n"
     ]
    },
    {
     "name": "stderr",
     "output_type": "stream",
     "text": [
      "[I 2019-12-14 21:55:45,870] Finished trial#296 resulted in value: 0.9418902259199439. Current best value is 0.9525294066476482 with parameters: {'eta': 0.1490113021408754, 'max_depth': 4, 'lambda': 0.9568507094872276}.\n"
     ]
    },
    {
     "name": "stdout",
     "output_type": "stream",
     "text": [
      "#297, Result: 0.9468595405487152, {'eta': 0.15876725632355143, 'max_depth': 4, 'lambda': 0.9106432591532134}\n"
     ]
    },
    {
     "name": "stderr",
     "output_type": "stream",
     "text": [
      "[I 2019-12-14 21:55:46,027] Finished trial#297 resulted in value: 0.9468595405487152. Current best value is 0.9525294066476482 with parameters: {'eta': 0.1490113021408754, 'max_depth': 4, 'lambda': 0.9568507094872276}.\n"
     ]
    },
    {
     "name": "stdout",
     "output_type": "stream",
     "text": [
      "#298, Result: 0.9450274292130827, {'eta': 0.13701038739300395, 'max_depth': 5, 'lambda': 0.8596663401571778}\n"
     ]
    },
    {
     "name": "stderr",
     "output_type": "stream",
     "text": [
      "[I 2019-12-14 21:55:46,193] Finished trial#298 resulted in value: 0.9450274292130827. Current best value is 0.9525294066476482 with parameters: {'eta': 0.1490113021408754, 'max_depth': 4, 'lambda': 0.9568507094872276}.\n"
     ]
    },
    {
     "name": "stdout",
     "output_type": "stream",
     "text": [
      "#299, Result: 0.9479079563189848, {'eta': 0.1527068296636144, 'max_depth': 4, 'lambda': 0.9649550583201255}\n"
     ]
    },
    {
     "name": "stderr",
     "output_type": "stream",
     "text": [
      "[I 2019-12-14 21:55:46,353] Finished trial#299 resulted in value: 0.9479079563189848. Current best value is 0.9525294066476482 with parameters: {'eta': 0.1490113021408754, 'max_depth': 4, 'lambda': 0.9568507094872276}.\n"
     ]
    },
    {
     "name": "stdout",
     "output_type": "stream",
     "text": [
      "#300, Result: 0.9527682974029678, {'eta': 0.14444899934775604, 'max_depth': 4, 'lambda': 0.9308114768375195}\n"
     ]
    },
    {
     "name": "stderr",
     "output_type": "stream",
     "text": [
      "[I 2019-12-14 21:55:46,514] Finished trial#300 resulted in value: 0.9527682974029678. Current best value is 0.9527682974029678 with parameters: {'eta': 0.14444899934775604, 'max_depth': 4, 'lambda': 0.9308114768375195}.\n"
     ]
    },
    {
     "name": "stdout",
     "output_type": "stream",
     "text": [
      "#301, Result: 0.9491926327601752, {'eta': 0.14419436872539557, 'max_depth': 5, 'lambda': 1.0041883851078908}\n"
     ]
    },
    {
     "name": "stderr",
     "output_type": "stream",
     "text": [
      "[I 2019-12-14 21:55:46,680] Finished trial#301 resulted in value: 0.9491926327601752. Current best value is 0.9527682974029678 with parameters: {'eta': 0.14444899934775604, 'max_depth': 4, 'lambda': 0.9308114768375195}.\n"
     ]
    },
    {
     "name": "stdout",
     "output_type": "stream",
     "text": [
      "#302, Result: 0.9391102593389067, {'eta': 0.12854075563864187, 'max_depth': 4, 'lambda': 1.0551522551754018}\n"
     ]
    },
    {
     "name": "stderr",
     "output_type": "stream",
     "text": [
      "[I 2019-12-14 21:55:46,844] Finished trial#302 resulted in value: 0.9391102593389067. Current best value is 0.9527682974029678 with parameters: {'eta': 0.14444899934775604, 'max_depth': 4, 'lambda': 0.9308114768375195}.\n"
     ]
    },
    {
     "name": "stdout",
     "output_type": "stream",
     "text": [
      "#303, Result: 0.9499984901523666, {'eta': 0.1434024354669295, 'max_depth': 4, 'lambda': 0.9962122950876784}\n"
     ]
    },
    {
     "name": "stderr",
     "output_type": "stream",
     "text": [
      "[I 2019-12-14 21:55:47,024] Finished trial#303 resulted in value: 0.9499984901523666. Current best value is 0.9527682974029678 with parameters: {'eta': 0.14444899934775604, 'max_depth': 4, 'lambda': 0.9308114768375195}.\n"
     ]
    },
    {
     "name": "stdout",
     "output_type": "stream",
     "text": [
      "#304, Result: 0.941713167076993, {'eta': 0.13544667773200567, 'max_depth': 5, 'lambda': 1.0191590755912443}\n"
     ]
    },
    {
     "name": "stderr",
     "output_type": "stream",
     "text": [
      "[I 2019-12-14 21:55:47,187] Finished trial#304 resulted in value: 0.941713167076993. Current best value is 0.9527682974029678 with parameters: {'eta': 0.14444899934775604, 'max_depth': 4, 'lambda': 0.9308114768375195}.\n"
     ]
    },
    {
     "name": "stdout",
     "output_type": "stream",
     "text": [
      "#305, Result: 0.9470704812568613, {'eta': 0.14180548669305046, 'max_depth': 4, 'lambda': 0.9911833368216155}\n"
     ]
    },
    {
     "name": "stderr",
     "output_type": "stream",
     "text": [
      "[I 2019-12-14 21:55:47,355] Finished trial#305 resulted in value: 0.9470704812568613. Current best value is 0.9527682974029678 with parameters: {'eta': 0.14444899934775604, 'max_depth': 4, 'lambda': 0.9308114768375195}.\n"
     ]
    },
    {
     "name": "stdout",
     "output_type": "stream",
     "text": [
      "#306, Result: 0.945549700774079, {'eta': 0.14669818205843627, 'max_depth': 4, 'lambda': 1.000158679414757}\n"
     ]
    },
    {
     "name": "stderr",
     "output_type": "stream",
     "text": [
      "[I 2019-12-14 21:55:47,523] Finished trial#306 resulted in value: 0.945549700774079. Current best value is 0.9527682974029678 with parameters: {'eta': 0.14444899934775604, 'max_depth': 4, 'lambda': 0.9308114768375195}.\n"
     ]
    },
    {
     "name": "stdout",
     "output_type": "stream",
     "text": [
      "#307, Result: 0.9439828883819278, {'eta': 0.14213515737848947, 'max_depth': 5, 'lambda': 1.0438469420148178}\n"
     ]
    },
    {
     "name": "stderr",
     "output_type": "stream",
     "text": [
      "[I 2019-12-14 21:55:47,705] Finished trial#307 resulted in value: 0.9439828883819278. Current best value is 0.9527682974029678 with parameters: {'eta': 0.14444899934775604, 'max_depth': 4, 'lambda': 0.9308114768375195}.\n"
     ]
    },
    {
     "name": "stdout",
     "output_type": "stream",
     "text": [
      "#308, Result: 0.9361913605561551, {'eta': 0.1353642869107799, 'max_depth': 4, 'lambda': 1.0170086620741465}\n"
     ]
    },
    {
     "name": "stderr",
     "output_type": "stream",
     "text": [
      "[I 2019-12-14 21:55:47,876] Finished trial#308 resulted in value: 0.9361913605561551. Current best value is 0.9527682974029678 with parameters: {'eta': 0.14444899934775604, 'max_depth': 4, 'lambda': 0.9308114768375195}.\n"
     ]
    },
    {
     "name": "stdout",
     "output_type": "stream",
     "text": [
      "#309, Result: 0.9437897440361614, {'eta': 0.12197290355901302, 'max_depth': 4, 'lambda': 1.088621022542176}\n"
     ]
    },
    {
     "name": "stderr",
     "output_type": "stream",
     "text": [
      "[I 2019-12-14 21:55:48,050] Finished trial#309 resulted in value: 0.9437897440361614. Current best value is 0.9527682974029678 with parameters: {'eta': 0.14444899934775604, 'max_depth': 4, 'lambda': 0.9308114768375195}.\n"
     ]
    },
    {
     "name": "stdout",
     "output_type": "stream",
     "text": [
      "#310, Result: 0.946120410493457, {'eta': 0.14737810833065482, 'max_depth': 5, 'lambda': 0.9673503543951275}\n"
     ]
    },
    {
     "name": "stderr",
     "output_type": "stream",
     "text": [
      "[I 2019-12-14 21:55:48,234] Finished trial#310 resulted in value: 0.946120410493457. Current best value is 0.9527682974029678 with parameters: {'eta': 0.14444899934775604, 'max_depth': 4, 'lambda': 0.9308114768375195}.\n"
     ]
    },
    {
     "name": "stdout",
     "output_type": "stream",
     "text": [
      "#311, Result: 0.9456108173436537, {'eta': 0.14227314643038272, 'max_depth': 4, 'lambda': 0.9857193888892744}\n"
     ]
    },
    {
     "name": "stderr",
     "output_type": "stream",
     "text": [
      "[I 2019-12-14 21:55:48,406] Finished trial#311 resulted in value: 0.9456108173436537. Current best value is 0.9527682974029678 with parameters: {'eta': 0.14444899934775604, 'max_depth': 4, 'lambda': 0.9308114768375195}.\n"
     ]
    },
    {
     "name": "stdout",
     "output_type": "stream",
     "text": [
      "#312, Result: 0.9232961390967455, {'eta': 0.13108722325390637, 'max_depth': 10, 'lambda': 0.9550513807007549}\n"
     ]
    },
    {
     "name": "stderr",
     "output_type": "stream",
     "text": [
      "[I 2019-12-14 21:55:48,608] Finished trial#312 resulted in value: 0.9232961390967455. Current best value is 0.9527682974029678 with parameters: {'eta': 0.14444899934775604, 'max_depth': 4, 'lambda': 0.9308114768375195}.\n"
     ]
    },
    {
     "name": "stdout",
     "output_type": "stream",
     "text": [
      "#313, Result: 0.9476264489445021, {'eta': 0.14989327688421303, 'max_depth': 4, 'lambda': 1.0040173495019273}\n"
     ]
    },
    {
     "name": "stderr",
     "output_type": "stream",
     "text": [
      "[I 2019-12-14 21:55:48,778] Finished trial#313 resulted in value: 0.9476264489445021. Current best value is 0.9527682974029678 with parameters: {'eta': 0.14444899934775604, 'max_depth': 4, 'lambda': 0.9308114768375195}.\n"
     ]
    },
    {
     "name": "stdout",
     "output_type": "stream",
     "text": [
      "#314, Result: 0.9424571951851133, {'eta': 0.13686535585809384, 'max_depth': 4, 'lambda': 0.8884663391926083}\n"
     ]
    },
    {
     "name": "stderr",
     "output_type": "stream",
     "text": [
      "[I 2019-12-14 21:55:48,945] Finished trial#314 resulted in value: 0.9424571951851133. Current best value is 0.9527682974029678 with parameters: {'eta': 0.14444899934775604, 'max_depth': 4, 'lambda': 0.9308114768375195}.\n"
     ]
    },
    {
     "name": "stdout",
     "output_type": "stream",
     "text": [
      "#315, Result: 0.9384865533895755, {'eta': 0.1469385041053157, 'max_depth': 5, 'lambda': 1.0634778830405018}\n"
     ]
    },
    {
     "name": "stderr",
     "output_type": "stream",
     "text": [
      "[I 2019-12-14 21:55:49,117] Finished trial#315 resulted in value: 0.9384865533895755. Current best value is 0.9527682974029678 with parameters: {'eta': 0.14444899934775604, 'max_depth': 4, 'lambda': 0.9308114768375195}.\n"
     ]
    },
    {
     "name": "stdout",
     "output_type": "stream",
     "text": [
      "#316, Result: 0.9492166551712375, {'eta': 0.15296337373714466, 'max_depth': 4, 'lambda': 0.9694355026813534}\n"
     ]
    },
    {
     "name": "stderr",
     "output_type": "stream",
     "text": [
      "[I 2019-12-14 21:55:49,290] Finished trial#316 resulted in value: 0.9492166551712375. Current best value is 0.9527682974029678 with parameters: {'eta': 0.14444899934775604, 'max_depth': 4, 'lambda': 0.9308114768375195}.\n"
     ]
    },
    {
     "name": "stdout",
     "output_type": "stream",
     "text": [
      "#317, Result: 0.9334044721404255, {'eta': 0.14260072881545377, 'max_depth': 4, 'lambda': 1.0264476261644924}\n"
     ]
    },
    {
     "name": "stderr",
     "output_type": "stream",
     "text": [
      "[I 2019-12-14 21:55:49,471] Finished trial#317 resulted in value: 0.9334044721404255. Current best value is 0.9527682974029678 with parameters: {'eta': 0.14444899934775604, 'max_depth': 4, 'lambda': 0.9308114768375195}.\n"
     ]
    },
    {
     "name": "stdout",
     "output_type": "stream",
     "text": [
      "#318, Result: 0.942471797473299, {'eta': 0.12600691035873443, 'max_depth': 4, 'lambda': 0.9772257392622367}\n"
     ]
    },
    {
     "name": "stderr",
     "output_type": "stream",
     "text": [
      "[I 2019-12-14 21:55:49,656] Finished trial#318 resulted in value: 0.942471797473299. Current best value is 0.9527682974029678 with parameters: {'eta': 0.14444899934775604, 'max_depth': 4, 'lambda': 0.9308114768375195}.\n"
     ]
    },
    {
     "name": "stdout",
     "output_type": "stream",
     "text": [
      "#319, Result: 0.9438326159903383, {'eta': 0.15571295545519862, 'max_depth': 5, 'lambda': 0.9368924356363801}\n"
     ]
    },
    {
     "name": "stderr",
     "output_type": "stream",
     "text": [
      "[I 2019-12-14 21:55:49,839] Finished trial#319 resulted in value: 0.9438326159903383. Current best value is 0.9527682974029678 with parameters: {'eta': 0.14444899934775604, 'max_depth': 4, 'lambda': 0.9308114768375195}.\n"
     ]
    },
    {
     "name": "stdout",
     "output_type": "stream",
     "text": [
      "#320, Result: 0.941345067451321, {'eta': 0.11612311238559701, 'max_depth': 4, 'lambda': 1.000553445611215}\n"
     ]
    },
    {
     "name": "stderr",
     "output_type": "stream",
     "text": [
      "[I 2019-12-14 21:55:50,007] Finished trial#320 resulted in value: 0.941345067451321. Current best value is 0.9527682974029678 with parameters: {'eta': 0.14444899934775604, 'max_depth': 4, 'lambda': 0.9308114768375195}.\n"
     ]
    },
    {
     "name": "stdout",
     "output_type": "stream",
     "text": [
      "#321, Result: 0.9478924596404767, {'eta': 0.13804058468554337, 'max_depth': 4, 'lambda': 0.9064657338057508}\n"
     ]
    },
    {
     "name": "stderr",
     "output_type": "stream",
     "text": [
      "[I 2019-12-14 21:55:50,183] Finished trial#321 resulted in value: 0.9478924596404767. Current best value is 0.9527682974029678 with parameters: {'eta': 0.14444899934775604, 'max_depth': 4, 'lambda': 0.9308114768375195}.\n"
     ]
    },
    {
     "name": "stdout",
     "output_type": "stream",
     "text": [
      "#322, Result: 0.9456249540534818, {'eta': 0.15143660899090386, 'max_depth': 5, 'lambda': 0.9644704710363694}\n"
     ]
    },
    {
     "name": "stderr",
     "output_type": "stream",
     "text": [
      "[I 2019-12-14 21:55:50,352] Finished trial#322 resulted in value: 0.9456249540534818. Current best value is 0.9527682974029678 with parameters: {'eta': 0.14444899934775604, 'max_depth': 4, 'lambda': 0.9308114768375195}.\n"
     ]
    },
    {
     "name": "stdout",
     "output_type": "stream",
     "text": [
      "#323, Result: 0.9386633328694653, {'eta': 0.14461392256422, 'max_depth': 4, 'lambda': 1.0381225814134263}\n"
     ]
    },
    {
     "name": "stderr",
     "output_type": "stream",
     "text": [
      "[I 2019-12-14 21:55:50,525] Finished trial#323 resulted in value: 0.9386633328694653. Current best value is 0.9527682974029678 with parameters: {'eta': 0.14444899934775604, 'max_depth': 4, 'lambda': 0.9308114768375195}.\n"
     ]
    },
    {
     "name": "stdout",
     "output_type": "stream",
     "text": [
      "#324, Result: 0.9404154128155566, {'eta': 0.1285089372563119, 'max_depth': 4, 'lambda': 0.874467998037565}\n"
     ]
    },
    {
     "name": "stderr",
     "output_type": "stream",
     "text": [
      "[I 2019-12-14 21:55:50,695] Finished trial#324 resulted in value: 0.9404154128155566. Current best value is 0.9527682974029678 with parameters: {'eta': 0.14444899934775604, 'max_depth': 4, 'lambda': 0.9308114768375195}.\n"
     ]
    },
    {
     "name": "stdout",
     "output_type": "stream",
     "text": [
      "#325, Result: 0.9415358752366074, {'eta': 0.15483945378523067, 'max_depth': 5, 'lambda': 0.9300126305501567}\n"
     ]
    },
    {
     "name": "stderr",
     "output_type": "stream",
     "text": [
      "[I 2019-12-14 21:55:50,866] Finished trial#325 resulted in value: 0.9415358752366074. Current best value is 0.9527682974029678 with parameters: {'eta': 0.14444899934775604, 'max_depth': 4, 'lambda': 0.9308114768375195}.\n"
     ]
    },
    {
     "name": "stdout",
     "output_type": "stream",
     "text": [
      "#326, Result: 0.9455778080945592, {'eta': 0.13905530759389947, 'max_depth': 4, 'lambda': 0.9934324151069105}\n"
     ]
    },
    {
     "name": "stderr",
     "output_type": "stream",
     "text": [
      "[I 2019-12-14 21:55:51,034] Finished trial#326 resulted in value: 0.9455778080945592. Current best value is 0.9527682974029678 with parameters: {'eta': 0.14444899934775604, 'max_depth': 4, 'lambda': 0.9308114768375195}.\n"
     ]
    },
    {
     "name": "stdout",
     "output_type": "stream",
     "text": [
      "#327, Result: 0.9396996955557347, {'eta': 0.1330181018658749, 'max_depth': 4, 'lambda': 0.9610998463363682}\n"
     ]
    },
    {
     "name": "stderr",
     "output_type": "stream",
     "text": [
      "[I 2019-12-14 21:55:51,200] Finished trial#327 resulted in value: 0.9396996955557347. Current best value is 0.9527682974029678 with parameters: {'eta': 0.14444899934775604, 'max_depth': 4, 'lambda': 0.9308114768375195}.\n"
     ]
    },
    {
     "name": "stdout",
     "output_type": "stream",
     "text": [
      "#328, Result: 0.9411459377635237, {'eta': 0.28052077373936035, 'max_depth': 5, 'lambda': 0.9400016380509992}\n"
     ]
    },
    {
     "name": "stderr",
     "output_type": "stream",
     "text": [
      "[I 2019-12-14 21:55:51,369] Finished trial#328 resulted in value: 0.9411459377635237. Current best value is 0.9527682974029678 with parameters: {'eta': 0.14444899934775604, 'max_depth': 4, 'lambda': 0.9308114768375195}.\n"
     ]
    },
    {
     "name": "stdout",
     "output_type": "stream",
     "text": [
      "#329, Result: 0.9511345957263522, {'eta': 0.14883056210961224, 'max_depth': 4, 'lambda': 1.0174496658818448}\n"
     ]
    },
    {
     "name": "stderr",
     "output_type": "stream",
     "text": [
      "[I 2019-12-14 21:55:51,538] Finished trial#329 resulted in value: 0.9511345957263522. Current best value is 0.9527682974029678 with parameters: {'eta': 0.14444899934775604, 'max_depth': 4, 'lambda': 0.9308114768375195}.\n"
     ]
    },
    {
     "name": "stdout",
     "output_type": "stream",
     "text": [
      "#330, Result: 0.9344434586955872, {'eta': 0.29515052925937424, 'max_depth': 4, 'lambda': 1.0205124395130936}\n"
     ]
    },
    {
     "name": "stderr",
     "output_type": "stream",
     "text": [
      "[I 2019-12-14 21:55:51,707] Finished trial#330 resulted in value: 0.9344434586955872. Current best value is 0.9527682974029678 with parameters: {'eta': 0.14444899934775604, 'max_depth': 4, 'lambda': 0.9308114768375195}.\n"
     ]
    },
    {
     "name": "stdout",
     "output_type": "stream",
     "text": [
      "#331, Result: 0.9476297583402603, {'eta': 0.1463069389660284, 'max_depth': 4, 'lambda': 0.9048091290867311}\n"
     ]
    },
    {
     "name": "stderr",
     "output_type": "stream",
     "text": [
      "[I 2019-12-14 21:55:51,875] Finished trial#331 resulted in value: 0.9476297583402603. Current best value is 0.9527682974029678 with parameters: {'eta': 0.14444899934775604, 'max_depth': 4, 'lambda': 0.9308114768375195}.\n"
     ]
    },
    {
     "name": "stdout",
     "output_type": "stream",
     "text": [
      "#332, Result: 0.27457700831322585, {'eta': 0.024156776848432926, 'max_depth': 5, 'lambda': 0.9996199492767174}\n"
     ]
    },
    {
     "name": "stderr",
     "output_type": "stream",
     "text": [
      "[I 2019-12-14 21:55:52,045] Finished trial#332 resulted in value: 0.27457700831322585. Current best value is 0.9527682974029678 with parameters: {'eta': 0.14444899934775604, 'max_depth': 4, 'lambda': 0.9308114768375195}.\n"
     ]
    },
    {
     "name": "stdout",
     "output_type": "stream",
     "text": [
      "#333, Result: 0.9402312559481041, {'eta': 0.14912273231101966, 'max_depth': 4, 'lambda': 1.0899126037538407}\n"
     ]
    },
    {
     "name": "stderr",
     "output_type": "stream",
     "text": [
      "[I 2019-12-14 21:55:52,212] Finished trial#333 resulted in value: 0.9402312559481041. Current best value is 0.9527682974029678 with parameters: {'eta': 0.14444899934775604, 'max_depth': 4, 'lambda': 0.9308114768375195}.\n"
     ]
    },
    {
     "name": "stdout",
     "output_type": "stream",
     "text": [
      "#334, Result: 0.9387980880008087, {'eta': 0.14223070452285502, 'max_depth': 4, 'lambda': 1.056448828451603}\n"
     ]
    },
    {
     "name": "stderr",
     "output_type": "stream",
     "text": [
      "[I 2019-12-14 21:55:52,414] Finished trial#334 resulted in value: 0.9387980880008087. Current best value is 0.9527682974029678 with parameters: {'eta': 0.14444899934775604, 'max_depth': 4, 'lambda': 0.9308114768375195}.\n"
     ]
    },
    {
     "name": "stdout",
     "output_type": "stream",
     "text": [
      "#335, Result: 0.9446460645264145, {'eta': 0.15346927213997552, 'max_depth': 4, 'lambda': 0.8445049512793766}\n"
     ]
    },
    {
     "name": "stderr",
     "output_type": "stream",
     "text": [
      "[I 2019-12-14 21:55:52,588] Finished trial#335 resulted in value: 0.9446460645264145. Current best value is 0.9527682974029678 with parameters: {'eta': 0.14444899934775604, 'max_depth': 4, 'lambda': 0.9308114768375195}.\n"
     ]
    },
    {
     "name": "stdout",
     "output_type": "stream",
     "text": [
      "#336, Result: 0.9231587124956216, {'eta': 0.13366509131587417, 'max_depth': 12, 'lambda': 0.972303141834834}\n"
     ]
    },
    {
     "name": "stderr",
     "output_type": "stream",
     "text": [
      "[I 2019-12-14 21:55:52,787] Finished trial#336 resulted in value: 0.9231587124956216. Current best value is 0.9527682974029678 with parameters: {'eta': 0.14444899934775604, 'max_depth': 4, 'lambda': 0.9308114768375195}.\n"
     ]
    },
    {
     "name": "stdout",
     "output_type": "stream",
     "text": [
      "#337, Result: 0.9446897453206384, {'eta': 0.14501161224294304, 'max_depth': 5, 'lambda': 0.9328843918180356}\n"
     ]
    },
    {
     "name": "stderr",
     "output_type": "stream",
     "text": [
      "[I 2019-12-14 21:55:52,992] Finished trial#337 resulted in value: 0.9446897453206384. Current best value is 0.9527682974029678 with parameters: {'eta': 0.14444899934775604, 'max_depth': 4, 'lambda': 0.9308114768375195}.\n"
     ]
    },
    {
     "name": "stdout",
     "output_type": "stream",
     "text": [
      "#338, Result: 0.9426786911125611, {'eta': 0.13866757156954987, 'max_depth': 4, 'lambda': 1.003767536067327}\n"
     ]
    },
    {
     "name": "stderr",
     "output_type": "stream",
     "text": [
      "[I 2019-12-14 21:55:53,167] Finished trial#338 resulted in value: 0.9426786911125611. Current best value is 0.9527682974029678 with parameters: {'eta': 0.14444899934775604, 'max_depth': 4, 'lambda': 0.9308114768375195}.\n"
     ]
    },
    {
     "name": "stdout",
     "output_type": "stream",
     "text": [
      "#339, Result: 0.9434794157546066, {'eta': 0.1496834298755896, 'max_depth': 4, 'lambda': 1.0406088123650419}\n"
     ]
    },
    {
     "name": "stderr",
     "output_type": "stream",
     "text": [
      "[I 2019-12-14 21:55:53,375] Finished trial#339 resulted in value: 0.9434794157546066. Current best value is 0.9527682974029678 with parameters: {'eta': 0.14444899934775604, 'max_depth': 4, 'lambda': 0.9308114768375195}.\n"
     ]
    },
    {
     "name": "stdout",
     "output_type": "stream",
     "text": [
      "#340, Result: 0.9401570689117196, {'eta': 0.1579751754359526, 'max_depth': 4, 'lambda': 0.9016155045868337}\n"
     ]
    },
    {
     "name": "stderr",
     "output_type": "stream",
     "text": [
      "[I 2019-12-14 21:55:53,576] Finished trial#340 resulted in value: 0.9401570689117196. Current best value is 0.9527682974029678 with parameters: {'eta': 0.14444899934775604, 'max_depth': 4, 'lambda': 0.9308114768375195}.\n"
     ]
    },
    {
     "name": "stdout",
     "output_type": "stream",
     "text": [
      "#341, Result: 0.9451150622431131, {'eta': 0.1428998184683755, 'max_depth': 5, 'lambda': 0.9485933634949129}\n"
     ]
    },
    {
     "name": "stderr",
     "output_type": "stream",
     "text": [
      "[I 2019-12-14 21:55:53,758] Finished trial#341 resulted in value: 0.9451150622431131. Current best value is 0.9527682974029678 with parameters: {'eta': 0.14444899934775604, 'max_depth': 4, 'lambda': 0.9308114768375195}.\n"
     ]
    },
    {
     "name": "stdout",
     "output_type": "stream",
     "text": [
      "#342, Result: 0.9493333926188835, {'eta': 0.15254844400587625, 'max_depth': 4, 'lambda': 0.9838191879717375}\n"
     ]
    },
    {
     "name": "stderr",
     "output_type": "stream",
     "text": [
      "[I 2019-12-14 21:55:53,952] Finished trial#342 resulted in value: 0.9493333926188835. Current best value is 0.9527682974029678 with parameters: {'eta': 0.14444899934775604, 'max_depth': 4, 'lambda': 0.9308114768375195}.\n"
     ]
    },
    {
     "name": "stdout",
     "output_type": "stream",
     "text": [
      "#343, Result: 0.9450247145386106, {'eta': 0.1548627223914505, 'max_depth': 4, 'lambda': 1.020703888102973}\n"
     ]
    },
    {
     "name": "stderr",
     "output_type": "stream",
     "text": [
      "[I 2019-12-14 21:55:54,155] Finished trial#343 resulted in value: 0.9450247145386106. Current best value is 0.9527682974029678 with parameters: {'eta': 0.14444899934775604, 'max_depth': 4, 'lambda': 0.9308114768375195}.\n"
     ]
    },
    {
     "name": "stdout",
     "output_type": "stream",
     "text": [
      "#344, Result: 0.9443747585426756, {'eta': 0.1350721942141574, 'max_depth': 5, 'lambda': 0.9721335230245554}\n"
     ]
    },
    {
     "name": "stderr",
     "output_type": "stream",
     "text": [
      "[I 2019-12-14 21:55:54,367] Finished trial#344 resulted in value: 0.9443747585426756. Current best value is 0.9527682974029678 with parameters: {'eta': 0.14444899934775604, 'max_depth': 4, 'lambda': 0.9308114768375195}.\n"
     ]
    },
    {
     "name": "stdout",
     "output_type": "stream",
     "text": [
      "#345, Result: 0.946197020959353, {'eta': 0.16177666971582877, 'max_depth': 4, 'lambda': 0.9868185311517401}\n"
     ]
    },
    {
     "name": "stderr",
     "output_type": "stream",
     "text": [
      "[I 2019-12-14 21:55:54,569] Finished trial#345 resulted in value: 0.946197020959353. Current best value is 0.9527682974029678 with parameters: {'eta': 0.14444899934775604, 'max_depth': 4, 'lambda': 0.9308114768375195}.\n"
     ]
    },
    {
     "name": "stdout",
     "output_type": "stream",
     "text": [
      "#346, Result: 0.942932233583356, {'eta': 0.12527595747237244, 'max_depth': 4, 'lambda': 0.8710521884869761}\n"
     ]
    },
    {
     "name": "stderr",
     "output_type": "stream",
     "text": [
      "[I 2019-12-14 21:55:54,786] Finished trial#346 resulted in value: 0.942932233583356. Current best value is 0.9527682974029678 with parameters: {'eta': 0.14444899934775604, 'max_depth': 4, 'lambda': 0.9308114768375195}.\n"
     ]
    },
    {
     "name": "stdout",
     "output_type": "stream",
     "text": [
      "#347, Result: 0.9477511569377123, {'eta': 0.1462578246590708, 'max_depth': 4, 'lambda': 0.9236979006833742}\n"
     ]
    },
    {
     "name": "stderr",
     "output_type": "stream",
     "text": [
      "[I 2019-12-14 21:55:54,959] Finished trial#347 resulted in value: 0.9477511569377123. Current best value is 0.9527682974029678 with parameters: {'eta': 0.14444899934775604, 'max_depth': 4, 'lambda': 0.9308114768375195}.\n"
     ]
    },
    {
     "name": "stdout",
     "output_type": "stream",
     "text": [
      "#348, Result: 0.9505859116680432, {'eta': 0.15455044065539467, 'max_depth': 5, 'lambda': 1.02027394401702}\n"
     ]
    },
    {
     "name": "stderr",
     "output_type": "stream",
     "text": [
      "[I 2019-12-14 21:55:55,136] Finished trial#348 resulted in value: 0.9505859116680432. Current best value is 0.9527682974029678 with parameters: {'eta': 0.14444899934775604, 'max_depth': 4, 'lambda': 0.9308114768375195}.\n"
     ]
    },
    {
     "name": "stdout",
     "output_type": "stream",
     "text": [
      "#349, Result: 0.942261889394705, {'eta': 0.1554922448947749, 'max_depth': 5, 'lambda': 1.0697592193936154}\n"
     ]
    },
    {
     "name": "stderr",
     "output_type": "stream",
     "text": [
      "[I 2019-12-14 21:55:55,318] Finished trial#349 resulted in value: 0.942261889394705. Current best value is 0.9527682974029678 with parameters: {'eta': 0.14444899934775604, 'max_depth': 4, 'lambda': 0.9308114768375195}.\n"
     ]
    },
    {
     "name": "stdout",
     "output_type": "stream",
     "text": [
      "#350, Result: 0.9311383840857532, {'eta': 0.1625044053850377, 'max_depth': 5, 'lambda': 1.036430381545659}\n"
     ]
    },
    {
     "name": "stderr",
     "output_type": "stream",
     "text": [
      "[I 2019-12-14 21:55:55,533] Finished trial#350 resulted in value: 0.9311383840857532. Current best value is 0.9527682974029678 with parameters: {'eta': 0.14444899934775604, 'max_depth': 4, 'lambda': 0.9308114768375195}.\n"
     ]
    },
    {
     "name": "stdout",
     "output_type": "stream",
     "text": [
      "#351, Result: 0.9487676797144324, {'eta': 0.14036601014745, 'max_depth': 5, 'lambda': 1.0173255882508223}\n"
     ]
    },
    {
     "name": "stderr",
     "output_type": "stream",
     "text": [
      "[I 2019-12-14 21:55:55,731] Finished trial#351 resulted in value: 0.9487676797144324. Current best value is 0.9527682974029678 with parameters: {'eta': 0.14444899934775604, 'max_depth': 4, 'lambda': 0.9308114768375195}.\n"
     ]
    },
    {
     "name": "stdout",
     "output_type": "stream",
     "text": [
      "#352, Result: 0.9530448799539337, {'eta': 0.15359982254807167, 'max_depth': 5, 'lambda': 1.0040675732276585}\n"
     ]
    },
    {
     "name": "stderr",
     "output_type": "stream",
     "text": [
      "[I 2019-12-14 21:55:55,925] Finished trial#352 resulted in value: 0.9530448799539337. Current best value is 0.9530448799539337 with parameters: {'eta': 0.15359982254807167, 'max_depth': 5, 'lambda': 1.0040675732276585}.\n"
     ]
    },
    {
     "name": "stdout",
     "output_type": "stream",
     "text": [
      "#353, Result: 0.9405093120710816, {'eta': 0.15871584390160687, 'max_depth': 5, 'lambda': 1.0370497975207662}\n"
     ]
    },
    {
     "name": "stderr",
     "output_type": "stream",
     "text": [
      "[I 2019-12-14 21:55:56,134] Finished trial#353 resulted in value: 0.9405093120710816. Current best value is 0.9530448799539337 with parameters: {'eta': 0.15359982254807167, 'max_depth': 5, 'lambda': 1.0040675732276585}.\n"
     ]
    },
    {
     "name": "stdout",
     "output_type": "stream",
     "text": [
      "#354, Result: 0.9373715406124522, {'eta': 0.1303946319917737, 'max_depth': 4, 'lambda': 1.0983853504695755}\n"
     ]
    },
    {
     "name": "stderr",
     "output_type": "stream",
     "text": [
      "[I 2019-12-14 21:55:56,306] Finished trial#354 resulted in value: 0.9373715406124522. Current best value is 0.9530448799539337 with parameters: {'eta': 0.15359982254807167, 'max_depth': 5, 'lambda': 1.0040675732276585}.\n"
     ]
    },
    {
     "name": "stdout",
     "output_type": "stream",
     "text": [
      "#355, Result: 0.9463016459097736, {'eta': 0.15680094123633537, 'max_depth': 5, 'lambda': 1.057497584415678}\n"
     ]
    },
    {
     "name": "stderr",
     "output_type": "stream",
     "text": [
      "[I 2019-12-14 21:55:56,483] Finished trial#355 resulted in value: 0.9463016459097736. Current best value is 0.9530448799539337 with parameters: {'eta': 0.15359982254807167, 'max_depth': 5, 'lambda': 1.0040675732276585}.\n"
     ]
    },
    {
     "name": "stdout",
     "output_type": "stream",
     "text": [
      "#356, Result: 0.947012785080741, {'eta': 0.1527036480010683, 'max_depth': 5, 'lambda': 1.1263526319069526}\n"
     ]
    },
    {
     "name": "stderr",
     "output_type": "stream",
     "text": [
      "[I 2019-12-14 21:55:56,678] Finished trial#356 resulted in value: 0.947012785080741. Current best value is 0.9530448799539337 with parameters: {'eta': 0.15359982254807167, 'max_depth': 5, 'lambda': 1.0040675732276585}.\n"
     ]
    },
    {
     "name": "stdout",
     "output_type": "stream",
     "text": [
      "#357, Result: 0.9332436915306113, {'eta': 0.0760667853422581, 'max_depth': 5, 'lambda': 0.9953314983758764}\n"
     ]
    },
    {
     "name": "stderr",
     "output_type": "stream",
     "text": [
      "[I 2019-12-14 21:55:56,870] Finished trial#357 resulted in value: 0.9332436915306113. Current best value is 0.9530448799539337 with parameters: {'eta': 0.15359982254807167, 'max_depth': 5, 'lambda': 1.0040675732276585}.\n"
     ]
    },
    {
     "name": "stdout",
     "output_type": "stream",
     "text": [
      "#358, Result: 0.94667174066435, {'eta': 0.14421921077943503, 'max_depth': 5, 'lambda': 1.0143987925653943}\n"
     ]
    },
    {
     "name": "stderr",
     "output_type": "stream",
     "text": [
      "[I 2019-12-14 21:55:57,061] Finished trial#358 resulted in value: 0.94667174066435. Current best value is 0.9530448799539337 with parameters: {'eta': 0.15359982254807167, 'max_depth': 5, 'lambda': 1.0040675732276585}.\n"
     ]
    },
    {
     "name": "stdout",
     "output_type": "stream",
     "text": [
      "#359, Result: 0.9470417179727677, {'eta': 0.13818769898602312, 'max_depth': 5, 'lambda': 0.992833180387924}\n"
     ]
    },
    {
     "name": "stderr",
     "output_type": "stream",
     "text": [
      "[I 2019-12-14 21:55:57,254] Finished trial#359 resulted in value: 0.9470417179727677. Current best value is 0.9530448799539337 with parameters: {'eta': 0.15359982254807167, 'max_depth': 5, 'lambda': 1.0040675732276585}.\n"
     ]
    },
    {
     "name": "stdout",
     "output_type": "stream",
     "text": [
      "#360, Result: 0.9434561670846433, {'eta': 0.14723050314053482, 'max_depth': 5, 'lambda': 1.0148977763571987}\n"
     ]
    },
    {
     "name": "stderr",
     "output_type": "stream",
     "text": [
      "[I 2019-12-14 21:55:57,447] Finished trial#360 resulted in value: 0.9434561670846433. Current best value is 0.9530448799539337 with parameters: {'eta': 0.15359982254807167, 'max_depth': 5, 'lambda': 1.0040675732276585}.\n"
     ]
    },
    {
     "name": "stdout",
     "output_type": "stream",
     "text": [
      "#361, Result: 0.941386206319886, {'eta': 0.11932216567140433, 'max_depth': 5, 'lambda': 0.7469378681031457}\n"
     ]
    },
    {
     "name": "stderr",
     "output_type": "stream",
     "text": [
      "[I 2019-12-14 21:55:57,641] Finished trial#361 resulted in value: 0.941386206319886. Current best value is 0.9530448799539337 with parameters: {'eta': 0.15359982254807167, 'max_depth': 5, 'lambda': 1.0040675732276585}.\n"
     ]
    },
    {
     "name": "stdout",
     "output_type": "stream",
     "text": [
      "#362, Result: 0.9357109839919968, {'eta': 0.16526680859288118, 'max_depth': 11, 'lambda': 0.9821409343573752}\n"
     ]
    },
    {
     "name": "stderr",
     "output_type": "stream",
     "text": [
      "[I 2019-12-14 21:55:57,860] Finished trial#362 resulted in value: 0.9357109839919968. Current best value is 0.9530448799539337 with parameters: {'eta': 0.15359982254807167, 'max_depth': 5, 'lambda': 1.0040675732276585}.\n"
     ]
    },
    {
     "name": "stdout",
     "output_type": "stream",
     "text": [
      "#363, Result: 0.9306693896185676, {'eta': 0.15215208798137606, 'max_depth': 8, 'lambda': 1.0429635004330275}\n"
     ]
    },
    {
     "name": "stderr",
     "output_type": "stream",
     "text": [
      "[I 2019-12-14 21:55:58,050] Finished trial#363 resulted in value: 0.9306693896185676. Current best value is 0.9530448799539337 with parameters: {'eta': 0.15359982254807167, 'max_depth': 5, 'lambda': 1.0040675732276585}.\n"
     ]
    },
    {
     "name": "stdout",
     "output_type": "stream",
     "text": [
      "#364, Result: 0.9434182181913491, {'eta': 0.13698289023838123, 'max_depth': 5, 'lambda': 0.8901232586592543}\n"
     ]
    },
    {
     "name": "stderr",
     "output_type": "stream",
     "text": [
      "[I 2019-12-14 21:55:58,234] Finished trial#364 resulted in value: 0.9434182181913491. Current best value is 0.9530448799539337 with parameters: {'eta': 0.15359982254807167, 'max_depth': 5, 'lambda': 1.0040675732276585}.\n"
     ]
    },
    {
     "name": "stdout",
     "output_type": "stream",
     "text": [
      "#365, Result: 0.9454449610333854, {'eta': 0.15814536525209544, 'max_depth': 5, 'lambda': 0.9925107212430672}\n"
     ]
    },
    {
     "name": "stderr",
     "output_type": "stream",
     "text": [
      "[I 2019-12-14 21:55:58,420] Finished trial#365 resulted in value: 0.9454449610333854. Current best value is 0.9530448799539337 with parameters: {'eta': 0.15359982254807167, 'max_depth': 5, 'lambda': 1.0040675732276585}.\n"
     ]
    },
    {
     "name": "stdout",
     "output_type": "stream",
     "text": [
      "#366, Result: 0.9386103630276581, {'eta': 0.1430072491180481, 'max_depth': 9, 'lambda': 0.9359004119626125}\n"
     ]
    },
    {
     "name": "stderr",
     "output_type": "stream",
     "text": [
      "[I 2019-12-14 21:55:58,631] Finished trial#366 resulted in value: 0.9386103630276581. Current best value is 0.9530448799539337 with parameters: {'eta': 0.15359982254807167, 'max_depth': 5, 'lambda': 1.0040675732276585}.\n"
     ]
    },
    {
     "name": "stdout",
     "output_type": "stream",
     "text": [
      "#367, Result: 0.9393495208077456, {'eta': 0.13220738140651275, 'max_depth': 5, 'lambda': 1.0651214633312789}\n"
     ]
    },
    {
     "name": "stderr",
     "output_type": "stream",
     "text": [
      "[I 2019-12-14 21:55:58,843] Finished trial#367 resulted in value: 0.9393495208077456. Current best value is 0.9530448799539337 with parameters: {'eta': 0.15359982254807167, 'max_depth': 5, 'lambda': 1.0040675732276585}.\n"
     ]
    },
    {
     "name": "stdout",
     "output_type": "stream",
     "text": [
      "#368, Result: 0.9441825863188873, {'eta': 0.15109099735858902, 'max_depth': 5, 'lambda': 1.0218898732776909}\n"
     ]
    },
    {
     "name": "stderr",
     "output_type": "stream",
     "text": [
      "[I 2019-12-14 21:55:59,029] Finished trial#368 resulted in value: 0.9441825863188873. Current best value is 0.9530448799539337 with parameters: {'eta': 0.15359982254807167, 'max_depth': 5, 'lambda': 1.0040675732276585}.\n"
     ]
    },
    {
     "name": "stdout",
     "output_type": "stream",
     "text": [
      "#369, Result: 0.9406754255717357, {'eta': 0.1687856573259831, 'max_depth': 4, 'lambda': 0.9141571326334754}\n"
     ]
    },
    {
     "name": "stderr",
     "output_type": "stream",
     "text": [
      "[I 2019-12-14 21:55:59,240] Finished trial#369 resulted in value: 0.9406754255717357. Current best value is 0.9530448799539337 with parameters: {'eta': 0.15359982254807167, 'max_depth': 5, 'lambda': 1.0040675732276585}.\n"
     ]
    },
    {
     "name": "stdout",
     "output_type": "stream",
     "text": [
      "#370, Result: 0.9432671129577559, {'eta': 0.1607855636109061, 'max_depth': 4, 'lambda': 0.9598153262408002}\n"
     ]
    },
    {
     "name": "stderr",
     "output_type": "stream",
     "text": [
      "[I 2019-12-14 21:55:59,422] Finished trial#370 resulted in value: 0.9432671129577559. Current best value is 0.9530448799539337 with parameters: {'eta': 0.15359982254807167, 'max_depth': 5, 'lambda': 1.0040675732276585}.\n"
     ]
    },
    {
     "name": "stdout",
     "output_type": "stream",
     "text": [
      "#371, Result: 0.942258625895292, {'eta': 0.14544392632409914, 'max_depth': 5, 'lambda': 0.9790156362015815}\n"
     ]
    },
    {
     "name": "stderr",
     "output_type": "stream",
     "text": [
      "[I 2019-12-14 21:55:59,639] Finished trial#371 resulted in value: 0.942258625895292. Current best value is 0.9530448799539337 with parameters: {'eta': 0.15359982254807167, 'max_depth': 5, 'lambda': 1.0040675732276585}.\n"
     ]
    },
    {
     "name": "stdout",
     "output_type": "stream",
     "text": [
      "#372, Result: 0.9382730752329389, {'eta': 0.13943448188462057, 'max_depth': 4, 'lambda': 0.8525024075105648}\n"
     ]
    },
    {
     "name": "stderr",
     "output_type": "stream",
     "text": [
      "[I 2019-12-14 21:55:59,822] Finished trial#372 resulted in value: 0.9382730752329389. Current best value is 0.9530448799539337 with parameters: {'eta': 0.15359982254807167, 'max_depth': 5, 'lambda': 1.0040675732276585}.\n"
     ]
    },
    {
     "name": "stdout",
     "output_type": "stream",
     "text": [
      "#373, Result: 0.9492252646113412, {'eta': 0.15362126717031882, 'max_depth': 4, 'lambda': 0.9417956676015068}\n"
     ]
    },
    {
     "name": "stderr",
     "output_type": "stream",
     "text": [
      "[I 2019-12-14 21:56:00,017] Finished trial#373 resulted in value: 0.9492252646113412. Current best value is 0.9530448799539337 with parameters: {'eta': 0.15359982254807167, 'max_depth': 5, 'lambda': 1.0040675732276585}.\n"
     ]
    },
    {
     "name": "stdout",
     "output_type": "stream",
     "text": [
      "#374, Result: 0.9463394924165897, {'eta': 0.15562401574152315, 'max_depth': 4, 'lambda': 0.9381926452025309}\n"
     ]
    },
    {
     "name": "stderr",
     "output_type": "stream",
     "text": [
      "[I 2019-12-14 21:56:00,197] Finished trial#374 resulted in value: 0.9463394924165897. Current best value is 0.9530448799539337 with parameters: {'eta': 0.15359982254807167, 'max_depth': 5, 'lambda': 1.0040675732276585}.\n"
     ]
    },
    {
     "name": "stdout",
     "output_type": "stream",
     "text": [
      "#375, Result: 0.9498671477665795, {'eta': 0.16271459667440757, 'max_depth': 4, 'lambda': 0.8910212069731775}\n"
     ]
    },
    {
     "name": "stderr",
     "output_type": "stream",
     "text": [
      "[I 2019-12-14 21:56:00,377] Finished trial#375 resulted in value: 0.9498671477665795. Current best value is 0.9530448799539337 with parameters: {'eta': 0.15359982254807167, 'max_depth': 5, 'lambda': 1.0040675732276585}.\n"
     ]
    },
    {
     "name": "stdout",
     "output_type": "stream",
     "text": [
      "#376, Result: 0.9383887851780719, {'eta': 0.1628381229748099, 'max_depth': 4, 'lambda': 0.803087892539811}\n"
     ]
    },
    {
     "name": "stderr",
     "output_type": "stream",
     "text": [
      "[I 2019-12-14 21:56:00,557] Finished trial#376 resulted in value: 0.9383887851780719. Current best value is 0.9530448799539337 with parameters: {'eta': 0.15359982254807167, 'max_depth': 5, 'lambda': 1.0040675732276585}.\n"
     ]
    },
    {
     "name": "stdout",
     "output_type": "stream",
     "text": [
      "#377, Result: 0.942651942110388, {'eta': 0.17135875250077806, 'max_depth': 4, 'lambda': 0.8772256057940169}\n"
     ]
    },
    {
     "name": "stderr",
     "output_type": "stream",
     "text": [
      "[I 2019-12-14 21:56:00,738] Finished trial#377 resulted in value: 0.942651942110388. Current best value is 0.9530448799539337 with parameters: {'eta': 0.15359982254807167, 'max_depth': 5, 'lambda': 1.0040675732276585}.\n"
     ]
    },
    {
     "name": "stdout",
     "output_type": "stream",
     "text": [
      "#378, Result: 0.9451868032993408, {'eta': 0.16181280450412108, 'max_depth': 4, 'lambda': 0.9006325404800795}\n"
     ]
    },
    {
     "name": "stderr",
     "output_type": "stream",
     "text": [
      "[I 2019-12-14 21:56:00,916] Finished trial#378 resulted in value: 0.9451868032993408. Current best value is 0.9530448799539337 with parameters: {'eta': 0.15359982254807167, 'max_depth': 5, 'lambda': 1.0040675732276585}.\n"
     ]
    },
    {
     "name": "stdout",
     "output_type": "stream",
     "text": [
      "#379, Result: 0.942862924648717, {'eta': 0.17497059034971443, 'max_depth': 4, 'lambda': 0.9179184487328527}\n"
     ]
    },
    {
     "name": "stderr",
     "output_type": "stream",
     "text": [
      "[I 2019-12-14 21:56:01,093] Finished trial#379 resulted in value: 0.942862924648717. Current best value is 0.9530448799539337 with parameters: {'eta': 0.15359982254807167, 'max_depth': 5, 'lambda': 1.0040675732276585}.\n"
     ]
    },
    {
     "name": "stdout",
     "output_type": "stream",
     "text": [
      "#380, Result: 0.9457739775613402, {'eta': 0.14939439132495633, 'max_depth': 4, 'lambda': 0.9003333160389715}\n"
     ]
    },
    {
     "name": "stderr",
     "output_type": "stream",
     "text": [
      "[I 2019-12-14 21:56:01,275] Finished trial#380 resulted in value: 0.9457739775613402. Current best value is 0.9530448799539337 with parameters: {'eta': 0.15359982254807167, 'max_depth': 5, 'lambda': 1.0040675732276585}.\n"
     ]
    },
    {
     "name": "stdout",
     "output_type": "stream",
     "text": [
      "#381, Result: 0.946259557566161, {'eta': 0.16458457004485086, 'max_depth': 4, 'lambda': 0.8641614534388258}\n"
     ]
    },
    {
     "name": "stderr",
     "output_type": "stream",
     "text": [
      "[I 2019-12-14 21:56:01,456] Finished trial#381 resulted in value: 0.946259557566161. Current best value is 0.9530448799539337 with parameters: {'eta': 0.15359982254807167, 'max_depth': 5, 'lambda': 1.0040675732276585}.\n"
     ]
    },
    {
     "name": "stdout",
     "output_type": "stream",
     "text": [
      "#382, Result: 0.9457444670670159, {'eta': 0.1540186259915862, 'max_depth': 4, 'lambda': 0.9391866578247551}\n"
     ]
    },
    {
     "name": "stderr",
     "output_type": "stream",
     "text": [
      "[I 2019-12-14 21:56:01,639] Finished trial#382 resulted in value: 0.9457444670670159. Current best value is 0.9530448799539337 with parameters: {'eta': 0.15359982254807167, 'max_depth': 5, 'lambda': 1.0040675732276585}.\n"
     ]
    },
    {
     "name": "stdout",
     "output_type": "stream",
     "text": [
      "#383, Result: 0.9459574377644763, {'eta': 0.14655472175150314, 'max_depth': 4, 'lambda': 0.8383203569086641}\n"
     ]
    },
    {
     "name": "stderr",
     "output_type": "stream",
     "text": [
      "[I 2019-12-14 21:56:01,821] Finished trial#383 resulted in value: 0.9459574377644763. Current best value is 0.9530448799539337 with parameters: {'eta': 0.15359982254807167, 'max_depth': 5, 'lambda': 1.0040675732276585}.\n"
     ]
    },
    {
     "name": "stdout",
     "output_type": "stream",
     "text": [
      "#384, Result: 0.9527229904020222, {'eta': 0.15842345340319314, 'max_depth': 4, 'lambda': 0.9620690537860291}\n"
     ]
    },
    {
     "name": "stderr",
     "output_type": "stream",
     "text": [
      "[I 2019-12-14 21:56:01,999] Finished trial#384 resulted in value: 0.9527229904020222. Current best value is 0.9530448799539337 with parameters: {'eta': 0.15359982254807167, 'max_depth': 5, 'lambda': 1.0040675732276585}.\n"
     ]
    },
    {
     "name": "stdout",
     "output_type": "stream",
     "text": [
      "#385, Result: 0.9466054657601749, {'eta': 0.1690827378572604, 'max_depth': 4, 'lambda': 0.9205657162158054}\n"
     ]
    },
    {
     "name": "stderr",
     "output_type": "stream",
     "text": [
      "[I 2019-12-14 21:56:02,177] Finished trial#385 resulted in value: 0.9466054657601749. Current best value is 0.9530448799539337 with parameters: {'eta': 0.15359982254807167, 'max_depth': 5, 'lambda': 1.0040675732276585}.\n"
     ]
    },
    {
     "name": "stdout",
     "output_type": "stream",
     "text": [
      "#386, Result: 0.9467581825896394, {'eta': 0.16123793594985925, 'max_depth': 4, 'lambda': 0.9527471497040851}\n"
     ]
    },
    {
     "name": "stderr",
     "output_type": "stream",
     "text": [
      "[I 2019-12-14 21:56:02,357] Finished trial#386 resulted in value: 0.9467581825896394. Current best value is 0.9530448799539337 with parameters: {'eta': 0.15359982254807167, 'max_depth': 5, 'lambda': 1.0040675732276585}.\n"
     ]
    },
    {
     "name": "stdout",
     "output_type": "stream",
     "text": [
      "#387, Result: 0.9412215657380825, {'eta': 0.15710921301841804, 'max_depth': 4, 'lambda': 0.8828959895683552}\n"
     ]
    },
    {
     "name": "stderr",
     "output_type": "stream",
     "text": [
      "[I 2019-12-14 21:56:02,537] Finished trial#387 resulted in value: 0.9412215657380825. Current best value is 0.9530448799539337 with parameters: {'eta': 0.15359982254807167, 'max_depth': 5, 'lambda': 1.0040675732276585}.\n"
     ]
    },
    {
     "name": "stdout",
     "output_type": "stream",
     "text": [
      "#388, Result: 0.9470409636302067, {'eta': 0.15153867596239884, 'max_depth': 4, 'lambda': 0.9562679862507608}\n"
     ]
    },
    {
     "name": "stderr",
     "output_type": "stream",
     "text": [
      "[I 2019-12-14 21:56:02,717] Finished trial#388 resulted in value: 0.9470409636302067. Current best value is 0.9530448799539337 with parameters: {'eta': 0.15359982254807167, 'max_depth': 5, 'lambda': 1.0040675732276585}.\n"
     ]
    },
    {
     "name": "stdout",
     "output_type": "stream",
     "text": [
      "#389, Result: 0.9485999984593053, {'eta': 0.1676068918806068, 'max_depth': 4, 'lambda': 0.9178783926570232}\n"
     ]
    },
    {
     "name": "stderr",
     "output_type": "stream",
     "text": [
      "[I 2019-12-14 21:56:02,898] Finished trial#389 resulted in value: 0.9485999984593053. Current best value is 0.9530448799539337 with parameters: {'eta': 0.15359982254807167, 'max_depth': 5, 'lambda': 1.0040675732276585}.\n"
     ]
    },
    {
     "name": "stdout",
     "output_type": "stream",
     "text": [
      "#390, Result: 0.9484081750305166, {'eta': 0.15811981504238193, 'max_depth': 4, 'lambda': 0.9762128322113942}\n"
     ]
    },
    {
     "name": "stderr",
     "output_type": "stream",
     "text": [
      "[I 2019-12-14 21:56:03,082] Finished trial#390 resulted in value: 0.9484081750305166. Current best value is 0.9530448799539337 with parameters: {'eta': 0.15359982254807167, 'max_depth': 5, 'lambda': 1.0040675732276585}.\n"
     ]
    },
    {
     "name": "stdout",
     "output_type": "stream",
     "text": [
      "#391, Result: 0.9452797120935704, {'eta': 0.18068163537877036, 'max_depth': 4, 'lambda': 0.9367870411338924}\n"
     ]
    },
    {
     "name": "stderr",
     "output_type": "stream",
     "text": [
      "[I 2019-12-14 21:56:03,265] Finished trial#391 resulted in value: 0.9452797120935704. Current best value is 0.9530448799539337 with parameters: {'eta': 0.15359982254807167, 'max_depth': 5, 'lambda': 1.0040675732276585}.\n"
     ]
    },
    {
     "name": "stdout",
     "output_type": "stream",
     "text": [
      "#392, Result: 0.9412830092444162, {'eta': 0.1517951842091008, 'max_depth': 15, 'lambda': 0.9704502911995035}\n"
     ]
    },
    {
     "name": "stderr",
     "output_type": "stream",
     "text": [
      "[I 2019-12-14 21:56:03,487] Finished trial#392 resulted in value: 0.9412830092444162. Current best value is 0.9530448799539337 with parameters: {'eta': 0.15359982254807167, 'max_depth': 5, 'lambda': 1.0040675732276585}.\n"
     ]
    },
    {
     "name": "stdout",
     "output_type": "stream",
     "text": [
      "#393, Result: 0.9370468433327814, {'eta': 0.1649037608530222, 'max_depth': 4, 'lambda': 0.8924042750467708}\n"
     ]
    },
    {
     "name": "stderr",
     "output_type": "stream",
     "text": [
      "[I 2019-12-14 21:56:03,669] Finished trial#393 resulted in value: 0.9370468433327814. Current best value is 0.9530448799539337 with parameters: {'eta': 0.15359982254807167, 'max_depth': 5, 'lambda': 1.0040675732276585}.\n"
     ]
    },
    {
     "name": "stdout",
     "output_type": "stream",
     "text": [
      "#394, Result: 0.9441164352048558, {'eta': 0.15914049848588543, 'max_depth': 4, 'lambda': 0.9414887958403373}\n"
     ]
    },
    {
     "name": "stderr",
     "output_type": "stream",
     "text": [
      "[I 2019-12-14 21:56:03,851] Finished trial#394 resulted in value: 0.9441164352048558. Current best value is 0.9530448799539337 with parameters: {'eta': 0.15359982254807167, 'max_depth': 5, 'lambda': 1.0040675732276585}.\n"
     ]
    },
    {
     "name": "stdout",
     "output_type": "stream",
     "text": [
      "#395, Result: 0.9440316975252545, {'eta': 0.14769391121823053, 'max_depth': 4, 'lambda': 0.8626685181748742}\n"
     ]
    },
    {
     "name": "stderr",
     "output_type": "stream",
     "text": [
      "[I 2019-12-14 21:56:04,032] Finished trial#395 resulted in value: 0.9440316975252545. Current best value is 0.9530448799539337 with parameters: {'eta': 0.15359982254807167, 'max_depth': 5, 'lambda': 1.0040675732276585}.\n"
     ]
    },
    {
     "name": "stdout",
     "output_type": "stream",
     "text": [
      "#396, Result: 0.9424809726691181, {'eta': 0.15492287697715115, 'max_depth': 4, 'lambda': 0.9107444210842316}\n"
     ]
    },
    {
     "name": "stderr",
     "output_type": "stream",
     "text": [
      "[I 2019-12-14 21:56:04,215] Finished trial#396 resulted in value: 0.9424809726691181. Current best value is 0.9530448799539337 with parameters: {'eta': 0.15359982254807167, 'max_depth': 5, 'lambda': 1.0040675732276585}.\n"
     ]
    },
    {
     "name": "stdout",
     "output_type": "stream",
     "text": [
      "#397, Result: 0.9454712222947784, {'eta': 0.1419845439531114, 'max_depth': 4, 'lambda': 0.9735759745675726}\n"
     ]
    },
    {
     "name": "stderr",
     "output_type": "stream",
     "text": [
      "[I 2019-12-14 21:56:04,398] Finished trial#397 resulted in value: 0.9454712222947784. Current best value is 0.9530448799539337 with parameters: {'eta': 0.15359982254807167, 'max_depth': 5, 'lambda': 1.0040675732276585}.\n"
     ]
    },
    {
     "name": "stdout",
     "output_type": "stream",
     "text": [
      "#398, Result: 0.9467782337349128, {'eta': 0.15107111103090232, 'max_depth': 4, 'lambda': 0.9483642897000428}\n"
     ]
    },
    {
     "name": "stderr",
     "output_type": "stream",
     "text": [
      "[I 2019-12-14 21:56:04,578] Finished trial#398 resulted in value: 0.9467782337349128. Current best value is 0.9530448799539337 with parameters: {'eta': 0.15359982254807167, 'max_depth': 5, 'lambda': 1.0040675732276585}.\n"
     ]
    },
    {
     "name": "stdout",
     "output_type": "stream",
     "text": [
      "#399, Result: 0.9427889037391108, {'eta': 0.1746582058560633, 'max_depth': 4, 'lambda': 0.9245588350557512}\n"
     ]
    },
    {
     "name": "stderr",
     "output_type": "stream",
     "text": [
      "[I 2019-12-14 21:56:04,767] Finished trial#399 resulted in value: 0.9427889037391108. Current best value is 0.9530448799539337 with parameters: {'eta': 0.15359982254807167, 'max_depth': 5, 'lambda': 1.0040675732276585}.\n"
     ]
    },
    {
     "name": "stdout",
     "output_type": "stream",
     "text": [
      "#400, Result: 0.9463513339042342, {'eta': 0.1388047497737677, 'max_depth': 4, 'lambda': 0.9981283077679153}\n"
     ]
    },
    {
     "name": "stderr",
     "output_type": "stream",
     "text": [
      "[I 2019-12-14 21:56:04,948] Finished trial#400 resulted in value: 0.9463513339042342. Current best value is 0.9530448799539337 with parameters: {'eta': 0.15359982254807167, 'max_depth': 5, 'lambda': 1.0040675732276585}.\n"
     ]
    },
    {
     "name": "stdout",
     "output_type": "stream",
     "text": [
      "#401, Result: 0.9484907893058534, {'eta': 0.16044458471510892, 'max_depth': 4, 'lambda': 0.8881195382083217}\n"
     ]
    },
    {
     "name": "stderr",
     "output_type": "stream",
     "text": [
      "[I 2019-12-14 21:56:05,130] Finished trial#401 resulted in value: 0.9484907893058534. Current best value is 0.9530448799539337 with parameters: {'eta': 0.15359982254807167, 'max_depth': 5, 'lambda': 1.0040675732276585}.\n"
     ]
    },
    {
     "name": "stdout",
     "output_type": "stream",
     "text": [
      "#402, Result: 0.9440762180415326, {'eta': 0.1486780185705822, 'max_depth': 13, 'lambda': 1.1530115123233349}\n"
     ]
    },
    {
     "name": "stderr",
     "output_type": "stream",
     "text": [
      "[I 2019-12-14 21:56:05,348] Finished trial#402 resulted in value: 0.9440762180415326. Current best value is 0.9530448799539337 with parameters: {'eta': 0.15359982254807167, 'max_depth': 5, 'lambda': 1.0040675732276585}.\n"
     ]
    },
    {
     "name": "stdout",
     "output_type": "stream",
     "text": [
      "#403, Result: 0.9433612287550524, {'eta': 0.15507447730105084, 'max_depth': 4, 'lambda': 0.8237411460058336}\n"
     ]
    },
    {
     "name": "stderr",
     "output_type": "stream",
     "text": [
      "[I 2019-12-14 21:56:05,550] Finished trial#403 resulted in value: 0.9433612287550524. Current best value is 0.9530448799539337 with parameters: {'eta': 0.15359982254807167, 'max_depth': 5, 'lambda': 1.0040675732276585}.\n"
     ]
    },
    {
     "name": "stdout",
     "output_type": "stream",
     "text": [
      "#404, Result: 0.944649012806366, {'eta': 0.14415343383548393, 'max_depth': 4, 'lambda': 0.97029802289265}\n"
     ]
    },
    {
     "name": "stderr",
     "output_type": "stream",
     "text": [
      "[I 2019-12-14 21:56:05,735] Finished trial#404 resulted in value: 0.944649012806366. Current best value is 0.9530448799539337 with parameters: {'eta': 0.15359982254807167, 'max_depth': 5, 'lambda': 1.0040675732276585}.\n"
     ]
    },
    {
     "name": "stdout",
     "output_type": "stream",
     "text": [
      "#405, Result: 0.9414128500891028, {'eta': 0.1670056695468748, 'max_depth': 4, 'lambda': 1.023937582212135}\n"
     ]
    },
    {
     "name": "stderr",
     "output_type": "stream",
     "text": [
      "[I 2019-12-14 21:56:05,933] Finished trial#405 resulted in value: 0.9414128500891028. Current best value is 0.9530448799539337 with parameters: {'eta': 0.15359982254807167, 'max_depth': 5, 'lambda': 1.0040675732276585}.\n"
     ]
    },
    {
     "name": "stdout",
     "output_type": "stream",
     "text": [
      "#406, Result: 0.942360365272753, {'eta': 0.12771650086289424, 'max_depth': 4, 'lambda': 0.9387969487506067}\n"
     ]
    },
    {
     "name": "stderr",
     "output_type": "stream",
     "text": [
      "[I 2019-12-14 21:56:06,121] Finished trial#406 resulted in value: 0.942360365272753. Current best value is 0.9530448799539337 with parameters: {'eta': 0.15359982254807167, 'max_depth': 5, 'lambda': 1.0040675732276585}.\n"
     ]
    },
    {
     "name": "stdout",
     "output_type": "stream",
     "text": [
      "#407, Result: 0.7837704303184485, {'eta': 0.03999291156050183, 'max_depth': 4, 'lambda': 0.9815454113565121}\n"
     ]
    },
    {
     "name": "stderr",
     "output_type": "stream",
     "text": [
      "[I 2019-12-14 21:56:06,308] Finished trial#407 resulted in value: 0.7837704303184485. Current best value is 0.9530448799539337 with parameters: {'eta': 0.15359982254807167, 'max_depth': 5, 'lambda': 1.0040675732276585}.\n"
     ]
    },
    {
     "name": "stdout",
     "output_type": "stream",
     "text": [
      "#408, Result: 0.9476686623801545, {'eta': 0.13496692292774493, 'max_depth': 4, 'lambda': 0.9092709349194366}\n"
     ]
    },
    {
     "name": "stderr",
     "output_type": "stream",
     "text": [
      "[I 2019-12-14 21:56:06,496] Finished trial#408 resulted in value: 0.9476686623801545. Current best value is 0.9530448799539337 with parameters: {'eta': 0.15359982254807167, 'max_depth': 5, 'lambda': 1.0040675732276585}.\n"
     ]
    },
    {
     "name": "stdout",
     "output_type": "stream",
     "text": [
      "#409, Result: 0.9458920396599199, {'eta': 0.1495175160483319, 'max_depth': 8, 'lambda': 0.9620040434353629}\n"
     ]
    },
    {
     "name": "stderr",
     "output_type": "stream",
     "text": [
      "[I 2019-12-14 21:56:06,699] Finished trial#409 resulted in value: 0.9458920396599199. Current best value is 0.9530448799539337 with parameters: {'eta': 0.15359982254807167, 'max_depth': 5, 'lambda': 1.0040675732276585}.\n"
     ]
    },
    {
     "name": "stdout",
     "output_type": "stream",
     "text": [
      "#410, Result: 0.945871277630028, {'eta': 0.14188657799759732, 'max_depth': 4, 'lambda': 0.874549594346921}\n"
     ]
    },
    {
     "name": "stderr",
     "output_type": "stream",
     "text": [
      "[I 2019-12-14 21:56:06,887] Finished trial#410 resulted in value: 0.945871277630028. Current best value is 0.9530448799539337 with parameters: {'eta': 0.15359982254807167, 'max_depth': 5, 'lambda': 1.0040675732276585}.\n"
     ]
    },
    {
     "name": "stdout",
     "output_type": "stream",
     "text": [
      "#411, Result: 0.9519788113671633, {'eta': 0.15656104651889302, 'max_depth': 4, 'lambda': 0.9960982435489075}\n"
     ]
    },
    {
     "name": "stderr",
     "output_type": "stream",
     "text": [
      "[I 2019-12-14 21:56:07,071] Finished trial#411 resulted in value: 0.9519788113671633. Current best value is 0.9530448799539337 with parameters: {'eta': 0.15359982254807167, 'max_depth': 5, 'lambda': 1.0040675732276585}.\n"
     ]
    },
    {
     "name": "stdout",
     "output_type": "stream",
     "text": [
      "#412, Result: 0.9471243921355869, {'eta': 0.1606849697643738, 'max_depth': 4, 'lambda': 1.034596581470707}\n"
     ]
    },
    {
     "name": "stderr",
     "output_type": "stream",
     "text": [
      "[I 2019-12-14 21:56:07,270] Finished trial#412 resulted in value: 0.9471243921355869. Current best value is 0.9530448799539337 with parameters: {'eta': 0.15359982254807167, 'max_depth': 5, 'lambda': 1.0040675732276585}.\n"
     ]
    },
    {
     "name": "stdout",
     "output_type": "stream",
     "text": [
      "#413, Result: 0.9446747574416187, {'eta': 0.15481277278938932, 'max_depth': 4, 'lambda': 1.00908581802293}\n"
     ]
    },
    {
     "name": "stderr",
     "output_type": "stream",
     "text": [
      "[I 2019-12-14 21:56:07,456] Finished trial#413 resulted in value: 0.9446747574416187. Current best value is 0.9530448799539337 with parameters: {'eta': 0.15359982254807167, 'max_depth': 5, 'lambda': 1.0040675732276585}.\n"
     ]
    },
    {
     "name": "stdout",
     "output_type": "stream",
     "text": [
      "#414, Result: 0.9500247946813938, {'eta': 0.17084650671092683, 'max_depth': 4, 'lambda': 0.9958788198666138}\n"
     ]
    },
    {
     "name": "stderr",
     "output_type": "stream",
     "text": [
      "[I 2019-12-14 21:56:07,652] Finished trial#414 resulted in value: 0.9500247946813938. Current best value is 0.9530448799539337 with parameters: {'eta': 0.15359982254807167, 'max_depth': 5, 'lambda': 1.0040675732276585}.\n"
     ]
    },
    {
     "name": "stdout",
     "output_type": "stream",
     "text": [
      "#415, Result: 0.9472384280885393, {'eta': 0.1690180794198697, 'max_depth': 4, 'lambda': 1.0064999965463801}\n"
     ]
    },
    {
     "name": "stderr",
     "output_type": "stream",
     "text": [
      "[I 2019-12-14 21:56:07,863] Finished trial#415 resulted in value: 0.9472384280885393. Current best value is 0.9530448799539337 with parameters: {'eta': 0.15359982254807167, 'max_depth': 5, 'lambda': 1.0040675732276585}.\n"
     ]
    },
    {
     "name": "stdout",
     "output_type": "stream",
     "text": [
      "#416, Result: 0.9400251946840393, {'eta': 0.17411861441948498, 'max_depth': 5, 'lambda': 1.0453084910588293}\n"
     ]
    },
    {
     "name": "stderr",
     "output_type": "stream",
     "text": [
      "[I 2019-12-14 21:56:08,055] Finished trial#416 resulted in value: 0.9400251946840393. Current best value is 0.9530448799539337 with parameters: {'eta': 0.15359982254807167, 'max_depth': 5, 'lambda': 1.0040675732276585}.\n"
     ]
    },
    {
     "name": "stdout",
     "output_type": "stream",
     "text": [
      "#417, Result: 0.9417184673107599, {'eta': 0.16802237536501483, 'max_depth': 4, 'lambda': 1.0766759016221419}\n"
     ]
    },
    {
     "name": "stderr",
     "output_type": "stream",
     "text": [
      "[I 2019-12-14 21:56:08,247] Finished trial#417 resulted in value: 0.9417184673107599. Current best value is 0.9530448799539337 with parameters: {'eta': 0.15359982254807167, 'max_depth': 5, 'lambda': 1.0040675732276585}.\n"
     ]
    },
    {
     "name": "stdout",
     "output_type": "stream",
     "text": [
      "#418, Result: 0.9419834168193725, {'eta': 0.1636283610283996, 'max_depth': 4, 'lambda': 0.9920100460719157}\n"
     ]
    },
    {
     "name": "stderr",
     "output_type": "stream",
     "text": [
      "[I 2019-12-14 21:56:08,435] Finished trial#418 resulted in value: 0.9419834168193725. Current best value is 0.9530448799539337 with parameters: {'eta': 0.15359982254807167, 'max_depth': 5, 'lambda': 1.0040675732276585}.\n"
     ]
    },
    {
     "name": "stdout",
     "output_type": "stream",
     "text": [
      "#419, Result: 0.9444923791689558, {'eta': 0.15895750739357142, 'max_depth': 5, 'lambda': 1.0228633376037604}\n"
     ]
    },
    {
     "name": "stderr",
     "output_type": "stream",
     "text": [
      "[I 2019-12-14 21:56:08,636] Finished trial#419 resulted in value: 0.9444923791689558. Current best value is 0.9530448799539337 with parameters: {'eta': 0.15359982254807167, 'max_depth': 5, 'lambda': 1.0040675732276585}.\n"
     ]
    },
    {
     "name": "stdout",
     "output_type": "stream",
     "text": [
      "#420, Result: 0.9389607832379804, {'eta': 0.14481972674916763, 'max_depth': 4, 'lambda': 1.0517111653913864}\n"
     ]
    },
    {
     "name": "stderr",
     "output_type": "stream",
     "text": [
      "[I 2019-12-14 21:56:08,824] Finished trial#420 resulted in value: 0.9389607832379804. Current best value is 0.9530448799539337 with parameters: {'eta': 0.15359982254807167, 'max_depth': 5, 'lambda': 1.0040675732276585}.\n"
     ]
    },
    {
     "name": "stdout",
     "output_type": "stream",
     "text": [
      "#421, Result: 0.9424632043839551, {'eta': 0.18895477032772232, 'max_depth': 4, 'lambda': 0.9894474493008504}\n"
     ]
    },
    {
     "name": "stderr",
     "output_type": "stream",
     "text": [
      "[I 2019-12-14 21:56:09,014] Finished trial#421 resulted in value: 0.9424632043839551. Current best value is 0.9530448799539337 with parameters: {'eta': 0.15359982254807167, 'max_depth': 5, 'lambda': 1.0040675732276585}.\n"
     ]
    },
    {
     "name": "stdout",
     "output_type": "stream",
     "text": [
      "#422, Result: 0.937795890311452, {'eta': 0.1343784475562096, 'max_depth': 4, 'lambda': 0.9953712533666368}\n"
     ]
    },
    {
     "name": "stderr",
     "output_type": "stream",
     "text": [
      "[I 2019-12-14 21:56:09,204] Finished trial#422 resulted in value: 0.937795890311452. Current best value is 0.9530448799539337 with parameters: {'eta': 0.15359982254807167, 'max_depth': 5, 'lambda': 1.0040675732276585}.\n"
     ]
    },
    {
     "name": "stdout",
     "output_type": "stream",
     "text": [
      "#423, Result: 0.9423050600232639, {'eta': 0.12278812212494325, 'max_depth': 5, 'lambda': 1.0178043126363512}\n"
     ]
    },
    {
     "name": "stderr",
     "output_type": "stream",
     "text": [
      "[I 2019-12-14 21:56:09,395] Finished trial#423 resulted in value: 0.9423050600232639. Current best value is 0.9530448799539337 with parameters: {'eta': 0.15359982254807167, 'max_depth': 5, 'lambda': 1.0040675732276585}.\n"
     ]
    },
    {
     "name": "stdout",
     "output_type": "stream",
     "text": [
      "#424, Result: 0.9442350983789717, {'eta': 0.16332543010173303, 'max_depth': 4, 'lambda': 0.9634305317382682}\n"
     ]
    },
    {
     "name": "stderr",
     "output_type": "stream",
     "text": [
      "[I 2019-12-14 21:56:09,587] Finished trial#424 resulted in value: 0.9442350983789717. Current best value is 0.9530448799539337 with parameters: {'eta': 0.15359982254807167, 'max_depth': 5, 'lambda': 1.0040675732276585}.\n"
     ]
    },
    {
     "name": "stdout",
     "output_type": "stream",
     "text": [
      "#425, Result: 0.9416246146725741, {'eta': 0.14687558506009774, 'max_depth': 9, 'lambda': 0.9221619098226467}\n"
     ]
    },
    {
     "name": "stderr",
     "output_type": "stream",
     "text": [
      "[I 2019-12-14 21:56:09,797] Finished trial#425 resulted in value: 0.9416246146725741. Current best value is 0.9530448799539337 with parameters: {'eta': 0.15359982254807167, 'max_depth': 5, 'lambda': 1.0040675732276585}.\n"
     ]
    },
    {
     "name": "stdout",
     "output_type": "stream",
     "text": [
      "#426, Result: 0.9456091981296717, {'eta': 0.13909705902123135, 'max_depth': 5, 'lambda': 0.9827374380379683}\n"
     ]
    },
    {
     "name": "stderr",
     "output_type": "stream",
     "text": [
      "[I 2019-12-14 21:56:09,994] Finished trial#426 resulted in value: 0.9456091981296717. Current best value is 0.9530448799539337 with parameters: {'eta': 0.15359982254807167, 'max_depth': 5, 'lambda': 1.0040675732276585}.\n"
     ]
    },
    {
     "name": "stdout",
     "output_type": "stream",
     "text": [
      "#427, Result: 0.9439279943740942, {'eta': 0.15731756864862922, 'max_depth': 4, 'lambda': 1.1137698255319153}\n"
     ]
    },
    {
     "name": "stderr",
     "output_type": "stream",
     "text": [
      "[I 2019-12-14 21:56:10,185] Finished trial#427 resulted in value: 0.9439279943740942. Current best value is 0.9530448799539337 with parameters: {'eta': 0.15359982254807167, 'max_depth': 5, 'lambda': 1.0040675732276585}.\n"
     ]
    },
    {
     "name": "stdout",
     "output_type": "stream",
     "text": [
      "#428, Result: 0.9406000416319144, {'eta': 0.13028822002652, 'max_depth': 4, 'lambda': 0.781232291390002}\n"
     ]
    },
    {
     "name": "stderr",
     "output_type": "stream",
     "text": [
      "[I 2019-12-14 21:56:10,374] Finished trial#428 resulted in value: 0.9406000416319144. Current best value is 0.9530448799539337 with parameters: {'eta': 0.15359982254807167, 'max_depth': 5, 'lambda': 1.0040675732276585}.\n"
     ]
    },
    {
     "name": "stdout",
     "output_type": "stream",
     "text": [
      "#429, Result: 0.9425689133829817, {'eta': 0.1497353435099182, 'max_depth': 4, 'lambda': 0.9002777575753608}\n"
     ]
    },
    {
     "name": "stderr",
     "output_type": "stream",
     "text": [
      "[I 2019-12-14 21:56:10,566] Finished trial#429 resulted in value: 0.9425689133829817. Current best value is 0.9530448799539337 with parameters: {'eta': 0.15359982254807167, 'max_depth': 5, 'lambda': 1.0040675732276585}.\n"
     ]
    },
    {
     "name": "stdout",
     "output_type": "stream",
     "text": [
      "#430, Result: 0.9390289311845721, {'eta': 0.16514752816019423, 'max_depth': 5, 'lambda': 0.850861418554925}\n"
     ]
    },
    {
     "name": "stderr",
     "output_type": "stream",
     "text": [
      "[I 2019-12-14 21:56:10,762] Finished trial#430 resulted in value: 0.9390289311845721. Current best value is 0.9530448799539337 with parameters: {'eta': 0.15359982254807167, 'max_depth': 5, 'lambda': 1.0040675732276585}.\n"
     ]
    },
    {
     "name": "stdout",
     "output_type": "stream",
     "text": [
      "#431, Result: 0.943497858642852, {'eta': 0.1779354404755105, 'max_depth': 4, 'lambda': 0.9451112080648189}\n"
     ]
    },
    {
     "name": "stderr",
     "output_type": "stream",
     "text": [
      "[I 2019-12-14 21:56:10,954] Finished trial#431 resulted in value: 0.943497858642852. Current best value is 0.9530448799539337 with parameters: {'eta': 0.15359982254807167, 'max_depth': 5, 'lambda': 1.0040675732276585}.\n"
     ]
    },
    {
     "name": "stdout",
     "output_type": "stream",
     "text": [
      "#432, Result: 0.9351626695808751, {'eta': 0.14152264435941414, 'max_depth': 10, 'lambda': 1.0227334213267012}\n"
     ]
    },
    {
     "name": "stderr",
     "output_type": "stream",
     "text": [
      "[I 2019-12-14 21:56:11,166] Finished trial#432 resulted in value: 0.9351626695808751. Current best value is 0.9530448799539337 with parameters: {'eta': 0.15359982254807167, 'max_depth': 5, 'lambda': 1.0040675732276585}.\n"
     ]
    },
    {
     "name": "stdout",
     "output_type": "stream",
     "text": [
      "#433, Result: 0.9478916826226416, {'eta': 0.15819035570948276, 'max_depth': 4, 'lambda': 1.0535575869487783}\n"
     ]
    },
    {
     "name": "stderr",
     "output_type": "stream",
     "text": [
      "[I 2019-12-14 21:56:11,356] Finished trial#433 resulted in value: 0.9478916826226416. Current best value is 0.9530448799539337 with parameters: {'eta': 0.15359982254807167, 'max_depth': 5, 'lambda': 1.0040675732276585}.\n"
     ]
    },
    {
     "name": "stdout",
     "output_type": "stream",
     "text": [
      "#434, Result: 0.9323892556931653, {'eta': 0.14766962112562174, 'max_depth': 4, 'lambda': 1.968616127130046}\n"
     ]
    },
    {
     "name": "stderr",
     "output_type": "stream",
     "text": [
      "[I 2019-12-14 21:56:11,547] Finished trial#434 resulted in value: 0.9323892556931653. Current best value is 0.9530448799539337 with parameters: {'eta': 0.15359982254807167, 'max_depth': 5, 'lambda': 1.0040675732276585}.\n"
     ]
    },
    {
     "name": "stdout",
     "output_type": "stream",
     "text": [
      "#435, Result: 0.9460924602771198, {'eta': 0.13630794764791004, 'max_depth': 5, 'lambda': 0.9590431151752112}\n"
     ]
    },
    {
     "name": "stderr",
     "output_type": "stream",
     "text": [
      "[I 2019-12-14 21:56:11,746] Finished trial#435 resulted in value: 0.9460924602771198. Current best value is 0.9530448799539337 with parameters: {'eta': 0.15359982254807167, 'max_depth': 5, 'lambda': 1.0040675732276585}.\n"
     ]
    },
    {
     "name": "stdout",
     "output_type": "stream",
     "text": [
      "#436, Result: 0.9470564023860483, {'eta': 0.15386424465432416, 'max_depth': 4, 'lambda': 0.927236633672744}\n"
     ]
    },
    {
     "name": "stderr",
     "output_type": "stream",
     "text": [
      "[I 2019-12-14 21:56:11,941] Finished trial#436 resulted in value: 0.9470564023860483. Current best value is 0.9530448799539337 with parameters: {'eta': 0.15359982254807167, 'max_depth': 5, 'lambda': 1.0040675732276585}.\n"
     ]
    },
    {
     "name": "stdout",
     "output_type": "stream",
     "text": [
      "#437, Result: 0.9469389634458549, {'eta': 0.17161064729109313, 'max_depth': 4, 'lambda': 0.9938432923442354}\n"
     ]
    },
    {
     "name": "stderr",
     "output_type": "stream",
     "text": [
      "[I 2019-12-14 21:56:12,135] Finished trial#437 resulted in value: 0.9469389634458549. Current best value is 0.9530448799539337 with parameters: {'eta': 0.15359982254807167, 'max_depth': 5, 'lambda': 1.0040675732276585}.\n"
     ]
    },
    {
     "name": "stdout",
     "output_type": "stream",
     "text": [
      "#438, Result: 0.9435231598313296, {'eta': 0.14292010011407497, 'max_depth': 4, 'lambda': 0.8797694009469358}\n"
     ]
    },
    {
     "name": "stderr",
     "output_type": "stream",
     "text": [
      "[I 2019-12-14 21:56:12,326] Finished trial#438 resulted in value: 0.9435231598313296. Current best value is 0.9530448799539337 with parameters: {'eta': 0.15359982254807167, 'max_depth': 5, 'lambda': 1.0040675732276585}.\n"
     ]
    },
    {
     "name": "stdout",
     "output_type": "stream",
     "text": [
      "#439, Result: 0.9480617717509576, {'eta': 0.15945601493794964, 'max_depth': 5, 'lambda': 0.9541220989413458}\n"
     ]
    },
    {
     "name": "stderr",
     "output_type": "stream",
     "text": [
      "[I 2019-12-14 21:56:12,524] Finished trial#439 resulted in value: 0.9480617717509576. Current best value is 0.9530448799539337 with parameters: {'eta': 0.15359982254807167, 'max_depth': 5, 'lambda': 1.0040675732276585}.\n"
     ]
    },
    {
     "name": "stdout",
     "output_type": "stream",
     "text": [
      "#440, Result: 0.9414886927737448, {'eta': 0.14971320694413703, 'max_depth': 4, 'lambda': 1.0830125856167814}\n"
     ]
    },
    {
     "name": "stderr",
     "output_type": "stream",
     "text": [
      "[I 2019-12-14 21:56:12,726] Finished trial#440 resulted in value: 0.9414886927737448. Current best value is 0.9530448799539337 with parameters: {'eta': 0.15359982254807167, 'max_depth': 5, 'lambda': 1.0040675732276585}.\n"
     ]
    },
    {
     "name": "stdout",
     "output_type": "stream",
     "text": [
      "#441, Result: 0.948096181238432, {'eta': 0.15377032979876956, 'max_depth': 6, 'lambda': 0.9810637827109104}\n"
     ]
    },
    {
     "name": "stderr",
     "output_type": "stream",
     "text": [
      "[I 2019-12-14 21:56:12,928] Finished trial#441 resulted in value: 0.948096181238432. Current best value is 0.9530448799539337 with parameters: {'eta': 0.15359982254807167, 'max_depth': 5, 'lambda': 1.0040675732276585}.\n"
     ]
    },
    {
     "name": "stdout",
     "output_type": "stream",
     "text": [
      "#442, Result: 0.9423936122541502, {'eta': 0.1297695299564215, 'max_depth': 4, 'lambda': 1.0093415966572257}\n"
     ]
    },
    {
     "name": "stderr",
     "output_type": "stream",
     "text": [
      "[I 2019-12-14 21:56:13,122] Finished trial#442 resulted in value: 0.9423936122541502. Current best value is 0.9530448799539337 with parameters: {'eta': 0.15359982254807167, 'max_depth': 5, 'lambda': 1.0040675732276585}.\n"
     ]
    },
    {
     "name": "stdout",
     "output_type": "stream",
     "text": [
      "#443, Result: 0.9325298968732951, {'eta': 0.20674984924832204, 'max_depth': 5, 'lambda': 0.913184016181273}\n"
     ]
    },
    {
     "name": "stderr",
     "output_type": "stream",
     "text": [
      "[I 2019-12-14 21:56:13,321] Finished trial#443 resulted in value: 0.9325298968732951. Current best value is 0.9530448799539337 with parameters: {'eta': 0.15359982254807167, 'max_depth': 5, 'lambda': 1.0040675732276585}.\n"
     ]
    },
    {
     "name": "stdout",
     "output_type": "stream",
     "text": [
      "#444, Result: 0.9470680551965164, {'eta': 0.1388506244912726, 'max_depth': 4, 'lambda': 0.9405526356093455}\n"
     ]
    },
    {
     "name": "stderr",
     "output_type": "stream",
     "text": [
      "[I 2019-12-14 21:56:13,512] Finished trial#444 resulted in value: 0.9470680551965164. Current best value is 0.9530448799539337 with parameters: {'eta': 0.15359982254807167, 'max_depth': 5, 'lambda': 1.0040675732276585}.\n"
     ]
    },
    {
     "name": "stdout",
     "output_type": "stream",
     "text": [
      "#445, Result: 0.9398493496022252, {'eta': 0.14779064759550015, 'max_depth': 4, 'lambda': 1.0307300004208488}\n"
     ]
    },
    {
     "name": "stderr",
     "output_type": "stream",
     "text": [
      "[I 2019-12-14 21:56:13,708] Finished trial#445 resulted in value: 0.9398493496022252. Current best value is 0.9530448799539337 with parameters: {'eta': 0.15359982254807167, 'max_depth': 5, 'lambda': 1.0040675732276585}.\n"
     ]
    },
    {
     "name": "stdout",
     "output_type": "stream",
     "text": [
      "#446, Result: 0.9482370583911971, {'eta': 0.1646111471554295, 'max_depth': 5, 'lambda': 0.8974331276869378}\n"
     ]
    },
    {
     "name": "stderr",
     "output_type": "stream",
     "text": [
      "[I 2019-12-14 21:56:13,909] Finished trial#446 resulted in value: 0.9482370583911971. Current best value is 0.9530448799539337 with parameters: {'eta': 0.15359982254807167, 'max_depth': 5, 'lambda': 1.0040675732276585}.\n"
     ]
    },
    {
     "name": "stdout",
     "output_type": "stream",
     "text": [
      "#447, Result: 0.9476462335349062, {'eta': 0.14360597322536367, 'max_depth': 4, 'lambda': 0.9689612004968547}\n"
     ]
    },
    {
     "name": "stderr",
     "output_type": "stream",
     "text": [
      "[I 2019-12-14 21:56:14,104] Finished trial#447 resulted in value: 0.9476462335349062. Current best value is 0.9530448799539337 with parameters: {'eta': 0.15359982254807167, 'max_depth': 5, 'lambda': 1.0040675732276585}.\n"
     ]
    },
    {
     "name": "stdout",
     "output_type": "stream",
     "text": [
      "#448, Result: 0.9414598119534506, {'eta': 0.15713000754750228, 'max_depth': 4, 'lambda': 0.9970753655175392}\n"
     ]
    },
    {
     "name": "stderr",
     "output_type": "stream",
     "text": [
      "[I 2019-12-14 21:56:14,297] Finished trial#448 resulted in value: 0.9414598119534506. Current best value is 0.9530448799539337 with parameters: {'eta': 0.15359982254807167, 'max_depth': 5, 'lambda': 1.0040675732276585}.\n"
     ]
    },
    {
     "name": "stdout",
     "output_type": "stream",
     "text": [
      "#449, Result: 0.9401471804695752, {'eta': 0.15191113268707013, 'max_depth': 7, 'lambda': 1.1909905142255648}\n"
     ]
    },
    {
     "name": "stderr",
     "output_type": "stream",
     "text": [
      "[I 2019-12-14 21:56:14,507] Finished trial#449 resulted in value: 0.9401471804695752. Current best value is 0.9530448799539337 with parameters: {'eta': 0.15359982254807167, 'max_depth': 5, 'lambda': 1.0040675732276585}.\n"
     ]
    },
    {
     "name": "stdout",
     "output_type": "stream",
     "text": [
      "#450, Result: 0.9363588776358831, {'eta': 0.11418990113121574, 'max_depth': 4, 'lambda': 1.0378723754737489}\n"
     ]
    },
    {
     "name": "stderr",
     "output_type": "stream",
     "text": [
      "[I 2019-12-14 21:56:14,701] Finished trial#450 resulted in value: 0.9363588776358831. Current best value is 0.9530448799539337 with parameters: {'eta': 0.15359982254807167, 'max_depth': 5, 'lambda': 1.0040675732276585}.\n"
     ]
    },
    {
     "name": "stdout",
     "output_type": "stream",
     "text": [
      "#451, Result: 0.9354814444579858, {'eta': 0.2873742562949798, 'max_depth': 5, 'lambda': 0.9308282228487704}\n"
     ]
    },
    {
     "name": "stderr",
     "output_type": "stream",
     "text": [
      "[I 2019-12-14 21:56:14,909] Finished trial#451 resulted in value: 0.9354814444579858. Current best value is 0.9530448799539337 with parameters: {'eta': 0.15359982254807167, 'max_depth': 5, 'lambda': 1.0040675732276585}.\n"
     ]
    },
    {
     "name": "stdout",
     "output_type": "stream",
     "text": [
      "#452, Result: 0.9369665997475136, {'eta': 0.18267933454761193, 'max_depth': 4, 'lambda': 0.9648705780550084}\n"
     ]
    },
    {
     "name": "stderr",
     "output_type": "stream",
     "text": [
      "[I 2019-12-14 21:56:15,108] Finished trial#452 resulted in value: 0.9369665997475136. Current best value is 0.9530448799539337 with parameters: {'eta': 0.15359982254807167, 'max_depth': 5, 'lambda': 1.0040675732276585}.\n"
     ]
    },
    {
     "name": "stdout",
     "output_type": "stream",
     "text": [
      "#453, Result: 0.9494268018249702, {'eta': 0.16261502753805981, 'max_depth': 4, 'lambda': 0.8768704223145914}\n"
     ]
    },
    {
     "name": "stderr",
     "output_type": "stream",
     "text": [
      "[I 2019-12-14 21:56:15,305] Finished trial#453 resulted in value: 0.9494268018249702. Current best value is 0.9530448799539337 with parameters: {'eta': 0.15359982254807167, 'max_depth': 5, 'lambda': 1.0040675732276585}.\n"
     ]
    },
    {
     "name": "stdout",
     "output_type": "stream",
     "text": [
      "#454, Result: 0.9400876281665531, {'eta': 0.17192648232213303, 'max_depth': 4, 'lambda': 0.8408002397000425}\n"
     ]
    },
    {
     "name": "stderr",
     "output_type": "stream",
     "text": [
      "[I 2019-12-14 21:56:15,505] Finished trial#454 resulted in value: 0.9400876281665531. Current best value is 0.9530448799539337 with parameters: {'eta': 0.15359982254807167, 'max_depth': 5, 'lambda': 1.0040675732276585}.\n"
     ]
    },
    {
     "name": "stdout",
     "output_type": "stream",
     "text": [
      "#455, Result: 0.9435700076381359, {'eta': 0.1659434301133214, 'max_depth': 4, 'lambda': 0.8706554177718281}\n"
     ]
    },
    {
     "name": "stderr",
     "output_type": "stream",
     "text": [
      "[I 2019-12-14 21:56:15,704] Finished trial#455 resulted in value: 0.9435700076381359. Current best value is 0.9530448799539337 with parameters: {'eta': 0.15359982254807167, 'max_depth': 5, 'lambda': 1.0040675732276585}.\n"
     ]
    },
    {
     "name": "stdout",
     "output_type": "stream",
     "text": [
      "#456, Result: 0.9430745607067597, {'eta': 0.16288565956271822, 'max_depth': 4, 'lambda': 0.8534652521784647}\n"
     ]
    },
    {
     "name": "stderr",
     "output_type": "stream",
     "text": [
      "[I 2019-12-14 21:56:15,903] Finished trial#456 resulted in value: 0.9430745607067597. Current best value is 0.9530448799539337 with parameters: {'eta': 0.15359982254807167, 'max_depth': 5, 'lambda': 1.0040675732276585}.\n"
     ]
    },
    {
     "name": "stdout",
     "output_type": "stream",
     "text": [
      "#457, Result: 0.9384934768859943, {'eta': 0.15981857019582255, 'max_depth': 4, 'lambda': 0.804818240279708}\n"
     ]
    },
    {
     "name": "stderr",
     "output_type": "stream",
     "text": [
      "[I 2019-12-14 21:56:16,101] Finished trial#457 resulted in value: 0.9384934768859943. Current best value is 0.9530448799539337 with parameters: {'eta': 0.15359982254807167, 'max_depth': 5, 'lambda': 1.0040675732276585}.\n"
     ]
    },
    {
     "name": "stdout",
     "output_type": "stream",
     "text": [
      "#458, Result: 0.9426000681866786, {'eta': 0.17009663952759904, 'max_depth': 4, 'lambda': 0.9002634738270484}\n"
     ]
    },
    {
     "name": "stderr",
     "output_type": "stream",
     "text": [
      "[I 2019-12-14 21:56:16,305] Finished trial#458 resulted in value: 0.9426000681866786. Current best value is 0.9530448799539337 with parameters: {'eta': 0.15359982254807167, 'max_depth': 5, 'lambda': 1.0040675732276585}.\n"
     ]
    },
    {
     "name": "stdout",
     "output_type": "stream",
     "text": [
      "#459, Result: 0.9409068484415959, {'eta': 0.15726512760392725, 'max_depth': 4, 'lambda': 0.8335977453515092}\n"
     ]
    },
    {
     "name": "stderr",
     "output_type": "stream",
     "text": [
      "[I 2019-12-14 21:56:16,507] Finished trial#459 resulted in value: 0.9409068484415959. Current best value is 0.9530448799539337 with parameters: {'eta': 0.15359982254807167, 'max_depth': 5, 'lambda': 1.0040675732276585}.\n"
     ]
    },
    {
     "name": "stdout",
     "output_type": "stream",
     "text": [
      "#460, Result: 0.9407005415285333, {'eta': 0.16284267434476318, 'max_depth': 4, 'lambda': 0.8760955843306727}\n"
     ]
    },
    {
     "name": "stderr",
     "output_type": "stream",
     "text": [
      "[I 2019-12-14 21:56:16,706] Finished trial#460 resulted in value: 0.9407005415285333. Current best value is 0.9530448799539337 with parameters: {'eta': 0.15359982254807167, 'max_depth': 5, 'lambda': 1.0040675732276585}.\n"
     ]
    },
    {
     "name": "stdout",
     "output_type": "stream",
     "text": [
      "#461, Result: 0.9464378291917293, {'eta': 0.1496086150861097, 'max_depth': 4, 'lambda': 0.8829279358060146}\n"
     ]
    },
    {
     "name": "stderr",
     "output_type": "stream",
     "text": [
      "[I 2019-12-14 21:56:16,907] Finished trial#461 resulted in value: 0.9464378291917293. Current best value is 0.9530448799539337 with parameters: {'eta': 0.15359982254807167, 'max_depth': 5, 'lambda': 1.0040675732276585}.\n"
     ]
    },
    {
     "name": "stdout",
     "output_type": "stream",
     "text": [
      "#462, Result: 0.9373216621187825, {'eta': 0.1753539396962579, 'max_depth': 4, 'lambda': 0.9134982623132153}\n"
     ]
    },
    {
     "name": "stderr",
     "output_type": "stream",
     "text": [
      "[I 2019-12-14 21:56:17,125] Finished trial#462 resulted in value: 0.9373216621187825. Current best value is 0.9530448799539337 with parameters: {'eta': 0.15359982254807167, 'max_depth': 5, 'lambda': 1.0040675732276585}.\n"
     ]
    },
    {
     "name": "stdout",
     "output_type": "stream",
     "text": [
      "#463, Result: 0.9328529251160997, {'eta': 0.15471595002582994, 'max_depth': 4, 'lambda': 1.0714553684072339}\n"
     ]
    },
    {
     "name": "stderr",
     "output_type": "stream",
     "text": [
      "[I 2019-12-14 21:56:17,326] Finished trial#463 resulted in value: 0.9328529251160997. Current best value is 0.9530448799539337 with parameters: {'eta': 0.15359982254807167, 'max_depth': 5, 'lambda': 1.0040675732276585}.\n"
     ]
    },
    {
     "name": "stdout",
     "output_type": "stream",
     "text": [
      "#464, Result: 0.9444215456047237, {'eta': 0.16751983649731295, 'max_depth': 4, 'lambda': 0.9263431397304741}\n"
     ]
    },
    {
     "name": "stderr",
     "output_type": "stream",
     "text": [
      "[I 2019-12-14 21:56:17,526] Finished trial#464 resulted in value: 0.9444215456047237. Current best value is 0.9530448799539337 with parameters: {'eta': 0.15359982254807167, 'max_depth': 5, 'lambda': 1.0040675732276585}.\n"
     ]
    },
    {
     "name": "stdout",
     "output_type": "stream",
     "text": [
      "#465, Result: 0.9418842400827646, {'eta': 0.15954883918509025, 'max_depth': 5, 'lambda': 0.7152353412026395}\n"
     ]
    },
    {
     "name": "stderr",
     "output_type": "stream",
     "text": [
      "[I 2019-12-14 21:56:17,731] Finished trial#465 resulted in value: 0.9418842400827646. Current best value is 0.9530448799539337 with parameters: {'eta': 0.15359982254807167, 'max_depth': 5, 'lambda': 1.0040675732276585}.\n"
     ]
    },
    {
     "name": "stdout",
     "output_type": "stream",
     "text": [
      "#466, Result: 0.942922863841616, {'eta': 0.14473617642534442, 'max_depth': 4, 'lambda': 1.0096287342756534}\n"
     ]
    },
    {
     "name": "stderr",
     "output_type": "stream",
     "text": [
      "[I 2019-12-14 21:56:17,931] Finished trial#466 resulted in value: 0.942922863841616. Current best value is 0.9530448799539337 with parameters: {'eta': 0.15359982254807167, 'max_depth': 5, 'lambda': 1.0040675732276585}.\n"
     ]
    },
    {
     "name": "stdout",
     "output_type": "stream",
     "text": [
      "#467, Result: 0.9457908820637737, {'eta': 0.09727360883353546, 'max_depth': 4, 'lambda': 0.9002932086697208}\n"
     ]
    },
    {
     "name": "stderr",
     "output_type": "stream",
     "text": [
      "[I 2019-12-14 21:56:18,132] Finished trial#467 resulted in value: 0.9457908820637737. Current best value is 0.9530448799539337 with parameters: {'eta': 0.15359982254807167, 'max_depth': 5, 'lambda': 1.0040675732276585}.\n"
     ]
    },
    {
     "name": "stdout",
     "output_type": "stream",
     "text": [
      "#468, Result: 0.9467627088001898, {'eta': 0.1527295073855803, 'max_depth': 5, 'lambda': 0.9770169788524273}\n"
     ]
    },
    {
     "name": "stderr",
     "output_type": "stream",
     "text": [
      "[I 2019-12-14 21:56:18,340] Finished trial#468 resulted in value: 0.9467627088001898. Current best value is 0.9530448799539337 with parameters: {'eta': 0.15359982254807167, 'max_depth': 5, 'lambda': 1.0040675732276585}.\n"
     ]
    },
    {
     "name": "stdout",
     "output_type": "stream",
     "text": [
      "#469, Result: 0.9528203974577246, {'eta': 0.13633559971623535, 'max_depth': 4, 'lambda': 0.9428786440683252}\n"
     ]
    },
    {
     "name": "stderr",
     "output_type": "stream",
     "text": [
      "[I 2019-12-14 21:56:18,545] Finished trial#469 resulted in value: 0.9528203974577246. Current best value is 0.9530448799539337 with parameters: {'eta': 0.15359982254807167, 'max_depth': 5, 'lambda': 1.0040675732276585}.\n"
     ]
    },
    {
     "name": "stdout",
     "output_type": "stream",
     "text": [
      "#470, Result: 0.9423069100843234, {'eta': 0.12441844663651909, 'max_depth': 4, 'lambda': 0.9462276942906993}\n"
     ]
    },
    {
     "name": "stderr",
     "output_type": "stream",
     "text": [
      "[I 2019-12-14 21:56:18,749] Finished trial#470 resulted in value: 0.9423069100843234. Current best value is 0.9530448799539337 with parameters: {'eta': 0.15359982254807167, 'max_depth': 5, 'lambda': 1.0040675732276585}.\n"
     ]
    },
    {
     "name": "stdout",
     "output_type": "stream",
     "text": [
      "#471, Result: 0.9429178479816349, {'eta': 0.1332287973103063, 'max_depth': 4, 'lambda': 0.9278605981557219}\n"
     ]
    },
    {
     "name": "stderr",
     "output_type": "stream",
     "text": [
      "[I 2019-12-14 21:56:18,954] Finished trial#471 resulted in value: 0.9429178479816349. Current best value is 0.9530448799539337 with parameters: {'eta': 0.15359982254807167, 'max_depth': 5, 'lambda': 1.0040675732276585}.\n"
     ]
    },
    {
     "name": "stdout",
     "output_type": "stream",
     "text": [
      "#472, Result: 0.9460707939471219, {'eta': 0.17298733137841585, 'max_depth': 4, 'lambda': 0.9438512016147864}\n"
     ]
    },
    {
     "name": "stderr",
     "output_type": "stream",
     "text": [
      "[I 2019-12-14 21:56:19,161] Finished trial#472 resulted in value: 0.9460707939471219. Current best value is 0.9530448799539337 with parameters: {'eta': 0.15359982254807167, 'max_depth': 5, 'lambda': 1.0040675732276585}.\n"
     ]
    },
    {
     "name": "stdout",
     "output_type": "stream",
     "text": [
      "#473, Result: 0.9371509757175909, {'eta': 0.17864785607068318, 'max_depth': 5, 'lambda': 0.887194350326336}\n"
     ]
    },
    {
     "name": "stderr",
     "output_type": "stream",
     "text": [
      "[I 2019-12-14 21:56:19,390] Finished trial#473 resulted in value: 0.9371509757175909. Current best value is 0.9530448799539337 with parameters: {'eta': 0.15359982254807167, 'max_depth': 5, 'lambda': 1.0040675732276585}.\n"
     ]
    },
    {
     "name": "stdout",
     "output_type": "stream",
     "text": [
      "#474, Result: 0.943372483923568, {'eta': 0.13633830698946323, 'max_depth': 4, 'lambda': 0.8643421867365532}\n"
     ]
    },
    {
     "name": "stderr",
     "output_type": "stream",
     "text": [
      "[I 2019-12-14 21:56:19,595] Finished trial#474 resulted in value: 0.943372483923568. Current best value is 0.9530448799539337 with parameters: {'eta': 0.15359982254807167, 'max_depth': 5, 'lambda': 1.0040675732276585}.\n"
     ]
    },
    {
     "name": "stdout",
     "output_type": "stream",
     "text": [
      "#475, Result: 0.950296203621635, {'eta': 0.16200188908548802, 'max_depth': 4, 'lambda': 0.9928236187361335}\n"
     ]
    },
    {
     "name": "stderr",
     "output_type": "stream",
     "text": [
      "[I 2019-12-14 21:56:19,796] Finished trial#475 resulted in value: 0.950296203621635. Current best value is 0.9530448799539337 with parameters: {'eta': 0.15359982254807167, 'max_depth': 5, 'lambda': 1.0040675732276585}.\n"
     ]
    },
    {
     "name": "stdout",
     "output_type": "stream",
     "text": [
      "#476, Result: 0.9451772157396627, {'eta': 0.1678650893769617, 'max_depth': 5, 'lambda': 1.0299547423951991}\n"
     ]
    },
    {
     "name": "stderr",
     "output_type": "stream",
     "text": [
      "[I 2019-12-14 21:56:20,001] Finished trial#476 resulted in value: 0.9451772157396627. Current best value is 0.9530448799539337 with parameters: {'eta': 0.15359982254807167, 'max_depth': 5, 'lambda': 1.0040675732276585}.\n"
     ]
    },
    {
     "name": "stdout",
     "output_type": "stream",
     "text": [
      "#477, Result: 0.9463156152092368, {'eta': 0.16389605610656566, 'max_depth': 4, 'lambda': 0.9110224628653454}\n"
     ]
    },
    {
     "name": "stderr",
     "output_type": "stream",
     "text": [
      "[I 2019-12-14 21:56:20,208] Finished trial#477 resulted in value: 0.9463156152092368. Current best value is 0.9530448799539337 with parameters: {'eta': 0.15359982254807167, 'max_depth': 5, 'lambda': 1.0040675732276585}.\n"
     ]
    },
    {
     "name": "stdout",
     "output_type": "stream",
     "text": [
      "#478, Result: 0.9433859362211825, {'eta': 0.17173637574629522, 'max_depth': 4, 'lambda': 0.9545697793476854}\n"
     ]
    },
    {
     "name": "stderr",
     "output_type": "stream",
     "text": [
      "[I 2019-12-14 21:56:20,413] Finished trial#478 resulted in value: 0.9433859362211825. Current best value is 0.9530448799539337 with parameters: {'eta': 0.15359982254807167, 'max_depth': 5, 'lambda': 1.0040675732276585}.\n"
     ]
    },
    {
     "name": "stdout",
     "output_type": "stream",
     "text": [
      "#479, Result: 0.9389828249332037, {'eta': 0.16278336318464784, 'max_depth': 4, 'lambda': 0.8223276519367755}\n"
     ]
    },
    {
     "name": "stderr",
     "output_type": "stream",
     "text": [
      "[I 2019-12-14 21:56:20,618] Finished trial#479 resulted in value: 0.9389828249332037. Current best value is 0.9530448799539337 with parameters: {'eta': 0.15359982254807167, 'max_depth': 5, 'lambda': 1.0040675732276585}.\n"
     ]
    },
    {
     "name": "stdout",
     "output_type": "stream",
     "text": [
      "#480, Result: 0.9394230247706937, {'eta': 0.1769205495678093, 'max_depth': 4, 'lambda': 0.9947220502829829}\n"
     ]
    },
    {
     "name": "stderr",
     "output_type": "stream",
     "text": [
      "[I 2019-12-14 21:56:20,821] Finished trial#480 resulted in value: 0.9394230247706937. Current best value is 0.9530448799539337 with parameters: {'eta': 0.15359982254807167, 'max_depth': 5, 'lambda': 1.0040675732276585}.\n"
     ]
    },
    {
     "name": "stdout",
     "output_type": "stream",
     "text": [
      "#481, Result: 0.9520554783319245, {'eta': 0.13966240155664084, 'max_depth': 5, 'lambda': 0.9645139680898484}\n"
     ]
    },
    {
     "name": "stderr",
     "output_type": "stream",
     "text": [
      "[I 2019-12-14 21:56:21,029] Finished trial#481 resulted in value: 0.9520554783319245. Current best value is 0.9530448799539337 with parameters: {'eta': 0.15359982254807167, 'max_depth': 5, 'lambda': 1.0040675732276585}.\n"
     ]
    },
    {
     "name": "stdout",
     "output_type": "stream",
     "text": [
      "#482, Result: 0.9438410415840691, {'eta': 0.18546210274371422, 'max_depth': 5, 'lambda': 1.0598401173302117}\n"
     ]
    },
    {
     "name": "stderr",
     "output_type": "stream",
     "text": [
      "[I 2019-12-14 21:56:21,238] Finished trial#482 resulted in value: 0.9438410415840691. Current best value is 0.9530448799539337 with parameters: {'eta': 0.15359982254807167, 'max_depth': 5, 'lambda': 1.0040675732276585}.\n"
     ]
    },
    {
     "name": "stdout",
     "output_type": "stream",
     "text": [
      "#483, Result: 0.9394318553404286, {'eta': 0.12851143399428872, 'max_depth': 5, 'lambda': 1.6578320232291888}\n"
     ]
    },
    {
     "name": "stderr",
     "output_type": "stream",
     "text": [
      "[I 2019-12-14 21:56:21,447] Finished trial#483 resulted in value: 0.9394318553404286. Current best value is 0.9530448799539337 with parameters: {'eta': 0.15359982254807167, 'max_depth': 5, 'lambda': 1.0040675732276585}.\n"
     ]
    },
    {
     "name": "stdout",
     "output_type": "stream",
     "text": [
      "#484, Result: 0.9438136364069549, {'eta': 0.13595012027254255, 'max_depth': 5, 'lambda': 0.977257227977583}\n"
     ]
    },
    {
     "name": "stderr",
     "output_type": "stream",
     "text": [
      "[I 2019-12-14 21:56:21,658] Finished trial#484 resulted in value: 0.9438136364069549. Current best value is 0.9530448799539337 with parameters: {'eta': 0.15359982254807167, 'max_depth': 5, 'lambda': 1.0040675732276585}.\n"
     ]
    },
    {
     "name": "stdout",
     "output_type": "stream",
     "text": [
      "#485, Result: 0.943883703477391, {'eta': 0.1316019482116503, 'max_depth': 5, 'lambda': 1.0146371080062269}\n"
     ]
    },
    {
     "name": "stderr",
     "output_type": "stream",
     "text": [
      "[I 2019-12-14 21:56:21,878] Finished trial#485 resulted in value: 0.943883703477391. Current best value is 0.9530448799539337 with parameters: {'eta': 0.15359982254807167, 'max_depth': 5, 'lambda': 1.0040675732276585}.\n"
     ]
    },
    {
     "name": "stdout",
     "output_type": "stream",
     "text": [
      "#486, Result: 0.9444978869095817, {'eta': 0.14115076707507057, 'max_depth': 5, 'lambda': 1.1471285559034416}\n"
     ]
    },
    {
     "name": "stderr",
     "output_type": "stream",
     "text": [
      "[I 2019-12-14 21:56:22,089] Finished trial#486 resulted in value: 0.9444978869095817. Current best value is 0.9530448799539337 with parameters: {'eta': 0.15359982254807167, 'max_depth': 5, 'lambda': 1.0040675732276585}.\n"
     ]
    },
    {
     "name": "stdout",
     "output_type": "stream",
     "text": [
      "#487, Result: 0.9371499813935682, {'eta': 0.12141179915045949, 'max_depth': 5, 'lambda': 0.9223038709635468}\n"
     ]
    },
    {
     "name": "stderr",
     "output_type": "stream",
     "text": [
      "[I 2019-12-14 21:56:22,299] Finished trial#487 resulted in value: 0.9371499813935682. Current best value is 0.9530448799539337 with parameters: {'eta': 0.15359982254807167, 'max_depth': 5, 'lambda': 1.0040675732276585}.\n"
     ]
    },
    {
     "name": "stdout",
     "output_type": "stream",
     "text": [
      "#488, Result: 0.9436588280773801, {'eta': 0.1693488104929577, 'max_depth': 5, 'lambda': 0.9998608244219944}\n"
     ]
    },
    {
     "name": "stderr",
     "output_type": "stream",
     "text": [
      "[I 2019-12-14 21:56:22,509] Finished trial#488 resulted in value: 0.9436588280773801. Current best value is 0.9530448799539337 with parameters: {'eta': 0.15359982254807167, 'max_depth': 5, 'lambda': 1.0040675732276585}.\n"
     ]
    },
    {
     "name": "stdout",
     "output_type": "stream",
     "text": [
      "#489, Result: 0.9433329490651475, {'eta': 0.15764833076505386, 'max_depth': 11, 'lambda': 0.9562801837264655}\n"
     ]
    },
    {
     "name": "stderr",
     "output_type": "stream",
     "text": [
      "[I 2019-12-14 21:56:22,744] Finished trial#489 resulted in value: 0.9433329490651475. Current best value is 0.9530448799539337 with parameters: {'eta': 0.15359982254807167, 'max_depth': 5, 'lambda': 1.0040675732276585}.\n"
     ]
    },
    {
     "name": "stdout",
     "output_type": "stream",
     "text": [
      "#490, Result: 0.9413638908401601, {'eta': 0.13947150507394399, 'max_depth': 5, 'lambda': 1.0407196387820576}\n"
     ]
    },
    {
     "name": "stderr",
     "output_type": "stream",
     "text": [
      "[I 2019-12-14 21:56:22,953] Finished trial#490 resulted in value: 0.9413638908401601. Current best value is 0.9530448799539337 with parameters: {'eta': 0.15359982254807167, 'max_depth': 5, 'lambda': 1.0040675732276585}.\n"
     ]
    },
    {
     "name": "stdout",
     "output_type": "stream",
     "text": [
      "#491, Result: 0.9431698379447611, {'eta': 0.1466208116774539, 'max_depth': 5, 'lambda': 0.8939293785856076}\n"
     ]
    },
    {
     "name": "stderr",
     "output_type": "stream",
     "text": [
      "[I 2019-12-14 21:56:23,160] Finished trial#491 resulted in value: 0.9431698379447611. Current best value is 0.9530448799539337 with parameters: {'eta': 0.15359982254807167, 'max_depth': 5, 'lambda': 1.0040675732276585}.\n"
     ]
    },
    {
     "name": "stdout",
     "output_type": "stream",
     "text": [
      "#492, Result: 0.9439531206756852, {'eta': 0.16273592617680877, 'max_depth': 5, 'lambda': 0.8571296007979154}\n"
     ]
    },
    {
     "name": "stderr",
     "output_type": "stream",
     "text": [
      "[I 2019-12-14 21:56:23,396] Finished trial#492 resulted in value: 0.9439531206756852. Current best value is 0.9530448799539337 with parameters: {'eta': 0.15359982254807167, 'max_depth': 5, 'lambda': 1.0040675732276585}.\n"
     ]
    },
    {
     "name": "stdout",
     "output_type": "stream",
     "text": [
      "#493, Result: 0.9438772503042413, {'eta': 0.12720931383092865, 'max_depth': 4, 'lambda': 0.974657500161582}\n"
     ]
    },
    {
     "name": "stderr",
     "output_type": "stream",
     "text": [
      "[I 2019-12-14 21:56:23,604] Finished trial#493 resulted in value: 0.9438772503042413. Current best value is 0.9530448799539337 with parameters: {'eta': 0.15359982254807167, 'max_depth': 5, 'lambda': 1.0040675732276585}.\n"
     ]
    },
    {
     "name": "stdout",
     "output_type": "stream",
     "text": [
      "#494, Result: 0.9426853719213003, {'eta': 0.15653076428039475, 'max_depth': 5, 'lambda': 1.1078988369528833}\n"
     ]
    },
    {
     "name": "stderr",
     "output_type": "stream",
     "text": [
      "[I 2019-12-14 21:56:23,814] Finished trial#494 resulted in value: 0.9426853719213003. Current best value is 0.9530448799539337 with parameters: {'eta': 0.15359982254807167, 'max_depth': 5, 'lambda': 1.0040675732276585}.\n"
     ]
    },
    {
     "name": "stdout",
     "output_type": "stream",
     "text": [
      "#495, Result: 0.9499543197092573, {'eta': 0.1423959117354275, 'max_depth': 6, 'lambda': 0.9314336904009153}\n"
     ]
    },
    {
     "name": "stderr",
     "output_type": "stream",
     "text": [
      "[I 2019-12-14 21:56:24,030] Finished trial#495 resulted in value: 0.9499543197092573. Current best value is 0.9530448799539337 with parameters: {'eta': 0.15359982254807167, 'max_depth': 5, 'lambda': 1.0040675732276585}.\n"
     ]
    },
    {
     "name": "stdout",
     "output_type": "stream",
     "text": [
      "#496, Result: 0.9437838037891377, {'eta': 0.13750583317345993, 'max_depth': 6, 'lambda': 1.01752745462452}\n"
     ]
    },
    {
     "name": "stderr",
     "output_type": "stream",
     "text": [
      "[I 2019-12-14 21:56:24,247] Finished trial#496 resulted in value: 0.9437838037891377. Current best value is 0.9530448799539337 with parameters: {'eta': 0.15359982254807167, 'max_depth': 5, 'lambda': 1.0040675732276585}.\n"
     ]
    },
    {
     "name": "stdout",
     "output_type": "stream",
     "text": [
      "#497, Result: 0.933211125091977, {'eta': 0.13399363604010656, 'max_depth': 6, 'lambda': 0.9477747213082304}\n"
     ]
    },
    {
     "name": "stderr",
     "output_type": "stream",
     "text": [
      "[I 2019-12-14 21:56:24,464] Finished trial#497 resulted in value: 0.933211125091977. Current best value is 0.9530448799539337 with parameters: {'eta': 0.15359982254807167, 'max_depth': 5, 'lambda': 1.0040675732276585}.\n"
     ]
    },
    {
     "name": "stdout",
     "output_type": "stream",
     "text": [
      "#498, Result: 0.9405379980196634, {'eta': 0.14307134564091858, 'max_depth': 6, 'lambda': 0.9096268788242737}\n"
     ]
    },
    {
     "name": "stderr",
     "output_type": "stream",
     "text": [
      "[I 2019-12-14 21:56:24,679] Finished trial#498 resulted in value: 0.9405379980196634. Current best value is 0.9530448799539337 with parameters: {'eta': 0.15359982254807167, 'max_depth': 5, 'lambda': 1.0040675732276585}.\n"
     ]
    },
    {
     "name": "stdout",
     "output_type": "stream",
     "text": [
      "#499, Result: 0.9451385721692452, {'eta': 0.1399512997944577, 'max_depth': 6, 'lambda': 0.9998555419185053}\n"
     ]
    },
    {
     "name": "stderr",
     "output_type": "stream",
     "text": [
      "[I 2019-12-14 21:56:24,897] Finished trial#499 resulted in value: 0.9451385721692452. Current best value is 0.9530448799539337 with parameters: {'eta': 0.15359982254807167, 'max_depth': 5, 'lambda': 1.0040675732276585}.\n"
     ]
    }
   ],
   "source": [
    "study = optuna.create_study(direction='maximize')\n",
    "study.optimize(optimizer, n_trials=500)"
   ]
  },
  {
   "cell_type": "code",
   "execution_count": 8,
   "metadata": {
    "ExecuteTime": {
     "end_time": "2019-12-14T12:56:24.914471Z",
     "start_time": "2019-12-14T12:56:24.902551Z"
    }
   },
   "outputs": [
    {
     "data": {
      "text/plain": [
       "{'eta': 0.15359982254807167, 'max_depth': 5, 'lambda': 1.0040675732276585}"
      ]
     },
     "execution_count": 8,
     "metadata": {},
     "output_type": "execute_result"
    }
   ],
   "source": [
    "study.best_params"
   ]
  },
  {
   "cell_type": "code",
   "execution_count": 9,
   "metadata": {
    "ExecuteTime": {
     "end_time": "2019-12-14T12:56:27.981105Z",
     "start_time": "2019-12-14T12:56:24.916765Z"
    }
   },
   "outputs": [
    {
     "data": {
      "text/plain": [
       "<seaborn.axisgrid.PairGrid at 0x130689be0>"
      ]
     },
     "execution_count": 9,
     "metadata": {},
     "output_type": "execute_result"
    },
    {
     "data": {
      "image/png": "[encoded data removed]",
      "text/plain": [
       "<Figure size 720x720 with 20 Axes>"
      ]
     },
     "metadata": {
      "needs_background": "light"
     },
     "output_type": "display_data"
    }
   ],
   "source": [
    "%matplotlib inline\n",
    "import seaborn as sns\n",
    "\n",
    "study_df = study.trials_dataframe()[['value', 'params']]\n",
    "sns.pairplot(study_df, kind='reg')"
   ]
  },
  {
   "cell_type": "markdown",
   "metadata": {},
   "source": [
    "## 見つけたパラメータでモデル作成"
   ]
  },
  {
   "cell_type": "code",
   "execution_count": 10,
   "metadata": {
    "ExecuteTime": {
     "end_time": "2019-12-14T12:56:28.167499Z",
     "start_time": "2019-12-14T12:56:27.982482Z"
    },
    "scrolled": true
   },
   "outputs": [
    {
     "name": "stdout",
     "output_type": "stream",
     "text": [
      "[0]\ttrain-rmse:20.3573\teval-rmse:20.5125\n",
      "[1]\ttrain-rmse:17.4151\teval-rmse:17.5057\n",
      "[2]\ttrain-rmse:14.9285\teval-rmse:14.9457\n",
      "[3]\ttrain-rmse:12.8167\teval-rmse:12.8562\n",
      "[4]\ttrain-rmse:11.0297\teval-rmse:11.0896\n",
      "[5]\ttrain-rmse:9.50832\teval-rmse:9.517\n",
      "[6]\ttrain-rmse:8.22248\teval-rmse:8.23524\n",
      "[7]\ttrain-rmse:7.1255\teval-rmse:7.17644\n",
      "[8]\ttrain-rmse:6.204\teval-rmse:6.2677\n",
      "[9]\ttrain-rmse:5.41776\teval-rmse:5.47345\n",
      "[10]\ttrain-rmse:4.75697\teval-rmse:4.89422\n",
      "[11]\ttrain-rmse:4.19706\teval-rmse:4.37599\n",
      "[12]\ttrain-rmse:3.7265\teval-rmse:3.92383\n",
      "[13]\ttrain-rmse:3.32723\teval-rmse:3.57058\n",
      "[14]\ttrain-rmse:3.00008\teval-rmse:3.27994\n",
      "[15]\ttrain-rmse:2.72081\teval-rmse:3.05908\n",
      "[16]\ttrain-rmse:2.49123\teval-rmse:2.8626\n",
      "[17]\ttrain-rmse:2.29414\teval-rmse:2.74534\n",
      "[18]\ttrain-rmse:2.13253\teval-rmse:2.62479\n",
      "[19]\ttrain-rmse:1.98742\teval-rmse:2.52707\n",
      "[20]\ttrain-rmse:1.87095\teval-rmse:2.44232\n",
      "[21]\ttrain-rmse:1.75749\teval-rmse:2.38228\n",
      "[22]\ttrain-rmse:1.66836\teval-rmse:2.34593\n",
      "[23]\ttrain-rmse:1.59094\teval-rmse:2.29873\n",
      "[24]\ttrain-rmse:1.52914\teval-rmse:2.26351\n",
      "[25]\ttrain-rmse:1.4788\teval-rmse:2.24068\n",
      "[26]\ttrain-rmse:1.43225\teval-rmse:2.18974\n",
      "[27]\ttrain-rmse:1.38995\teval-rmse:2.17104\n",
      "[28]\ttrain-rmse:1.35272\teval-rmse:2.13691\n",
      "[29]\ttrain-rmse:1.3233\teval-rmse:2.13358\n",
      "[30]\ttrain-rmse:1.29673\teval-rmse:2.12255\n",
      "[31]\ttrain-rmse:1.26552\teval-rmse:2.12622\n",
      "[32]\ttrain-rmse:1.2302\teval-rmse:2.10781\n",
      "[33]\ttrain-rmse:1.20538\teval-rmse:2.09643\n",
      "[34]\ttrain-rmse:1.16772\teval-rmse:2.08444\n",
      "[35]\ttrain-rmse:1.13892\teval-rmse:2.06424\n",
      "[36]\ttrain-rmse:1.11112\teval-rmse:2.05904\n",
      "[37]\ttrain-rmse:1.09238\teval-rmse:2.04891\n",
      "[38]\ttrain-rmse:1.07042\teval-rmse:2.04236\n",
      "[39]\ttrain-rmse:1.0488\teval-rmse:2.04925\n",
      "[40]\ttrain-rmse:1.0121\teval-rmse:2.03775\n",
      "[41]\ttrain-rmse:0.987048\teval-rmse:2.03319\n",
      "[42]\ttrain-rmse:0.970575\teval-rmse:2.02816\n",
      "[43]\ttrain-rmse:0.960813\teval-rmse:2.03192\n",
      "[44]\ttrain-rmse:0.925342\teval-rmse:2.03136\n",
      "[45]\ttrain-rmse:0.899336\teval-rmse:2.02989\n",
      "[46]\ttrain-rmse:0.874697\teval-rmse:2.02747\n",
      "[47]\ttrain-rmse:0.844849\teval-rmse:2.02455\n",
      "[48]\ttrain-rmse:0.8256\teval-rmse:2.02136\n",
      "[49]\ttrain-rmse:0.810315\teval-rmse:2.02218\n",
      "[50]\ttrain-rmse:0.798017\teval-rmse:2.02452\n",
      "[51]\ttrain-rmse:0.783635\teval-rmse:2.02137\n",
      "[52]\ttrain-rmse:0.776688\teval-rmse:2.02067\n",
      "[53]\ttrain-rmse:0.765218\teval-rmse:2.02362\n",
      "[54]\ttrain-rmse:0.751671\teval-rmse:2.02675\n",
      "[55]\ttrain-rmse:0.732391\teval-rmse:2.03227\n",
      "[56]\ttrain-rmse:0.721336\teval-rmse:2.03196\n",
      "[57]\ttrain-rmse:0.704915\teval-rmse:2.0354\n",
      "[58]\ttrain-rmse:0.693004\teval-rmse:2.03536\n",
      "[59]\ttrain-rmse:0.682768\teval-rmse:2.03688\n",
      "[60]\ttrain-rmse:0.657499\teval-rmse:2.03618\n",
      "[61]\ttrain-rmse:0.649976\teval-rmse:2.03552\n",
      "[62]\ttrain-rmse:0.636688\teval-rmse:2.0337\n",
      "[63]\ttrain-rmse:0.61631\teval-rmse:2.02718\n",
      "[64]\ttrain-rmse:0.597598\teval-rmse:2.02805\n",
      "[65]\ttrain-rmse:0.590123\teval-rmse:2.02971\n",
      "[66]\ttrain-rmse:0.581227\teval-rmse:2.02656\n",
      "[67]\ttrain-rmse:0.569622\teval-rmse:2.02686\n",
      "[68]\ttrain-rmse:0.552821\teval-rmse:2.02728\n",
      "[69]\ttrain-rmse:0.546537\teval-rmse:2.02764\n",
      "[70]\ttrain-rmse:0.529385\teval-rmse:2.02916\n",
      "[71]\ttrain-rmse:0.520047\teval-rmse:2.02643\n",
      "[72]\ttrain-rmse:0.511144\teval-rmse:2.02592\n",
      "[73]\ttrain-rmse:0.506481\teval-rmse:2.02537\n",
      "[74]\ttrain-rmse:0.503184\teval-rmse:2.02641\n",
      "[75]\ttrain-rmse:0.49413\teval-rmse:2.02641\n",
      "[76]\ttrain-rmse:0.490679\teval-rmse:2.02555\n",
      "[77]\ttrain-rmse:0.478213\teval-rmse:2.02624\n",
      "[78]\ttrain-rmse:0.471261\teval-rmse:2.02679\n",
      "[79]\ttrain-rmse:0.465511\teval-rmse:2.02929\n",
      "[80]\ttrain-rmse:0.45432\teval-rmse:2.0305\n",
      "[81]\ttrain-rmse:0.449126\teval-rmse:2.03298\n",
      "[82]\ttrain-rmse:0.445626\teval-rmse:2.03622\n",
      "[83]\ttrain-rmse:0.437888\teval-rmse:2.03682\n",
      "[84]\ttrain-rmse:0.433407\teval-rmse:2.03946\n",
      "[85]\ttrain-rmse:0.429056\teval-rmse:2.04178\n",
      "[86]\ttrain-rmse:0.425669\teval-rmse:2.0429\n",
      "[87]\ttrain-rmse:0.411111\teval-rmse:2.04231\n",
      "[88]\ttrain-rmse:0.402183\teval-rmse:2.04171\n",
      "[89]\ttrain-rmse:0.398426\teval-rmse:2.04141\n",
      "[90]\ttrain-rmse:0.391912\teval-rmse:2.03983\n",
      "[91]\ttrain-rmse:0.383459\teval-rmse:2.04042\n",
      "[92]\ttrain-rmse:0.376385\teval-rmse:2.04129\n",
      "[93]\ttrain-rmse:0.367237\teval-rmse:2.04051\n",
      "[94]\ttrain-rmse:0.363484\teval-rmse:2.04053\n",
      "[95]\ttrain-rmse:0.359598\teval-rmse:2.04219\n",
      "[96]\ttrain-rmse:0.356684\teval-rmse:2.04221\n",
      "[97]\ttrain-rmse:0.351075\teval-rmse:2.04147\n",
      "[98]\ttrain-rmse:0.349211\teval-rmse:2.04234\n",
      "[99]\ttrain-rmse:0.346584\teval-rmse:2.04457\n"
     ]
    }
   ],
   "source": [
    "params = dict(params, **study.best_params)\n",
    "watchlist = [(trains, 'train'), (tests, 'eval')]\n",
    "\n",
    "model = xgb.train(params, trains, num_boost_round=100, verbose_eval=True, evals=watchlist)"
   ]
  },
  {
   "cell_type": "code",
   "execution_count": 11,
   "metadata": {
    "ExecuteTime": {
     "end_time": "2019-12-14T12:56:28.172560Z",
     "start_time": "2019-12-14T12:56:28.169144Z"
    }
   },
   "outputs": [],
   "source": [
    "predicts = model.predict(tests)"
   ]
  },
  {
   "cell_type": "code",
   "execution_count": 12,
   "metadata": {
    "ExecuteTime": {
     "end_time": "2019-12-14T12:56:28.179603Z",
     "start_time": "2019-12-14T12:56:28.174709Z"
    }
   },
   "outputs": [
    {
     "data": {
      "text/plain": [
       "0.9519996238263829"
      ]
     },
     "execution_count": 12,
     "metadata": {},
     "output_type": "execute_result"
    }
   ],
   "source": [
    "from sklearn.metrics import r2_score\n",
    "\n",
    "r2_score(test_labels, predicts)"
   ]
  }
 ],
 "metadata": {
  "kernelspec": {
   "display_name": "Python 3",
   "language": "python",
   "name": "python3"
  },
  "language_info": {
   "codemirror_mode": {
    "name": "ipython",
    "version": 3
   },
   "file_extension": ".py",
   "mimetype": "text/x-python",
   "name": "python",
   "nbconvert_exporter": "python",
   "pygments_lexer": "ipython3",
   "version": "3.6.8"
  },
  "varInspector": {
   "cols": {
    "lenName": 16,
    "lenType": 16,
    "lenVar": 40
   },
   "kernels_config": {
    "python": {
     "delete_cmd_postfix": "",
     "delete_cmd_prefix": "del ",
     "library": "var_list.py",
     "varRefreshCmd": "print(var_dic_list())"
    },
    "r": {
     "delete_cmd_postfix": ") ",
     "delete_cmd_prefix": "rm(",
     "library": "var_list.r",
     "varRefreshCmd": "cat(var_dic_list()) "
    }
   },
   "types_to_exclude": [
    "module",
    "function",
    "builtin_function_or_method",
    "instance",
    "_Feature"
   ],
   "window_display": false
  }
 },
 "nbformat": 4,
 "nbformat_minor": 2
}
