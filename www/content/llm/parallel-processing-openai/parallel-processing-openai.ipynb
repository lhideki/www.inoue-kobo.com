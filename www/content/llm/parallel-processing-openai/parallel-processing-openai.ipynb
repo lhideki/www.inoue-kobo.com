{
 "cells": [
  {
   "cell_type": "code",
   "execution_count": 1,
   "metadata": {},
   "outputs": [],
   "source": [
    "from __future__ import annotations\n",
    "import openai\n",
    "import urllib\n",
    "import pandas as pd\n",
    "\n",
    "urls = [\n",
    "    \"https://www.inoue-kobo.com/llm/openai-reduce-embedding-dim/\",\n",
    "    \"https://www.inoue-kobo.com/aws/selenium-serverless/\",\n",
    "    \"https://www.inoue-kobo.com/aws/aws-service-summary/\",\n",
    "    \"https://www.inoue-kobo.com/ai_ml/duckduckgo-langchain-langsmith/\",\n",
    "    \"https://www.inoue-kobo.com/ai_ml/llamaindex-pdf-gradio/\",\n",
    "]\n",
    "\n",
    "summary_df = pd.DataFrame(urls, columns=[\"url\"])\n",
    "pd.set_option(\"display.max_colwidth\", None)"
   ]
  },
  {
   "cell_type": "markdown",
   "metadata": {},
   "source": [
    "## 単純に apply するだけ"
   ]
  },
  {
   "cell_type": "code",
   "execution_count": 2,
   "metadata": {},
   "outputs": [],
   "source": [
    "def get_summary(url: str) -> str | None:\n",
    "    res_web = urllib.request.urlopen(url)  # type: ignore\n",
    "    content = res_web.read().decode(\"utf-8\")\n",
    "\n",
    "    res_openai = openai.chat.completions.create(\n",
    "        model=\"gpt-3.5-turbo\",\n",
    "        temperature=0,\n",
    "        messages=[\n",
    "            {\n",
    "                \"role\": \"system\",\n",
    "                \"content\": \"以下はWebサイトの内容です。HTMLタグを削除した上で、150文字以内で要約してください。\",\n",
    "            },\n",
    "            {\"role\": \"user\", \"content\": content},\n",
    "        ],\n",
    "    )\n",
    "\n",
    "    return res_openai.choices[0].message.content"
   ]
  },
  {
   "cell_type": "code",
   "execution_count": 3,
   "metadata": {},
   "outputs": [
    {
     "data": {
      "text/html": [
       "<div>\n",
       "<style scoped>\n",
       "    .dataframe tbody tr th:only-of-type {\n",
       "        vertical-align: middle;\n",
       "    }\n",
       "\n",
       "    .dataframe tbody tr th {\n",
       "        vertical-align: top;\n",
       "    }\n",
       "\n",
       "    .dataframe thead th {\n",
       "        text-align: right;\n",
       "    }\n",
       "</style>\n",
       "<table border=\"1\" class=\"dataframe\">\n",
       "  <thead>\n",
       "    <tr style=\"text-align: right;\">\n",
       "      <th></th>\n",
       "      <th>url</th>\n",
       "      <th>summary</th>\n",
       "    </tr>\n",
       "  </thead>\n",
       "  <tbody>\n",
       "    <tr>\n",
       "      <th>0</th>\n",
       "      <td>https://www.inoue-kobo.com/llm/openai-reduce-embedding-dim/</td>\n",
       "      <td>INOUE-KOBO.COMの記事では、OpenAI API Embeddingsのdim指定の実装方法が紹介されています。新しいモデルtext-embedding-3では、出力の次元数を指定できるようになりました。記事ではAPIを使用して次元数を指定する方法やPCAを使用した次元削減の方法などが詳細に説明されています。</td>\n",
       "    </tr>\n",
       "    <tr>\n",
       "      <th>1</th>\n",
       "      <td>https://www.inoue-kobo.com/aws/selenium-serverless/</td>\n",
       "      <td>Webサイトでは、SeleniumをAWS Lambdaでサーバーレスに動かす方法について解説しています。Dockerコンテナやコードサンプルを利用し、AWS CDKで実行する手順が記載されています。デプロイ方法やテスト方法も詳細に説明されています。</td>\n",
       "    </tr>\n",
       "    <tr>\n",
       "      <th>2</th>\n",
       "      <td>https://www.inoue-kobo.com/aws/aws-service-summary/</td>\n",
       "      <td>このWebサイトは、AWSサービス一覧をNotionデータベースにまとめる方法について解説しています。AWS公式のサービス一覧を取得し、Notionデータベースに登録する手順やNotion AIを利用した説明の追加方法が記載されています。記事にはPythonコードや参考文献も含まれています。</td>\n",
       "    </tr>\n",
       "    <tr>\n",
       "      <th>3</th>\n",
       "      <td>https://www.inoue-kobo.com/ai_ml/duckduckgo-langchain-langsmith/</td>\n",
       "      <td>API Key不要でDuckDuckGoとLangChainを使用して質問応答ボットを作る方法についての記事。LangChainのAgent機能を使い、Google検索APIの代わりにDuckDuckGoを利用。LangSmithとの連携も紹介。Pythonコードや実行例も掲載。</td>\n",
       "    </tr>\n",
       "    <tr>\n",
       "      <th>4</th>\n",
       "      <td>https://www.inoue-kobo.com/ai_ml/llamaindex-pdf-gradio/</td>\n",
       "      <td>このWebサイトは、ローカルに保存した英語のPDFに日本語で質問応答するGradioのデモンストレーションを提供しています。PDFを読み込み、OpenAIのモデルを使用して質問に回答するWebアプリケーションを実装しています。具体的なユースケースや手順、実行結果などが詳細に記載されています。</td>\n",
       "    </tr>\n",
       "  </tbody>\n",
       "</table>\n",
       "</div>"
      ],
      "text/plain": [
       "                                                                url  \\\n",
       "0       https://www.inoue-kobo.com/llm/openai-reduce-embedding-dim/   \n",
       "1               https://www.inoue-kobo.com/aws/selenium-serverless/   \n",
       "2               https://www.inoue-kobo.com/aws/aws-service-summary/   \n",
       "3  https://www.inoue-kobo.com/ai_ml/duckduckgo-langchain-langsmith/   \n",
       "4           https://www.inoue-kobo.com/ai_ml/llamaindex-pdf-gradio/   \n",
       "\n",
       "                                                                                                                                                             summary  \n",
       "0  INOUE-KOBO.COMの記事では、OpenAI API Embeddingsのdim指定の実装方法が紹介されています。新しいモデルtext-embedding-3では、出力の次元数を指定できるようになりました。記事ではAPIを使用して次元数を指定する方法やPCAを使用した次元削減の方法などが詳細に説明されています。  \n",
       "1                                      Webサイトでは、SeleniumをAWS Lambdaでサーバーレスに動かす方法について解説しています。Dockerコンテナやコードサンプルを利用し、AWS CDKで実行する手順が記載されています。デプロイ方法やテスト方法も詳細に説明されています。  \n",
       "2                 このWebサイトは、AWSサービス一覧をNotionデータベースにまとめる方法について解説しています。AWS公式のサービス一覧を取得し、Notionデータベースに登録する手順やNotion AIを利用した説明の追加方法が記載されています。記事にはPythonコードや参考文献も含まれています。  \n",
       "3                       API Key不要でDuckDuckGoとLangChainを使用して質問応答ボットを作る方法についての記事。LangChainのAgent機能を使い、Google検索APIの代わりにDuckDuckGoを利用。LangSmithとの連携も紹介。Pythonコードや実行例も掲載。  \n",
       "4                 このWebサイトは、ローカルに保存した英語のPDFに日本語で質問応答するGradioのデモンストレーションを提供しています。PDFを読み込み、OpenAIのモデルを使用して質問に回答するWebアプリケーションを実装しています。具体的なユースケースや手順、実行結果などが詳細に記載されています。  "
      ]
     },
     "metadata": {},
     "output_type": "display_data"
    }
   ],
   "source": [
    "summary_df[\"summary\"] = summary_df[\"url\"].apply(get_summary)\n",
    "\n",
    "display(summary_df)"
   ]
  },
  {
   "cell_type": "markdown",
   "metadata": {},
   "source": [
    "## async を使う\n"
   ]
  },
  {
   "cell_type": "code",
   "execution_count": 4,
   "metadata": {},
   "outputs": [],
   "source": [
    "import asyncio\n",
    "\n",
    "\n",
    "async def aget_summary(url: str) -> str | None:\n",
    "    res_web = urllib.request.urlopen(url)  # type: ignore\n",
    "    content = res_web.read().decode(\"utf-8\")\n",
    "\n",
    "    res_openai = openai.chat.completions.create(\n",
    "        model=\"gpt-3.5-turbo\",\n",
    "        temperature=0,\n",
    "        messages=[\n",
    "            {\n",
    "                \"role\": \"system\",\n",
    "                \"content\": \"以下はWebサイトの内容です。HTMLタグを削除した上で、150文字以内で要約してください。\",\n",
    "            },\n",
    "            {\"role\": \"user\", \"content\": content},\n",
    "        ],\n",
    "    )\n",
    "\n",
    "    return res_openai.choices[0].message.content"
   ]
  },
  {
   "cell_type": "code",
   "execution_count": 16,
   "metadata": {},
   "outputs": [
    {
     "data": {
      "text/html": [
       "<div>\n",
       "<style scoped>\n",
       "    .dataframe tbody tr th:only-of-type {\n",
       "        vertical-align: middle;\n",
       "    }\n",
       "\n",
       "    .dataframe tbody tr th {\n",
       "        vertical-align: top;\n",
       "    }\n",
       "\n",
       "    .dataframe thead th {\n",
       "        text-align: right;\n",
       "    }\n",
       "</style>\n",
       "<table border=\"1\" class=\"dataframe\">\n",
       "  <thead>\n",
       "    <tr style=\"text-align: right;\">\n",
       "      <th></th>\n",
       "      <th>url</th>\n",
       "      <th>summary</th>\n",
       "    </tr>\n",
       "  </thead>\n",
       "  <tbody>\n",
       "    <tr>\n",
       "      <th>0</th>\n",
       "      <td>https://www.inoue-kobo.com/llm/openai-reduce-embedding-dim/</td>\n",
       "      <td>INOUE-KOBO.COMの記事「OpenAI API Embeddingsのdim指定の実装方法を確認した」では、OpenAI APIの新機能であるベクトル表現取得用モデルの次元数指定方法について解説しています。APIで次元数を指定する方法やPCAによる次元削減、コサイン類似度の計算方法などが紹介されています。記事にはPythonのコードも含まれています。</td>\n",
       "    </tr>\n",
       "    <tr>\n",
       "      <th>1</th>\n",
       "      <td>https://www.inoue-kobo.com/aws/selenium-serverless/</td>\n",
       "      <td>Webサイトでは、SeleniumをAWS Lambdaでサーバーレスに動かす方法について解説しています。Dockerコンテナやコードサンプルを利用し、AWS CDKで実行する手順が記載されています。デプロイ方法やテスト方法も詳細に説明されています。</td>\n",
       "    </tr>\n",
       "    <tr>\n",
       "      <th>2</th>\n",
       "      <td>https://www.inoue-kobo.com/aws/aws-service-summary/</td>\n",
       "      <td>AWSサービス一覧をNotionデータベースにまとめる方法が記載されたWebページ。AWS公式からサービス一覧を取得し、Notionデータベースに登録する手順やNotion AIを利用して説明を追加する方法が解説されている。記事内にはPythonコードや参考文献も記載されている。</td>\n",
       "    </tr>\n",
       "    <tr>\n",
       "      <th>3</th>\n",
       "      <td>https://www.inoue-kobo.com/ai_ml/duckduckgo-langchain-langsmith/</td>\n",
       "      <td>API Key不要でDuckDuckGoとLangChainを使用して質問応答ボットを作る方法についての記事が掲載されています。LangChainのAgent機能を利用し、Google検索APIの代わりにDuckDuckGoを使用する手順が詳細に説明されています。LangSmithとの連携も紹介されており、Pythonのソースコードや実行例も提供されています。</td>\n",
       "    </tr>\n",
       "    <tr>\n",
       "      <th>4</th>\n",
       "      <td>https://www.inoue-kobo.com/ai_ml/llamaindex-pdf-gradio/</td>\n",
       "      <td>このWebサイトは、Gradioを使用してローカルに保存した英語のPDFに日本語で質問応答するデモンストレーションを提供しています。PDFを読み込み、OpenAIのモデルを使用して質問に回答するWebアプリケーションを実装しています。具体的なユースケースや手順、実行結果が記載されています。</td>\n",
       "    </tr>\n",
       "  </tbody>\n",
       "</table>\n",
       "</div>"
      ],
      "text/plain": [
       "                                                                url  \\\n",
       "0       https://www.inoue-kobo.com/llm/openai-reduce-embedding-dim/   \n",
       "1               https://www.inoue-kobo.com/aws/selenium-serverless/   \n",
       "2               https://www.inoue-kobo.com/aws/aws-service-summary/   \n",
       "3  https://www.inoue-kobo.com/ai_ml/duckduckgo-langchain-langsmith/   \n",
       "4           https://www.inoue-kobo.com/ai_ml/llamaindex-pdf-gradio/   \n",
       "\n",
       "                                                                                                                                                                                 summary  \n",
       "0  INOUE-KOBO.COMの記事「OpenAI API Embeddingsのdim指定の実装方法を確認した」では、OpenAI APIの新機能であるベクトル表現取得用モデルの次元数指定方法について解説しています。APIで次元数を指定する方法やPCAによる次元削減、コサイン類似度の計算方法などが紹介されています。記事にはPythonのコードも含まれています。  \n",
       "1                                                          Webサイトでは、SeleniumをAWS Lambdaでサーバーレスに動かす方法について解説しています。Dockerコンテナやコードサンプルを利用し、AWS CDKで実行する手順が記載されています。デプロイ方法やテスト方法も詳細に説明されています。  \n",
       "2                                           AWSサービス一覧をNotionデータベースにまとめる方法が記載されたWebページ。AWS公式からサービス一覧を取得し、Notionデータベースに登録する手順やNotion AIを利用して説明を追加する方法が解説されている。記事内にはPythonコードや参考文献も記載されている。  \n",
       "3  API Key不要でDuckDuckGoとLangChainを使用して質問応答ボットを作る方法についての記事が掲載されています。LangChainのAgent機能を利用し、Google検索APIの代わりにDuckDuckGoを使用する手順が詳細に説明されています。LangSmithとの連携も紹介されており、Pythonのソースコードや実行例も提供されています。  \n",
       "4                                      このWebサイトは、Gradioを使用してローカルに保存した英語のPDFに日本語で質問応答するデモンストレーションを提供しています。PDFを読み込み、OpenAIのモデルを使用して質問に回答するWebアプリケーションを実装しています。具体的なユースケースや手順、実行結果が記載されています。  "
      ]
     },
     "metadata": {},
     "output_type": "display_data"
    }
   ],
   "source": [
    "summary_df[\"summary\"] = await asyncio.gather(*[aget_summary(url) for url in urls])\n",
    "\n",
    "display(summary_df)"
   ]
  },
  {
   "cell_type": "markdown",
   "metadata": {},
   "source": [
    "## ThreadPoolExecutorを使う"
   ]
  },
  {
   "cell_type": "code",
   "execution_count": 6,
   "metadata": {},
   "outputs": [],
   "source": [
    "from concurrent.futures import ThreadPoolExecutor"
   ]
  },
  {
   "cell_type": "code",
   "execution_count": 15,
   "metadata": {},
   "outputs": [
    {
     "data": {
      "text/html": [
       "<div>\n",
       "<style scoped>\n",
       "    .dataframe tbody tr th:only-of-type {\n",
       "        vertical-align: middle;\n",
       "    }\n",
       "\n",
       "    .dataframe tbody tr th {\n",
       "        vertical-align: top;\n",
       "    }\n",
       "\n",
       "    .dataframe thead th {\n",
       "        text-align: right;\n",
       "    }\n",
       "</style>\n",
       "<table border=\"1\" class=\"dataframe\">\n",
       "  <thead>\n",
       "    <tr style=\"text-align: right;\">\n",
       "      <th></th>\n",
       "      <th>url</th>\n",
       "      <th>summary</th>\n",
       "    </tr>\n",
       "  </thead>\n",
       "  <tbody>\n",
       "    <tr>\n",
       "      <th>0</th>\n",
       "      <td>https://www.inoue-kobo.com/llm/openai-reduce-embedding-dim/</td>\n",
       "      <td>INOUE-KOBO.COMの記事「OpenAI API Embeddingsのdim指定の実装方法を確認した」では、OpenAI APIの新しいモデルtext-embedding-3で出力次元数を指定する方法が紹介されています。記事ではAPIでの次元指定やPCAによる次元削減の方法が示され、結果も示されています。記事の最後には参考文献も掲載されています。</td>\n",
       "    </tr>\n",
       "    <tr>\n",
       "      <th>1</th>\n",
       "      <td>https://www.inoue-kobo.com/aws/selenium-serverless/</td>\n",
       "      <td>このWebサイトでは、SeleniumをAWS Lambdaでサーバーレスに動かす方法について詳しく説明されています。Dockerコンテナやコードサンプルも提供されており、AWS CDKを使用して実行例を作成する手順も紹介されています。デプロイ方法やテスト方法も記載されています。</td>\n",
       "    </tr>\n",
       "    <tr>\n",
       "      <th>2</th>\n",
       "      <td>https://www.inoue-kobo.com/aws/aws-service-summary/</td>\n",
       "      <td>AWSサービス一覧をNotionデータベースにまとめる方法が紹介されている。AWS公式のサービス一覧を取得し、Notionデータベースに登録する手順やNotion AIを利用して説明を追加する方法が解説されている。記事内にはPythonコードや参考文献も記載されている。</td>\n",
       "    </tr>\n",
       "    <tr>\n",
       "      <th>3</th>\n",
       "      <td>https://www.inoue-kobo.com/ai_ml/duckduckgo-langchain-langsmith/</td>\n",
       "      <td>API Key不要でDuckDuckGoとLangChainを使用して質問応答ボットを作る方法についての記事。LangChainのAgent機能を使い、Google検索APIの代わりにDuckDuckGoを利用。LangSmithのログトレース機能も活用。Pythonコードや実行例も掲載。</td>\n",
       "    </tr>\n",
       "    <tr>\n",
       "      <th>4</th>\n",
       "      <td>https://www.inoue-kobo.com/ai_ml/llamaindex-pdf-gradio/</td>\n",
       "      <td>このWebサイトは、ローカルに保存した英語のPDFに日本語で質問応答するGradioのデモンストレーションを提供しています。PDFを読み込み、OpenAIのモデルを使用して質問に回答するWebアプリケーションを実装しています。具体的なユースケースや実行手順が記載されています。また、Gradioのソースコードや実行結果も示されています。</td>\n",
       "    </tr>\n",
       "  </tbody>\n",
       "</table>\n",
       "</div>"
      ],
      "text/plain": [
       "                                                                url  \\\n",
       "0       https://www.inoue-kobo.com/llm/openai-reduce-embedding-dim/   \n",
       "1               https://www.inoue-kobo.com/aws/selenium-serverless/   \n",
       "2               https://www.inoue-kobo.com/aws/aws-service-summary/   \n",
       "3  https://www.inoue-kobo.com/ai_ml/duckduckgo-langchain-langsmith/   \n",
       "4           https://www.inoue-kobo.com/ai_ml/llamaindex-pdf-gradio/   \n",
       "\n",
       "                                                                                                                                                                               summary  \n",
       "0  INOUE-KOBO.COMの記事「OpenAI API Embeddingsのdim指定の実装方法を確認した」では、OpenAI APIの新しいモデルtext-embedding-3で出力次元数を指定する方法が紹介されています。記事ではAPIでの次元指定やPCAによる次元削減の方法が示され、結果も示されています。記事の最後には参考文献も掲載されています。  \n",
       "1                                         このWebサイトでは、SeleniumをAWS Lambdaでサーバーレスに動かす方法について詳しく説明されています。Dockerコンテナやコードサンプルも提供されており、AWS CDKを使用して実行例を作成する手順も紹介されています。デプロイ方法やテスト方法も記載されています。  \n",
       "2                                              AWSサービス一覧をNotionデータベースにまとめる方法が紹介されている。AWS公式のサービス一覧を取得し、Notionデータベースに登録する手順やNotion AIを利用して説明を追加する方法が解説されている。記事内にはPythonコードや参考文献も記載されている。  \n",
       "3                                    API Key不要でDuckDuckGoとLangChainを使用して質問応答ボットを作る方法についての記事。LangChainのAgent機能を使い、Google検索APIの代わりにDuckDuckGoを利用。LangSmithのログトレース機能も活用。Pythonコードや実行例も掲載。  \n",
       "4             このWebサイトは、ローカルに保存した英語のPDFに日本語で質問応答するGradioのデモンストレーションを提供しています。PDFを読み込み、OpenAIのモデルを使用して質問に回答するWebアプリケーションを実装しています。具体的なユースケースや実行手順が記載されています。また、Gradioのソースコードや実行結果も示されています。  "
      ]
     },
     "metadata": {},
     "output_type": "display_data"
    }
   ],
   "source": [
    "with ThreadPoolExecutor() as executor:\n",
    "    summary_df[\"summary\"] = list(executor.map(get_summary, urls))\n",
    "\n",
    "display(summary_df)"
   ]
  },
  {
   "cell_type": "markdown",
   "metadata": {},
   "source": [
    "## pandarallelを使う"
   ]
  },
  {
   "cell_type": "code",
   "execution_count": 8,
   "metadata": {},
   "outputs": [
    {
     "name": "stdout",
     "output_type": "stream",
     "text": [
      "INFO: Pandarallel will run on 10 workers.\n",
      "INFO: Pandarallel will use standard multiprocessing data transfer (pipe) to transfer data between the main process and workers.\n"
     ]
    }
   ],
   "source": [
    "from pandarallel import pandarallel\n",
    "\n",
    "pandarallel.initialize()"
   ]
  },
  {
   "cell_type": "code",
   "execution_count": 12,
   "metadata": {},
   "outputs": [
    {
     "data": {
      "text/html": [
       "<div>\n",
       "<style scoped>\n",
       "    .dataframe tbody tr th:only-of-type {\n",
       "        vertical-align: middle;\n",
       "    }\n",
       "\n",
       "    .dataframe tbody tr th {\n",
       "        vertical-align: top;\n",
       "    }\n",
       "\n",
       "    .dataframe thead th {\n",
       "        text-align: right;\n",
       "    }\n",
       "</style>\n",
       "<table border=\"1\" class=\"dataframe\">\n",
       "  <thead>\n",
       "    <tr style=\"text-align: right;\">\n",
       "      <th></th>\n",
       "      <th>url</th>\n",
       "      <th>summary</th>\n",
       "    </tr>\n",
       "  </thead>\n",
       "  <tbody>\n",
       "    <tr>\n",
       "      <th>0</th>\n",
       "      <td>https://www.inoue-kobo.com/llm/openai-reduce-embedding-dim/</td>\n",
       "      <td>INOUE-KOBO.COMの記事では、OpenAI API Embeddingsのdim指定の実装方法が紹介されています。新しいモデルtext-embedding-3では、出力の次元数を指定できるようになりました。記事ではAPIを使用して次元数を指定する方法やPCAを使用した次元削減の方法が紹介されています。記事にはPythonのコード例や結果の画像も含まれています。</td>\n",
       "    </tr>\n",
       "    <tr>\n",
       "      <th>1</th>\n",
       "      <td>https://www.inoue-kobo.com/aws/selenium-serverless/</td>\n",
       "      <td>このWebサイトは、SeleniumをAWS Lambdaでサーバーレスに動かす方法についての記事が掲載されています。DockerコンテナやAWS CDKを使用して、SeleniumをHeadlessで実行する方法が紹介されています。記事の内容やコードの説明が詳細に記載されています。</td>\n",
       "    </tr>\n",
       "    <tr>\n",
       "      <th>2</th>\n",
       "      <td>https://www.inoue-kobo.com/aws/aws-service-summary/</td>\n",
       "      <td>AWSサービス一覧をNotionデータベースにまとめる方法が記載されたWebページ。AWS公式のサービス一覧を取得し、Notionデータベースに登録する手順やNotion AIを利用して説明を追加する方法が解説されている。記事内にはPythonコードや参考文献も記載されている。</td>\n",
       "    </tr>\n",
       "    <tr>\n",
       "      <th>3</th>\n",
       "      <td>https://www.inoue-kobo.com/ai_ml/duckduckgo-langchain-langsmith/</td>\n",
       "      <td>API Key不要でDuckDuckGoとLangChainを使用して質問応答ボットを作る方法についての記事。LangChainのAgent機能を利用し、Google検索APIの代わりにDuckDuckGoを使用。LangSmithとの連携も紹介。Pythonのソースコードや実行例も掲載。</td>\n",
       "    </tr>\n",
       "    <tr>\n",
       "      <th>4</th>\n",
       "      <td>https://www.inoue-kobo.com/ai_ml/llamaindex-pdf-gradio/</td>\n",
       "      <td>Webサイトでは、ローカルに保存した英語のPDFに日本語で質問応答するGradioのデモンストレーションが紹介されています。PDFを読み込み、OpenAIのモデルを使用して質問応答を行うWebアプリケーションの実装手順やコードが示されています。具体的なユースケースや実行結果も紹介されています。また、関連するライブラリやツールの情報も提供されています。</td>\n",
       "    </tr>\n",
       "  </tbody>\n",
       "</table>\n",
       "</div>"
      ],
      "text/plain": [
       "                                                                url  \\\n",
       "0       https://www.inoue-kobo.com/llm/openai-reduce-embedding-dim/   \n",
       "1               https://www.inoue-kobo.com/aws/selenium-serverless/   \n",
       "2               https://www.inoue-kobo.com/aws/aws-service-summary/   \n",
       "3  https://www.inoue-kobo.com/ai_ml/duckduckgo-langchain-langsmith/   \n",
       "4           https://www.inoue-kobo.com/ai_ml/llamaindex-pdf-gradio/   \n",
       "\n",
       "                                                                                                                                                                                      summary  \n",
       "0  INOUE-KOBO.COMの記事では、OpenAI API Embeddingsのdim指定の実装方法が紹介されています。新しいモデルtext-embedding-3では、出力の次元数を指定できるようになりました。記事ではAPIを使用して次元数を指定する方法やPCAを使用した次元削減の方法が紹介されています。記事にはPythonのコード例や結果の画像も含まれています。  \n",
       "1                                              このWebサイトは、SeleniumをAWS Lambdaでサーバーレスに動かす方法についての記事が掲載されています。DockerコンテナやAWS CDKを使用して、SeleniumをHeadlessで実行する方法が紹介されています。記事の内容やコードの説明が詳細に記載されています。  \n",
       "2                                                 AWSサービス一覧をNotionデータベースにまとめる方法が記載されたWebページ。AWS公式のサービス一覧を取得し、Notionデータベースに登録する手順やNotion AIを利用して説明を追加する方法が解説されている。記事内にはPythonコードや参考文献も記載されている。  \n",
       "3                                           API Key不要でDuckDuckGoとLangChainを使用して質問応答ボットを作る方法についての記事。LangChainのAgent機能を利用し、Google検索APIの代わりにDuckDuckGoを使用。LangSmithとの連携も紹介。Pythonのソースコードや実行例も掲載。  \n",
       "4            Webサイトでは、ローカルに保存した英語のPDFに日本語で質問応答するGradioのデモンストレーションが紹介されています。PDFを読み込み、OpenAIのモデルを使用して質問応答を行うWebアプリケーションの実装手順やコードが示されています。具体的なユースケースや実行結果も紹介されています。また、関連するライブラリやツールの情報も提供されています。  "
      ]
     },
     "metadata": {},
     "output_type": "display_data"
    }
   ],
   "source": [
    "summary_df[\"summary\"] = summary_df[\"url\"].parallel_apply(get_summary)\n",
    "\n",
    "display(summary_df)"
   ]
  }
 ],
 "metadata": {
  "kernelspec": {
   "display_name": "langchain",
   "language": "python",
   "name": "python3"
  },
  "language_info": {
   "codemirror_mode": {
    "name": "ipython",
    "version": 3
   },
   "file_extension": ".py",
   "mimetype": "text/x-python",
   "name": "python",
   "nbconvert_exporter": "python",
   "pygments_lexer": "ipython3",
   "version": "3.9.16"
  }
 },
 "nbformat": 4,
 "nbformat_minor": 2
}
