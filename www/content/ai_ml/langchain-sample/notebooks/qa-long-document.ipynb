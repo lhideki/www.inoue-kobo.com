{
 "cells": [
  {
   "cell_type": "code",
   "execution_count": null,
   "metadata": {},
   "outputs": [],
   "source": [
    "!pip install arxiv\n",
    "!pip install pymupdf\n",
    "!pip install pypdf\n",
    "!pip install chromadb"
   ]
  },
  {
   "cell_type": "code",
   "execution_count": 29,
   "metadata": {},
   "outputs": [],
   "source": [
    "from langchain.document_loaders import ArxivLoader\n",
    "from langchain.document_loaders import PyPDFLoader\n",
    "\n",
    "# Google Colaboratory上からだとArxiv側に403ではじかれることがあります。\n",
    "# このため、ローカル環境で実行してください。\n",
    "# loader = ArxivLoader(query=\"2210.03629\", load_max_docs=100)\n",
    "loader = PyPDFLoader(\"https://arxiv.org/pdf/2210.03629.pdf\")\n",
    "\n",
    "# Google Colaboratory上で実行する場合は、PDFを事前にダウンロードし、Colaboratory上にアップロードして以下を実行してください。\n",
    "# loader = PyPDFLoader(\"2210.03629.pdf\")"
   ]
  },
  {
   "cell_type": "code",
   "execution_count": 30,
   "metadata": {},
   "outputs": [
    {
     "name": "stderr",
     "output_type": "stream",
     "text": [
      "Retrying langchain.embeddings.openai.embed_with_retry.<locals>._embed_with_retry in 4.0 seconds as it raised Timeout: Request timed out: HTTPSConnectionPool(host='api.openai.com', port=443): Read timed out. (read timeout=600).\n"
     ]
    }
   ],
   "source": [
    "from langchain.indexes import VectorstoreIndexCreator\n",
    "\n",
    "index = VectorstoreIndexCreator().from_loaders([loader])"
   ]
  },
  {
   "cell_type": "code",
   "execution_count": 34,
   "metadata": {},
   "outputs": [
    {
     "data": {
      "text/markdown": [
       " ReActは、多層の質問応答や事実検証などの知識密度の高い推論タスクを行うための、外部ソースとのインターフェースを可能にするアクションを使用した手法です。ReActは、単純なWikipedia APIと対話して、チェーンオブシング思考（CoT）よりも人間のようなタスク解決の軌跡を生成し、基準よりも改善された人間の解釈性と信頼性を実現します。"
      ],
      "text/plain": [
       "<IPython.core.display.Markdown object>"
      ]
     },
     "metadata": {},
     "output_type": "display_data"
    }
   ],
   "source": [
    "from IPython.display import display, Markdown\n",
    "\n",
    "answer = index.query(\"ReACTとはどのような手法ですか?\")\n",
    "\n",
    "display(Markdown(answer))"
   ]
  }
 ],
 "metadata": {
  "kernelspec": {
   "display_name": "langchain",
   "language": "python",
   "name": "python3"
  },
  "language_info": {
   "codemirror_mode": {
    "name": "ipython",
    "version": 3
   },
   "file_extension": ".py",
   "mimetype": "text/x-python",
   "name": "python",
   "nbconvert_exporter": "python",
   "pygments_lexer": "ipython3",
   "version": "3.9.16"
  },
  "orig_nbformat": 4
 },
 "nbformat": 4,
 "nbformat_minor": 2
}
