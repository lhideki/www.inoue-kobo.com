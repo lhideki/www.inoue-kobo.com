{
 "cells": [
  {
   "cell_type": "markdown",
   "metadata": {},
   "source": [
    "# 各種Tokenize手法に依存したベクトル化手法の比較"
   ]
  },
  {
   "cell_type": "markdown",
   "metadata": {},
   "source": [
    "## TL;DR\n",
    "\n",
    "以下のベクトル化手法を比較しました。\n",
    "\n",
    "* [wikipedia2vec](https://wikipedia2vec.github.io/wikipedia2vec/)\n",
    "* [sentencepieces + word2vec](https://github.com/google/sentencepiece/blob/master/python/README.md)\n",
    "* [char2vec](https://qiita.com/youwht/items/0b204c3575c94fc786b8)\n",
    "\n",
    "ベクトル化するための学習データとして日本語Wikipediaを使用しました。"
   ]
  },
  {
   "cell_type": "markdown",
   "metadata": {},
   "source": [
    "### wikipedia2vec"
   ]
  },
  {
   "cell_type": "code",
   "execution_count": 1,
   "metadata": {
    "ExecuteTime": {
     "end_time": "2018-12-06T00:06:30.204238Z",
     "start_time": "2018-12-06T00:06:18.827598Z"
    }
   },
   "outputs": [
    {
     "name": "stdout",
     "output_type": "stream",
     "text": [
      "1593143\n",
      "[(<Word 脂>, 0.99999994), (<Word 脂肪>, 0.60400623), (<Word 血合>, 0.59330285), (<Word 牛脂>, 0.5907982), (<Word グアヤク>, 0.5891678), (<Word 肪織>, 0.5861825), (<Word グリセリド>, 0.5824453), (<Word ガラスープ>, 0.5739102), (<Word 血合い>, 0.56854814), (<Word 臭み>, 0.5571986)]\n"
     ]
    }
   ],
   "source": [
    "from wikipedia2vec import Wikipedia2Vec\n",
    "\n",
    "word2vec_filename = 'models/jawiki_20180420_300d.pkl'\n",
    "word2vec = Wikipedia2Vec.load(word2vec_filename)\n",
    "\n",
    "test_word = '脂'\n",
    "\n",
    "print(len(word2vec.dictionary))\n",
    "print(word2vec.most_similar(word2vec.get_word(test_word), 10))"
   ]
  },
  {
   "cell_type": "markdown",
   "metadata": {},
   "source": [
    "### sentencepieces + word2vec"
   ]
  },
  {
   "cell_type": "code",
   "execution_count": 2,
   "metadata": {
    "ExecuteTime": {
     "end_time": "2018-12-06T00:06:35.260078Z",
     "start_time": "2018-12-06T00:06:30.206239Z"
    }
   },
   "outputs": [
    {
     "name": "stderr",
     "output_type": "stream",
     "text": [
      "C:\\Users\\hidek\\Anaconda3\\lib\\site-packages\\gensim\\utils.py:1212: UserWarning: detected Windows; aliasing chunkize to chunkize_serial\n",
      "  warnings.warn(\"detected Windows; aliasing chunkize to chunkize_serial\")\n"
     ]
    },
    {
     "name": "stdout",
     "output_type": "stream",
     "text": [
      "171118\n",
      "['▁', '脂']\n"
     ]
    },
    {
     "name": "stderr",
     "output_type": "stream",
     "text": [
      "C:\\Users\\hidek\\Anaconda3\\lib\\site-packages\\ipykernel_launcher.py:15: DeprecationWarning: Call to deprecated `most_similar` (Method will be removed in 4.0.0, use self.wv.most_similar() instead).\n",
      "  from ipykernel import kernelapp as app\n",
      "C:\\Users\\hidek\\Anaconda3\\lib\\site-packages\\gensim\\matutils.py:737: FutureWarning: Conversion of the second argument of issubdtype from `int` to `np.signedinteger` is deprecated. In future, it will be treated as `np.int32 == np.dtype(int).type`.\n",
      "  if np.issubdtype(vec.dtype, np.int):\n"
     ]
    },
    {
     "name": "stdout",
     "output_type": "stream",
     "text": [
      "[('ニンニク', 0.8067691922187805), ('肉', 0.8009461760520935), ('脂肪', 0.7919986248016357), ('ゼリー', 0.786160945892334), ('ゼラチン', 0.7856716513633728), ('臭', 0.7705897688865662), ('粉末状', 0.7692583799362183), ('苦味', 0.7675473093986511), ('ニンジン', 0.7648000717163086), ('汁', 0.7606260776519775)]\n"
     ]
    }
   ],
   "source": [
    "from gensim.models.word2vec import Word2Vec\n",
    "import sentencepiece as spm\n",
    "\n",
    "sp = spm.SentencePieceProcessor()\n",
    "sp.Load('models/wikisentence-piece.model')\n",
    "\n",
    "test_word = '脂'\n",
    "tokenized = sp.EncodeAsPieces(test_word)\n",
    "\n",
    "sentencepieced_word2vec_filename = 'models/sentencepieced_word2vec_allwiki.model'\n",
    "sentencepieced_word2vec = Word2Vec.load(sentencepieced_word2vec_filename)\n",
    "\n",
    "print(len(sentencepieced_word2vec.wv.vocab))\n",
    "print(tokenized)\n",
    "print(sentencepieced_word2vec.most_similar(tokenized[1]))"
   ]
  },
  {
   "cell_type": "markdown",
   "metadata": {},
   "source": [
    "### char2vec"
   ]
  },
  {
   "cell_type": "code",
   "execution_count": 3,
   "metadata": {
    "ExecuteTime": {
     "end_time": "2018-12-06T00:06:35.394074Z",
     "start_time": "2018-12-06T00:06:35.262079Z"
    }
   },
   "outputs": [
    {
     "name": "stdout",
     "output_type": "stream",
     "text": [
      "14535\n"
     ]
    },
    {
     "name": "stderr",
     "output_type": "stream",
     "text": [
      "C:\\Users\\hidek\\Anaconda3\\lib\\site-packages\\ipykernel_launcher.py:9: DeprecationWarning: Call to deprecated `most_similar` (Method will be removed in 4.0.0, use self.wv.most_similar() instead).\n",
      "  if __name__ == '__main__':\n",
      "C:\\Users\\hidek\\Anaconda3\\lib\\site-packages\\gensim\\matutils.py:737: FutureWarning: Conversion of the second argument of issubdtype from `int` to `np.signedinteger` is deprecated. In future, it will be treated as `np.int32 == np.dtype(int).type`.\n",
      "  if np.issubdtype(vec.dtype, np.int):\n"
     ]
    },
    {
     "name": "stdout",
     "output_type": "stream",
     "text": [
      "[('糖', 0.9036800861358643), ('繊', 0.7795820832252502), ('剤', 0.7757814526557922), ('汁', 0.7682333588600159), ('酢', 0.7667589783668518), ('塩', 0.7649936676025391), ('酸', 0.7632763981819153), ('粉', 0.7586979269981384), ('菌', 0.751047670841217), ('臭', 0.7475357055664062)]\n"
     ]
    }
   ],
   "source": [
    "from gensim.models.word2vec import Word2Vec\n",
    "\n",
    "char2vec_filename = 'models/mychar2vec_fromWikiALL.model'\n",
    "char2vec = Word2Vec.load(char2vec_filename)\n",
    "\n",
    "test_word = '脂'\n",
    "\n",
    "print(len(char2vec.wv.vocab))\n",
    "print(char2vec.most_similar(test_word))"
   ]
  },
  {
   "cell_type": "markdown",
   "metadata": {},
   "source": [
    "## ベンチマーク用データ\n",
    "\n",
    "[京都大学情報学研究科--NTTコミュニケーション科学基礎研究所 共同研究ユニット](http://nlp.ist.i.kyoto-u.ac.jp/kuntt/index.php)が提供するブログの記事に関するデータセットを利用しました。 このデータセットでは、ブログの記事に対して以下の4つの分類がされています。\n",
    "\n",
    "* グルメ\n",
    "* 携帯電話\n",
    "* 京都\n",
    "* スポーツ"
   ]
  },
  {
   "cell_type": "code",
   "execution_count": 4,
   "metadata": {
    "ExecuteTime": {
     "end_time": "2018-12-06T00:06:36.263047Z",
     "start_time": "2018-12-06T00:06:35.396074Z"
    }
   },
   "outputs": [
    {
     "data": {
      "text/html": [
       "<div>\n",
       "<style scoped>\n",
       "    .dataframe tbody tr th:only-of-type {\n",
       "        vertical-align: middle;\n",
       "    }\n",
       "\n",
       "    .dataframe tbody tr th {\n",
       "        vertical-align: top;\n",
       "    }\n",
       "\n",
       "    .dataframe thead th {\n",
       "        text-align: right;\n",
       "    }\n",
       "</style>\n",
       "<table border=\"1\" class=\"dataframe\">\n",
       "  <thead>\n",
       "    <tr style=\"text-align: right;\">\n",
       "      <th></th>\n",
       "      <th>1</th>\n",
       "      <th>label</th>\n",
       "    </tr>\n",
       "  </thead>\n",
       "  <tbody>\n",
       "    <tr>\n",
       "      <th>0</th>\n",
       "      <td>［グルメ］烏丸六角のおかき屋さん</td>\n",
       "      <td>グルメ</td>\n",
       "    </tr>\n",
       "    <tr>\n",
       "      <th>1</th>\n",
       "      <td>六角堂の前にある、蕪村庵というお店に行ってきた。</td>\n",
       "      <td>グルメ</td>\n",
       "    </tr>\n",
       "    <tr>\n",
       "      <th>2</th>\n",
       "      <td>おかきやせんべいの店なのだが、これがオイシイ。</td>\n",
       "      <td>グルメ</td>\n",
       "    </tr>\n",
       "    <tr>\n",
       "      <th>3</th>\n",
       "      <td>のれんをくぐると小さな庭があり、その先に町屋風の店内がある。</td>\n",
       "      <td>グルメ</td>\n",
       "    </tr>\n",
       "    <tr>\n",
       "      <th>4</th>\n",
       "      <td>せんべいの箱はデパートみたいな山積みではなく、間隔をあけて陳列されているのがまた良い。</td>\n",
       "      <td>グルメ</td>\n",
       "    </tr>\n",
       "  </tbody>\n",
       "</table>\n",
       "</div>"
      ],
      "text/plain": [
       "                                             1 label\n",
       "0                             ［グルメ］烏丸六角のおかき屋さん   グルメ\n",
       "1                     六角堂の前にある、蕪村庵というお店に行ってきた。   グルメ\n",
       "2                      おかきやせんべいの店なのだが、これがオイシイ。   グルメ\n",
       "3               のれんをくぐると小さな庭があり、その先に町屋風の店内がある。   グルメ\n",
       "4  せんべいの箱はデパートみたいな山積みではなく、間隔をあけて陳列されているのがまた良い。   グルメ"
      ]
     },
     "metadata": {},
     "output_type": "display_data"
    },
    {
     "data": {
      "text/html": [
       "<div>\n",
       "<style scoped>\n",
       "    .dataframe tbody tr th:only-of-type {\n",
       "        vertical-align: middle;\n",
       "    }\n",
       "\n",
       "    .dataframe tbody tr th {\n",
       "        vertical-align: top;\n",
       "    }\n",
       "\n",
       "    .dataframe thead th {\n",
       "        text-align: right;\n",
       "    }\n",
       "</style>\n",
       "<table border=\"1\" class=\"dataframe\">\n",
       "  <thead>\n",
       "    <tr style=\"text-align: right;\">\n",
       "      <th></th>\n",
       "      <th>1</th>\n",
       "      <th>label</th>\n",
       "    </tr>\n",
       "  </thead>\n",
       "  <tbody>\n",
       "    <tr>\n",
       "      <th>0</th>\n",
       "      <td>［携帯電話］プリペイドカード携帯布教。</td>\n",
       "      <td>携帯電話</td>\n",
       "    </tr>\n",
       "    <tr>\n",
       "      <th>1</th>\n",
       "      <td>もはや’今さら’だが、という接頭句で始めるしかないほど今さらだが、私はプリペイド携帯をずっと...</td>\n",
       "      <td>携帯電話</td>\n",
       "    </tr>\n",
       "    <tr>\n",
       "      <th>2</th>\n",
       "      <td>犯罪に用いられるなどによりかなりイメージを悪化させてしまったプリペイド携帯だが、一ユーザーと...</td>\n",
       "      <td>携帯電話</td>\n",
       "    </tr>\n",
       "    <tr>\n",
       "      <th>3</th>\n",
       "      <td>かつてはこのような話を友人に振っても、「携帯電話の料金は親が払っているから別に．．．」という...</td>\n",
       "      <td>携帯電話</td>\n",
       "    </tr>\n",
       "    <tr>\n",
       "      <th>4</th>\n",
       "      <td>そこで、携帯電話の料金を自分の身銭で払わざる得ない、あるいは得なくなったが所得が少ない、或い...</td>\n",
       "      <td>携帯電話</td>\n",
       "    </tr>\n",
       "  </tbody>\n",
       "</table>\n",
       "</div>"
      ],
      "text/plain": [
       "                                                   1 label\n",
       "0                                ［携帯電話］プリペイドカード携帯布教。  携帯電話\n",
       "1  もはや’今さら’だが、という接頭句で始めるしかないほど今さらだが、私はプリペイド携帯をずっと...  携帯電話\n",
       "2  犯罪に用いられるなどによりかなりイメージを悪化させてしまったプリペイド携帯だが、一ユーザーと...  携帯電話\n",
       "3  かつてはこのような話を友人に振っても、「携帯電話の料金は親が払っているから別に．．．」という...  携帯電話\n",
       "4  そこで、携帯電話の料金を自分の身銭で払わざる得ない、あるいは得なくなったが所得が少ない、或い...  携帯電話"
      ]
     },
     "metadata": {},
     "output_type": "display_data"
    },
    {
     "data": {
      "text/html": [
       "<div>\n",
       "<style scoped>\n",
       "    .dataframe tbody tr th:only-of-type {\n",
       "        vertical-align: middle;\n",
       "    }\n",
       "\n",
       "    .dataframe tbody tr th {\n",
       "        vertical-align: top;\n",
       "    }\n",
       "\n",
       "    .dataframe thead th {\n",
       "        text-align: right;\n",
       "    }\n",
       "</style>\n",
       "<table border=\"1\" class=\"dataframe\">\n",
       "  <thead>\n",
       "    <tr style=\"text-align: right;\">\n",
       "      <th></th>\n",
       "      <th>1</th>\n",
       "      <th>label</th>\n",
       "    </tr>\n",
       "  </thead>\n",
       "  <tbody>\n",
       "    <tr>\n",
       "      <th>0</th>\n",
       "      <td>［京都観光］時雨殿に行った。</td>\n",
       "      <td>京都</td>\n",
       "    </tr>\n",
       "    <tr>\n",
       "      <th>1</th>\n",
       "      <td>しぐれでん</td>\n",
       "      <td>京都</td>\n",
       "    </tr>\n",
       "    <tr>\n",
       "      <th>2</th>\n",
       "      <td>２００６年１０月０９日。</td>\n",
       "      <td>京都</td>\n",
       "    </tr>\n",
       "    <tr>\n",
       "      <th>3</th>\n",
       "      <td>時雨殿に行った。</td>\n",
       "      <td>京都</td>\n",
       "    </tr>\n",
       "    <tr>\n",
       "      <th>4</th>\n",
       "      <td>８月に嵐山へドクターフィシュ体験で行った時に残念ながら閉館していたのでいつか行こうと思ってい...</td>\n",
       "      <td>京都</td>\n",
       "    </tr>\n",
       "  </tbody>\n",
       "</table>\n",
       "</div>"
      ],
      "text/plain": [
       "                                                   1 label\n",
       "0                                     ［京都観光］時雨殿に行った。    京都\n",
       "1                                              しぐれでん    京都\n",
       "2                                       ２００６年１０月０９日。    京都\n",
       "3                                           時雨殿に行った。    京都\n",
       "4  ８月に嵐山へドクターフィシュ体験で行った時に残念ながら閉館していたのでいつか行こうと思ってい...    京都"
      ]
     },
     "metadata": {},
     "output_type": "display_data"
    },
    {
     "data": {
      "text/html": [
       "<div>\n",
       "<style scoped>\n",
       "    .dataframe tbody tr th:only-of-type {\n",
       "        vertical-align: middle;\n",
       "    }\n",
       "\n",
       "    .dataframe tbody tr th {\n",
       "        vertical-align: top;\n",
       "    }\n",
       "\n",
       "    .dataframe thead th {\n",
       "        text-align: right;\n",
       "    }\n",
       "</style>\n",
       "<table border=\"1\" class=\"dataframe\">\n",
       "  <thead>\n",
       "    <tr style=\"text-align: right;\">\n",
       "      <th></th>\n",
       "      <th>1</th>\n",
       "      <th>label</th>\n",
       "    </tr>\n",
       "  </thead>\n",
       "  <tbody>\n",
       "    <tr>\n",
       "      <th>0</th>\n",
       "      <td>［スポーツ］私の生きがい</td>\n",
       "      <td>スポーツ</td>\n",
       "    </tr>\n",
       "    <tr>\n",
       "      <th>1</th>\n",
       "      <td>入部３ヶ月目にはじめてのレースを経験した。</td>\n",
       "      <td>スポーツ</td>\n",
       "    </tr>\n",
       "    <tr>\n",
       "      <th>2</th>\n",
       "      <td>今の１回生では１番漕暦が浅いのに持ち前の体力と精神力でレース出場権を手にした。</td>\n",
       "      <td>スポーツ</td>\n",
       "    </tr>\n",
       "    <tr>\n",
       "      <th>3</th>\n",
       "      <td>そのレースは東大戦。</td>\n",
       "      <td>スポーツ</td>\n",
       "    </tr>\n",
       "    <tr>\n",
       "      <th>4</th>\n",
       "      <td>２回生の中に混じっての初レース。</td>\n",
       "      <td>スポーツ</td>\n",
       "    </tr>\n",
       "  </tbody>\n",
       "</table>\n",
       "</div>"
      ],
      "text/plain": [
       "                                         1 label\n",
       "0                             ［スポーツ］私の生きがい  スポーツ\n",
       "1                    入部３ヶ月目にはじめてのレースを経験した。  スポーツ\n",
       "2  今の１回生では１番漕暦が浅いのに持ち前の体力と精神力でレース出場権を手にした。  スポーツ\n",
       "3                               そのレースは東大戦。  スポーツ\n",
       "4                         ２回生の中に混じっての初レース。  スポーツ"
      ]
     },
     "metadata": {},
     "output_type": "display_data"
    }
   ],
   "source": [
    "import pandas as pd\n",
    "\n",
    "gourmet_df = pd.read_csv('data/KNBC_v1.0_090925/corpus2/Gourmet.tsv', delimiter='\\t', header=None).drop(columns=[0, 2, 3, 4, 5])\n",
    "keitai_df = pd.read_csv('data/KNBC_v1.0_090925/corpus2/Keitai.tsv', delimiter='\\t', header=None).drop(columns=[0, 2, 3, 4, 5])\n",
    "kyoto_df = pd.read_csv('data/KNBC_v1.0_090925/corpus2/Kyoto.tsv', delimiter='\\t', header=None).drop(columns=[0, 2, 3, 4, 5])\n",
    "sports_df = pd.read_csv('data/KNBC_v1.0_090925/corpus2/Sports.tsv', delimiter='\\t', header=None).drop(columns=[0, 2, 3, 4, 5])\n",
    "\n",
    "gourmet_df['label'] = 'グルメ'\n",
    "keitai_df['label'] = '携帯電話'\n",
    "kyoto_df['label'] = '京都'\n",
    "sports_df['label'] = 'スポーツ'\n",
    "\n",
    "display(gourmet_df.head())\n",
    "display(keitai_df.head())\n",
    "display(kyoto_df.head())\n",
    "display(sports_df.head())"
   ]
  },
  {
   "cell_type": "code",
   "execution_count": 5,
   "metadata": {
    "ExecuteTime": {
     "end_time": "2018-12-06T00:06:36.281052Z",
     "start_time": "2018-12-06T00:06:36.265047Z"
    }
   },
   "outputs": [
    {
     "name": "stdout",
     "output_type": "stream",
     "text": [
      "4186\n",
      "4186\n"
     ]
    }
   ],
   "source": [
    "features_readable = []\n",
    "labels = []\n",
    "\n",
    "for p in gourmet_df.values:\n",
    "    features_readable.append(p[0])\n",
    "    labels.append([1, 0, 0, 0])\n",
    "for p in keitai_df.values:\n",
    "    features_readable.append(p[0])\n",
    "    labels.append([0, 1, 0, 0])\n",
    "for p in kyoto_df.values:\n",
    "    features_readable.append(p[0])\n",
    "    labels.append([0, 0, 1, 0])\n",
    "for p in sports_df.values:\n",
    "    features_readable.append(p[0])\n",
    "    labels.append([0, 0, 0, 1])\n",
    "\n",
    "print(len(features_readable))\n",
    "print(len(labels))"
   ]
  },
  {
   "cell_type": "markdown",
   "metadata": {},
   "source": [
    "## ベクトル化"
   ]
  },
  {
   "cell_type": "markdown",
   "metadata": {},
   "source": [
    "### wordのベクトル化\n",
    "\n",
    "#### Tokenize\n",
    "\n",
    "word単位のtokenizeは[janome](https://github.com/mocobeta/janome)を使用しました。[NEologd](https://github.com/neologd/mecab-ipadic-neologd)を使用しました。組み込み手順として以下を参考にさせて頂きました。\n",
    "\n",
    "* (very experimental) NEologd 辞書を内包した janome をビルドする方法\n",
    "    * https://github.com/mocobeta/janome/wiki/(very-experimental)-NEologd-%E8%BE%9E%E6%9B%B8%E3%82%92%E5%86%85%E5%8C%85%E3%81%97%E3%81%9F-janome-%E3%82%92%E3%83%93%E3%83%AB%E3%83%89%E3%81%99%E3%82%8B%E6%96%B9%E6%B3%95\n",
    "\n",
    "#### ベクトル化\n",
    "\n",
    "[wikipedia2vec](https://wikipedia2vec.github.io/wikipedia2vec/)を使用しました。"
   ]
  },
  {
   "cell_type": "code",
   "execution_count": 6,
   "metadata": {
    "ExecuteTime": {
     "end_time": "2018-12-06T00:07:21.678611Z",
     "start_time": "2018-12-06T00:06:36.283046Z"
    }
   },
   "outputs": [
    {
     "data": {
      "text/html": [
       "<div>\n",
       "<style scoped>\n",
       "    .dataframe tbody tr th:only-of-type {\n",
       "        vertical-align: middle;\n",
       "    }\n",
       "\n",
       "    .dataframe tbody tr th {\n",
       "        vertical-align: top;\n",
       "    }\n",
       "\n",
       "    .dataframe thead th {\n",
       "        text-align: right;\n",
       "    }\n",
       "</style>\n",
       "<table border=\"1\" class=\"dataframe\">\n",
       "  <thead>\n",
       "    <tr style=\"text-align: right;\">\n",
       "      <th></th>\n",
       "      <th>0</th>\n",
       "      <th>1</th>\n",
       "      <th>2</th>\n",
       "      <th>3</th>\n",
       "      <th>4</th>\n",
       "      <th>5</th>\n",
       "      <th>6</th>\n",
       "      <th>7</th>\n",
       "      <th>8</th>\n",
       "      <th>9</th>\n",
       "      <th>...</th>\n",
       "      <th>118</th>\n",
       "      <th>119</th>\n",
       "      <th>120</th>\n",
       "      <th>121</th>\n",
       "      <th>122</th>\n",
       "      <th>123</th>\n",
       "      <th>124</th>\n",
       "      <th>125</th>\n",
       "      <th>126</th>\n",
       "      <th>127</th>\n",
       "    </tr>\n",
       "  </thead>\n",
       "  <tbody>\n",
       "    <tr>\n",
       "      <th>0</th>\n",
       "      <td>［</td>\n",
       "      <td>グルメ</td>\n",
       "      <td>］</td>\n",
       "      <td>烏丸</td>\n",
       "      <td>六角</td>\n",
       "      <td>の</td>\n",
       "      <td>おかき</td>\n",
       "      <td>屋</td>\n",
       "      <td>さん</td>\n",
       "      <td>None</td>\n",
       "      <td>...</td>\n",
       "      <td>None</td>\n",
       "      <td>None</td>\n",
       "      <td>None</td>\n",
       "      <td>None</td>\n",
       "      <td>None</td>\n",
       "      <td>None</td>\n",
       "      <td>None</td>\n",
       "      <td>None</td>\n",
       "      <td>None</td>\n",
       "      <td>None</td>\n",
       "    </tr>\n",
       "    <tr>\n",
       "      <th>1</th>\n",
       "      <td>六角堂</td>\n",
       "      <td>の</td>\n",
       "      <td>前</td>\n",
       "      <td>に</td>\n",
       "      <td>ある</td>\n",
       "      <td>、</td>\n",
       "      <td>蕪村</td>\n",
       "      <td>庵</td>\n",
       "      <td>という</td>\n",
       "      <td>お</td>\n",
       "      <td>...</td>\n",
       "      <td>None</td>\n",
       "      <td>None</td>\n",
       "      <td>None</td>\n",
       "      <td>None</td>\n",
       "      <td>None</td>\n",
       "      <td>None</td>\n",
       "      <td>None</td>\n",
       "      <td>None</td>\n",
       "      <td>None</td>\n",
       "      <td>None</td>\n",
       "    </tr>\n",
       "    <tr>\n",
       "      <th>2</th>\n",
       "      <td>おかき</td>\n",
       "      <td>や</td>\n",
       "      <td>せんべい</td>\n",
       "      <td>の</td>\n",
       "      <td>店</td>\n",
       "      <td>だ</td>\n",
       "      <td>の</td>\n",
       "      <td>だ</td>\n",
       "      <td>が</td>\n",
       "      <td>、</td>\n",
       "      <td>...</td>\n",
       "      <td>None</td>\n",
       "      <td>None</td>\n",
       "      <td>None</td>\n",
       "      <td>None</td>\n",
       "      <td>None</td>\n",
       "      <td>None</td>\n",
       "      <td>None</td>\n",
       "      <td>None</td>\n",
       "      <td>None</td>\n",
       "      <td>None</td>\n",
       "    </tr>\n",
       "    <tr>\n",
       "      <th>3</th>\n",
       "      <td>のれん</td>\n",
       "      <td>を</td>\n",
       "      <td>くぐる</td>\n",
       "      <td>と</td>\n",
       "      <td>小さな</td>\n",
       "      <td>庭</td>\n",
       "      <td>が</td>\n",
       "      <td>ある</td>\n",
       "      <td>、</td>\n",
       "      <td>その</td>\n",
       "      <td>...</td>\n",
       "      <td>None</td>\n",
       "      <td>None</td>\n",
       "      <td>None</td>\n",
       "      <td>None</td>\n",
       "      <td>None</td>\n",
       "      <td>None</td>\n",
       "      <td>None</td>\n",
       "      <td>None</td>\n",
       "      <td>None</td>\n",
       "      <td>None</td>\n",
       "    </tr>\n",
       "    <tr>\n",
       "      <th>4</th>\n",
       "      <td>せんべい</td>\n",
       "      <td>の</td>\n",
       "      <td>箱</td>\n",
       "      <td>は</td>\n",
       "      <td>デパート</td>\n",
       "      <td>みたい</td>\n",
       "      <td>だ</td>\n",
       "      <td>山積み</td>\n",
       "      <td>で</td>\n",
       "      <td>は</td>\n",
       "      <td>...</td>\n",
       "      <td>None</td>\n",
       "      <td>None</td>\n",
       "      <td>None</td>\n",
       "      <td>None</td>\n",
       "      <td>None</td>\n",
       "      <td>None</td>\n",
       "      <td>None</td>\n",
       "      <td>None</td>\n",
       "      <td>None</td>\n",
       "      <td>None</td>\n",
       "    </tr>\n",
       "  </tbody>\n",
       "</table>\n",
       "<p>5 rows × 128 columns</p>\n",
       "</div>"
      ],
      "text/plain": [
       "    0    1     2   3     4    5    6    7    8     9    ...    118   119  \\\n",
       "0     ［  グルメ     ］  烏丸    六角    の  おかき    屋   さん  None  ...   None  None   \n",
       "1   六角堂    の     前   に    ある    、   蕪村    庵  という     お  ...   None  None   \n",
       "2   おかき    や  せんべい   の     店    だ    の    だ    が     、  ...   None  None   \n",
       "3   のれん    を   くぐる   と   小さな    庭    が   ある    、    その  ...   None  None   \n",
       "4  せんべい    の     箱   は  デパート  みたい    だ  山積み    で     は  ...   None  None   \n",
       "\n",
       "    120   121   122   123   124   125   126   127  \n",
       "0  None  None  None  None  None  None  None  None  \n",
       "1  None  None  None  None  None  None  None  None  \n",
       "2  None  None  None  None  None  None  None  None  \n",
       "3  None  None  None  None  None  None  None  None  \n",
       "4  None  None  None  None  None  None  None  None  \n",
       "\n",
       "[5 rows x 128 columns]"
      ]
     },
     "metadata": {},
     "output_type": "display_data"
    }
   ],
   "source": [
    "from janome.tokenizer import Tokenizer\n",
    "import re\n",
    "import pandas as pd\n",
    "\n",
    "tokenizer = Tokenizer(mmap=True)\n",
    "\n",
    "def get_word_tokens(df):\n",
    "    all_tokens = []\n",
    "    for sentence in df[:][0]:\n",
    "        tokens = tokenizer.tokenize(sentence)\n",
    "        base_forms = [token.base_form for token in tokens]\n",
    "        all_tokens.append(base_forms)\n",
    "\n",
    "    return all_tokens\n",
    "\n",
    "word_tokenized_features = get_word_tokens(pd.DataFrame(features_readable))\n",
    "display(pd.DataFrame(word_tokenized_features).head(5))"
   ]
  },
  {
   "cell_type": "code",
   "execution_count": 7,
   "metadata": {
    "ExecuteTime": {
     "end_time": "2018-12-06T00:07:22.508583Z",
     "start_time": "2018-12-06T00:07:21.680609Z"
    }
   },
   "outputs": [
    {
     "name": "stdout",
     "output_type": "stream",
     "text": [
      "(4186, 128, 300)\n"
     ]
    }
   ],
   "source": [
    "import logging\n",
    "import numpy as np\n",
    "\n",
    "words_maxlen = len(max(word_tokenized_features, key = (lambda x: len(x))))\n",
    "\n",
    "word_features_vector = np.zeros((len(word_tokenized_features), words_maxlen, word2vec.get_word_vector('脂').shape[0]), dtype = np.float32)\n",
    "for i, tokens in enumerate(word_tokenized_features):\n",
    "    for t, token in enumerate(tokens):\n",
    "        if not token or token == ' ':\n",
    "            continue\n",
    "        try:\n",
    "            word_features_vector[i, t] = word2vec.get_word_vector(token.lower())\n",
    "        except:\n",
    "            #logging.warn(f'{token} is skipped.')\n",
    "            continue\n",
    "\n",
    "print(word_features_vector.shape)"
   ]
  },
  {
   "cell_type": "markdown",
   "metadata": {},
   "source": [
    "### sentencepieceのベクトル化\n",
    "\n",
    "#### Tokenize\n",
    "\n",
    "[sentencepiece + word2vec](https://github.com/google/sentencepiece/blob/master/python/README.md)を使用しました。\n",
    "sentencepieceの学習には日本語Wikipediaを使用しています。\n",
    "\n",
    "#### ベクトル化\n",
    "\n",
    "sentencepiecesでtokenizeした上で、日本語Wikipediaを対象にword2vecで学習しました。"
   ]
  },
  {
   "cell_type": "code",
   "execution_count": 8,
   "metadata": {
    "ExecuteTime": {
     "end_time": "2018-12-06T00:07:22.764575Z",
     "start_time": "2018-12-06T00:07:22.510583Z"
    }
   },
   "outputs": [
    {
     "data": {
      "text/html": [
       "<div>\n",
       "<style scoped>\n",
       "    .dataframe tbody tr th:only-of-type {\n",
       "        vertical-align: middle;\n",
       "    }\n",
       "\n",
       "    .dataframe tbody tr th {\n",
       "        vertical-align: top;\n",
       "    }\n",
       "\n",
       "    .dataframe thead th {\n",
       "        text-align: right;\n",
       "    }\n",
       "</style>\n",
       "<table border=\"1\" class=\"dataframe\">\n",
       "  <thead>\n",
       "    <tr style=\"text-align: right;\">\n",
       "      <th></th>\n",
       "      <th>0</th>\n",
       "      <th>1</th>\n",
       "      <th>2</th>\n",
       "      <th>3</th>\n",
       "      <th>4</th>\n",
       "      <th>5</th>\n",
       "      <th>6</th>\n",
       "      <th>7</th>\n",
       "      <th>8</th>\n",
       "      <th>9</th>\n",
       "      <th>...</th>\n",
       "      <th>86</th>\n",
       "      <th>87</th>\n",
       "      <th>88</th>\n",
       "      <th>89</th>\n",
       "      <th>90</th>\n",
       "      <th>91</th>\n",
       "      <th>92</th>\n",
       "      <th>93</th>\n",
       "      <th>94</th>\n",
       "      <th>95</th>\n",
       "    </tr>\n",
       "  </thead>\n",
       "  <tbody>\n",
       "    <tr>\n",
       "      <th>0</th>\n",
       "      <td>▁[</td>\n",
       "      <td>グルメ</td>\n",
       "      <td>]</td>\n",
       "      <td>烏丸</td>\n",
       "      <td>六角</td>\n",
       "      <td>のお</td>\n",
       "      <td>かき</td>\n",
       "      <td>屋さん</td>\n",
       "      <td>None</td>\n",
       "      <td>None</td>\n",
       "      <td>...</td>\n",
       "      <td>None</td>\n",
       "      <td>None</td>\n",
       "      <td>None</td>\n",
       "      <td>None</td>\n",
       "      <td>None</td>\n",
       "      <td>None</td>\n",
       "      <td>None</td>\n",
       "      <td>None</td>\n",
       "      <td>None</td>\n",
       "      <td>None</td>\n",
       "    </tr>\n",
       "    <tr>\n",
       "      <th>1</th>\n",
       "      <td>▁</td>\n",
       "      <td>六角</td>\n",
       "      <td>堂</td>\n",
       "      <td>の前</td>\n",
       "      <td>にある</td>\n",
       "      <td>、</td>\n",
       "      <td>蕪</td>\n",
       "      <td>村</td>\n",
       "      <td>庵</td>\n",
       "      <td>という</td>\n",
       "      <td>...</td>\n",
       "      <td>None</td>\n",
       "      <td>None</td>\n",
       "      <td>None</td>\n",
       "      <td>None</td>\n",
       "      <td>None</td>\n",
       "      <td>None</td>\n",
       "      <td>None</td>\n",
       "      <td>None</td>\n",
       "      <td>None</td>\n",
       "      <td>None</td>\n",
       "    </tr>\n",
       "    <tr>\n",
       "      <th>2</th>\n",
       "      <td>▁</td>\n",
       "      <td>おか</td>\n",
       "      <td>き</td>\n",
       "      <td>や</td>\n",
       "      <td>せんべい</td>\n",
       "      <td>の</td>\n",
       "      <td>店</td>\n",
       "      <td>な</td>\n",
       "      <td>のだが</td>\n",
       "      <td>、</td>\n",
       "      <td>...</td>\n",
       "      <td>None</td>\n",
       "      <td>None</td>\n",
       "      <td>None</td>\n",
       "      <td>None</td>\n",
       "      <td>None</td>\n",
       "      <td>None</td>\n",
       "      <td>None</td>\n",
       "      <td>None</td>\n",
       "      <td>None</td>\n",
       "      <td>None</td>\n",
       "    </tr>\n",
       "    <tr>\n",
       "      <th>3</th>\n",
       "      <td>▁</td>\n",
       "      <td>の</td>\n",
       "      <td>れん</td>\n",
       "      <td>をくぐる</td>\n",
       "      <td>と</td>\n",
       "      <td>小さな</td>\n",
       "      <td>庭</td>\n",
       "      <td>があり</td>\n",
       "      <td>、</td>\n",
       "      <td>その先に</td>\n",
       "      <td>...</td>\n",
       "      <td>None</td>\n",
       "      <td>None</td>\n",
       "      <td>None</td>\n",
       "      <td>None</td>\n",
       "      <td>None</td>\n",
       "      <td>None</td>\n",
       "      <td>None</td>\n",
       "      <td>None</td>\n",
       "      <td>None</td>\n",
       "      <td>None</td>\n",
       "    </tr>\n",
       "    <tr>\n",
       "      <th>4</th>\n",
       "      <td>▁</td>\n",
       "      <td>せんべい</td>\n",
       "      <td>の</td>\n",
       "      <td>箱</td>\n",
       "      <td>は</td>\n",
       "      <td>デパート</td>\n",
       "      <td>みたいな</td>\n",
       "      <td>山</td>\n",
       "      <td>積み</td>\n",
       "      <td>ではなく</td>\n",
       "      <td>...</td>\n",
       "      <td>None</td>\n",
       "      <td>None</td>\n",
       "      <td>None</td>\n",
       "      <td>None</td>\n",
       "      <td>None</td>\n",
       "      <td>None</td>\n",
       "      <td>None</td>\n",
       "      <td>None</td>\n",
       "      <td>None</td>\n",
       "      <td>None</td>\n",
       "    </tr>\n",
       "  </tbody>\n",
       "</table>\n",
       "<p>5 rows × 96 columns</p>\n",
       "</div>"
      ],
      "text/plain": [
       "   0     1   2     3     4     5     6    7     8     9   ...     86    87  \\\n",
       "0  ▁[   グルメ   ]    烏丸    六角    のお    かき  屋さん  None  None  ...   None  None   \n",
       "1   ▁    六角   堂    の前   にある     、     蕪    村     庵   という  ...   None  None   \n",
       "2   ▁    おか   き     や  せんべい     の     店    な   のだが     、  ...   None  None   \n",
       "3   ▁     の  れん  をくぐる     と   小さな     庭  があり     、  その先に  ...   None  None   \n",
       "4   ▁  せんべい   の     箱     は  デパート  みたいな    山    積み  ではなく  ...   None  None   \n",
       "\n",
       "     88    89    90    91    92    93    94    95  \n",
       "0  None  None  None  None  None  None  None  None  \n",
       "1  None  None  None  None  None  None  None  None  \n",
       "2  None  None  None  None  None  None  None  None  \n",
       "3  None  None  None  None  None  None  None  None  \n",
       "4  None  None  None  None  None  None  None  None  \n",
       "\n",
       "[5 rows x 96 columns]"
      ]
     },
     "metadata": {},
     "output_type": "display_data"
    }
   ],
   "source": [
    "import sentencepiece as spm\n",
    "\n",
    "def get_sentencepieced_word_tokens(df):\n",
    "    all_tokens = []\n",
    "    for sentence in df[:][0]:\n",
    "        tokens = sp.EncodeAsPieces(sentence)\n",
    "        all_tokens.append(tokens)\n",
    "\n",
    "    return all_tokens\n",
    "\n",
    "sentencepieced_word_tokenized_features = get_sentencepieced_word_tokens(pd.DataFrame(features_readable))\n",
    "display(pd.DataFrame(sentencepieced_word_tokenized_features).head(5))"
   ]
  },
  {
   "cell_type": "code",
   "execution_count": 9,
   "metadata": {
    "ExecuteTime": {
     "end_time": "2018-12-06T00:07:23.379556Z",
     "start_time": "2018-12-06T00:07:22.766576Z"
    }
   },
   "outputs": [
    {
     "name": "stderr",
     "output_type": "stream",
     "text": [
      "C:\\Users\\hidek\\Anaconda3\\lib\\site-packages\\ipykernel_launcher.py:11: DeprecationWarning: Call to deprecated `__getitem__` (Method will be removed in 4.0.0, use self.wv.__getitem__() instead).\n",
      "  # This is added back by InteractiveShellApp.init_path()\n"
     ]
    },
    {
     "name": "stdout",
     "output_type": "stream",
     "text": [
      "(4186, 96, 50)\n"
     ]
    }
   ],
   "source": [
    "import logging\n",
    "\n",
    "sentencepieced_word_maxlen = len(max(sentencepieced_word_tokenized_features, key = (lambda x: len(x))))\n",
    "\n",
    "sentencepieced_word_features = np.zeros((len(sentencepieced_word_tokenized_features), sentencepieced_word_maxlen, sentencepieced_word2vec.wv.vectors.shape[1]), dtype = np.float32)\n",
    "for i, tokens in enumerate(sentencepieced_word_tokenized_features):\n",
    "    for t, token in enumerate(tokens):\n",
    "        if not token or token == ' ' :\n",
    "            continue\n",
    "        try:\n",
    "            sentencepieced_word_features[i, t] = sentencepieced_word2vec[token.lower()]\n",
    "        except:\n",
    "            #logging.warn(f'{type(token)}->{token} is skipped.')\n",
    "            continue\n",
    "\n",
    "print(sentencepieced_word_features.shape)"
   ]
  },
  {
   "cell_type": "markdown",
   "metadata": {},
   "source": [
    "### characterのベクトル化\n",
    "\n",
    "#### Tokenize\n",
    "\n",
    "単純に1文字ずつ分解しました。\n",
    "\n",
    "#### ベクトル化\n",
    "\n",
    "[char2vec](https://qiita.com/youwht/items/0b204c3575c94fc786b8)を参考に、日本語Wikipediaを対象にword2vecで学習しました。"
   ]
  },
  {
   "cell_type": "code",
   "execution_count": 10,
   "metadata": {
    "ExecuteTime": {
     "end_time": "2018-12-06T00:07:24.218529Z",
     "start_time": "2018-12-06T00:07:23.381557Z"
    }
   },
   "outputs": [
    {
     "name": "stderr",
     "output_type": "stream",
     "text": [
      "C:\\Users\\hidek\\Anaconda3\\lib\\site-packages\\ipykernel_launcher.py:11: DeprecationWarning: Call to deprecated `__getitem__` (Method will be removed in 4.0.0, use self.wv.__getitem__() instead).\n",
      "  # This is added back by InteractiveShellApp.init_path()\n"
     ]
    },
    {
     "name": "stdout",
     "output_type": "stream",
     "text": [
      "(4186, 228, 30)\n"
     ]
    }
   ],
   "source": [
    "import logging\n",
    "\n",
    "chars_maxlen = len(max(features_readable, key = (lambda x: len(x))))\n",
    "\n",
    "char_features_vector = np.zeros((len(features_readable), chars_maxlen, char2vec.wv.vectors.shape[1]), dtype = np.float32)\n",
    "for i, text in enumerate(features_readable):\n",
    "    for t, token in enumerate(text):\n",
    "        if token == ' ':\n",
    "            continue\n",
    "        try:\n",
    "            char_features_vector[i, t] = char2vec[token.lower()]\n",
    "        except:\n",
    "            #logging.warn(f'{char} is skipped.')\n",
    "            continue\n",
    "\n",
    "print(char_features_vector.shape)"
   ]
  },
  {
   "cell_type": "markdown",
   "metadata": {},
   "source": [
    "## 学習データと検証データの分割"
   ]
  },
  {
   "cell_type": "code",
   "execution_count": 11,
   "metadata": {
    "ExecuteTime": {
     "end_time": "2018-12-06T00:07:25.749481Z",
     "start_time": "2018-12-06T00:07:24.220529Z"
    }
   },
   "outputs": [
    {
     "name": "stdout",
     "output_type": "stream",
     "text": [
      "(3767, 128, 300)\n",
      "(419, 128, 300)\n",
      "(3767, 96, 50)\n",
      "(419, 96, 50)\n",
      "(3767, 228, 30)\n",
      "(419, 228, 30)\n",
      "(3767, 4)\n",
      "(419, 4)\n"
     ]
    }
   ],
   "source": [
    "from sklearn.model_selection import train_test_split\n",
    "\n",
    "idx_features = range(len(features_readable))\n",
    "idx_labels = range(len(labels))\n",
    "tmp_data = train_test_split(idx_features, idx_labels, train_size = 0.9, test_size = 0.1)\n",
    "\n",
    "train_char_features = np.array([char_features_vector[i] for i in tmp_data[0]])\n",
    "valid_char_features = np.array([char_features_vector[i] for i in tmp_data[1]])\n",
    "train_word_features = np.array([word_features_vector[i] for i in tmp_data[0]])\n",
    "valid_word_features = np.array([word_features_vector[i] for i in tmp_data[1]])\n",
    "train_sentencepieced_word_features = np.array([sentencepieced_word_features[i] for i in tmp_data[0]])\n",
    "valid_sentencepieced_word_features = np.array([sentencepieced_word_features[i] for i in tmp_data[1]])\n",
    "train_labels = np.array([labels[i] for i in tmp_data[2]])\n",
    "valid_labels = np.array([labels[i] for i in tmp_data[3]])\n",
    "\n",
    "print(train_word_features.shape)\n",
    "print(valid_word_features.shape)\n",
    "print(train_sentencepieced_word_features.shape)\n",
    "print(valid_sentencepieced_word_features.shape)\n",
    "print(train_char_features.shape)\n",
    "print(valid_char_features.shape)\n",
    "print(train_labels.shape)\n",
    "print(valid_labels.shape)"
   ]
  },
  {
   "cell_type": "markdown",
   "metadata": {},
   "source": [
    "## ネットワーク設計\n",
    "\n",
    "比較できるようにBi-LSTM+全結合で統一しました。"
   ]
  },
  {
   "cell_type": "code",
   "execution_count": 12,
   "metadata": {
    "ExecuteTime": {
     "end_time": "2018-12-06T00:07:28.371398Z",
     "start_time": "2018-12-06T00:07:25.750481Z"
    }
   },
   "outputs": [
    {
     "name": "stderr",
     "output_type": "stream",
     "text": [
      "C:\\Users\\hidek\\Anaconda3\\lib\\site-packages\\h5py\\__init__.py:36: FutureWarning: Conversion of the second argument of issubdtype from `float` to `np.floating` is deprecated. In future, it will be treated as `np.float64 == np.dtype(float).type`.\n",
      "  from ._conv import register_converters as _register_converters\n",
      "Using TensorFlow backend.\n"
     ]
    }
   ],
   "source": [
    "from keras.layers import Dense, Dropout, LSTM, Bidirectional\n",
    "from keras import Input, Model\n",
    "\n",
    "def create_model(train_features):\n",
    "    class_count = 4\n",
    "\n",
    "    input_tensor = Input(train_features[0].shape)\n",
    "    x1 = Bidirectional(LSTM(512))(input_tensor)\n",
    "    x1 = Dense(2048)(x1)\n",
    "    x1 = Dropout(0.5)(x1)\n",
    "    output_tensor = Dense(class_count, activation='softmax')(x1)\n",
    "\n",
    "    model = Model(input_tensor, output_tensor)\n",
    "    model.compile(loss='categorical_crossentropy', optimizer='rmsprop', metrics=['mae'])\n",
    "    model.summary()\n",
    "    \n",
    "    return model"
   ]
  },
  {
   "cell_type": "markdown",
   "metadata": {},
   "source": [
    "## 学習と評価"
   ]
  },
  {
   "cell_type": "markdown",
   "metadata": {},
   "source": [
    "### word単位のベクトル化"
   ]
  },
  {
   "cell_type": "code",
   "execution_count": 13,
   "metadata": {
    "ExecuteTime": {
     "end_time": "2018-12-06T00:11:39.402457Z",
     "start_time": "2018-12-06T00:07:28.372398Z"
    }
   },
   "outputs": [
    {
     "name": "stdout",
     "output_type": "stream",
     "text": [
      "_________________________________________________________________\n",
      "Layer (type)                 Output Shape              Param #   \n",
      "=================================================================\n",
      "input_1 (InputLayer)         (None, 128, 300)          0         \n",
      "_________________________________________________________________\n",
      "bidirectional_1 (Bidirection (None, 1024)              3330048   \n",
      "_________________________________________________________________\n",
      "dense_1 (Dense)              (None, 2048)              2099200   \n",
      "_________________________________________________________________\n",
      "dropout_1 (Dropout)          (None, 2048)              0         \n",
      "_________________________________________________________________\n",
      "dense_2 (Dense)              (None, 4)                 8196      \n",
      "=================================================================\n",
      "Total params: 5,437,444\n",
      "Trainable params: 5,437,444\n",
      "Non-trainable params: 0\n",
      "_________________________________________________________________\n"
     ]
    }
   ],
   "source": [
    "from keras.callbacks import EarlyStopping, ModelCheckpoint, TensorBoard\n",
    "\n",
    "model = create_model(train_word_features)\n",
    "history = model.fit(train_word_features,\n",
    "          train_labels,\n",
    "          epochs = 100,\n",
    "          batch_size = 128,\n",
    "          validation_split = 0.1,\n",
    "          verbose = 0,\n",
    "          callbacks = [\n",
    "              TensorBoard(log_dir = 'tflogs'),\n",
    "              EarlyStopping(patience=3, monitor='val_mean_absolute_error'),\n",
    "          ])"
   ]
  },
  {
   "cell_type": "code",
   "execution_count": 14,
   "metadata": {
    "ExecuteTime": {
     "end_time": "2018-12-06T00:11:39.421457Z",
     "start_time": "2018-12-06T00:11:39.404457Z"
    }
   },
   "outputs": [
    {
     "data": {
      "text/html": [
       "<div>\n",
       "<style scoped>\n",
       "    .dataframe tbody tr th:only-of-type {\n",
       "        vertical-align: middle;\n",
       "    }\n",
       "\n",
       "    .dataframe tbody tr th {\n",
       "        vertical-align: top;\n",
       "    }\n",
       "\n",
       "    .dataframe thead th {\n",
       "        text-align: right;\n",
       "    }\n",
       "</style>\n",
       "<table border=\"1\" class=\"dataframe\">\n",
       "  <thead>\n",
       "    <tr style=\"text-align: right;\">\n",
       "      <th></th>\n",
       "      <th>val_loss</th>\n",
       "      <th>val_mean_absolute_error</th>\n",
       "      <th>loss</th>\n",
       "      <th>mean_absolute_error</th>\n",
       "    </tr>\n",
       "  </thead>\n",
       "  <tbody>\n",
       "    <tr>\n",
       "      <th>0</th>\n",
       "      <td>1.207464</td>\n",
       "      <td>0.276164</td>\n",
       "      <td>1.345946</td>\n",
       "      <td>0.326653</td>\n",
       "    </tr>\n",
       "    <tr>\n",
       "      <th>1</th>\n",
       "      <td>0.981745</td>\n",
       "      <td>0.248911</td>\n",
       "      <td>1.033764</td>\n",
       "      <td>0.270818</td>\n",
       "    </tr>\n",
       "    <tr>\n",
       "      <th>2</th>\n",
       "      <td>0.985636</td>\n",
       "      <td>0.246861</td>\n",
       "      <td>0.950192</td>\n",
       "      <td>0.243584</td>\n",
       "    </tr>\n",
       "    <tr>\n",
       "      <th>3</th>\n",
       "      <td>0.958608</td>\n",
       "      <td>0.208711</td>\n",
       "      <td>0.821692</td>\n",
       "      <td>0.217474</td>\n",
       "    </tr>\n",
       "    <tr>\n",
       "      <th>4</th>\n",
       "      <td>0.940028</td>\n",
       "      <td>0.208070</td>\n",
       "      <td>0.817665</td>\n",
       "      <td>0.209816</td>\n",
       "    </tr>\n",
       "    <tr>\n",
       "      <th>5</th>\n",
       "      <td>0.998767</td>\n",
       "      <td>0.216945</td>\n",
       "      <td>0.744832</td>\n",
       "      <td>0.195718</td>\n",
       "    </tr>\n",
       "    <tr>\n",
       "      <th>6</th>\n",
       "      <td>1.183153</td>\n",
       "      <td>0.247409</td>\n",
       "      <td>0.620412</td>\n",
       "      <td>0.166929</td>\n",
       "    </tr>\n",
       "    <tr>\n",
       "      <th>7</th>\n",
       "      <td>0.802547</td>\n",
       "      <td>0.193151</td>\n",
       "      <td>0.614557</td>\n",
       "      <td>0.163338</td>\n",
       "    </tr>\n",
       "    <tr>\n",
       "      <th>8</th>\n",
       "      <td>0.804815</td>\n",
       "      <td>0.186113</td>\n",
       "      <td>0.648118</td>\n",
       "      <td>0.157116</td>\n",
       "    </tr>\n",
       "    <tr>\n",
       "      <th>9</th>\n",
       "      <td>0.947861</td>\n",
       "      <td>0.196694</td>\n",
       "      <td>0.489098</td>\n",
       "      <td>0.137335</td>\n",
       "    </tr>\n",
       "    <tr>\n",
       "      <th>10</th>\n",
       "      <td>1.173078</td>\n",
       "      <td>0.185279</td>\n",
       "      <td>0.451178</td>\n",
       "      <td>0.125243</td>\n",
       "    </tr>\n",
       "    <tr>\n",
       "      <th>11</th>\n",
       "      <td>1.015319</td>\n",
       "      <td>0.165389</td>\n",
       "      <td>0.409986</td>\n",
       "      <td>0.113144</td>\n",
       "    </tr>\n",
       "    <tr>\n",
       "      <th>12</th>\n",
       "      <td>1.140270</td>\n",
       "      <td>0.164665</td>\n",
       "      <td>0.348950</td>\n",
       "      <td>0.096174</td>\n",
       "    </tr>\n",
       "    <tr>\n",
       "      <th>13</th>\n",
       "      <td>1.183256</td>\n",
       "      <td>0.170436</td>\n",
       "      <td>0.310988</td>\n",
       "      <td>0.086190</td>\n",
       "    </tr>\n",
       "    <tr>\n",
       "      <th>14</th>\n",
       "      <td>1.341658</td>\n",
       "      <td>0.164859</td>\n",
       "      <td>0.256395</td>\n",
       "      <td>0.074341</td>\n",
       "    </tr>\n",
       "    <tr>\n",
       "      <th>15</th>\n",
       "      <td>1.390065</td>\n",
       "      <td>0.179953</td>\n",
       "      <td>0.260767</td>\n",
       "      <td>0.071800</td>\n",
       "    </tr>\n",
       "  </tbody>\n",
       "</table>\n",
       "</div>"
      ],
      "text/plain": [
       "    val_loss  val_mean_absolute_error      loss  mean_absolute_error\n",
       "0   1.207464                 0.276164  1.345946             0.326653\n",
       "1   0.981745                 0.248911  1.033764             0.270818\n",
       "2   0.985636                 0.246861  0.950192             0.243584\n",
       "3   0.958608                 0.208711  0.821692             0.217474\n",
       "4   0.940028                 0.208070  0.817665             0.209816\n",
       "5   0.998767                 0.216945  0.744832             0.195718\n",
       "6   1.183153                 0.247409  0.620412             0.166929\n",
       "7   0.802547                 0.193151  0.614557             0.163338\n",
       "8   0.804815                 0.186113  0.648118             0.157116\n",
       "9   0.947861                 0.196694  0.489098             0.137335\n",
       "10  1.173078                 0.185279  0.451178             0.125243\n",
       "11  1.015319                 0.165389  0.409986             0.113144\n",
       "12  1.140270                 0.164665  0.348950             0.096174\n",
       "13  1.183256                 0.170436  0.310988             0.086190\n",
       "14  1.341658                 0.164859  0.256395             0.074341\n",
       "15  1.390065                 0.179953  0.260767             0.071800"
      ]
     },
     "metadata": {},
     "output_type": "display_data"
    }
   ],
   "source": [
    "df = pd.DataFrame(history.history)\n",
    "display(df)"
   ]
  },
  {
   "cell_type": "markdown",
   "metadata": {},
   "source": [
    "#### クラシフィケーションレポート"
   ]
  },
  {
   "cell_type": "code",
   "execution_count": 15,
   "metadata": {
    "ExecuteTime": {
     "end_time": "2018-12-06T00:11:41.445393Z",
     "start_time": "2018-12-06T00:11:39.423457Z"
    }
   },
   "outputs": [
    {
     "name": "stdout",
     "output_type": "stream",
     "text": [
      "             precision    recall  f1-score   support\n",
      "\n",
      "        グルメ       0.53      0.65      0.59        81\n",
      "       携帯電話       0.71      0.71      0.71       123\n",
      "         京都       0.71      0.60      0.65       158\n",
      "       スポーツ       0.52      0.58      0.55        57\n",
      "\n",
      "avg / total       0.65      0.64      0.64       419\n",
      "\n"
     ]
    }
   ],
   "source": [
    "from sklearn.metrics import classification_report, confusion_matrix\n",
    "\n",
    "predicted_valid_labels = model.predict(valid_word_features).argmax(axis=1)\n",
    "numeric_valid_labels = np.array(valid_labels).argmax(axis=1)\n",
    "print(classification_report(numeric_valid_labels, predicted_valid_labels, target_names = ['グルメ', '携帯電話', '京都', 'スポーツ']))"
   ]
  },
  {
   "cell_type": "markdown",
   "metadata": {},
   "source": [
    "### sentencepiece単位のベクトル化"
   ]
  },
  {
   "cell_type": "code",
   "execution_count": 16,
   "metadata": {
    "ExecuteTime": {
     "end_time": "2018-12-06T00:14:12.727647Z",
     "start_time": "2018-12-06T00:11:41.446393Z"
    },
    "scrolled": true
   },
   "outputs": [
    {
     "name": "stdout",
     "output_type": "stream",
     "text": [
      "_________________________________________________________________\n",
      "Layer (type)                 Output Shape              Param #   \n",
      "=================================================================\n",
      "input_2 (InputLayer)         (None, 96, 50)            0         \n",
      "_________________________________________________________________\n",
      "bidirectional_2 (Bidirection (None, 1024)              2306048   \n",
      "_________________________________________________________________\n",
      "dense_3 (Dense)              (None, 2048)              2099200   \n",
      "_________________________________________________________________\n",
      "dropout_2 (Dropout)          (None, 2048)              0         \n",
      "_________________________________________________________________\n",
      "dense_4 (Dense)              (None, 4)                 8196      \n",
      "=================================================================\n",
      "Total params: 4,413,444\n",
      "Trainable params: 4,413,444\n",
      "Non-trainable params: 0\n",
      "_________________________________________________________________\n"
     ]
    }
   ],
   "source": [
    "from keras.callbacks import EarlyStopping, ModelCheckpoint, TensorBoard\n",
    "\n",
    "model = create_model(train_sentencepieced_word_features)\n",
    "history = model.fit(train_sentencepieced_word_features,\n",
    "          train_labels,\n",
    "          epochs = 100,\n",
    "          batch_size = 128,\n",
    "          validation_split = 0.1,\n",
    "          verbose = 0,\n",
    "          callbacks = [\n",
    "              TensorBoard(log_dir = 'tflogs'),\n",
    "              EarlyStopping(patience=3, monitor='val_mean_absolute_error'),\n",
    "          ])"
   ]
  },
  {
   "cell_type": "code",
   "execution_count": 17,
   "metadata": {
    "ExecuteTime": {
     "end_time": "2018-12-06T00:14:12.741647Z",
     "start_time": "2018-12-06T00:14:12.729648Z"
    }
   },
   "outputs": [
    {
     "data": {
      "text/html": [
       "<div>\n",
       "<style scoped>\n",
       "    .dataframe tbody tr th:only-of-type {\n",
       "        vertical-align: middle;\n",
       "    }\n",
       "\n",
       "    .dataframe tbody tr th {\n",
       "        vertical-align: top;\n",
       "    }\n",
       "\n",
       "    .dataframe thead th {\n",
       "        text-align: right;\n",
       "    }\n",
       "</style>\n",
       "<table border=\"1\" class=\"dataframe\">\n",
       "  <thead>\n",
       "    <tr style=\"text-align: right;\">\n",
       "      <th></th>\n",
       "      <th>val_loss</th>\n",
       "      <th>val_mean_absolute_error</th>\n",
       "      <th>loss</th>\n",
       "      <th>mean_absolute_error</th>\n",
       "    </tr>\n",
       "  </thead>\n",
       "  <tbody>\n",
       "    <tr>\n",
       "      <th>0</th>\n",
       "      <td>0.981924</td>\n",
       "      <td>0.225036</td>\n",
       "      <td>1.412470</td>\n",
       "      <td>0.248839</td>\n",
       "    </tr>\n",
       "    <tr>\n",
       "      <th>1</th>\n",
       "      <td>0.812226</td>\n",
       "      <td>0.183087</td>\n",
       "      <td>0.715505</td>\n",
       "      <td>0.182059</td>\n",
       "    </tr>\n",
       "    <tr>\n",
       "      <th>2</th>\n",
       "      <td>0.897991</td>\n",
       "      <td>0.201606</td>\n",
       "      <td>0.587846</td>\n",
       "      <td>0.151420</td>\n",
       "    </tr>\n",
       "    <tr>\n",
       "      <th>3</th>\n",
       "      <td>0.839604</td>\n",
       "      <td>0.169194</td>\n",
       "      <td>0.476369</td>\n",
       "      <td>0.125096</td>\n",
       "    </tr>\n",
       "    <tr>\n",
       "      <th>4</th>\n",
       "      <td>0.872412</td>\n",
       "      <td>0.165859</td>\n",
       "      <td>0.365053</td>\n",
       "      <td>0.096792</td>\n",
       "    </tr>\n",
       "    <tr>\n",
       "      <th>5</th>\n",
       "      <td>1.683439</td>\n",
       "      <td>0.222042</td>\n",
       "      <td>0.220963</td>\n",
       "      <td>0.060716</td>\n",
       "    </tr>\n",
       "    <tr>\n",
       "      <th>6</th>\n",
       "      <td>1.385759</td>\n",
       "      <td>0.174349</td>\n",
       "      <td>0.186714</td>\n",
       "      <td>0.048699</td>\n",
       "    </tr>\n",
       "    <tr>\n",
       "      <th>7</th>\n",
       "      <td>1.239616</td>\n",
       "      <td>0.156966</td>\n",
       "      <td>0.120487</td>\n",
       "      <td>0.031168</td>\n",
       "    </tr>\n",
       "    <tr>\n",
       "      <th>8</th>\n",
       "      <td>1.064627</td>\n",
       "      <td>0.140925</td>\n",
       "      <td>0.139941</td>\n",
       "      <td>0.029395</td>\n",
       "    </tr>\n",
       "    <tr>\n",
       "      <th>9</th>\n",
       "      <td>1.321537</td>\n",
       "      <td>0.144991</td>\n",
       "      <td>0.035579</td>\n",
       "      <td>0.011306</td>\n",
       "    </tr>\n",
       "    <tr>\n",
       "      <th>10</th>\n",
       "      <td>1.354807</td>\n",
       "      <td>0.139662</td>\n",
       "      <td>0.081770</td>\n",
       "      <td>0.015940</td>\n",
       "    </tr>\n",
       "    <tr>\n",
       "      <th>11</th>\n",
       "      <td>1.435030</td>\n",
       "      <td>0.146897</td>\n",
       "      <td>0.051363</td>\n",
       "      <td>0.010653</td>\n",
       "    </tr>\n",
       "    <tr>\n",
       "      <th>12</th>\n",
       "      <td>1.370385</td>\n",
       "      <td>0.139031</td>\n",
       "      <td>0.102884</td>\n",
       "      <td>0.017993</td>\n",
       "    </tr>\n",
       "    <tr>\n",
       "      <th>13</th>\n",
       "      <td>1.682676</td>\n",
       "      <td>0.145551</td>\n",
       "      <td>0.018069</td>\n",
       "      <td>0.004990</td>\n",
       "    </tr>\n",
       "    <tr>\n",
       "      <th>14</th>\n",
       "      <td>1.613921</td>\n",
       "      <td>0.146687</td>\n",
       "      <td>0.068362</td>\n",
       "      <td>0.011012</td>\n",
       "    </tr>\n",
       "    <tr>\n",
       "      <th>15</th>\n",
       "      <td>1.809527</td>\n",
       "      <td>0.139845</td>\n",
       "      <td>0.025406</td>\n",
       "      <td>0.006684</td>\n",
       "    </tr>\n",
       "  </tbody>\n",
       "</table>\n",
       "</div>"
      ],
      "text/plain": [
       "    val_loss  val_mean_absolute_error      loss  mean_absolute_error\n",
       "0   0.981924                 0.225036  1.412470             0.248839\n",
       "1   0.812226                 0.183087  0.715505             0.182059\n",
       "2   0.897991                 0.201606  0.587846             0.151420\n",
       "3   0.839604                 0.169194  0.476369             0.125096\n",
       "4   0.872412                 0.165859  0.365053             0.096792\n",
       "5   1.683439                 0.222042  0.220963             0.060716\n",
       "6   1.385759                 0.174349  0.186714             0.048699\n",
       "7   1.239616                 0.156966  0.120487             0.031168\n",
       "8   1.064627                 0.140925  0.139941             0.029395\n",
       "9   1.321537                 0.144991  0.035579             0.011306\n",
       "10  1.354807                 0.139662  0.081770             0.015940\n",
       "11  1.435030                 0.146897  0.051363             0.010653\n",
       "12  1.370385                 0.139031  0.102884             0.017993\n",
       "13  1.682676                 0.145551  0.018069             0.004990\n",
       "14  1.613921                 0.146687  0.068362             0.011012\n",
       "15  1.809527                 0.139845  0.025406             0.006684"
      ]
     },
     "metadata": {},
     "output_type": "display_data"
    }
   ],
   "source": [
    "df = pd.DataFrame(history.history)\n",
    "display(df)"
   ]
  },
  {
   "cell_type": "markdown",
   "metadata": {},
   "source": [
    "#### クラシフィケーションレポート"
   ]
  },
  {
   "cell_type": "code",
   "execution_count": 18,
   "metadata": {
    "ExecuteTime": {
     "end_time": "2018-12-06T00:14:14.568588Z",
     "start_time": "2018-12-06T00:14:12.743647Z"
    }
   },
   "outputs": [
    {
     "name": "stdout",
     "output_type": "stream",
     "text": [
      "             precision    recall  f1-score   support\n",
      "\n",
      "        グルメ       0.76      0.67      0.71        81\n",
      "       携帯電話       0.79      0.77      0.78       123\n",
      "         京都       0.70      0.81      0.75       158\n",
      "       スポーツ       0.72      0.58      0.64        57\n",
      "\n",
      "avg / total       0.74      0.74      0.74       419\n",
      "\n"
     ]
    }
   ],
   "source": [
    "from sklearn.metrics import classification_report, confusion_matrix\n",
    "\n",
    "predicted_valid_labels = model.predict(valid_sentencepieced_word_features).argmax(axis=1)\n",
    "numeric_valid_labels = np.array(valid_labels).argmax(axis=1)\n",
    "print(classification_report(numeric_valid_labels, predicted_valid_labels, target_names = ['グルメ', '携帯電話', '京都', 'スポーツ']))"
   ]
  },
  {
   "cell_type": "markdown",
   "metadata": {},
   "source": [
    "### character単位のベクトル化"
   ]
  },
  {
   "cell_type": "code",
   "execution_count": 19,
   "metadata": {
    "ExecuteTime": {
     "end_time": "2018-12-06T00:20:21.028995Z",
     "start_time": "2018-12-06T00:14:14.569588Z"
    }
   },
   "outputs": [
    {
     "name": "stdout",
     "output_type": "stream",
     "text": [
      "_________________________________________________________________\n",
      "Layer (type)                 Output Shape              Param #   \n",
      "=================================================================\n",
      "input_3 (InputLayer)         (None, 228, 30)           0         \n",
      "_________________________________________________________________\n",
      "bidirectional_3 (Bidirection (None, 1024)              2224128   \n",
      "_________________________________________________________________\n",
      "dense_5 (Dense)              (None, 2048)              2099200   \n",
      "_________________________________________________________________\n",
      "dropout_3 (Dropout)          (None, 2048)              0         \n",
      "_________________________________________________________________\n",
      "dense_6 (Dense)              (None, 4)                 8196      \n",
      "=================================================================\n",
      "Total params: 4,331,524\n",
      "Trainable params: 4,331,524\n",
      "Non-trainable params: 0\n",
      "_________________________________________________________________\n"
     ]
    }
   ],
   "source": [
    "from keras.callbacks import EarlyStopping, ModelCheckpoint, TensorBoard\n",
    "\n",
    "model = create_model(train_char_features)\n",
    "history = model.fit(train_char_features,\n",
    "          train_labels,\n",
    "          epochs = 100,\n",
    "          batch_size = 128,\n",
    "          validation_split = 0.1,\n",
    "          verbose = 0,\n",
    "          callbacks = [\n",
    "              TensorBoard(log_dir = 'tflogs'),\n",
    "              EarlyStopping(patience=3, monitor='val_mean_absolute_error'),\n",
    "          ])"
   ]
  },
  {
   "cell_type": "code",
   "execution_count": 20,
   "metadata": {
    "ExecuteTime": {
     "end_time": "2018-12-06T00:20:21.044996Z",
     "start_time": "2018-12-06T00:20:21.030996Z"
    }
   },
   "outputs": [
    {
     "data": {
      "text/html": [
       "<div>\n",
       "<style scoped>\n",
       "    .dataframe tbody tr th:only-of-type {\n",
       "        vertical-align: middle;\n",
       "    }\n",
       "\n",
       "    .dataframe tbody tr th {\n",
       "        vertical-align: top;\n",
       "    }\n",
       "\n",
       "    .dataframe thead th {\n",
       "        text-align: right;\n",
       "    }\n",
       "</style>\n",
       "<table border=\"1\" class=\"dataframe\">\n",
       "  <thead>\n",
       "    <tr style=\"text-align: right;\">\n",
       "      <th></th>\n",
       "      <th>val_loss</th>\n",
       "      <th>val_mean_absolute_error</th>\n",
       "      <th>loss</th>\n",
       "      <th>mean_absolute_error</th>\n",
       "    </tr>\n",
       "  </thead>\n",
       "  <tbody>\n",
       "    <tr>\n",
       "      <th>0</th>\n",
       "      <td>1.213003</td>\n",
       "      <td>0.288650</td>\n",
       "      <td>1.466107</td>\n",
       "      <td>0.295818</td>\n",
       "    </tr>\n",
       "    <tr>\n",
       "      <th>1</th>\n",
       "      <td>1.171639</td>\n",
       "      <td>0.251361</td>\n",
       "      <td>0.888587</td>\n",
       "      <td>0.225342</td>\n",
       "    </tr>\n",
       "    <tr>\n",
       "      <th>2</th>\n",
       "      <td>1.132296</td>\n",
       "      <td>0.221131</td>\n",
       "      <td>0.701668</td>\n",
       "      <td>0.178148</td>\n",
       "    </tr>\n",
       "    <tr>\n",
       "      <th>3</th>\n",
       "      <td>1.162182</td>\n",
       "      <td>0.229053</td>\n",
       "      <td>0.570244</td>\n",
       "      <td>0.144374</td>\n",
       "    </tr>\n",
       "    <tr>\n",
       "      <th>4</th>\n",
       "      <td>1.351509</td>\n",
       "      <td>0.225116</td>\n",
       "      <td>0.420535</td>\n",
       "      <td>0.111450</td>\n",
       "    </tr>\n",
       "    <tr>\n",
       "      <th>5</th>\n",
       "      <td>1.513968</td>\n",
       "      <td>0.208743</td>\n",
       "      <td>0.297211</td>\n",
       "      <td>0.079006</td>\n",
       "    </tr>\n",
       "    <tr>\n",
       "      <th>6</th>\n",
       "      <td>1.669821</td>\n",
       "      <td>0.218852</td>\n",
       "      <td>0.226855</td>\n",
       "      <td>0.058338</td>\n",
       "    </tr>\n",
       "    <tr>\n",
       "      <th>7</th>\n",
       "      <td>1.900534</td>\n",
       "      <td>0.207223</td>\n",
       "      <td>0.160443</td>\n",
       "      <td>0.040320</td>\n",
       "    </tr>\n",
       "    <tr>\n",
       "      <th>8</th>\n",
       "      <td>2.199897</td>\n",
       "      <td>0.206606</td>\n",
       "      <td>0.127803</td>\n",
       "      <td>0.029902</td>\n",
       "    </tr>\n",
       "    <tr>\n",
       "      <th>9</th>\n",
       "      <td>2.142587</td>\n",
       "      <td>0.211019</td>\n",
       "      <td>0.094395</td>\n",
       "      <td>0.021337</td>\n",
       "    </tr>\n",
       "    <tr>\n",
       "      <th>10</th>\n",
       "      <td>2.125271</td>\n",
       "      <td>0.199587</td>\n",
       "      <td>0.075933</td>\n",
       "      <td>0.016797</td>\n",
       "    </tr>\n",
       "    <tr>\n",
       "      <th>11</th>\n",
       "      <td>1.919156</td>\n",
       "      <td>0.187987</td>\n",
       "      <td>0.100046</td>\n",
       "      <td>0.018867</td>\n",
       "    </tr>\n",
       "    <tr>\n",
       "      <th>12</th>\n",
       "      <td>2.132756</td>\n",
       "      <td>0.195224</td>\n",
       "      <td>0.086103</td>\n",
       "      <td>0.013790</td>\n",
       "    </tr>\n",
       "    <tr>\n",
       "      <th>13</th>\n",
       "      <td>1.906969</td>\n",
       "      <td>0.203895</td>\n",
       "      <td>0.672039</td>\n",
       "      <td>0.055926</td>\n",
       "    </tr>\n",
       "    <tr>\n",
       "      <th>14</th>\n",
       "      <td>1.915199</td>\n",
       "      <td>0.186711</td>\n",
       "      <td>0.054997</td>\n",
       "      <td>0.012123</td>\n",
       "    </tr>\n",
       "    <tr>\n",
       "      <th>15</th>\n",
       "      <td>2.000887</td>\n",
       "      <td>0.203794</td>\n",
       "      <td>0.120228</td>\n",
       "      <td>0.020637</td>\n",
       "    </tr>\n",
       "    <tr>\n",
       "      <th>16</th>\n",
       "      <td>2.237101</td>\n",
       "      <td>0.199090</td>\n",
       "      <td>0.065000</td>\n",
       "      <td>0.013173</td>\n",
       "    </tr>\n",
       "    <tr>\n",
       "      <th>17</th>\n",
       "      <td>2.491051</td>\n",
       "      <td>0.200367</td>\n",
       "      <td>0.048307</td>\n",
       "      <td>0.009193</td>\n",
       "    </tr>\n",
       "  </tbody>\n",
       "</table>\n",
       "</div>"
      ],
      "text/plain": [
       "    val_loss  val_mean_absolute_error      loss  mean_absolute_error\n",
       "0   1.213003                 0.288650  1.466107             0.295818\n",
       "1   1.171639                 0.251361  0.888587             0.225342\n",
       "2   1.132296                 0.221131  0.701668             0.178148\n",
       "3   1.162182                 0.229053  0.570244             0.144374\n",
       "4   1.351509                 0.225116  0.420535             0.111450\n",
       "5   1.513968                 0.208743  0.297211             0.079006\n",
       "6   1.669821                 0.218852  0.226855             0.058338\n",
       "7   1.900534                 0.207223  0.160443             0.040320\n",
       "8   2.199897                 0.206606  0.127803             0.029902\n",
       "9   2.142587                 0.211019  0.094395             0.021337\n",
       "10  2.125271                 0.199587  0.075933             0.016797\n",
       "11  1.919156                 0.187987  0.100046             0.018867\n",
       "12  2.132756                 0.195224  0.086103             0.013790\n",
       "13  1.906969                 0.203895  0.672039             0.055926\n",
       "14  1.915199                 0.186711  0.054997             0.012123\n",
       "15  2.000887                 0.203794  0.120228             0.020637\n",
       "16  2.237101                 0.199090  0.065000             0.013173\n",
       "17  2.491051                 0.200367  0.048307             0.009193"
      ]
     },
     "metadata": {},
     "output_type": "display_data"
    }
   ],
   "source": [
    "df = pd.DataFrame(history.history)\n",
    "display(df)"
   ]
  },
  {
   "cell_type": "markdown",
   "metadata": {},
   "source": [
    "#### クラシフィケーションレポート"
   ]
  },
  {
   "cell_type": "code",
   "execution_count": 21,
   "metadata": {
    "ExecuteTime": {
     "end_time": "2018-12-06T00:20:24.283893Z",
     "start_time": "2018-12-06T00:20:21.048995Z"
    }
   },
   "outputs": [
    {
     "name": "stdout",
     "output_type": "stream",
     "text": [
      "             precision    recall  f1-score   support\n",
      "\n",
      "        グルメ       0.50      0.78      0.61        81\n",
      "       携帯電話       0.62      0.61      0.62       123\n",
      "         京都       0.76      0.59      0.67       158\n",
      "       スポーツ       0.55      0.47      0.51        57\n",
      "\n",
      "avg / total       0.64      0.62      0.62       419\n",
      "\n"
     ]
    }
   ],
   "source": [
    "from sklearn.metrics import classification_report, confusion_matrix\n",
    "\n",
    "predicted_valid_labels = model.predict(valid_char_features).argmax(axis=1)\n",
    "numeric_valid_labels = np.array(valid_labels).argmax(axis=1)\n",
    "print(classification_report(numeric_valid_labels, predicted_valid_labels, target_names = ['グルメ', '携帯電話', '京都', 'スポーツ']))"
   ]
  },
  {
   "cell_type": "markdown",
   "metadata": {},
   "source": [
    "## 総括\n",
    "\n",
    "それぞれクラシフィケーションレポートの結果は以下の通りです。\n",
    "今回の結果からは`sentencepiece`の優位性が確認できました。\n",
    "\n",
    "`word`、`character`の順になっているところも直感的な理解と合致します。\n",
    "\n",
    "### word\n",
    "\n",
    "![](images/word_results.png)\n",
    "\n",
    "### sentencepiece\n",
    "\n",
    "![](images/sentencepiece_results.png)\n",
    "\n",
    "### character\n",
    "\n",
    "![](images/char_results.png)"
   ]
  },
  {
   "cell_type": "markdown",
   "metadata": {},
   "source": [
    "## ToDo\n",
    "\n",
    "[国立国語研究所](https://www.ninjal.ac.jp/)のコーパスを使って比較してみたいと考えています。\n",
    "良い結果が得られるようであれば、学習済みモデルも公開したいです。"
   ]
  },
  {
   "cell_type": "markdown",
   "metadata": {},
   "source": [
    "## 参考文献\n",
    "\n",
    "* [wikipedia2vec](https://wikipedia2vec.github.io/wikipedia2vec/)\n",
    "* [sentencepieces + word2vec](https://github.com/google/sentencepiece/blob/master/python/README.md)\n",
    "* [char2vec](https://qiita.com/youwht/items/0b204c3575c94fc786b8)\n",
    "* [janome](https://github.com/mocobeta/janome)\n",
    "* [NEologd](https://github.com/neologd/mecab-ipadic-neologd)\n",
    "* (very experimental) NEologd 辞書を内包した janome をビルドする方法\n",
    "    * https://github.com/mocobeta/janome/wiki/(very-experimental)-NEologd-%E8%BE%9E%E6%9B%B8%E3%82%92%E5%86%85%E5%8C%85%E3%81%97%E3%81%9F-janome-%E3%82%92%E3%83%93%E3%83%AB%E3%83%89%E3%81%99%E3%82%8B%E6%96%B9%E6%B3%95"
   ]
  }
 ],
 "metadata": {
  "kernelspec": {
   "display_name": "Python 3",
   "language": "python",
   "name": "python3"
  },
  "language_info": {
   "codemirror_mode": {
    "name": "ipython",
    "version": 3
   },
   "file_extension": ".py",
   "mimetype": "text/x-python",
   "name": "python",
   "nbconvert_exporter": "python",
   "pygments_lexer": "ipython3",
   "version": "3.6.5"
  },
  "varInspector": {
   "cols": {
    "lenName": 16,
    "lenType": 16,
    "lenVar": 40
   },
   "kernels_config": {
    "python": {
     "delete_cmd_postfix": "",
     "delete_cmd_prefix": "del ",
     "library": "var_list.py",
     "varRefreshCmd": "print(var_dic_list())"
    },
    "r": {
     "delete_cmd_postfix": ") ",
     "delete_cmd_prefix": "rm(",
     "library": "var_list.r",
     "varRefreshCmd": "cat(var_dic_list()) "
    }
   },
   "types_to_exclude": [
    "module",
    "function",
    "builtin_function_or_method",
    "instance",
    "_Feature"
   ],
   "window_display": false
  }
 },
 "nbformat": 4,
 "nbformat_minor": 2
}
